{
 "cells": [
  {
   "cell_type": "markdown",
   "metadata": {},
   "source": [
    "Create a data structure that quantifies location of participants in ITE 229"
   ]
  },
  {
   "cell_type": "code",
   "execution_count": 1,
   "metadata": {},
   "outputs": [],
   "source": [
    "num_seats={}\n",
    "num_seats['back_row']={'left':4, 'right':3} # number of people in the back row\n",
    "num_seats['third_row']={'left':5, 'right':3}\n",
    "num_seats['second_row']={'left':3, 'right':2}\n",
    "num_seats['front_row']={'left':0, 'right':0}"
   ]
  },
  {
   "cell_type": "markdown",
   "metadata": {},
   "source": [
    "Conventions used in this data structure:\n",
    " - seat numbering starts from the center of the room\n",
    " - \"left\" and \"right\" are from the student's perspective"
   ]
  },
  {
   "cell_type": "code",
   "execution_count": 2,
   "metadata": {},
   "outputs": [
    {
     "data": {
      "text/plain": [
       "{'back_row': {'left': 4, 'right': 3},\n",
       " 'front_row': {'left': 0, 'right': 0},\n",
       " 'second_row': {'left': 3, 'right': 2},\n",
       " 'third_row': {'left': 5, 'right': 3}}"
      ]
     },
     "execution_count": 2,
     "metadata": {},
     "output_type": "execute_result"
    }
   ],
   "source": [
    "num_seats"
   ]
  },
  {
   "cell_type": "markdown",
   "metadata": {},
   "source": [
    "Check that the rows are a list"
   ]
  },
  {
   "cell_type": "code",
   "execution_count": 3,
   "metadata": {},
   "outputs": [
    {
     "data": {
      "text/plain": [
       "dict_keys(['back_row', 'third_row', 'front_row', 'second_row'])"
      ]
     },
     "execution_count": 3,
     "metadata": {},
     "output_type": "execute_result"
    }
   ],
   "source": [
    "num_seats.keys()"
   ]
  },
  {
   "cell_type": "code",
   "execution_count": 4,
   "metadata": {},
   "outputs": [],
   "source": [
    "import random"
   ]
  },
  {
   "cell_type": "markdown",
   "metadata": {},
   "source": [
    "As an example, select a random row from the keys in the dictionary"
   ]
  },
  {
   "cell_type": "code",
   "execution_count": 5,
   "metadata": {},
   "outputs": [
    {
     "data": {
      "text/plain": [
       "'front_row'"
      ]
     },
     "execution_count": 5,
     "metadata": {},
     "output_type": "execute_result"
    }
   ],
   "source": [
    "random.choice(list(num_seats.keys()))"
   ]
  },
  {
   "cell_type": "markdown",
   "metadata": {},
   "source": [
    "Once we have a row, we can use this result as the randomly selected key for another choice"
   ]
  },
  {
   "cell_type": "code",
   "execution_count": 6,
   "metadata": {},
   "outputs": [
    {
     "data": {
      "text/plain": [
       "{'left': 0, 'right': 0}"
      ]
     },
     "execution_count": 6,
     "metadata": {},
     "output_type": "execute_result"
    }
   ],
   "source": [
    "num_seats[random.choice(list(num_seats.keys()))]"
   ]
  },
  {
   "cell_type": "markdown",
   "metadata": {},
   "source": [
    "Again, we can select a random key from this dictionary"
   ]
  },
  {
   "cell_type": "code",
   "execution_count": 7,
   "metadata": {},
   "outputs": [
    {
     "name": "stdout",
     "output_type": "stream",
     "text": [
      "second_row\n",
      "right\n",
      "0\n"
     ]
    }
   ],
   "source": [
    "which_row = random.choice(list(num_seats.keys()))\n",
    "print(which_row)\n",
    "\n",
    "which_side = random.choice(list(num_seats[which_row].keys()))\n",
    "print(which_side)\n",
    "\n",
    "which_seat = random.choice(range(num_seats[which_row][which_side]))\n",
    "print(which_seat)"
   ]
  },
  {
   "cell_type": "markdown",
   "metadata": {},
   "source": [
    "<BR>\n",
    "<BR>\n",
    "<BR>\n",
    "<BR>\n",
    "<BR>\n",
    "<BR>\n",
    "<BR>\n",
    "<BR>\n",
    "<BR>\n",
    "<BR>\n",
    "<BR>\n"
   ]
  },
  {
   "cell_type": "markdown",
   "metadata": {},
   "source": [
    "There are alternative ways to index the dictionary"
   ]
  },
  {
   "cell_type": "code",
   "execution_count": 8,
   "metadata": {},
   "outputs": [],
   "source": [
    "num_seats_alt={}\n",
    "num_seats_alt['left']={'backrow':8, 'third_row':7, 'second_row':5, 'front_row':2}\n",
    "num_seats_alt['right']={'backrow':8, 'third_row':7, 'second_row':5, 'front_row':3}"
   ]
  },
  {
   "cell_type": "markdown",
   "metadata": {},
   "source": [
    "the same concept applies, though the order of what gets returned changes"
   ]
  },
  {
   "cell_type": "code",
   "execution_count": 9,
   "metadata": {},
   "outputs": [
    {
     "name": "stdout",
     "output_type": "stream",
     "text": [
      "back_row\n",
      "right\n",
      "2\n"
     ]
    }
   ],
   "source": [
    "which_side = random.choice(list(num_seats.keys()))\n",
    "print(which_side)\n",
    "\n",
    "which_row = random.choice(list(num_seats[which_side].keys()))\n",
    "print(which_row)\n",
    "\n",
    "which_seat = random.choice(range(num_seats[which_side][which_row]))\n",
    "print(which_seat)"
   ]
  },
  {
   "cell_type": "code",
   "execution_count": null,
   "metadata": {},
   "outputs": [],
   "source": []
  }
 ],
 "metadata": {
  "kernelspec": {
   "display_name": "Python 3",
   "language": "python",
   "name": "python3"
  },
  "language_info": {
   "codemirror_mode": {
    "name": "ipython",
    "version": 3
   },
   "file_extension": ".py",
   "mimetype": "text/x-python",
   "name": "python",
   "nbconvert_exporter": "python",
   "pygments_lexer": "ipython3",
   "version": "3.5.1"
  }
 },
 "nbformat": 4,
 "nbformat_minor": 2
}
