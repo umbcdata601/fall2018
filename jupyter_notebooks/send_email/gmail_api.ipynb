{
 "cells": [
  {
   "cell_type": "markdown",
   "metadata": {},
   "source": [
    "https://developers.google.com/gmail/api/quickstart/python"
   ]
  },
  {
   "cell_type": "markdown",
   "metadata": {},
   "source": [
    "note: the script below must be run as a .py file in order to launch your browser and authenticate"
   ]
  },
  {
   "cell_type": "code",
   "execution_count": 1,
   "metadata": {},
   "outputs": [
    {
     "name": "stdout",
     "output_type": "stream",
     "text": [
      "6f492426f82a\r\n"
     ]
    }
   ],
   "source": [
    "!hostname"
   ]
  },
  {
   "cell_type": "code",
   "execution_count": 2,
   "metadata": {},
   "outputs": [
    {
     "name": "stdout",
     "output_type": "stream",
     "text": [
      "Collecting google-api-python-client\n",
      "\u001b[?25l  Downloading https://files.pythonhosted.org/packages/56/04/5259a17a16a779426f6e2ac62796135b0d4a59cf8033a21037fd4ba5bf81/google_api_python_client-1.7.4-py3-none-any.whl (55kB)\n",
      "\u001b[K    100% |████████████████████████████████| 61kB 229kB/s ta 0:00:01\n",
      "\u001b[?25hCollecting httplib2<1dev,>=0.9.2 (from google-api-python-client)\n",
      "\u001b[?25l  Downloading https://files.pythonhosted.org/packages/ce/ed/803905d670b52fa0edfdd135337e545b4496c2ab3a222f1449b7256eb99f/httplib2-0.12.0.tar.gz (218kB)\n",
      "\u001b[K    100% |████████████████████████████████| 225kB 301kB/s ta 0:00:011\n",
      "\u001b[?25hCollecting uritemplate<4dev,>=3.0.0 (from google-api-python-client)\n",
      "  Downloading https://files.pythonhosted.org/packages/e5/7d/9d5a640c4f8bf2c8b1afc015e9a9d8de32e13c9016dcc4b0ec03481fb396/uritemplate-3.0.0-py2.py3-none-any.whl\n",
      "Collecting google-auth>=1.4.1 (from google-api-python-client)\n",
      "\u001b[?25l  Downloading https://files.pythonhosted.org/packages/24/62/8b9612b1055cfbecd577e252446fe5f939f6818d0b7ddc27bb872f233cd4/google_auth-1.6.1-py2.py3-none-any.whl (68kB)\n",
      "\u001b[K    100% |████████████████████████████████| 71kB 434kB/s ta 0:00:01\n",
      "\u001b[?25hCollecting google-auth-httplib2>=0.0.3 (from google-api-python-client)\n",
      "  Downloading https://files.pythonhosted.org/packages/33/49/c814d6d438b823441552198f096fcd0377fd6c88714dbed34f1d3c8c4389/google_auth_httplib2-0.0.3-py2.py3-none-any.whl\n",
      "Requirement already satisfied, skipping upgrade: six<2dev,>=1.6.1 in /opt/conda/lib/python3.6/site-packages (from google-api-python-client) (1.11.0)\n",
      "Collecting rsa>=3.1.4 (from google-auth>=1.4.1->google-api-python-client)\n",
      "  Downloading https://files.pythonhosted.org/packages/02/e5/38518af393f7c214357079ce67a317307936896e961e35450b70fad2a9cf/rsa-4.0-py2.py3-none-any.whl\n",
      "Collecting pyasn1-modules>=0.2.1 (from google-auth>=1.4.1->google-api-python-client)\n",
      "\u001b[?25l  Downloading https://files.pythonhosted.org/packages/19/02/fa63f7ba30a0d7b925ca29d034510fc1ffde53264b71b4155022ddf3ab5d/pyasn1_modules-0.2.2-py2.py3-none-any.whl (62kB)\n",
      "\u001b[K    100% |████████████████████████████████| 71kB 994kB/s ta 0:00:01\n",
      "\u001b[?25hCollecting cachetools>=2.0.0 (from google-auth>=1.4.1->google-api-python-client)\n",
      "  Downloading https://files.pythonhosted.org/packages/76/7e/08cd3846bebeabb6b1cfc4af8aae649d90249b4aeed080bddb5297f1d73b/cachetools-3.0.0-py2.py3-none-any.whl\n",
      "Collecting pyasn1>=0.1.3 (from rsa>=3.1.4->google-auth>=1.4.1->google-api-python-client)\n",
      "\u001b[?25l  Downloading https://files.pythonhosted.org/packages/d1/a1/7790cc85db38daa874f6a2e6308131b9953feb1367f2ae2d1123bb93a9f5/pyasn1-0.4.4-py2.py3-none-any.whl (72kB)\n",
      "\u001b[K    100% |████████████████████████████████| 81kB 920kB/s ta 0:00:01\n",
      "\u001b[?25hBuilding wheels for collected packages: httplib2\n",
      "  Running setup.py bdist_wheel for httplib2 ... \u001b[?25ldone\n",
      "\u001b[?25h  Stored in directory: /home/jovyan/.cache/pip/wheels/6d/41/4b/2b369d6e2b7eaebcdd423516d3fb659c7658c16a2be8fd04ec\n",
      "Successfully built httplib2\n",
      "Installing collected packages: httplib2, uritemplate, pyasn1, rsa, pyasn1-modules, cachetools, google-auth, google-auth-httplib2, google-api-python-client\n",
      "Successfully installed cachetools-3.0.0 google-api-python-client-1.7.4 google-auth-1.6.1 google-auth-httplib2-0.0.3 httplib2-0.12.0 pyasn1-0.4.4 pyasn1-modules-0.2.2 rsa-4.0 uritemplate-3.0.0\n"
     ]
    }
   ],
   "source": [
    "!pip install --upgrade google-api-python-client"
   ]
  },
  {
   "cell_type": "code",
   "execution_count": 3,
   "metadata": {},
   "outputs": [
    {
     "name": "stdout",
     "output_type": "stream",
     "text": [
      "Collecting oauth2client\n",
      "\u001b[?25l  Downloading https://files.pythonhosted.org/packages/95/a9/4f25a14d23f0786b64875b91784607c2277eff25d48f915e39ff0cff505a/oauth2client-4.1.3-py2.py3-none-any.whl (98kB)\n",
      "\u001b[K    100% |████████████████████████████████| 102kB 694kB/s a 0:00:01\n",
      "\u001b[?25hRequirement already satisfied, skipping upgrade: pyasn1-modules>=0.0.5 in /opt/conda/lib/python3.6/site-packages (from oauth2client) (0.2.2)\n",
      "Requirement already satisfied, skipping upgrade: rsa>=3.1.4 in /opt/conda/lib/python3.6/site-packages (from oauth2client) (4.0)\n",
      "Requirement already satisfied, skipping upgrade: httplib2>=0.9.1 in /opt/conda/lib/python3.6/site-packages (from oauth2client) (0.12.0)\n",
      "Requirement already satisfied, skipping upgrade: pyasn1>=0.1.7 in /opt/conda/lib/python3.6/site-packages (from oauth2client) (0.4.4)\n",
      "Requirement already satisfied, skipping upgrade: six>=1.6.1 in /opt/conda/lib/python3.6/site-packages (from oauth2client) (1.11.0)\n",
      "Installing collected packages: oauth2client\n",
      "Successfully installed oauth2client-4.1.3\n"
     ]
    }
   ],
   "source": [
    "!pip install --upgrade oauth2client"
   ]
  },
  {
   "cell_type": "code",
   "execution_count": 4,
   "metadata": {},
   "outputs": [],
   "source": [
    "from __future__ import print_function\n",
    "from googleapiclient.discovery import build\n",
    "from httplib2 import Http\n",
    "from oauth2client import file, client, tools"
   ]
  },
  {
   "cell_type": "code",
   "execution_count": 7,
   "metadata": {},
   "outputs": [
    {
     "name": "stdout",
     "output_type": "stream",
     "text": [
      "/opt/conda/lib/python3.6/site-packages/oauth2client/_helpers.py:255: UserWarning: Cannot access token.json: No such file or directory\n",
      "  warnings.warn(_MISSING_FILE_MESSAGE.format(filename))\n",
      "\n",
      "Go to the following link in your browser:\n",
      "\n",
      "    https://accounts.google.com/o/oauth2/auth?client_id=974547311126-ocaee49k8edhe52atntd5nrh2jnapta6.apps.googleusercontent.com&redirect_uri=urn%3Aietf%3Awg%3Aoauth%3A2.0%3Aoob&scope=https%3A%2F%2Fmail.google.com%2F&access_type=offline&response_type=code\n",
      "\n",
      "Enter verification code: ^C\n",
      "Traceback (most recent call last):\n",
      "  File \"authorize_send_gmail.py\", line 42, in <module>\n",
      "    main()\n",
      "  File \"authorize_send_gmail.py\", line 27, in main\n",
      "    creds = tools.run_flow(flow, store)\n",
      "  File \"/opt/conda/lib/python3.6/site-packages/oauth2client/_helpers.py\", line 133, in positional_wrapper\n",
      "    return wrapped(*args, **kwargs)\n",
      "  File \"/opt/conda/lib/python3.6/site-packages/oauth2client/tools.py\", line 240, in run_flow\n",
      "    code = input('Enter verification code: ').strip()\n",
      "KeyboardInterrupt\n"
     ]
    }
   ],
   "source": [
    "!python authorize_send_gmail.py  --noauth_local_webserver"
   ]
  },
  {
   "cell_type": "raw",
   "metadata": {},
   "source": [
    "# If modifying these scopes, delete the file token.json.\n",
    "SCOPES = 'https://www.googleapis.com/auth/gmail.readonly'\n",
    "\n",
    "def main():\n",
    "    \"\"\"Shows basic usage of the Gmail API.\n",
    "    Lists the user's Gmail labels.\n",
    "    \"\"\"\n",
    "\n",
    "    store = file.Storage('token.json')\n",
    "    creds = store.get()\n",
    "    if not creds or creds.invalid:\n",
    "        flow = client.flow_from_clientsecrets('credentials.json', SCOPES)\n",
    "        creds = tools.run_flow(flow, store)\n",
    "    service = build('gmail', 'v1', http=creds.authorize(Http()))\n",
    "\n",
    "    # Call the Gmail API\n",
    "    results = service.users().labels().list(userId='me').execute()\n",
    "    labels = results.get('labels', [])\n",
    "\n",
    "    if not labels:\n",
    "        print('No labels found.')\n",
    "    else:\n",
    "        print('Labels:')\n",
    "        for label in labels:\n",
    "            print(label['name'])\n",
    "\n",
    "if __name__ == '__main__':\n",
    "    main()"
   ]
  },
  {
   "cell_type": "markdown",
   "metadata": {},
   "source": [
    "https://developers.google.com/gmail/api/guides/sending"
   ]
  },
  {
   "cell_type": "markdown",
   "metadata": {},
   "source": [
    "message text needs to be base64 encoded"
   ]
  },
  {
   "cell_type": "code",
   "execution_count": 8,
   "metadata": {},
   "outputs": [
    {
     "data": {
      "text/plain": [
       "b'eW91ciBzdHJpbmc='"
      ]
     },
     "execution_count": 8,
     "metadata": {},
     "output_type": "execute_result"
    }
   ],
   "source": [
    "import base64\n",
    "base64.b64encode(bytes('your string', 'utf-8'))"
   ]
  },
  {
   "cell_type": "code",
   "execution_count": 9,
   "metadata": {},
   "outputs": [],
   "source": [
    "#https://docs.python.org/3/library/email.mime.html\n",
    "from email.mime.text import MIMEText\n",
    "from email import encoders\n",
    "    \n",
    "def create_message(sender, to, subject, message_text):\n",
    "    \"\"\"Create a message for an email.\n",
    "\n",
    "    Args:\n",
    "    sender: Email address of the sender.\n",
    "    to: Email address of the receiver.\n",
    "    subject: The subject of the email message.\n",
    "    message_text: The text of the email message.\n",
    "\n",
    "    Returns:\n",
    "    An object containing a base64url encoded email object.\n",
    "    \"\"\"\n",
    "    message = MIMEText(message_text)\n",
    "    message['to'] = to\n",
    "    message['from'] = sender\n",
    "    message['subject'] = subject\n",
    "    \n",
    "    # https://docs.python.org/3/library/base64.html\n",
    "    return {'raw': base64.urlsafe_b64encode(message.as_string().encode('utf-8')).decode(\"utf-8\")}\n",
    "    # https://stackoverflow.com/questions/606191/convert-bytes-to-a-string\n",
    "    \n",
    "    #return {'raw': base64.urlsafe_b64encode(bytes(\"None\",'utf-8'))}\n",
    "    \n",
    "    # https://docs.python.org/3.4/library/email-examples.html\n",
    "    #return {'raw': encoders.encode_base64(message.as_string())} "
   ]
  },
  {
   "cell_type": "code",
   "execution_count": 10,
   "metadata": {},
   "outputs": [
    {
     "data": {
      "text/plain": [
       "{'raw': 'Q29udGVudC1UeXBlOiB0ZXh0L3BsYWluOyBjaGFyc2V0PSJ1cy1hc2NpaSIKTUlNRS1WZXJzaW9uOiAxLjAKQ29udGVudC1UcmFuc2Zlci1FbmNvZGluZzogN2JpdAp0bzogYmVuLmlzLmxvY2F0ZWRAZ21haWwuY29tCmZyb206IGJlbnBheW5lQHVtYmMuZWR1CnN1YmplY3Q6IGEgc3ViamN0Cgptc2cgdGV4dCBmcm9tIFB5dGhvbg=='}"
      ]
     },
     "execution_count": 10,
     "metadata": {},
     "output_type": "execute_result"
    }
   ],
   "source": [
    "msg=create_message(\"benpayne@umbc.edu\", \n",
    "                   \"ben.is.located@gmail.com\", \n",
    "                   \"a subjct\", \n",
    "                   \"msg text from Python\")\n",
    "msg"
   ]
  },
  {
   "cell_type": "code",
   "execution_count": 11,
   "metadata": {},
   "outputs": [],
   "source": [
    "from googleapiclient import errors\n",
    "\n",
    "def send_message(service, user_id, message):\n",
    "    \"\"\"Send an email message.\n",
    "\n",
    "  Args:\n",
    "    service: Authorized Gmail API service instance.\n",
    "    user_id: User's email address. The special value \"me\"\n",
    "    can be used to indicate the authenticated user.\n",
    "    message: Message to be sent.\n",
    "\n",
    "  Returns:\n",
    "    Sent Message.\n",
    "    \"\"\"\n",
    "    try:\n",
    "        message = (service.users().messages().send(userId=user_id, body=message)\n",
    "                   .execute())\n",
    "        print ('Message Id: %s' % message['id'])\n",
    "        return message\n",
    "    # https://stackoverflow.com/questions/42541857/error-using-gmail-api-tuto-using-python-3-except-errors-httperror-error\n",
    "    except errors.HttpError as error:\n",
    "        print ('An error occurred: %s' % error)"
   ]
  },
  {
   "cell_type": "code",
   "execution_count": 12,
   "metadata": {},
   "outputs": [],
   "source": [
    "store = file.Storage('token.json')\n",
    "creds = store.get()\n",
    "service = build('gmail', 'v1', http=creds.authorize(Http()))"
   ]
  },
  {
   "cell_type": "code",
   "execution_count": 13,
   "metadata": {},
   "outputs": [
    {
     "name": "stdout",
     "output_type": "stream",
     "text": [
      "Message Id: 167152bd457ceaf8\n"
     ]
    },
    {
     "data": {
      "text/plain": [
       "{'id': '167152bd457ceaf8',\n",
       " 'threadId': '167152bd457ceaf8',\n",
       " 'labelIds': ['UNREAD', 'SENT', 'INBOX']}"
      ]
     },
     "execution_count": 13,
     "metadata": {},
     "output_type": "execute_result"
    }
   ],
   "source": [
    "send_message(service, \"me\", msg)"
   ]
  },
  {
   "cell_type": "markdown",
   "metadata": {},
   "source": [
    "The following also works"
   ]
  },
  {
   "cell_type": "raw",
   "metadata": {},
   "source": [
    "# https://stackoverflow.com/questions/38965493/error-400-when-sending-a-message-using-python\n",
    "\n",
    "#credentials = get_credentials()\n",
    "credentials=store.get()\n",
    "#http = credentials.authorize(httplib2.Http())\n",
    "http = credentials.authorize(Http())\n",
    "service = build('gmail', 'v1', http=http)\n",
    "message = create_message(\n",
    "    'ben.is.located@gmail.com', \n",
    "    'ben.is.located@gmail.com', \n",
    "    'Subject', \n",
    "    'Message text'\n",
    "  )\n",
    "send_message(service, 'me', message)"
   ]
  },
  {
   "cell_type": "code",
   "execution_count": null,
   "metadata": {},
   "outputs": [],
   "source": []
  }
 ],
 "metadata": {
  "kernelspec": {
   "display_name": "Python 3",
   "language": "python",
   "name": "python3"
  },
  "language_info": {
   "codemirror_mode": {
    "name": "ipython",
    "version": 3
   },
   "file_extension": ".py",
   "mimetype": "text/x-python",
   "name": "python",
   "nbconvert_exporter": "python",
   "pygments_lexer": "ipython3",
   "version": "3.6.6"
  }
 },
 "nbformat": 4,
 "nbformat_minor": 2
}
