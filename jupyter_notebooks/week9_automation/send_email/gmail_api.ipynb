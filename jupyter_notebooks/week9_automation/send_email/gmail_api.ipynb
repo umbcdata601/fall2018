{
 "cells": [
  {
   "cell_type": "markdown",
   "metadata": {},
   "source": [
    "https://developers.google.com/gmail/api/quickstart/python"
   ]
  },
  {
   "cell_type": "markdown",
   "metadata": {},
   "source": [
    "note: the script below must be run as a .py file in order to launch your browser and authenticate"
   ]
  },
  {
   "cell_type": "code",
   "execution_count": 1,
   "metadata": {},
   "outputs": [
    {
     "name": "stdout",
     "output_type": "stream",
     "text": [
      "e72dae3c9ee5\r\n"
     ]
    }
   ],
   "source": [
    "!hostname"
   ]
  },
  {
   "cell_type": "code",
   "execution_count": 2,
   "metadata": {},
   "outputs": [
    {
     "name": "stdout",
     "output_type": "stream",
     "text": [
      "Collecting google-api-python-client\n",
      "  Using cached https://files.pythonhosted.org/packages/56/04/5259a17a16a779426f6e2ac62796135b0d4a59cf8033a21037fd4ba5bf81/google_api_python_client-1.7.4-py3-none-any.whl\n",
      "Requirement already up-to-date: six<2dev,>=1.6.1 in /opt/conda/lib/python3.6/site-packages (from google-api-python-client)\n",
      "Collecting google-auth-httplib2>=0.0.3 (from google-api-python-client)\n",
      "  Using cached https://files.pythonhosted.org/packages/33/49/c814d6d438b823441552198f096fcd0377fd6c88714dbed34f1d3c8c4389/google_auth_httplib2-0.0.3-py2.py3-none-any.whl\n",
      "Collecting uritemplate<4dev,>=3.0.0 (from google-api-python-client)\n",
      "  Using cached https://files.pythonhosted.org/packages/e5/7d/9d5a640c4f8bf2c8b1afc015e9a9d8de32e13c9016dcc4b0ec03481fb396/uritemplate-3.0.0-py2.py3-none-any.whl\n",
      "Collecting httplib2<1dev,>=0.9.2 (from google-api-python-client)\n",
      "Collecting google-auth>=1.4.1 (from google-api-python-client)\n",
      "  Using cached https://files.pythonhosted.org/packages/58/cb/96dbb4e50e7a9d856e89cc9c8e36ab1055f9774f7d85f37e2156c1d79d9f/google_auth-1.5.1-py2.py3-none-any.whl\n",
      "Collecting rsa>=3.1.4 (from google-auth>=1.4.1->google-api-python-client)\n",
      "  Using cached https://files.pythonhosted.org/packages/02/e5/38518af393f7c214357079ce67a317307936896e961e35450b70fad2a9cf/rsa-4.0-py2.py3-none-any.whl\n",
      "Collecting pyasn1-modules>=0.2.1 (from google-auth>=1.4.1->google-api-python-client)\n",
      "  Using cached https://files.pythonhosted.org/packages/19/02/fa63f7ba30a0d7b925ca29d034510fc1ffde53264b71b4155022ddf3ab5d/pyasn1_modules-0.2.2-py2.py3-none-any.whl\n",
      "Collecting cachetools>=2.0.0 (from google-auth>=1.4.1->google-api-python-client)\n",
      "  Using cached https://files.pythonhosted.org/packages/0a/58/cbee863250b31d80f47401d04f34038db6766f95dea1cc909ea099c7e571/cachetools-2.1.0-py2.py3-none-any.whl\n",
      "Collecting pyasn1>=0.1.3 (from rsa>=3.1.4->google-auth>=1.4.1->google-api-python-client)\n",
      "  Using cached https://files.pythonhosted.org/packages/d1/a1/7790cc85db38daa874f6a2e6308131b9953feb1367f2ae2d1123bb93a9f5/pyasn1-0.4.4-py2.py3-none-any.whl\n",
      "Installing collected packages: httplib2, pyasn1, rsa, pyasn1-modules, cachetools, google-auth, google-auth-httplib2, uritemplate, google-api-python-client\n",
      "Successfully installed cachetools-2.1.0 google-api-python-client-1.7.4 google-auth-1.5.1 google-auth-httplib2-0.0.3 httplib2-0.11.3 pyasn1-0.4.4 pyasn1-modules-0.2.2 rsa-4.0 uritemplate-3.0.0\n",
      "\u001b[33mYou are using pip version 9.0.3, however version 18.1 is available.\n",
      "You should consider upgrading via the 'pip install --upgrade pip' command.\u001b[0m\n"
     ]
    }
   ],
   "source": [
    "!pip install --upgrade google-api-python-client"
   ]
  },
  {
   "cell_type": "code",
   "execution_count": 3,
   "metadata": {},
   "outputs": [
    {
     "name": "stdout",
     "output_type": "stream",
     "text": [
      "Collecting oauth2client\n",
      "  Using cached https://files.pythonhosted.org/packages/95/a9/4f25a14d23f0786b64875b91784607c2277eff25d48f915e39ff0cff505a/oauth2client-4.1.3-py2.py3-none-any.whl\n",
      "Requirement already up-to-date: pyasn1-modules>=0.0.5 in /opt/conda/lib/python3.6/site-packages (from oauth2client)\n",
      "Requirement already up-to-date: rsa>=3.1.4 in /opt/conda/lib/python3.6/site-packages (from oauth2client)\n",
      "Requirement already up-to-date: six>=1.6.1 in /opt/conda/lib/python3.6/site-packages (from oauth2client)\n",
      "Requirement already up-to-date: httplib2>=0.9.1 in /opt/conda/lib/python3.6/site-packages (from oauth2client)\n",
      "Requirement already up-to-date: pyasn1>=0.1.7 in /opt/conda/lib/python3.6/site-packages (from oauth2client)\n",
      "Installing collected packages: oauth2client\n",
      "Successfully installed oauth2client-4.1.3\n",
      "\u001b[33mYou are using pip version 9.0.3, however version 18.1 is available.\n",
      "You should consider upgrading via the 'pip install --upgrade pip' command.\u001b[0m\n"
     ]
    }
   ],
   "source": [
    "!pip install --upgrade oauth2client"
   ]
  },
  {
   "cell_type": "code",
   "execution_count": 4,
   "metadata": {},
   "outputs": [],
   "source": [
    "from __future__ import print_function\n",
    "from googleapiclient.discovery import build\n",
    "from httplib2 import Http\n",
    "from oauth2client import file, client, tools"
   ]
  },
  {
   "cell_type": "raw",
   "metadata": {},
   "source": [
    "!python3 send_gmail.py"
   ]
  },
  {
   "cell_type": "raw",
   "metadata": {},
   "source": [
    "# If modifying these scopes, delete the file token.json.\n",
    "SCOPES = 'https://www.googleapis.com/auth/gmail.readonly'\n",
    "\n",
    "def main():\n",
    "    \"\"\"Shows basic usage of the Gmail API.\n",
    "    Lists the user's Gmail labels.\n",
    "    \"\"\"\n",
    "\n",
    "    store = file.Storage('token.json')\n",
    "    creds = store.get()\n",
    "    if not creds or creds.invalid:\n",
    "        flow = client.flow_from_clientsecrets('credentials.json', SCOPES)\n",
    "        creds = tools.run_flow(flow, store)\n",
    "    service = build('gmail', 'v1', http=creds.authorize(Http()))\n",
    "\n",
    "    # Call the Gmail API\n",
    "    results = service.users().labels().list(userId='me').execute()\n",
    "    labels = results.get('labels', [])\n",
    "\n",
    "    if not labels:\n",
    "        print('No labels found.')\n",
    "    else:\n",
    "        print('Labels:')\n",
    "        for label in labels:\n",
    "            print(label['name'])\n",
    "\n",
    "if __name__ == '__main__':\n",
    "    main()"
   ]
  },
  {
   "cell_type": "markdown",
   "metadata": {},
   "source": [
    "https://developers.google.com/gmail/api/guides/sending"
   ]
  },
  {
   "cell_type": "markdown",
   "metadata": {},
   "source": [
    "message text needs to be base64 encoded"
   ]
  },
  {
   "cell_type": "code",
   "execution_count": 5,
   "metadata": {},
   "outputs": [
    {
     "data": {
      "text/plain": [
       "b'eW91ciBzdHJpbmc='"
      ]
     },
     "execution_count": 5,
     "metadata": {},
     "output_type": "execute_result"
    }
   ],
   "source": [
    "import base64\n",
    "base64.b64encode(bytes('your string', 'utf-8'))"
   ]
  },
  {
   "cell_type": "code",
   "execution_count": 6,
   "metadata": {},
   "outputs": [],
   "source": [
    "#https://docs.python.org/3/library/email.mime.html\n",
    "from email.mime.text import MIMEText\n",
    "from email import encoders\n",
    "    \n",
    "def create_message(sender, to, subject, message_text):\n",
    "    \"\"\"Create a message for an email.\n",
    "\n",
    "    Args:\n",
    "    sender: Email address of the sender.\n",
    "    to: Email address of the receiver.\n",
    "    subject: The subject of the email message.\n",
    "    message_text: The text of the email message.\n",
    "\n",
    "    Returns:\n",
    "    An object containing a base64url encoded email object.\n",
    "    \"\"\"\n",
    "    message = MIMEText(message_text)\n",
    "    message['to'] = to\n",
    "    message['from'] = sender\n",
    "    message['subject'] = subject\n",
    "    \n",
    "    # https://docs.python.org/3/library/base64.html\n",
    "    return {'raw': base64.urlsafe_b64encode(message.as_string().encode('utf-8')).decode(\"utf-8\")}\n",
    "    # https://stackoverflow.com/questions/606191/convert-bytes-to-a-string\n",
    "    \n",
    "    #return {'raw': base64.urlsafe_b64encode(bytes(\"None\",'utf-8'))}\n",
    "    \n",
    "    # https://docs.python.org/3.4/library/email-examples.html\n",
    "    #return {'raw': encoders.encode_base64(message.as_string())} "
   ]
  },
  {
   "cell_type": "code",
   "execution_count": 7,
   "metadata": {},
   "outputs": [
    {
     "data": {
      "text/plain": [
       "{'raw': 'Q29udGVudC1UeXBlOiB0ZXh0L3BsYWluOyBjaGFyc2V0PSJ1cy1hc2NpaSIKTUlNRS1WZXJzaW9uOiAxLjAKQ29udGVudC1UcmFuc2Zlci1FbmNvZGluZzogN2JpdAp0bzogYmVuLmlzLmxvY2F0ZWRAZ21haWwuY29tCmZyb206IGJlbnBheW5lQHVtYmMuZWR1CnN1YmplY3Q6IGEgc3ViamN0Cgptc2cgdGV4dCBmcm9tIFB5dGhvbg=='}"
      ]
     },
     "execution_count": 7,
     "metadata": {},
     "output_type": "execute_result"
    }
   ],
   "source": [
    "msg=create_message(\"benpayne@umbc.edu\", \n",
    "                   \"ben.is.located@gmail.com\", \n",
    "                   \"a subjct\", \n",
    "                   \"msg text from Python\")\n",
    "msg"
   ]
  },
  {
   "cell_type": "code",
   "execution_count": 8,
   "metadata": {},
   "outputs": [],
   "source": [
    "from googleapiclient import errors\n",
    "\n",
    "def send_message(service, user_id, message):\n",
    "    \"\"\"Send an email message.\n",
    "\n",
    "  Args:\n",
    "    service: Authorized Gmail API service instance.\n",
    "    user_id: User's email address. The special value \"me\"\n",
    "    can be used to indicate the authenticated user.\n",
    "    message: Message to be sent.\n",
    "\n",
    "  Returns:\n",
    "    Sent Message.\n",
    "    \"\"\"\n",
    "    try:\n",
    "        message = (service.users().messages().send(userId=user_id, body=message)\n",
    "                   .execute())\n",
    "        print ('Message Id: %s' % message['id'])\n",
    "        return message\n",
    "    # https://stackoverflow.com/questions/42541857/error-using-gmail-api-tuto-using-python-3-except-errors-httperror-error\n",
    "    except errors.HttpError as error:\n",
    "        print ('An error occurred: %s' % error)"
   ]
  },
  {
   "cell_type": "code",
   "execution_count": 9,
   "metadata": {},
   "outputs": [],
   "source": [
    "store = file.Storage('token.json')\n",
    "creds = store.get()\n",
    "service = build('gmail', 'v1', http=creds.authorize(Http()))"
   ]
  },
  {
   "cell_type": "code",
   "execution_count": 10,
   "metadata": {},
   "outputs": [
    {
     "name": "stdout",
     "output_type": "stream",
     "text": [
      "Message Id: 166add0ff967505d\n"
     ]
    },
    {
     "data": {
      "text/plain": [
       "{'id': '166add0ff967505d',\n",
       " 'threadId': '166add0ff967505d',\n",
       " 'labelIds': ['SENT']}"
      ]
     },
     "execution_count": 10,
     "metadata": {},
     "output_type": "execute_result"
    }
   ],
   "source": [
    "send_message(service, \"me\", msg)"
   ]
  },
  {
   "cell_type": "markdown",
   "metadata": {},
   "source": [
    "The following also works"
   ]
  },
  {
   "cell_type": "raw",
   "metadata": {},
   "source": [
    "# https://stackoverflow.com/questions/38965493/error-400-when-sending-a-message-using-python\n",
    "\n",
    "#credentials = get_credentials()\n",
    "credentials=store.get()\n",
    "#http = credentials.authorize(httplib2.Http())\n",
    "http = credentials.authorize(Http())\n",
    "service = build('gmail', 'v1', http=http)\n",
    "message = create_message(\n",
    "    'ben.is.located@gmail.com', \n",
    "    'ben.is.located@gmail.com', \n",
    "    'Subject', \n",
    "    'Message text'\n",
    "  )\n",
    "send_message(service, 'me', message)"
   ]
  },
  {
   "cell_type": "code",
   "execution_count": null,
   "metadata": {},
   "outputs": [],
   "source": []
  }
 ],
 "metadata": {
  "kernelspec": {
   "display_name": "Python 3",
   "language": "python",
   "name": "python3"
  },
  "language_info": {
   "codemirror_mode": {
    "name": "ipython",
    "version": 3
   },
   "file_extension": ".py",
   "mimetype": "text/x-python",
   "name": "python",
   "nbconvert_exporter": "python",
   "pygments_lexer": "ipython3",
   "version": "3.6.3"
  }
 },
 "nbformat": 4,
 "nbformat_minor": 2
}
