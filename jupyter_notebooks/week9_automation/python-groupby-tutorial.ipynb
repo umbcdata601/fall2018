{
 "cells": [
  {
   "cell_type": "markdown",
   "metadata": {},
   "source": [
    "https://www.kaggle.com/crawford/python-groupby-tutorial/code"
   ]
  },
  {
   "cell_type": "code",
   "execution_count": 1,
   "metadata": {},
   "outputs": [],
   "source": [
    "import numpy as np\n",
    "import pandas as pd\n",
    "import random"
   ]
  },
  {
   "cell_type": "code",
   "execution_count": 2,
   "metadata": {
    "_cell_guid": "ac4ad125-35de-472a-af69-ef3b8d2525f3",
    "_kg_hide-input": true,
    "_kg_hide-output": true,
    "_uuid": "ebf015225ef3328b432fdd7f921c13a48d87784e"
   },
   "outputs": [],
   "source": [
    "# Random pets column\n",
    "pet_list = [\"cat\", \"hamster\", \"alligator\", \"snake\"]\n",
    "pet = [random.choice(pet_list) for i in range(1,15)]\n",
    "\n",
    "# Random weight of animal column\n",
    "weight = [random.choice(range(5,15)) for i in range(1,15)]\n",
    "\n",
    "# Random length of animals column\n",
    "length = [random.choice(range(1,10)) for i in range(1,15)]\n",
    "\n",
    "# random age of the animals column\n",
    "age = [random.choice(range(1,15)) for i in range(1,15)]\n",
    "\n",
    "# Put everyhting into a dataframe\n",
    "df = pd.DataFrame()\n",
    "df[\"animal\"] = pet\n",
    "df[\"age\"] = age\n",
    "df[\"weight\"] = weight\n",
    "df[\"length\"] = length\n",
    "\n",
    "# make a groupby object\n",
    "animal_groups = df.groupby(\"animal\")\n"
   ]
  },
  {
   "cell_type": "markdown",
   "metadata": {
    "_cell_guid": "8cb73026-9375-4a66-ae54-9ed52b9fc73f",
    "_uuid": "f7152939db29c79d02b389e33af105d79bc2ad75"
   },
   "source": [
    "\n",
    "# Groupby \n",
    "---\n",
    "*This tutorial roughly picks up from the <a href=\"https://www.kaggle.com/crawford/python-merge-tutorial/\">Python Merge Tutorial</a> but also works as a stand alone Groupby tutorial. If you come from a background in SQL and are familiar with GROUP BY,  you can scroll through this to see some examples of the syntax. *\n",
    "<br><br>\n",
    "\n",
    "Groupby is a pretty simple concept. You create a grouping of categories and apply a function to the categories. It's a simple concept but it's an extremely valuable technique that's widely used in data science. The value of groupby really comes from it's ability to aggregate data efficiently, both in performance and the amount code it takes. In real data science projects, you'll be dealing with large amounts of data and trying things over and over, so efficiency really becomes an important consideration. \n",
    "<br><br>\n",
    "\n",
    "# Understanding Groupby\n",
    "Here's a super simple dataframe to illustrate some examples. We'll be grouping the data by the \"animal\" column where there are four categories of animals: \n",
    "- alligators\n",
    "- cats\n",
    "- snakes\n",
    "- hamsters"
   ]
  },
  {
   "cell_type": "code",
   "execution_count": 3,
   "metadata": {
    "_cell_guid": "fc83b57c-1e49-4751-a3b1-b6cf15657197",
    "_kg_hide-input": true,
    "_uuid": "2c99b8dc9883f372df36cd176466b04f026c2589"
   },
   "outputs": [
    {
     "data": {
      "text/html": [
       "<div>\n",
       "<style scoped>\n",
       "    .dataframe tbody tr th:only-of-type {\n",
       "        vertical-align: middle;\n",
       "    }\n",
       "\n",
       "    .dataframe tbody tr th {\n",
       "        vertical-align: top;\n",
       "    }\n",
       "\n",
       "    .dataframe thead th {\n",
       "        text-align: right;\n",
       "    }\n",
       "</style>\n",
       "<table border=\"1\" class=\"dataframe\">\n",
       "  <thead>\n",
       "    <tr style=\"text-align: right;\">\n",
       "      <th></th>\n",
       "      <th>animal</th>\n",
       "      <th>age</th>\n",
       "      <th>weight</th>\n",
       "      <th>length</th>\n",
       "    </tr>\n",
       "  </thead>\n",
       "  <tbody>\n",
       "    <tr>\n",
       "      <th>0</th>\n",
       "      <td>hamster</td>\n",
       "      <td>9</td>\n",
       "      <td>10</td>\n",
       "      <td>6</td>\n",
       "    </tr>\n",
       "    <tr>\n",
       "      <th>1</th>\n",
       "      <td>cat</td>\n",
       "      <td>5</td>\n",
       "      <td>10</td>\n",
       "      <td>3</td>\n",
       "    </tr>\n",
       "    <tr>\n",
       "      <th>2</th>\n",
       "      <td>cat</td>\n",
       "      <td>8</td>\n",
       "      <td>6</td>\n",
       "      <td>3</td>\n",
       "    </tr>\n",
       "    <tr>\n",
       "      <th>3</th>\n",
       "      <td>hamster</td>\n",
       "      <td>2</td>\n",
       "      <td>14</td>\n",
       "      <td>1</td>\n",
       "    </tr>\n",
       "    <tr>\n",
       "      <th>4</th>\n",
       "      <td>hamster</td>\n",
       "      <td>4</td>\n",
       "      <td>13</td>\n",
       "      <td>4</td>\n",
       "    </tr>\n",
       "    <tr>\n",
       "      <th>5</th>\n",
       "      <td>hamster</td>\n",
       "      <td>10</td>\n",
       "      <td>7</td>\n",
       "      <td>7</td>\n",
       "    </tr>\n",
       "    <tr>\n",
       "      <th>6</th>\n",
       "      <td>cat</td>\n",
       "      <td>7</td>\n",
       "      <td>12</td>\n",
       "      <td>3</td>\n",
       "    </tr>\n",
       "    <tr>\n",
       "      <th>7</th>\n",
       "      <td>alligator</td>\n",
       "      <td>11</td>\n",
       "      <td>10</td>\n",
       "      <td>1</td>\n",
       "    </tr>\n",
       "    <tr>\n",
       "      <th>8</th>\n",
       "      <td>cat</td>\n",
       "      <td>11</td>\n",
       "      <td>12</td>\n",
       "      <td>8</td>\n",
       "    </tr>\n",
       "    <tr>\n",
       "      <th>9</th>\n",
       "      <td>hamster</td>\n",
       "      <td>8</td>\n",
       "      <td>14</td>\n",
       "      <td>3</td>\n",
       "    </tr>\n",
       "    <tr>\n",
       "      <th>10</th>\n",
       "      <td>cat</td>\n",
       "      <td>3</td>\n",
       "      <td>8</td>\n",
       "      <td>6</td>\n",
       "    </tr>\n",
       "    <tr>\n",
       "      <th>11</th>\n",
       "      <td>snake</td>\n",
       "      <td>10</td>\n",
       "      <td>6</td>\n",
       "      <td>9</td>\n",
       "    </tr>\n",
       "    <tr>\n",
       "      <th>12</th>\n",
       "      <td>hamster</td>\n",
       "      <td>10</td>\n",
       "      <td>14</td>\n",
       "      <td>8</td>\n",
       "    </tr>\n",
       "    <tr>\n",
       "      <th>13</th>\n",
       "      <td>cat</td>\n",
       "      <td>10</td>\n",
       "      <td>10</td>\n",
       "      <td>3</td>\n",
       "    </tr>\n",
       "  </tbody>\n",
       "</table>\n",
       "</div>"
      ],
      "text/plain": [
       "       animal  age  weight  length\n",
       "0     hamster    9      10       6\n",
       "1         cat    5      10       3\n",
       "2         cat    8       6       3\n",
       "3     hamster    2      14       1\n",
       "4     hamster    4      13       4\n",
       "5     hamster   10       7       7\n",
       "6         cat    7      12       3\n",
       "7   alligator   11      10       1\n",
       "8         cat   11      12       8\n",
       "9     hamster    8      14       3\n",
       "10        cat    3       8       6\n",
       "11      snake   10       6       9\n",
       "12    hamster   10      14       8\n",
       "13        cat   10      10       3"
      ]
     },
     "execution_count": 3,
     "metadata": {},
     "output_type": "execute_result"
    }
   ],
   "source": [
    "df"
   ]
  },
  {
   "cell_type": "markdown",
   "metadata": {},
   "source": [
    "One question we could ask about the animal data might be, \"What's the average weight of all the snakes, cats, hamsters, and alligators?\" To find the average weight of each category of animal, we'll group the animals by animal type and then apply the mean function. We could apply other functions too. We could apply \"sum\" to add up all the weights, \"min\" to find the lowest, \"max\" to get the highest, or \"count\" just to get a count of each animal type. \n",
    "<br><br>\n",
    "\n",
    "This is a short list of some aggregation functions that I find handy but it's definitely not a complete list of possible operations.\n",
    "<br>\n",
    "\n",
    "<table>\n",
    "<tr>\n",
    "    <td><b>Summary statistics</b></td>\n",
    "    <td><b>Numpy operations</b></td>\n",
    "    <td><b>More complex operations</b></td>\n",
    "</tr>\n",
    "<tr>\n",
    "    <td>mean</td>\n",
    "    <td>np.mean</td>\n",
    "    <td>.agg()</td>\n",
    "</tr>\n",
    "<tr>\n",
    "    <td>median</td>\n",
    "    <td>np.min</td>\n",
    "    <td>agg([\"mean\", \"median\"])</td>\n",
    "</tr>\n",
    "<tr>\n",
    "    <td>min</td>\n",
    "    <td>np.max</td>\n",
    "    <td>agg(custom_function())</td>\n",
    "</tr>\n",
    "<tr>\n",
    "    <td>max</td>\n",
    "    <td>np.sum</td>\n",
    "</tr>\n",
    "<tr>\n",
    "    <td>sum</td>\n",
    "    <td>np.product</td>\n",
    "</tr>\n",
    "<tr>\n",
    "    <td>describe</td>\n",
    "</tr>\n",
    "<tr>\n",
    "    <td>count or size</td>\n",
    "</tr>\n",
    "</table>\n",
    "\n",
    "<br><br>\n"
   ]
  },
  {
   "cell_type": "code",
   "execution_count": 4,
   "metadata": {},
   "outputs": [
    {
     "data": {
      "text/plain": [
       "7.7142857142857144"
      ]
     },
     "execution_count": 4,
     "metadata": {},
     "output_type": "execute_result"
    }
   ],
   "source": [
    "df['age'].mean()"
   ]
  },
  {
   "cell_type": "code",
   "execution_count": 5,
   "metadata": {},
   "outputs": [
    {
     "data": {
      "text/html": [
       "<div>\n",
       "<style scoped>\n",
       "    .dataframe tbody tr th:only-of-type {\n",
       "        vertical-align: middle;\n",
       "    }\n",
       "\n",
       "    .dataframe tbody tr th {\n",
       "        vertical-align: top;\n",
       "    }\n",
       "\n",
       "    .dataframe thead th {\n",
       "        text-align: right;\n",
       "    }\n",
       "</style>\n",
       "<table border=\"1\" class=\"dataframe\">\n",
       "  <thead>\n",
       "    <tr style=\"text-align: right;\">\n",
       "      <th></th>\n",
       "      <th>age</th>\n",
       "      <th>weight</th>\n",
       "      <th>length</th>\n",
       "    </tr>\n",
       "  </thead>\n",
       "  <tbody>\n",
       "    <tr>\n",
       "      <th>count</th>\n",
       "      <td>14.000000</td>\n",
       "      <td>14.000000</td>\n",
       "      <td>14.000000</td>\n",
       "    </tr>\n",
       "    <tr>\n",
       "      <th>mean</th>\n",
       "      <td>7.714286</td>\n",
       "      <td>10.428571</td>\n",
       "      <td>4.642857</td>\n",
       "    </tr>\n",
       "    <tr>\n",
       "      <th>std</th>\n",
       "      <td>3.049050</td>\n",
       "      <td>2.874672</td>\n",
       "      <td>2.648865</td>\n",
       "    </tr>\n",
       "    <tr>\n",
       "      <th>min</th>\n",
       "      <td>2.000000</td>\n",
       "      <td>6.000000</td>\n",
       "      <td>1.000000</td>\n",
       "    </tr>\n",
       "    <tr>\n",
       "      <th>25%</th>\n",
       "      <td>5.500000</td>\n",
       "      <td>8.500000</td>\n",
       "      <td>3.000000</td>\n",
       "    </tr>\n",
       "    <tr>\n",
       "      <th>50%</th>\n",
       "      <td>8.500000</td>\n",
       "      <td>10.000000</td>\n",
       "      <td>3.500000</td>\n",
       "    </tr>\n",
       "    <tr>\n",
       "      <th>75%</th>\n",
       "      <td>10.000000</td>\n",
       "      <td>12.750000</td>\n",
       "      <td>6.750000</td>\n",
       "    </tr>\n",
       "    <tr>\n",
       "      <th>max</th>\n",
       "      <td>11.000000</td>\n",
       "      <td>14.000000</td>\n",
       "      <td>9.000000</td>\n",
       "    </tr>\n",
       "  </tbody>\n",
       "</table>\n",
       "</div>"
      ],
      "text/plain": [
       "             age     weight     length\n",
       "count  14.000000  14.000000  14.000000\n",
       "mean    7.714286  10.428571   4.642857\n",
       "std     3.049050   2.874672   2.648865\n",
       "min     2.000000   6.000000   1.000000\n",
       "25%     5.500000   8.500000   3.000000\n",
       "50%     8.500000  10.000000   3.500000\n",
       "75%    10.000000  12.750000   6.750000\n",
       "max    11.000000  14.000000   9.000000"
      ]
     },
     "execution_count": 5,
     "metadata": {},
     "output_type": "execute_result"
    }
   ],
   "source": [
    "df.describe()"
   ]
  },
  {
   "cell_type": "markdown",
   "metadata": {},
   "source": [
    "Taking the mean of all animals ignores the categorical features: \n",
    "- alligators\n",
    "- cats\n",
    "- snakes\n",
    "- hamsters\n",
    "\n",
    "The following two lines of code group the animals by type, then apply the mean function to the weight column."
   ]
  },
  {
   "cell_type": "code",
   "execution_count": 6,
   "metadata": {},
   "outputs": [
    {
     "data": {
      "text/plain": [
       "pandas.core.groupby.groupby.DataFrameGroupBy"
      ]
     },
     "execution_count": 6,
     "metadata": {},
     "output_type": "execute_result"
    }
   ],
   "source": [
    "# Group by animal category\n",
    "animal_groups = df.groupby(\"animal\")\n",
    "type(animal_groups)"
   ]
  },
  {
   "cell_type": "markdown",
   "metadata": {},
   "source": [
    "A new type of data structure (different from Series and DataFrame)!"
   ]
  },
  {
   "cell_type": "code",
   "execution_count": 7,
   "metadata": {},
   "outputs": [
    {
     "data": {
      "text/plain": [
       "animal\n",
       "alligator    10.000000\n",
       "cat           9.666667\n",
       "hamster      12.000000\n",
       "snake         6.000000\n",
       "Name: weight, dtype: float64"
      ]
     },
     "execution_count": 7,
     "metadata": {},
     "output_type": "execute_result"
    }
   ],
   "source": [
    "# Apply mean function to wieght column\n",
    "animal_groups['weight'].mean()"
   ]
  },
  {
   "cell_type": "markdown",
   "metadata": {
    "_cell_guid": "0adee4d4-b0d7-474b-bdc9-34684d1d5751",
    "_uuid": "93eda48bc37648d3ee591e72d8019cbe230b6419"
   },
   "source": [
    "Here's what happens when you run that code:\n",
    "\n",
    "\n",
    "### 1. Group the unique values from the animal column \n",
    "<!--<img src=\"https://imgur.com/DRl1wil.jpg\" width=400 alt=\"group stuff\">-->\n",
    "<img src=\"groupby_tutorial/DRl1wil.jpg\" width=400 alt=\"group stuff\">\n",
    "<br><br>\n",
    "\n",
    "### 2. Now there's a bucket for each group\n",
    "<!--<img src=\"https://imgur.com/Q9fHw1O.jpg\" width=250 alt=\"make buckets\">-->\n",
    "<img src=\"groupby_tutorial/Q9fHw1O.jpg\" width=250 alt=\"make buckets\">\n",
    "<br><br>\n",
    "\n",
    "### 3. Toss the other data into the buckets \n",
    "<!--<img src=\"https://imgur.com/A29SKAY.jpg\" width=500 alt=\"add data\">-->\n",
    "<img src=\"groupby_tutorial/A29SKAY.jpg\" width=500 alt=\"add data\">\n",
    "<br><br>\n",
    "\n",
    "### 4. Apply a function on the weight column of each bucket\n",
    "<!--<img src=\"https://imgur.com/xZnMuPZ.jpg\" width=700 alt=\"calculate something\">-->\n",
    "<img src=\"groupby_tutorial/xZnMuPZ.jpg\" width=700 alt=\"calculate something\">"
   ]
  },
  {
   "cell_type": "markdown",
   "metadata": {
    "_cell_guid": "2e987675-420c-4fac-955e-60030808dfed",
    "_uuid": "35f065be20a48cdb5d824bd8b4837d5ee9ed9199"
   },
   "source": [
    "another example of using a groupby operation:"
   ]
  },
  {
   "cell_type": "code",
   "execution_count": 8,
   "metadata": {},
   "outputs": [
    {
     "data": {
      "text/plain": [
       "animal\n",
       "alligator    11\n",
       "cat          11\n",
       "hamster      10\n",
       "snake        10\n",
       "Name: age, dtype: int64"
      ]
     },
     "execution_count": 8,
     "metadata": {},
     "output_type": "execute_result"
    }
   ],
   "source": [
    "# Or apply the \"max\" function to the age column\n",
    "animal_groups['age'].max()"
   ]
  }
 ],
 "metadata": {
  "kernelspec": {
   "display_name": "Python 3",
   "language": "python",
   "name": "python3"
  },
  "language_info": {
   "codemirror_mode": {
    "name": "ipython",
    "version": 3
   },
   "file_extension": ".py",
   "mimetype": "text/x-python",
   "name": "python",
   "nbconvert_exporter": "python",
   "pygments_lexer": "ipython3",
   "version": "3.6.6"
  }
 },
 "nbformat": 4,
 "nbformat_minor": 1
}
