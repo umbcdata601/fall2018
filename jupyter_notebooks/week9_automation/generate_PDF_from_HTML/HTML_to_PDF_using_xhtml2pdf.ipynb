{
 "cells": [
  {
   "cell_type": "code",
   "execution_count": 2,
   "metadata": {},
   "outputs": [
    {
     "name": "stdout",
     "output_type": "stream",
     "text": [
      "Collecting xhtml2pdf\n",
      "  Downloading https://files.pythonhosted.org/packages/d1/94/a9b4e0ecb472f4d2bcb277524b586d9c8ee6c50745614f1b340c69bf2a3e/xhtml2pdf-0.2.3.tar.gz (99kB)\n",
      "\u001b[K    100% |████████████████████████████████| 102kB 1.3MB/s a 0:00:01\n",
      "\u001b[?25hRequirement already satisfied: html5lib>=1.0 in /opt/conda/lib/python3.6/site-packages (from xhtml2pdf)\n",
      "Collecting pyPdf2 (from xhtml2pdf)\n",
      "  Downloading https://files.pythonhosted.org/packages/b4/01/68fcc0d43daf4c6bdbc6b33cc3f77bda531c86b174cac56ef0ffdb96faab/PyPDF2-1.26.0.tar.gz (77kB)\n",
      "\u001b[K    100% |████████████████████████████████| 81kB 1.2MB/s ta 0:00:01\n",
      "\u001b[?25hRequirement already satisfied: Pillow in /opt/conda/lib/python3.6/site-packages (from xhtml2pdf)\n",
      "Collecting reportlab>=3.0 (from xhtml2pdf)\n",
      "  Downloading https://files.pythonhosted.org/packages/b9/13/caf6e87cb74c4a1e5642c55d90a205e0186ad123f3fb093e91711097c8f0/reportlab-3.5.9-cp36-cp36m-manylinux1_x86_64.whl (2.6MB)\n",
      "\u001b[K    100% |████████████████████████████████| 2.6MB 140kB/s ta 0:00:01\n",
      "\u001b[?25hRequirement already satisfied: six in /opt/conda/lib/python3.6/site-packages (from xhtml2pdf)\n",
      "Requirement already satisfied: webencodings in /opt/conda/lib/python3.6/site-packages (from html5lib>=1.0->xhtml2pdf)\n",
      "Building wheels for collected packages: xhtml2pdf, pyPdf2\n",
      "  Running setup.py bdist_wheel for xhtml2pdf ... \u001b[?25ldone\n",
      "\u001b[?25h  Stored in directory: /home/jovyan/.cache/pip/wheels/c3/22/d6/fb20c4c532e9eb3b43fe30df5242c8ebaae20d1a6c4bcfa7b9\n",
      "  Running setup.py bdist_wheel for pyPdf2 ... \u001b[?25ldone\n",
      "\u001b[?25h  Stored in directory: /home/jovyan/.cache/pip/wheels/53/84/19/35bc977c8bf5f0c23a8a011aa958acd4da4bbd7a229315c1b7\n",
      "Successfully built xhtml2pdf pyPdf2\n",
      "Installing collected packages: pyPdf2, reportlab, xhtml2pdf\n",
      "Successfully installed pyPdf2-1.26.0 reportlab-3.5.9 xhtml2pdf-0.2.3\n",
      "\u001b[33mYou are using pip version 9.0.3, however version 18.1 is available.\n",
      "You should consider upgrading via the 'pip install --upgrade pip' command.\u001b[0m\n"
     ]
    }
   ],
   "source": [
    "!pip install xhtml2pdf"
   ]
  },
  {
   "cell_type": "code",
   "execution_count": 3,
   "metadata": {},
   "outputs": [],
   "source": [
    "import xhtml2pdf"
   ]
  },
  {
   "cell_type": "markdown",
   "metadata": {},
   "source": [
    "https://plot.ly/python/pdf-reports/"
   ]
  },
  {
   "cell_type": "code",
   "execution_count": 4,
   "metadata": {},
   "outputs": [],
   "source": [
    "from IPython.display import display, HTML"
   ]
  },
  {
   "cell_type": "code",
   "execution_count": 5,
   "metadata": {},
   "outputs": [],
   "source": [
    "from xhtml2pdf import pisa             # import python module\n",
    "\n",
    "# Utility function\n",
    "def convert_html_to_pdf(source_html, output_filename):\n",
    "    # open output file for writing (truncated binary)\n",
    "    result_file = open(output_filename, \"w+b\")\n",
    "\n",
    "    # convert HTML to PDF\n",
    "    pisa_status = pisa.CreatePDF(\n",
    "            source_html,                # the HTML to convert\n",
    "            dest=result_file)           # file handle to recieve result\n",
    "\n",
    "    # close output file\n",
    "    result_file.close()                 # close output file\n",
    "\n",
    "    # return True on success and False on errors\n",
    "    return pisa_status.err"
   ]
  },
  {
   "cell_type": "code",
   "execution_count": 6,
   "metadata": {},
   "outputs": [],
   "source": [
    "static_report=\"<HTML><BODY><P>Hello</P></BODY></HTML>\""
   ]
  },
  {
   "cell_type": "code",
   "execution_count": 7,
   "metadata": {},
   "outputs": [
    {
     "data": {
      "text/plain": [
       "0"
      ]
     },
     "execution_count": 7,
     "metadata": {},
     "output_type": "execute_result"
    }
   ],
   "source": [
    "convert_html_to_pdf(static_report, 'report.pdf')"
   ]
  },
  {
   "cell_type": "code",
   "execution_count": 8,
   "metadata": {},
   "outputs": [
    {
     "name": "stdout",
     "output_type": "stream",
     "text": [
      "generate_PDF_using_fpdf.ipynb\r\n",
      "HTML_to_PDF_using_pdfkit_and_wkhtmltopdf.ipynb\r\n",
      "HTML_to_PDF_using_weasy.ipynb\r\n",
      "HTML_to_PDF_using_xhtml2pdf.ipynb\r\n",
      "report.pdf\r\n"
     ]
    }
   ],
   "source": [
    "!ls"
   ]
  },
  {
   "cell_type": "code",
   "execution_count": null,
   "metadata": {},
   "outputs": [],
   "source": []
  }
 ],
 "metadata": {
  "kernelspec": {
   "display_name": "Python 3",
   "language": "python",
   "name": "python3"
  },
  "language_info": {
   "codemirror_mode": {
    "name": "ipython",
    "version": 3
   },
   "file_extension": ".py",
   "mimetype": "text/x-python",
   "name": "python",
   "nbconvert_exporter": "python",
   "pygments_lexer": "ipython3",
   "version": "3.6.3"
  }
 },
 "nbformat": 4,
 "nbformat_minor": 2
}
