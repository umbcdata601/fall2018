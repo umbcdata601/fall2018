{
 "cells": [
  {
   "cell_type": "code",
   "execution_count": 1,
   "metadata": {},
   "outputs": [
    {
     "name": "stdout",
     "output_type": "stream",
     "text": [
      "86570f55bd97\r\n"
     ]
    }
   ],
   "source": [
    "!hostname"
   ]
  },
  {
   "cell_type": "code",
   "execution_count": 5,
   "metadata": {},
   "outputs": [
    {
     "name": "stdout",
     "output_type": "stream",
     "text": [
      "Collecting pip\n",
      "  Downloading https://files.pythonhosted.org/packages/c2/d7/90f34cb0d83a6c5631cf71dfe64cc1054598c843a92b400e55675cc2ac37/pip-18.1-py2.py3-none-any.whl (1.3MB)\n",
      "\u001b[K    100% |████████████████████████████████| 1.3MB 262kB/s ta 0:00:01\n",
      "\u001b[?25hInstalling collected packages: pip\n",
      "  Found existing installation: pip 9.0.3\n",
      "    Uninstalling pip-9.0.3:\n",
      "      Successfully uninstalled pip-9.0.3\n",
      "Successfully installed pip-18.1\n"
     ]
    }
   ],
   "source": [
    "!pip install --upgrade pip"
   ]
  },
  {
   "cell_type": "code",
   "execution_count": 3,
   "metadata": {},
   "outputs": [
    {
     "name": "stdout",
     "output_type": "stream",
     "text": [
      "Collecting WeasyPrint\n",
      "\u001b[?25l  Downloading https://files.pythonhosted.org/packages/a5/3c/a7021bea33ef7515901d77b11cb0d356171068055591e9d813962a0092d8/WeasyPrint-0.42.3-py3-none-any.whl (296kB)\n",
      "\u001b[K    100% |████████████████████████████████| 296kB 2.0MB/s ta 0:00:01\n",
      "\u001b[?25hCollecting cairocffi>=0.5 (from WeasyPrint)\n",
      "\u001b[?25l  Downloading https://files.pythonhosted.org/packages/62/be/ad4d422b6f38d99b09ad6d046ab725e8ccac5fefd9ca256ca35a80dbf3c6/cairocffi-0.9.0.tar.gz (84kB)\n",
      "\u001b[K    100% |████████████████████████████████| 92kB 3.2MB/s ta 0:00:011\n",
      "\u001b[?25hCollecting CairoSVG>=1.0.20; python_version >= \"3.0\" (from WeasyPrint)\n",
      "\u001b[?25l  Downloading https://files.pythonhosted.org/packages/5c/57/dadc80948bcb83ea9c0968ccfd5a1a25ace6be0884484526f70dad3c10b9/CairoSVG-2.2.1-py3-none-any.whl (52kB)\n",
      "\u001b[K    100% |████████████████████████████████| 61kB 5.7MB/s ta 0:00:01\n",
      "\u001b[?25hCollecting cssselect2>=0.1 (from WeasyPrint)\n",
      "  Downloading https://files.pythonhosted.org/packages/12/e2/91fcd4cd32545beec6e11628d64d3e20f11b5a95dd1ccf3216fd69f176b7/cssselect2-0.2.1-py2.py3-none-any.whl\n",
      "Collecting tinycss2>=0.5 (from WeasyPrint)\n",
      "\u001b[?25l  Downloading https://files.pythonhosted.org/packages/88/95/0ec73db7fc638ec000e662936ffe1a4e1eaa22f2861c8de18b1597c42584/tinycss2-0.6.1-py2.py3-none-any.whl (61kB)\n",
      "\u001b[K    100% |████████████████████████████████| 71kB 6.6MB/s ta 0:00:011\n",
      "\u001b[?25hRequirement already satisfied: cffi>=0.6 in /opt/conda/lib/python3.6/site-packages (from WeasyPrint) (1.11.5)\n",
      "Collecting html5lib>=0.999999999 (from WeasyPrint)\n",
      "\u001b[?25l  Downloading https://files.pythonhosted.org/packages/a5/62/bbd2be0e7943ec8504b517e62bab011b4946e1258842bc159e5dfde15b96/html5lib-1.0.1-py2.py3-none-any.whl (117kB)\n",
      "\u001b[K    100% |████████████████████████████████| 122kB 2.8MB/s ta 0:00:01\n",
      "\u001b[?25hCollecting pdfrw>=0.4 (from WeasyPrint)\n",
      "\u001b[?25l  Downloading https://files.pythonhosted.org/packages/c0/84/af442c4458756bb0c0d2424102d1200616f3ff9b82c48aaa130e08549bf6/pdfrw-0.4-py2.py3-none-any.whl (69kB)\n",
      "\u001b[K    100% |████████████████████████████████| 71kB 3.4MB/s ta 0:00:011\n",
      "\u001b[?25hCollecting Pyphen>=0.8 (from WeasyPrint)\n",
      "\u001b[?25l  Downloading https://files.pythonhosted.org/packages/15/82/08a3629dce8d1f3d91db843bb36d4d7db6b6269d5067259613a0d5c8a9db/Pyphen-0.9.5-py2.py3-none-any.whl (3.0MB)\n",
      "\u001b[K    100% |████████████████████████████████| 3.0MB 2.7MB/s ta 0:00:01\n",
      "\u001b[?25hRequirement already satisfied: pillow in /opt/conda/lib/python3.6/site-packages (from CairoSVG>=1.0.20; python_version >= \"3.0\"->WeasyPrint) (5.3.0)\n",
      "Collecting defusedxml (from CairoSVG>=1.0.20; python_version >= \"3.0\"->WeasyPrint)\n",
      "  Downloading https://files.pythonhosted.org/packages/87/1c/17f3e3935a913dfe2a5ca85fa5ccbef366bfd82eb318b1f75dadbf0affca/defusedxml-0.5.0-py2.py3-none-any.whl\n",
      "Requirement already satisfied: webencodings>=0.4 in /opt/conda/lib/python3.6/site-packages (from tinycss2>=0.5->WeasyPrint) (0.5.1)\n",
      "Requirement already satisfied: pycparser in /opt/conda/lib/python3.6/site-packages (from cffi>=0.6->WeasyPrint) (2.18)\n",
      "Requirement already satisfied: six>=1.9 in /opt/conda/lib/python3.6/site-packages (from html5lib>=0.999999999->WeasyPrint) (1.11.0)\n",
      "Building wheels for collected packages: cairocffi\n",
      "  Running setup.py bdist_wheel for cairocffi ... \u001b[?25ldone\n",
      "\u001b[?25h  Stored in directory: /home/jovyan/.cache/pip/wheels/3a/2e/92/89e9dcce600a1a78bebe571fdd096669cba354b29c5e1140b9\n",
      "Successfully built cairocffi\n",
      "Installing collected packages: cairocffi, tinycss2, cssselect2, defusedxml, CairoSVG, html5lib, pdfrw, Pyphen, WeasyPrint\n",
      "Successfully installed CairoSVG-2.2.1 Pyphen-0.9.5 WeasyPrint-0.42.3 cairocffi-0.9.0 cssselect2-0.2.1 defusedxml-0.5.0 html5lib-1.0.1 pdfrw-0.4 tinycss2-0.6.1\n"
     ]
    }
   ],
   "source": [
    "!pip install WeasyPrint"
   ]
  },
  {
   "cell_type": "code",
   "execution_count": 4,
   "metadata": {},
   "outputs": [],
   "source": [
    "from weasyprint import HTML"
   ]
  },
  {
   "cell_type": "markdown",
   "metadata": {},
   "source": [
    "https://weasyprint.readthedocs.io/en/latest/tutorial.html#as-a-python-library"
   ]
  },
  {
   "cell_type": "code",
   "execution_count": 7,
   "metadata": {},
   "outputs": [],
   "source": [
    "my_html_page=HTML(string='''\n",
    "    <h1>The title</h1>\n",
    "    <p>Content goes here\n",
    "''')"
   ]
  },
  {
   "cell_type": "code",
   "execution_count": 9,
   "metadata": {},
   "outputs": [],
   "source": [
    "my_html_page.write_pdf('my_example.pdf')"
   ]
  },
  {
   "cell_type": "code",
   "execution_count": null,
   "metadata": {},
   "outputs": [],
   "source": []
  }
 ],
 "metadata": {
  "kernelspec": {
   "display_name": "Python 3",
   "language": "python",
   "name": "python3"
  },
  "language_info": {
   "codemirror_mode": {
    "name": "ipython",
    "version": 3
   },
   "file_extension": ".py",
   "mimetype": "text/x-python",
   "name": "python",
   "nbconvert_exporter": "python",
   "pygments_lexer": "ipython3",
   "version": "3.6.3"
  }
 },
 "nbformat": 4,
 "nbformat_minor": 2
}
