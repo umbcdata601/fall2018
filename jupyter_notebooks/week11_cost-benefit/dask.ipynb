{
 "cells": [
  {
   "cell_type": "markdown",
   "metadata": {},
   "source": [
    "https://stackoverflow.com/questions/45545110/how-do-you-parallelize-apply-on-pandas-dataframes-making-use-of-all-cores-on-o/45545111"
   ]
  },
  {
   "cell_type": "code",
   "execution_count": 1,
   "metadata": {},
   "outputs": [
    {
     "name": "stdout",
     "output_type": "stream",
     "text": [
      "Requirement already up-to-date: dask in /opt/conda/lib/python3.6/site-packages (0.20.0)\n",
      "Requirement already up-to-date: distributed in /opt/conda/lib/python3.6/site-packages (1.24.0)\n",
      "Requirement already satisfied, skipping upgrade: tblib in /opt/conda/lib/python3.6/site-packages (from distributed) (1.3.2)\n",
      "Requirement already satisfied, skipping upgrade: tornado>=4.5.1 in /opt/conda/lib/python3.6/site-packages (from distributed) (5.1.1)\n",
      "Requirement already satisfied, skipping upgrade: cloudpickle>=0.2.2 in /opt/conda/lib/python3.6/site-packages (from distributed) (0.5.6)\n",
      "Requirement already satisfied, skipping upgrade: click>=6.6 in /opt/conda/lib/python3.6/site-packages (from distributed) (7.0)\n",
      "Requirement already satisfied, skipping upgrade: msgpack in /opt/conda/lib/python3.6/site-packages (from distributed) (0.5.6)\n",
      "Requirement already satisfied, skipping upgrade: psutil in /opt/conda/lib/python3.6/site-packages (from distributed) (5.4.8)\n",
      "Requirement already satisfied, skipping upgrade: six in /opt/conda/lib/python3.6/site-packages (from distributed) (1.11.0)\n",
      "Requirement already satisfied, skipping upgrade: toolz>=0.7.4 in /opt/conda/lib/python3.6/site-packages (from distributed) (0.9.0)\n",
      "Requirement already satisfied, skipping upgrade: pyyaml in /opt/conda/lib/python3.6/site-packages (from distributed) (3.13)\n",
      "Requirement already satisfied, skipping upgrade: zict>=0.1.3 in /opt/conda/lib/python3.6/site-packages (from distributed) (0.1.3)\n",
      "Requirement already satisfied, skipping upgrade: sortedcontainers!=2.0.0,!=2.0.1 in /opt/conda/lib/python3.6/site-packages (from distributed) (2.0.5)\n",
      "Requirement already satisfied, skipping upgrade: heapdict in /opt/conda/lib/python3.6/site-packages (from zict>=0.1.3->distributed) (1.0.0)\n"
     ]
    }
   ],
   "source": [
    "!pip install dask distributed --upgrade"
   ]
  },
  {
   "cell_type": "code",
   "execution_count": 2,
   "metadata": {},
   "outputs": [
    {
     "data": {
      "text/html": [
       "<table style=\"border: 2px solid white;\">\n",
       "<tr>\n",
       "<td style=\"vertical-align: top; border: 0px solid white\">\n",
       "<h3>Client</h3>\n",
       "<ul>\n",
       "  <li><b>Scheduler: </b>tcp://127.0.0.1:38675\n",
       "  <li><b>Dashboard: </b><a href='http://127.0.0.1:8787/status' target='_blank'>http://127.0.0.1:8787/status</a>\n",
       "</ul>\n",
       "</td>\n",
       "<td style=\"vertical-align: top; border: 0px solid white\">\n",
       "<h3>Cluster</h3>\n",
       "<ul>\n",
       "  <li><b>Workers: </b>1</li>\n",
       "  <li><b>Cores: </b>4</li>\n",
       "  <li><b>Memory: </b>2.10 GB</li>\n",
       "</ul>\n",
       "</td>\n",
       "</tr>\n",
       "</table>"
      ],
      "text/plain": [
       "<Client: scheduler='tcp://127.0.0.1:38675' processes=1 cores=4>"
      ]
     },
     "execution_count": 2,
     "metadata": {},
     "output_type": "execute_result"
    }
   ],
   "source": [
    "from dask.distributed import Client, progress\n",
    "client = Client(threads_per_worker=4, n_workers=1)\n",
    "client"
   ]
  },
  {
   "cell_type": "code",
   "execution_count": 3,
   "metadata": {},
   "outputs": [
    {
     "name": "stdout",
     "output_type": "stream",
     "text": [
      "pandas 0.23.4\n",
      "numpy 1.13.3\n"
     ]
    }
   ],
   "source": [
    "import time\n",
    "import pickle\n",
    "import matplotlib.pyplot as plt\n",
    "import pandas\n",
    "print('pandas',pandas.__version__)\n",
    "import numpy\n",
    "print('numpy',numpy.__version__)\n",
    "import dask.dataframe as dd\n",
    "from dask.multiprocessing import get"
   ]
  },
  {
   "cell_type": "code",
   "execution_count": 4,
   "metadata": {},
   "outputs": [
    {
     "name": "stdout",
     "output_type": "stream",
     "text": [
      "(1000, 4)\n"
     ]
    },
    {
     "data": {
      "text/html": [
       "<div>\n",
       "<style scoped>\n",
       "    .dataframe tbody tr th:only-of-type {\n",
       "        vertical-align: middle;\n",
       "    }\n",
       "\n",
       "    .dataframe tbody tr th {\n",
       "        vertical-align: top;\n",
       "    }\n",
       "\n",
       "    .dataframe thead th {\n",
       "        text-align: right;\n",
       "    }\n",
       "</style>\n",
       "<table border=\"1\" class=\"dataframe\">\n",
       "  <thead>\n",
       "    <tr style=\"text-align: right;\">\n",
       "      <th></th>\n",
       "      <th>A</th>\n",
       "      <th>B</th>\n",
       "      <th>C</th>\n",
       "      <th>D</th>\n",
       "    </tr>\n",
       "  </thead>\n",
       "  <tbody>\n",
       "    <tr>\n",
       "      <th>0</th>\n",
       "      <td>317</td>\n",
       "      <td>115</td>\n",
       "      <td>734</td>\n",
       "      <td>654</td>\n",
       "    </tr>\n",
       "    <tr>\n",
       "      <th>1</th>\n",
       "      <td>61</td>\n",
       "      <td>760</td>\n",
       "      <td>228</td>\n",
       "      <td>565</td>\n",
       "    </tr>\n",
       "    <tr>\n",
       "      <th>2</th>\n",
       "      <td>326</td>\n",
       "      <td>553</td>\n",
       "      <td>638</td>\n",
       "      <td>129</td>\n",
       "    </tr>\n",
       "    <tr>\n",
       "      <th>3</th>\n",
       "      <td>879</td>\n",
       "      <td>523</td>\n",
       "      <td>425</td>\n",
       "      <td>953</td>\n",
       "    </tr>\n",
       "    <tr>\n",
       "      <th>4</th>\n",
       "      <td>342</td>\n",
       "      <td>421</td>\n",
       "      <td>346</td>\n",
       "      <td>743</td>\n",
       "    </tr>\n",
       "  </tbody>\n",
       "</table>\n",
       "</div>"
      ],
      "text/plain": [
       "     A    B    C    D\n",
       "0  317  115  734  654\n",
       "1   61  760  228  565\n",
       "2  326  553  638  129\n",
       "3  879  523  425  953\n",
       "4  342  421  346  743"
      ]
     },
     "execution_count": 4,
     "metadata": {},
     "output_type": "execute_result"
    }
   ],
   "source": [
    "df = pandas.DataFrame(\n",
    "    numpy.random.randint(0,1000,size=(1000, 4)), \n",
    "    columns=list('ABCD')\n",
    "    )\n",
    "print(df.shape)\n",
    "df.head()"
   ]
  },
  {
   "cell_type": "code",
   "execution_count": 5,
   "metadata": {},
   "outputs": [],
   "source": [
    "ddata = dd.from_pandas(df, npartitions=4)"
   ]
  },
  {
   "cell_type": "code",
   "execution_count": 6,
   "metadata": {},
   "outputs": [],
   "source": [
    "def double_col_a(row):\n",
    "    row_as_dict=dict(row)\n",
    "    return row_as_dict['A']*2"
   ]
  },
  {
   "cell_type": "code",
   "execution_count": 7,
   "metadata": {},
   "outputs": [
    {
     "name": "stdout",
     "output_type": "stream",
     "text": [
      "0.2194075584411621\n"
     ]
    }
   ],
   "source": [
    "# options for scheduler are 'single-threaded','threads','processes'\n",
    "start_time = time.time()\n",
    "res = ddata.map_partitions(lambda df: df.apply((lambda row: double_col_a(row)), axis=1)).compute(scheduler='threads')\n",
    "print(time.time() - start_time)"
   ]
  },
  {
   "cell_type": "code",
   "execution_count": 8,
   "metadata": {},
   "outputs": [],
   "source": [
    "with open('multiprocessing_data.pkl','rb') as f: \n",
    "    serial_reslts, pool_reslts, lambda_reslts = pickle.load(f)"
   ]
  },
  {
   "cell_type": "code",
   "execution_count": 9,
   "metadata": {},
   "outputs": [
    {
     "data": {
      "text/plain": [
       "{100: 0.018373274803161622,\n",
       " 1000: 0.1399479866027832,\n",
       " 10000: 1.534554696083069,\n",
       " 100000: 16.199815654754637}"
      ]
     },
     "execution_count": 9,
     "metadata": {},
     "output_type": "execute_result"
    }
   ],
   "source": [
    "serial_reslts"
   ]
  },
  {
   "cell_type": "code",
   "execution_count": 10,
   "metadata": {},
   "outputs": [
    {
     "data": {
      "text/plain": [
       "{100: 0.14044344425201416,\n",
       " 1000: 0.26446497440338135,\n",
       " 10000: 1.0891453266143798,\n",
       " 100000: 10.257472801208497}"
      ]
     },
     "execution_count": 10,
     "metadata": {},
     "output_type": "execute_result"
    }
   ],
   "source": [
    "pool_reslts"
   ]
  },
  {
   "cell_type": "code",
   "execution_count": 11,
   "metadata": {},
   "outputs": [],
   "source": [
    "number_of_tests=10\n",
    "list_of_row_size=list(pool_reslts.keys())"
   ]
  },
  {
   "cell_type": "code",
   "execution_count": 12,
   "metadata": {},
   "outputs": [
    {
     "name": "stdout",
     "output_type": "stream",
     "text": [
      "elapsed time: 0.399857759475708 for 100\n",
      "elapsed time: 2.2271969318389893 for 1000\n",
      "elapsed time: 18.34245991706848 for 10000\n",
      "elapsed time: 193.27287936210632 for 100000\n"
     ]
    }
   ],
   "source": [
    "dask_threads_reslts={}\n",
    "scaling_start=time.time()\n",
    "for row_count in list_of_row_size:\n",
    "    test_reslts=[]\n",
    "    for test_indx in range(number_of_tests):\n",
    "        df = pandas.DataFrame(numpy.random.randint(0,1000,size=(row_count, 4)), columns=list('ABCD'))\n",
    "        start_time = time.time()\n",
    "        ddata = dd.from_pandas(df, npartitions=4)\n",
    "        res = ddata.map_partitions(lambda df: df.apply((lambda row: double_col_a(row)), axis=1)).compute(scheduler='threads')\n",
    "        test_reslts.append(time.time() - start_time)\n",
    "    dask_threads_reslts[row_count]=sum(test_reslts)/number_of_tests\n",
    "    print('elapsed time:',time.time() - scaling_start,'for',row_count)"
   ]
  },
  {
   "cell_type": "code",
   "execution_count": 13,
   "metadata": {},
   "outputs": [
    {
     "name": "stdout",
     "output_type": "stream",
     "text": [
      "elapsed time: 1.5330240726470947 for 100\n",
      "elapsed time: 3.8963277339935303 for 1000\n",
      "elapsed time: 13.83120608329773 for 10000\n",
      "elapsed time: 114.06059956550598 for 100000\n"
     ]
    }
   ],
   "source": [
    "dask_processes_reslts={}\n",
    "scaling_start=time.time()\n",
    "for row_count in list_of_row_size:\n",
    "    test_reslts=[]\n",
    "    for test_indx in range(number_of_tests):\n",
    "        df = pandas.DataFrame(numpy.random.randint(0,1000,size=(row_count, 4)), columns=list('ABCD'))\n",
    "        start_time = time.time()\n",
    "        ddata = dd.from_pandas(df, npartitions=4)\n",
    "        res = ddata.map_partitions(lambda df: df.apply((lambda row: double_col_a(row)), axis=1)).compute(scheduler='processes')\n",
    "        test_reslts.append(time.time() - start_time)\n",
    "    dask_processes_reslts[row_count]=sum(test_reslts)/number_of_tests\n",
    "    print('elapsed time:',time.time() - scaling_start,'for',row_count)"
   ]
  },
  {
   "cell_type": "code",
   "execution_count": 23,
   "metadata": {},
   "outputs": [
    {
     "data": {
      "image/png": "[encoded data removed]",
      "text/plain": [
       "<Figure size 432x288 with 1 Axes>"
      ]
     },
     "metadata": {
      "needs_background": "light"
     },
     "output_type": "display_data"
    }
   ],
   "source": [
    "serial_x = list(serial_reslts.keys()) # list_of_row_size\n",
    "serial_y = list(serial_reslts.values())\n",
    "\n",
    "pool_x = list(pool_reslts.keys()) # list_of_row_size\n",
    "pool_y = list(pool_reslts.values())\n",
    "\n",
    "lambda_x = list(lambda_reslts.keys()) # list_of_row_size\n",
    "lambda_y = list(lambda_reslts.values())\n",
    "\n",
    "dask_processes_x = list(dask_processes_reslts.keys()) # list_of_row_size\n",
    "dask_processes_y = list(dask_processes_reslts.values())\n",
    "\n",
    "dask_threads_x = list(dask_threads_reslts.keys()) # list_of_row_size\n",
    "dask_threads_y = list(dask_threads_reslts.values())\n",
    "\n",
    "\n",
    "_=plt.scatter(dask_threads_x,dask_threads_y,color='pink',label='dask thread')\n",
    "_=plt.scatter(serial_x,serial_y,color='blue',label='serial')\n",
    "_=plt.scatter(pool_x,pool_y,color='red',label='pool')\n",
    "_=plt.scatter(dask_processes_x,dask_processes_y,color='green',label='dask proc')\n",
    "_=plt.scatter(lambda_x,lambda_y,color='black',label='lambda')\n",
    "_=plt.ylabel('average time in seconds',fontsize=14)\n",
    "_=plt.xlabel('number of rows in dataframe',fontsize=14)\n",
    "_=plt.plot(numpy.unique(serial_x), numpy.poly1d(numpy.polyfit(serial_x, serial_y, 1))(numpy.unique(serial_x)),color='blue') # https://stackoverflow.com/questions/22239691/code-for-line-of-best-fit-of-a-scatter-plot-in-python\n",
    "_=plt.plot(numpy.unique(pool_x), numpy.poly1d(numpy.polyfit(pool_x, pool_y, 1))(numpy.unique(pool_x)),color='red') # https://stackoverflow.com/questions/22239691/code-for-line-of-best-fit-of-a-scatter-plot-in-python\n",
    "_=plt.plot(numpy.unique(lambda_x), numpy.poly1d(numpy.polyfit(lambda_x, lambda_y, 1))(numpy.unique(lambda_x)),color='black') # https://stackoverflow.com/questions/22239691/code-for-line-of-best-fit-of-a-scatter-plot-in-python\n",
    "_=plt.plot(numpy.unique(dask_processes_x), numpy.poly1d(numpy.polyfit(dask_processes_x, dask_processes_y, 1))(numpy.unique(dask_processes_x)),color='green') # https://stackoverflow.com/questions/22239691/code-for-line-of-best-fit-of-a-scatter-plot-in-python\n",
    "_=plt.plot(numpy.unique(dask_threads_x), numpy.poly1d(numpy.polyfit(dask_threads_x, dask_threads_y, 1))(numpy.unique(dask_threads_x)),color='pink') # https://stackoverflow.com/questions/22239691/code-for-line-of-best-fit-of-a-scatter-plot-in-python\n",
    "\n",
    "ax = plt.gca()\n",
    "_=ax.legend()\n",
    "#ax.grid(True)"
   ]
  },
  {
   "cell_type": "markdown",
   "metadata": {},
   "source": [
    "Dask vs multiprocessing:\n",
    "https://github.com/dask/dask/issues/1783"
   ]
  },
  {
   "cell_type": "markdown",
   "metadata": {},
   "source": [
    "There are additional libraries built on top of Dask,<BR>\n",
    "\n",
    "https://github.com/jmcarpenter2/swifter\n",
    "https://github.com/jmcarpenter2/swifter/blob/master/examples/swifter_apply_examples.ipynb\n",
    "https://github.com/jmcarpenter2/swifter/blob/master/examples/swiftapply_speedcomparison.ipynb"
   ]
  },
  {
   "cell_type": "code",
   "execution_count": null,
   "metadata": {},
   "outputs": [],
   "source": []
  }
 ],
 "metadata": {
  "kernelspec": {
   "display_name": "Python 3",
   "language": "python",
   "name": "python3"
  },
  "language_info": {
   "codemirror_mode": {
    "name": "ipython",
    "version": 3
   },
   "file_extension": ".py",
   "mimetype": "text/x-python",
   "name": "python",
   "nbconvert_exporter": "python",
   "pygments_lexer": "ipython3",
   "version": "3.6.6"
  }
 },
 "nbformat": 4,
 "nbformat_minor": 2
}
