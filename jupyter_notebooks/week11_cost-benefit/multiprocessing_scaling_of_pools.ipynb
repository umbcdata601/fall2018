{
 "cells": [
  {
   "cell_type": "code",
   "execution_count": 1,
   "metadata": {},
   "outputs": [
    {
     "name": "stdout",
     "output_type": "stream",
     "text": [
      "77e21131c1f8\r\n"
     ]
    }
   ],
   "source": [
    "!hostname"
   ]
  },
  {
   "cell_type": "code",
   "execution_count": 2,
   "metadata": {},
   "outputs": [],
   "source": [
    "import pandas\n",
    "import numpy\n",
    "import pickle\n",
    "import matplotlib.pyplot as plt\n",
    "import time"
   ]
  },
  {
   "cell_type": "markdown",
   "metadata": {},
   "source": [
    "https://docs.python.org/3.4/library/multiprocessing.html\n",
    "\n",
    "The Process class sends each task to a different processor.<BR>\n",
    "Process is most useful for a small number of processes where each process would take a longer time to execute.\n",
    "\n",
    "The Pool class sends sets of tasks to different processors. <BR>\n",
    "Pool is most useful for large amounts of processes where each process can execute quickly\n",
    "\n",
    "source: https://medium.com/@urban_institute/using-multiprocessing-to-make-python-code-faster-23ea5ef996ba \n"
   ]
  },
  {
   "cell_type": "code",
   "execution_count": 3,
   "metadata": {},
   "outputs": [],
   "source": [
    "import multiprocessing\n",
    "from multiprocessing import Process \n",
    "import os"
   ]
  },
  {
   "cell_type": "markdown",
   "metadata": {},
   "source": [
    "https://stackoverflow.com/questions/47989418/multiprocessing-python-program-inside-docker\n",
    "\n",
    "https://docs.docker.com/config/containers/resource_constraints/#configure-the-default-cfs-scheduler"
   ]
  },
  {
   "cell_type": "code",
   "execution_count": 4,
   "metadata": {},
   "outputs": [],
   "source": [
    "def proc_info(title):\n",
    "    print(title)\n",
    "    print('\\nmodule name:', __name__)\n",
    "    print('parent process:', os.getppid())\n",
    "    print('process id:', os.getpid())\n",
    "\n",
    "def myfunc(name):\n",
    "    print('I am in myfunc')\n",
    "    proc_info('function myfunc')\n",
    "    print('end of myfunc', name)"
   ]
  },
  {
   "cell_type": "code",
   "execution_count": 5,
   "metadata": {},
   "outputs": [
    {
     "name": "stdout",
     "output_type": "stream",
     "text": [
      "main line\n",
      "\n",
      "module name: __main__\n",
      "parent process: 7\n",
      "process id: 5524\n",
      "I am in myfunc\n",
      "function myfunc\n",
      "\n",
      "module name: __main__\n",
      "parent process: 5524\n",
      "process id: 5542\n",
      "end of myfunc bob\n"
     ]
    }
   ],
   "source": [
    "if __name__ == '__main__':\n",
    "    proc_info('main line') # display info about this process\n",
    "    p = Process(target=myfunc, args=('bob',))\n",
    "    p.start()\n",
    "    p.join()"
   ]
  },
  {
   "cell_type": "markdown",
   "metadata": {},
   "source": [
    "https://docs.python.org/3.4/library/multiprocessing.html#using-a-pool-of-workers"
   ]
  },
  {
   "cell_type": "code",
   "execution_count": 6,
   "metadata": {},
   "outputs": [],
   "source": [
    "from multiprocessing import Pool"
   ]
  },
  {
   "cell_type": "code",
   "execution_count": 7,
   "metadata": {},
   "outputs": [
    {
     "name": "stdout",
     "output_type": "stream",
     "text": [
      "[1, 4, 9]\n"
     ]
    }
   ],
   "source": [
    "def sq_fun(x):\n",
    "    return x*x\n",
    "\n",
    "if __name__ == '__main__':\n",
    "    with Pool(5) as p:\n",
    "        print(p.map(sq_fun, [1, 2, 3]))"
   ]
  },
  {
   "cell_type": "markdown",
   "metadata": {},
   "source": [
    "To see what this might be useful for, let's first create random dataframe\n",
    "\n",
    "https://stackoverflow.com/questions/32752292/how-to-create-a-data-frame-of-random-integers-with-pandas"
   ]
  },
  {
   "cell_type": "code",
   "execution_count": 8,
   "metadata": {},
   "outputs": [
    {
     "name": "stdout",
     "output_type": "stream",
     "text": [
      "(100000, 4)\n"
     ]
    },
    {
     "data": {
      "text/html": [
       "<div>\n",
       "<style scoped>\n",
       "    .dataframe tbody tr th:only-of-type {\n",
       "        vertical-align: middle;\n",
       "    }\n",
       "\n",
       "    .dataframe tbody tr th {\n",
       "        vertical-align: top;\n",
       "    }\n",
       "\n",
       "    .dataframe thead th {\n",
       "        text-align: right;\n",
       "    }\n",
       "</style>\n",
       "<table border=\"1\" class=\"dataframe\">\n",
       "  <thead>\n",
       "    <tr style=\"text-align: right;\">\n",
       "      <th></th>\n",
       "      <th>A</th>\n",
       "      <th>B</th>\n",
       "      <th>C</th>\n",
       "      <th>D</th>\n",
       "    </tr>\n",
       "  </thead>\n",
       "  <tbody>\n",
       "    <tr>\n",
       "      <th>0</th>\n",
       "      <td>391</td>\n",
       "      <td>459</td>\n",
       "      <td>623</td>\n",
       "      <td>995</td>\n",
       "    </tr>\n",
       "    <tr>\n",
       "      <th>1</th>\n",
       "      <td>494</td>\n",
       "      <td>69</td>\n",
       "      <td>986</td>\n",
       "      <td>809</td>\n",
       "    </tr>\n",
       "    <tr>\n",
       "      <th>2</th>\n",
       "      <td>186</td>\n",
       "      <td>750</td>\n",
       "      <td>606</td>\n",
       "      <td>638</td>\n",
       "    </tr>\n",
       "    <tr>\n",
       "      <th>3</th>\n",
       "      <td>918</td>\n",
       "      <td>678</td>\n",
       "      <td>585</td>\n",
       "      <td>982</td>\n",
       "    </tr>\n",
       "    <tr>\n",
       "      <th>4</th>\n",
       "      <td>861</td>\n",
       "      <td>101</td>\n",
       "      <td>714</td>\n",
       "      <td>664</td>\n",
       "    </tr>\n",
       "  </tbody>\n",
       "</table>\n",
       "</div>"
      ],
      "text/plain": [
       "     A    B    C    D\n",
       "0  391  459  623  995\n",
       "1  494   69  986  809\n",
       "2  186  750  606  638\n",
       "3  918  678  585  982\n",
       "4  861  101  714  664"
      ]
     },
     "execution_count": 8,
     "metadata": {},
     "output_type": "execute_result"
    }
   ],
   "source": [
    "df = pandas.DataFrame(\n",
    "    numpy.random.randint(0,1000,size=(100000, 4)), \n",
    "    columns=list('ABCD')\n",
    "    )\n",
    "print(df.shape)\n",
    "df.head()"
   ]
  },
  {
   "cell_type": "markdown",
   "metadata": {},
   "source": [
    "Task: Create a new column ('K') that is double the value of entries in column 'A'\n",
    "\n",
    "First we'll implement the per-row operation:"
   ]
  },
  {
   "cell_type": "code",
   "execution_count": 9,
   "metadata": {},
   "outputs": [],
   "source": [
    "def double_col_a(row):\n",
    "    row_as_dict=dict(row)\n",
    "    return row_as_dict['A']*2"
   ]
  },
  {
   "cell_type": "code",
   "execution_count": 10,
   "metadata": {},
   "outputs": [
    {
     "name": "stdout",
     "output_type": "stream",
     "text": [
      "13.976135969161987 seconds\n"
     ]
    }
   ],
   "source": [
    "start_time = time.time()\n",
    "df['K']=df.apply(double_col_a,axis=1)\n",
    "print(time.time() - start_time,'seconds')"
   ]
  },
  {
   "cell_type": "markdown",
   "metadata": {},
   "source": [
    "Loop over increasing number of rows to inspect scaling"
   ]
  },
  {
   "cell_type": "code",
   "execution_count": 11,
   "metadata": {},
   "outputs": [],
   "source": [
    "number_of_tests=10\n",
    "# serial:          .2    2     15    165     340      1 hour\n",
    "# concurrent:    \n",
    "#list_of_row_size=[100, 1000, 10000]\n",
    "list_of_row_size=[100, 1000, 10000, 100000, 100000]\n",
    "#list_of_row_size=[100, 1000, 10000, 100000, 100000, 1000000, 10000000]#, 100000000, 1000000000]: # out of memory?"
   ]
  },
  {
   "cell_type": "code",
   "execution_count": 12,
   "metadata": {},
   "outputs": [
    {
     "name": "stdout",
     "output_type": "stream",
     "text": [
      "elapsed time: 0.19127106666564941 for 100\n",
      "elapsed time: 1.5991878509521484 for 1000\n",
      "elapsed time: 16.955924034118652 for 10000\n",
      "elapsed time: 202.63489937782288 for 100000\n",
      "elapsed time: 364.6791341304779 for 100000\n"
     ]
    }
   ],
   "source": [
    "serial_reslts={}\n",
    "scaling_start=time.time()\n",
    "for row_count in list_of_row_size:\n",
    "    test_reslts=[]\n",
    "    for test_indx in range(number_of_tests):\n",
    "        df = pandas.DataFrame(numpy.random.randint(0,1000,size=(row_count, 4)), columns=list('ABCD'))\n",
    "        start_time = time.time()\n",
    "        df['K'] = df.apply(double_col_a,axis=1)\n",
    "        test_reslts.append(time.time() - start_time)\n",
    "    serial_reslts[row_count]=sum(test_reslts)/number_of_tests\n",
    "    print('elapsed time:',time.time() - scaling_start,'for',row_count)"
   ]
  },
  {
   "cell_type": "markdown",
   "metadata": {},
   "source": [
    "Because the dataframe is large, it takes a while to perform the operations sequentially to each row"
   ]
  },
  {
   "cell_type": "code",
   "execution_count": 13,
   "metadata": {},
   "outputs": [
    {
     "data": {
      "text/plain": [
       "{100: 0.018373274803161622,\n",
       " 1000: 0.1399479866027832,\n",
       " 10000: 1.534554696083069,\n",
       " 100000: 16.199815654754637}"
      ]
     },
     "execution_count": 13,
     "metadata": {},
     "output_type": "execute_result"
    }
   ],
   "source": [
    "serial_reslts"
   ]
  },
  {
   "cell_type": "markdown",
   "metadata": {},
   "source": [
    "As expected, computation time scales linearly with number of rows"
   ]
  },
  {
   "cell_type": "code",
   "execution_count": 14,
   "metadata": {},
   "outputs": [
    {
     "data": {
      "image/png": "[encoded data removed]",
      "text/plain": [
       "<Figure size 432x288 with 1 Axes>"
      ]
     },
     "metadata": {
      "needs_background": "light"
     },
     "output_type": "display_data"
    }
   ],
   "source": [
    "serial_x = list(serial_reslts.keys()) # list_of_row_size\n",
    "serial_y = list(serial_reslts.values())\n",
    "_=plt.scatter(serial_x,serial_y,color='blue')\n",
    "#ax = plt.gca()\n",
    "#ax.set_xscale('log')\n",
    "_=plt.ylabel('average time in seconds',fontsize=14)\n",
    "_=plt.xlabel('number of rows in dataframe',fontsize=14)"
   ]
  },
  {
   "cell_type": "markdown",
   "metadata": {},
   "source": [
    "With a linear fit:"
   ]
  },
  {
   "cell_type": "code",
   "execution_count": 15,
   "metadata": {},
   "outputs": [
    {
     "data": {
      "image/png": "[encoded data removed]",
      "text/plain": [
       "<Figure size 432x288 with 1 Axes>"
      ]
     },
     "metadata": {
      "needs_background": "light"
     },
     "output_type": "display_data"
    }
   ],
   "source": [
    "_=plt.scatter(serial_x,serial_y,color='blue')\n",
    "_=plt.ylabel('average time in seconds',fontsize=14)\n",
    "_=plt.xlabel('number of rows in dataframe',fontsize=14)\n",
    "_=plt.plot(numpy.unique(serial_x), numpy.poly1d(numpy.polyfit(serial_x, serial_y, 1))(numpy.unique(serial_x))) # https://stackoverflow.com/questions/22239691/code-for-line-of-best-fit-of-a-scatter-plot-in-python"
   ]
  },
  {
   "cell_type": "markdown",
   "metadata": {},
   "source": [
    "Alternatively, we can spread the computation across the multiple cores"
   ]
  },
  {
   "cell_type": "markdown",
   "metadata": {},
   "source": [
    "source: http://www.racketracer.com/2016/07/06/pandas-in-parallel/"
   ]
  },
  {
   "cell_type": "code",
   "execution_count": 16,
   "metadata": {},
   "outputs": [
    {
     "name": "stdout",
     "output_type": "stream",
     "text": [
      "2\n"
     ]
    }
   ],
   "source": [
    "num_cores = multiprocessing.cpu_count() #number of cores on your machine\n",
    "print(num_cores)\n",
    "num_partitions = num_cores #number of partitions to split dataframe"
   ]
  },
  {
   "cell_type": "code",
   "execution_count": 17,
   "metadata": {},
   "outputs": [],
   "source": [
    "def multiply_columns(data):\n",
    "    data['K']=data.apply(double_col_a,axis=1)\n",
    "    return data"
   ]
  },
  {
   "cell_type": "markdown",
   "metadata": {},
   "source": [
    "http://blog.adeel.io/2016/11/06/parallelize-pandas-map-or-apply/"
   ]
  },
  {
   "cell_type": "code",
   "execution_count": 18,
   "metadata": {},
   "outputs": [],
   "source": [
    "def parallelize_dataframe(df, func,num_cores,num_partitions):\n",
    "    df_split = numpy.array_split(df, num_partitions)\n",
    "    pool = Pool(num_cores)\n",
    "    df = pandas.concat(pool.map(func, df_split))\n",
    "    pool.close()\n",
    "    pool.join()\n",
    "    return df"
   ]
  },
  {
   "cell_type": "code",
   "execution_count": 19,
   "metadata": {},
   "outputs": [
    {
     "data": {
      "text/plain": [
       "(100000, 5)"
      ]
     },
     "execution_count": 19,
     "metadata": {},
     "output_type": "execute_result"
    }
   ],
   "source": [
    "df.shape"
   ]
  },
  {
   "cell_type": "code",
   "execution_count": 20,
   "metadata": {},
   "outputs": [
    {
     "name": "stdout",
     "output_type": "stream",
     "text": [
      "11.357390642166138 seconds\n"
     ]
    }
   ],
   "source": [
    "start_time = time.time()\n",
    "df = parallelize_dataframe(df, multiply_columns,num_cores,num_partitions)\n",
    "print(time.time() - start_time,'seconds')"
   ]
  },
  {
   "cell_type": "raw",
   "metadata": {},
   "source": [
    "# https://www.reddit.com/r/Python/comments/5tfm64/multiprocessing_parallel_sum_slower_than_serial/\n",
    "def worker_init(memory):\n",
    "    global array\n",
    "    array = memory"
   ]
  },
  {
   "cell_type": "raw",
   "metadata": {},
   "source": [
    "def parallelize_dataframe(df,func):\n",
    "    with Pool(processes=num_cores, initializer=worker_init, initargs=(df,)) as pool:\n",
    "        result = pool.map(multiply_columns, df)\n",
    "        print(sum(result))"
   ]
  },
  {
   "cell_type": "markdown",
   "metadata": {},
   "source": [
    "Let's compare scaling"
   ]
  },
  {
   "cell_type": "code",
   "execution_count": 21,
   "metadata": {},
   "outputs": [
    {
     "name": "stdout",
     "output_type": "stream",
     "text": [
      "elapsed time: 1.4227330684661865 for 100\n",
      "elapsed time: 4.07961893081665 for 1000\n",
      "elapsed time: 14.988365888595581 for 10000\n",
      "elapsed time: 122.52316975593567 for 100000\n",
      "elapsed time: 225.19704246520996 for 100000\n"
     ]
    }
   ],
   "source": [
    "pool_reslts={}\n",
    "scaling_start=time.time()\n",
    "for row_count in list_of_row_size:\n",
    "    test_reslts=[]\n",
    "    for test_indx in range(number_of_tests):\n",
    "        df = pandas.DataFrame(numpy.random.randint(0,1000,size=(row_count, 4)), columns=list('ABCD'))\n",
    "        start_time = time.time()\n",
    "        df = parallelize_dataframe(df, multiply_columns,num_cores,num_partitions)\n",
    "        test_reslts.append(time.time() - start_time)\n",
    "    pool_reslts[row_count]=sum(test_reslts)/number_of_tests\n",
    "    print('elapsed time:',time.time() - scaling_start,'for',row_count)"
   ]
  },
  {
   "cell_type": "code",
   "execution_count": 22,
   "metadata": {},
   "outputs": [
    {
     "data": {
      "image/png": "[encoded data removed]",
      "text/plain": [
       "<Figure size 432x288 with 1 Axes>"
      ]
     },
     "metadata": {
      "needs_background": "light"
     },
     "output_type": "display_data"
    }
   ],
   "source": [
    "pool_x = list(pool_reslts.keys()) # list_of_row_size\n",
    "pool_y = list(pool_reslts.values())\n",
    "_=plt.scatter(pool_x,pool_y,color='red')\n",
    "#ax = plt.gca()\n",
    "#ax.set_xscale('log')\n",
    "_=plt.ylabel('average time in seconds',fontsize=14)\n",
    "_=plt.xlabel('number of rows in dataframe',fontsize=14)\n",
    "_=plt.plot(numpy.unique(pool_x), numpy.poly1d(numpy.polyfit(pool_x, pool_y, 1))(numpy.unique(pool_x)),color='red') # https://stackoverflow.com/questions/22239691/code-for-line-of-best-fit-of-a-scatter-plot-in-python"
   ]
  },
  {
   "cell_type": "code",
   "execution_count": 23,
   "metadata": {},
   "outputs": [
    {
     "data": {
      "image/png": "[encoded data removed]",
      "text/plain": [
       "<Figure size 432x288 with 1 Axes>"
      ]
     },
     "metadata": {
      "needs_background": "light"
     },
     "output_type": "display_data"
    }
   ],
   "source": [
    "_=plt.scatter(serial_x,serial_y,color='blue')\n",
    "_=plt.scatter(pool_x,pool_y,color='red')\n",
    "_=plt.ylabel('average time in seconds',fontsize=14)\n",
    "_=plt.xlabel('number of rows in dataframe',fontsize=14)\n",
    "_=plt.plot(numpy.unique(serial_x), numpy.poly1d(numpy.polyfit(serial_x, serial_y, 1))(numpy.unique(serial_x))) # https://stackoverflow.com/questions/22239691/code-for-line-of-best-fit-of-a-scatter-plot-in-python\n",
    "_=plt.plot(numpy.unique(pool_x), numpy.poly1d(numpy.polyfit(pool_x, pool_y, 1))(numpy.unique(pool_x))) # https://stackoverflow.com/questions/22239691/code-for-line-of-best-fit-of-a-scatter-plot-in-python"
   ]
  },
  {
   "cell_type": "markdown",
   "metadata": {},
   "source": [
    "Looks like a win.\n",
    "\n",
    "Let's zoom in on the initial (small) arrays:"
   ]
  },
  {
   "cell_type": "code",
   "execution_count": 24,
   "metadata": {},
   "outputs": [
    {
     "data": {
      "image/png": "[encoded data removed]",
      "text/plain": [
       "<Figure size 432x288 with 1 Axes>"
      ]
     },
     "metadata": {
      "needs_background": "light"
     },
     "output_type": "display_data"
    }
   ],
   "source": [
    "_=plt.scatter(serial_x,serial_y,color='blue')\n",
    "_=plt.scatter(pool_x,pool_y,color='red')\n",
    "_=plt.ylabel('average time in seconds',fontsize=14)\n",
    "_=plt.xlabel('number of rows in dataframe',fontsize=14)\n",
    "_=plt.xlim(0,10500) \n",
    "_=plt.ylim(0,3)\n",
    "#_=plt.plot(numpy.unique(serial_x), numpy.poly1d(numpy.polyfit(serial_x, serial_y, 1))(numpy.unique(serial_x))) # https://stackoverflow.com/questions/22239691/code-for-line-of-best-fit-of-a-scatter-plot-in-python\n",
    "_=plt.plot(numpy.unique(pool_x), numpy.poly1d(numpy.polyfit(pool_x, pool_y, 1))(numpy.unique(pool_x)),color='red') # https://stackoverflow.com/questions/22239691/code-for-line-of-best-fit-of-a-scatter-plot-in-python"
   ]
  },
  {
   "cell_type": "markdown",
   "metadata": {},
   "source": [
    "There an initialization cost (where serial is faster than concurrent), but with a sufficient number of rows the cost is amortized.\n",
    "\n",
    "<BR>\n",
    "<BR>\n"
   ]
  },
  {
   "cell_type": "markdown",
   "metadata": {},
   "source": [
    "There are alternatives that avoid creating new processes.\n",
    "\n",
    "We could use a lambda function \n",
    "https://www.w3schools.com/python/python_lambda.asp\n",
    "to perform element-wise doubling much more efficiently.\n",
    "\n",
    "\"lambda\" indicates an anonymous function -- a function without a name.<BR>\n",
    "Normal functions are defined using the def keyword.\n",
    "    \n",
    "Usually I avoid lambda functions; here's reasoning: https://treyhunner.com/2018/09/stop-writing-lambda-expressions/"
   ]
  },
  {
   "cell_type": "code",
   "execution_count": 25,
   "metadata": {},
   "outputs": [
    {
     "name": "stdout",
     "output_type": "stream",
     "text": [
      "0.10187172889709473\n"
     ]
    }
   ],
   "source": [
    "start_time = time.time()\n",
    "df['K'] = df['A'].apply(lambda x: x*2)\n",
    "print(time.time() - start_time)"
   ]
  },
  {
   "cell_type": "markdown",
   "metadata": {},
   "source": [
    "Which is much faster than the per-row approach:"
   ]
  },
  {
   "cell_type": "code",
   "execution_count": 26,
   "metadata": {},
   "outputs": [
    {
     "name": "stdout",
     "output_type": "stream",
     "text": [
      "18.429989337921143 seconds\n"
     ]
    }
   ],
   "source": [
    "start_time = time.time()\n",
    "df['K']=df.apply(double_col_a,axis=1)\n",
    "print(time.time() - start_time,'seconds')"
   ]
  },
  {
   "cell_type": "code",
   "execution_count": 27,
   "metadata": {},
   "outputs": [
    {
     "name": "stdout",
     "output_type": "stream",
     "text": [
      "elapsed time: 0.059058189392089844 for 100\n",
      "elapsed time: 0.0913846492767334 for 1000\n",
      "elapsed time: 0.1850292682647705 for 10000\n",
      "elapsed time: 0.8981673717498779 for 100000\n",
      "elapsed time: 1.594214677810669 for 100000\n"
     ]
    }
   ],
   "source": [
    "lambda_reslts={}\n",
    "scaling_start=time.time()\n",
    "for row_count in list_of_row_size:\n",
    "    test_reslts=[]\n",
    "    for test_indx in range(number_of_tests):\n",
    "        df = pandas.DataFrame(numpy.random.randint(0,1000,size=(row_count, 4)), columns=list('ABCD'))\n",
    "        start_time = time.time()\n",
    "        df['K'] = df['A'].apply(lambda x: x*2)\n",
    "        #df['K'] = df.apply(double_col_a,axis=1)\n",
    "        test_reslts.append(time.time() - start_time)\n",
    "    lambda_reslts[row_count]=sum(test_reslts)/number_of_tests\n",
    "    print('elapsed time:',time.time() - scaling_start,'for',row_count)"
   ]
  },
  {
   "cell_type": "code",
   "execution_count": 28,
   "metadata": {},
   "outputs": [
    {
     "data": {
      "image/png": "[encoded data removed]",
      "text/plain": [
       "<Figure size 432x288 with 1 Axes>"
      ]
     },
     "metadata": {
      "needs_background": "light"
     },
     "output_type": "display_data"
    }
   ],
   "source": [
    "lambda_x = list(lambda_reslts.keys()) # list_of_row_size\n",
    "lambda_y = list(lambda_reslts.values())\n",
    "\n",
    "_=plt.scatter(serial_x,serial_y,color='blue')\n",
    "_=plt.scatter(pool_x,pool_y,color='red')\n",
    "_=plt.scatter(lambda_x,lambda_y,color='black')\n",
    "_=plt.ylabel('average time in seconds',fontsize=14)\n",
    "_=plt.xlabel('number of rows in dataframe',fontsize=14)\n",
    "_=plt.plot(numpy.unique(serial_x), numpy.poly1d(numpy.polyfit(serial_x, serial_y, 1))(numpy.unique(serial_x)),color='blue') # https://stackoverflow.com/questions/22239691/code-for-line-of-best-fit-of-a-scatter-plot-in-python\n",
    "_=plt.plot(numpy.unique(pool_x), numpy.poly1d(numpy.polyfit(pool_x, pool_y, 1))(numpy.unique(pool_x)),color='red') # https://stackoverflow.com/questions/22239691/code-for-line-of-best-fit-of-a-scatter-plot-in-python\n",
    "_=plt.plot(numpy.unique(lambda_x), numpy.poly1d(numpy.polyfit(lambda_x, lambda_y, 1))(numpy.unique(lambda_x)),color='black') # https://stackoverflow.com/questions/22239691/code-for-line-of-best-fit-of-a-scatter-plot-in-python"
   ]
  },
  {
   "cell_type": "markdown",
   "metadata": {},
   "source": [
    "Confusingly, doubling the compute power takes the same task twice as long. Not what I was expecting. Issue: Syncronization overhead. Data is copied to other processes on other cores. Multiplying numbers is faster than creating a new process.\n",
    "\n",
    "- processes are spawned when needed. Before you perform performance timings, you should \"warm up\" the Pool with a line like <BR>\n",
    "`pool.map(f, range(mul.cpu_count()))`\n",
    "(starting a process is a slowish operation specially on Windows)\n",
    "This reduces timings by a factor of two.\n",
    "\n",
    "- the dispatch overhead of multiprocessing is certainly greater than a\n",
    "single multiplication. multiprocessing is for CPU-bound functions!\n",
    "And do not forget that you have *tree* processes here: two from the\n",
    "Pool, and your main program.\n",
    "\n",
    "Source: https://bugs.python.org/issue5000"
   ]
  },
  {
   "cell_type": "code",
   "execution_count": 29,
   "metadata": {},
   "outputs": [],
   "source": [
    "# Saving the objects:\n",
    "with open('multiprocessing_data.pkl', 'wb') as f:\n",
    "    pickle.dump([serial_reslts, pool_reslts, lambda_reslts], f)\n",
    "\n",
    "# Getting back the objects:\n",
    "#with open('objs.pkl','rb') as f: \n",
    "#    obj0, obj1, obj2 = pickle.load(f)"
   ]
  },
  {
   "cell_type": "code",
   "execution_count": 30,
   "metadata": {},
   "outputs": [
    {
     "name": "stdout",
     "output_type": "stream",
     "text": [
      "multiprocessing_data.pkl\r\n"
     ]
    }
   ],
   "source": [
    "!ls *.pkl"
   ]
  }
 ],
 "metadata": {
  "kernelspec": {
   "display_name": "Python 3",
   "language": "python",
   "name": "python3"
  },
  "language_info": {
   "codemirror_mode": {
    "name": "ipython",
    "version": 3
   },
   "file_extension": ".py",
   "mimetype": "text/x-python",
   "name": "python",
   "nbconvert_exporter": "python",
   "pygments_lexer": "ipython3",
   "version": "3.6.6"
  }
 },
 "nbformat": 4,
 "nbformat_minor": 2
}
