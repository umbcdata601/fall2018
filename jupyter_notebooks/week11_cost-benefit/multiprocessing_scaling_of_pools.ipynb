{
 "cells": [
  {
   "cell_type": "code",
   "execution_count": 23,
   "metadata": {},
   "outputs": [],
   "source": [
    "import pandas\n",
    "import numpy\n",
    "import matplotlib.pyplot as plt\n",
    "import time"
   ]
  },
  {
   "cell_type": "markdown",
   "metadata": {},
   "source": [
    "https://docs.python.org/3.4/library/multiprocessing.html"
   ]
  },
  {
   "cell_type": "markdown",
   "metadata": {},
   "source": [
    "http://blog.adeel.io/2016/11/06/parallelize-pandas-map-or-apply/"
   ]
  },
  {
   "cell_type": "code",
   "execution_count": 26,
   "metadata": {},
   "outputs": [],
   "source": [
    "import multiprocessing\n",
    "from multiprocessing import Process\n",
    "import os"
   ]
  },
  {
   "cell_type": "markdown",
   "metadata": {},
   "source": [
    "https://stackoverflow.com/questions/47989418/multiprocessing-python-program-inside-docker\n",
    "\n",
    "https://docs.docker.com/config/containers/resource_constraints/#configure-the-default-cfs-scheduler"
   ]
  },
  {
   "cell_type": "code",
   "execution_count": 27,
   "metadata": {},
   "outputs": [
    {
     "name": "stdout",
     "output_type": "stream",
     "text": [
      "2\n"
     ]
    }
   ],
   "source": [
    "print(multiprocessing.cpu_count())"
   ]
  },
  {
   "cell_type": "code",
   "execution_count": 3,
   "metadata": {},
   "outputs": [],
   "source": [
    "def proc_info(title):\n",
    "    print(title)\n",
    "    print('\\nmodule name:', __name__)\n",
    "    print('parent process:', os.getppid())\n",
    "    print('process id:', os.getpid())\n",
    "\n",
    "def myfunc(name):\n",
    "    print('I am in myfunc')\n",
    "    proc_info('function myfunc')\n",
    "    print('end of myfunc', name)"
   ]
  },
  {
   "cell_type": "code",
   "execution_count": 4,
   "metadata": {},
   "outputs": [
    {
     "name": "stdout",
     "output_type": "stream",
     "text": [
      "main line\n",
      "\n",
      "module name: __main__\n",
      "parent process: 7\n",
      "process id: 1851\n",
      "I am in myfunc\n",
      "function myfunc\n",
      "\n",
      "module name: __main__\n",
      "parent process: 1851\n",
      "process id: 1867\n",
      "end of myfunc bob\n"
     ]
    }
   ],
   "source": [
    "if __name__ == '__main__':\n",
    "    proc_info('main line') # display info about this process\n",
    "    p = Process(target=myfunc, args=('bob',))\n",
    "    p.start()\n",
    "    p.join()"
   ]
  },
  {
   "cell_type": "markdown",
   "metadata": {},
   "source": [
    "https://docs.python.org/3.4/library/multiprocessing.html#using-a-pool-of-workers"
   ]
  },
  {
   "cell_type": "code",
   "execution_count": 5,
   "metadata": {},
   "outputs": [],
   "source": [
    "from multiprocessing import Pool"
   ]
  },
  {
   "cell_type": "code",
   "execution_count": 6,
   "metadata": {},
   "outputs": [
    {
     "name": "stdout",
     "output_type": "stream",
     "text": [
      "[1, 4, 9]\n"
     ]
    }
   ],
   "source": [
    "def sq_fun(x):\n",
    "    return x*x\n",
    "\n",
    "if __name__ == '__main__':\n",
    "    with Pool(5) as p:\n",
    "        print(p.map(sq_fun, [1, 2, 3]))"
   ]
  },
  {
   "cell_type": "code",
   "execution_count": null,
   "metadata": {},
   "outputs": [],
   "source": []
  },
  {
   "cell_type": "markdown",
   "metadata": {},
   "source": [
    "Create random dataframe"
   ]
  },
  {
   "cell_type": "markdown",
   "metadata": {},
   "source": [
    "https://stackoverflow.com/questions/32752292/how-to-create-a-data-frame-of-random-integers-with-pandas"
   ]
  },
  {
   "cell_type": "code",
   "execution_count": 7,
   "metadata": {},
   "outputs": [
    {
     "name": "stdout",
     "output_type": "stream",
     "text": [
      "(1000000, 4)\n"
     ]
    },
    {
     "data": {
      "text/html": [
       "<div>\n",
       "<style scoped>\n",
       "    .dataframe tbody tr th:only-of-type {\n",
       "        vertical-align: middle;\n",
       "    }\n",
       "\n",
       "    .dataframe tbody tr th {\n",
       "        vertical-align: top;\n",
       "    }\n",
       "\n",
       "    .dataframe thead th {\n",
       "        text-align: right;\n",
       "    }\n",
       "</style>\n",
       "<table border=\"1\" class=\"dataframe\">\n",
       "  <thead>\n",
       "    <tr style=\"text-align: right;\">\n",
       "      <th></th>\n",
       "      <th>A</th>\n",
       "      <th>B</th>\n",
       "      <th>C</th>\n",
       "      <th>D</th>\n",
       "    </tr>\n",
       "  </thead>\n",
       "  <tbody>\n",
       "    <tr>\n",
       "      <th>0</th>\n",
       "      <td>243</td>\n",
       "      <td>931</td>\n",
       "      <td>17</td>\n",
       "      <td>268</td>\n",
       "    </tr>\n",
       "    <tr>\n",
       "      <th>1</th>\n",
       "      <td>609</td>\n",
       "      <td>238</td>\n",
       "      <td>61</td>\n",
       "      <td>821</td>\n",
       "    </tr>\n",
       "    <tr>\n",
       "      <th>2</th>\n",
       "      <td>194</td>\n",
       "      <td>853</td>\n",
       "      <td>591</td>\n",
       "      <td>777</td>\n",
       "    </tr>\n",
       "    <tr>\n",
       "      <th>3</th>\n",
       "      <td>488</td>\n",
       "      <td>602</td>\n",
       "      <td>75</td>\n",
       "      <td>27</td>\n",
       "    </tr>\n",
       "    <tr>\n",
       "      <th>4</th>\n",
       "      <td>214</td>\n",
       "      <td>48</td>\n",
       "      <td>690</td>\n",
       "      <td>786</td>\n",
       "    </tr>\n",
       "  </tbody>\n",
       "</table>\n",
       "</div>"
      ],
      "text/plain": [
       "     A    B    C    D\n",
       "0  243  931   17  268\n",
       "1  609  238   61  821\n",
       "2  194  853  591  777\n",
       "3  488  602   75   27\n",
       "4  214   48  690  786"
      ]
     },
     "execution_count": 7,
     "metadata": {},
     "output_type": "execute_result"
    }
   ],
   "source": [
    "df = pandas.DataFrame(\n",
    "    numpy.random.randint(0,1000,size=(1000000, 4)), \n",
    "    columns=list('ABCD')\n",
    "    )\n",
    "print(df.shape)\n",
    "df.head()"
   ]
  },
  {
   "cell_type": "markdown",
   "metadata": {},
   "source": [
    "Create a new column ('K') that is double the value of entries in column 'A'\n",
    "\n",
    "We'll use a lambda function \n",
    "https://www.w3schools.com/python/python_lambda.asp\n",
    "to perform element-wise doubling.\n",
    "\n",
    "\"lambda\" indicates an anonymous function -- a function without a name.<BR>\n",
    "Normal functions are defined using the def keyword"
   ]
  },
  {
   "cell_type": "code",
   "execution_count": 8,
   "metadata": {},
   "outputs": [
    {
     "name": "stdout",
     "output_type": "stream",
     "text": [
      "1.468287706375122\n"
     ]
    }
   ],
   "source": [
    "start_time = time.time()\n",
    "df['K'] = df['A'].apply(lambda x: x*2)\n",
    "print(time.time() - start_time)"
   ]
  },
  {
   "cell_type": "markdown",
   "metadata": {},
   "source": [
    "Loop over increasing number of rows to inspect scaling"
   ]
  },
  {
   "cell_type": "code",
   "execution_count": 9,
   "metadata": {},
   "outputs": [],
   "source": [
    "number_of_tests=10\n",
    "list_of_row_size=[100, 1000, 10000, 100000, 100000, 1000000]\n",
    "#list_of_row_size=[100, 1000, 10000, 100000, 100000, 1000000, 10000000]#, 100000000, 1000000000]: # out of memory?"
   ]
  },
  {
   "cell_type": "code",
   "execution_count": 10,
   "metadata": {},
   "outputs": [
    {
     "name": "stdout",
     "output_type": "stream",
     "text": [
      "elapsed time: 0.05876588821411133 for 100\n",
      "elapsed time: 0.11935758590698242 for 1000\n",
      "elapsed time: 0.4173727035522461 for 10000\n",
      "elapsed time: 1.24751615524292 for 100000\n",
      "elapsed time: 1.8871047496795654 for 100000\n",
      "elapsed time: 11.14782977104187 for 1000000\n"
     ]
    }
   ],
   "source": [
    "reslts={}\n",
    "scaling_start=time.time()\n",
    "for row_count in list_of_row_size:\n",
    "    test_reslts=[]\n",
    "    for test_indx in range(number_of_tests):\n",
    "        df = pandas.DataFrame(numpy.random.randint(0,1000,size=(row_count, 4)), columns=list('ABCD'))\n",
    "        start_time = time.time()\n",
    "        df['K'] = df['A'].apply(lambda x: x*2)\n",
    "        test_reslts.append(time.time() - start_time)\n",
    "    reslts[row_count]=sum(test_reslts)/number_of_tests\n",
    "    print('elapsed time:',time.time() - scaling_start,'for',row_count)"
   ]
  },
  {
   "cell_type": "markdown",
   "metadata": {},
   "source": [
    "Because the dataframe is large, it takes a while to perform the operations sequentially to each row"
   ]
  },
  {
   "cell_type": "code",
   "execution_count": 11,
   "metadata": {},
   "outputs": [
    {
     "data": {
      "text/plain": [
       "{100: 0.002639436721801758,\n",
       " 1000: 0.003640413284301758,\n",
       " 10000: 0.024470973014831542,\n",
       " 100000: 0.06037137508392334,\n",
       " 1000000: 0.8894369602203369}"
      ]
     },
     "execution_count": 11,
     "metadata": {},
     "output_type": "execute_result"
    }
   ],
   "source": [
    "reslts"
   ]
  },
  {
   "cell_type": "markdown",
   "metadata": {},
   "source": [
    "As expected, computation time scales linearly with number of rows"
   ]
  },
  {
   "cell_type": "code",
   "execution_count": 12,
   "metadata": {},
   "outputs": [
    {
     "data": {
      "image/png": "[encoded data removed]",
      "text/plain": [
       "<Figure size 432x288 with 1 Axes>"
      ]
     },
     "metadata": {
      "needs_background": "light"
     },
     "output_type": "display_data"
    }
   ],
   "source": [
    "serial_x = list(reslts.keys()) # list_of_row_size\n",
    "serial_y = list(reslts.values())\n",
    "_=plt.scatter(serial_x,serial_y,color='blue')\n",
    "#ax = plt.gca()\n",
    "#ax.set_xscale('log')\n",
    "_=plt.ylabel('average time in seconds',fontsize=14)\n",
    "_=plt.xlabel('number of rows in dataframe',fontsize=14)"
   ]
  },
  {
   "cell_type": "markdown",
   "metadata": {},
   "source": [
    "With a linear fit:"
   ]
  },
  {
   "cell_type": "code",
   "execution_count": 13,
   "metadata": {},
   "outputs": [
    {
     "data": {
      "image/png": "[encoded data removed]",
      "text/plain": [
       "<Figure size 432x288 with 1 Axes>"
      ]
     },
     "metadata": {
      "needs_background": "light"
     },
     "output_type": "display_data"
    }
   ],
   "source": [
    "_=plt.scatter(serial_x,serial_y,color='blue')\n",
    "_=plt.ylabel('average time in seconds',fontsize=14)\n",
    "_=plt.xlabel('number of rows in dataframe',fontsize=14)\n",
    "_=plt.plot(numpy.unique(serial_x), numpy.poly1d(numpy.polyfit(serial_x, serial_y, 1))(numpy.unique(serial_x))) # https://stackoverflow.com/questions/22239691/code-for-line-of-best-fit-of-a-scatter-plot-in-python"
   ]
  },
  {
   "cell_type": "markdown",
   "metadata": {},
   "source": [
    "Alternatively, we can spread the computation across the multiple cores"
   ]
  },
  {
   "cell_type": "markdown",
   "metadata": {},
   "source": [
    "source: http://www.racketracer.com/2016/07/06/pandas-in-parallel/"
   ]
  },
  {
   "cell_type": "code",
   "execution_count": 14,
   "metadata": {},
   "outputs": [],
   "source": [
    "num_partitions = 4 #number of partitions to split dataframe\n",
    "num_cores = 4 #number of cores on your machine"
   ]
  },
  {
   "cell_type": "code",
   "execution_count": 15,
   "metadata": {},
   "outputs": [],
   "source": [
    "def multiply_columns(data):\n",
    "    data['K'] = data['A'].apply(lambda x: x*2)\n",
    "    return data"
   ]
  },
  {
   "cell_type": "code",
   "execution_count": 16,
   "metadata": {},
   "outputs": [],
   "source": [
    "def parallelize_dataframe(df, func,num_cores,num_partitions):\n",
    "    df_split = numpy.array_split(df, num_partitions)\n",
    "    pool = Pool(num_cores)\n",
    "    df = pandas.concat(pool.map(func, df_split))\n",
    "    pool.close()\n",
    "    pool.join()\n",
    "    return df"
   ]
  },
  {
   "cell_type": "code",
   "execution_count": 17,
   "metadata": {},
   "outputs": [
    {
     "name": "stdout",
     "output_type": "stream",
     "text": [
      "(1000000, 4)\n"
     ]
    }
   ],
   "source": [
    "df = pandas.DataFrame(\n",
    "    numpy.random.randint(0,1000,size=(1000000, 4)), \n",
    "    columns=list('ABCD')\n",
    "    )\n",
    "print(df.shape)"
   ]
  },
  {
   "cell_type": "code",
   "execution_count": 18,
   "metadata": {},
   "outputs": [
    {
     "data": {
      "text/html": [
       "<div>\n",
       "<style scoped>\n",
       "    .dataframe tbody tr th:only-of-type {\n",
       "        vertical-align: middle;\n",
       "    }\n",
       "\n",
       "    .dataframe tbody tr th {\n",
       "        vertical-align: top;\n",
       "    }\n",
       "\n",
       "    .dataframe thead th {\n",
       "        text-align: right;\n",
       "    }\n",
       "</style>\n",
       "<table border=\"1\" class=\"dataframe\">\n",
       "  <thead>\n",
       "    <tr style=\"text-align: right;\">\n",
       "      <th></th>\n",
       "      <th>A</th>\n",
       "      <th>B</th>\n",
       "      <th>C</th>\n",
       "      <th>D</th>\n",
       "    </tr>\n",
       "  </thead>\n",
       "  <tbody>\n",
       "    <tr>\n",
       "      <th>0</th>\n",
       "      <td>437</td>\n",
       "      <td>172</td>\n",
       "      <td>393</td>\n",
       "      <td>423</td>\n",
       "    </tr>\n",
       "    <tr>\n",
       "      <th>1</th>\n",
       "      <td>462</td>\n",
       "      <td>388</td>\n",
       "      <td>667</td>\n",
       "      <td>426</td>\n",
       "    </tr>\n",
       "    <tr>\n",
       "      <th>2</th>\n",
       "      <td>761</td>\n",
       "      <td>856</td>\n",
       "      <td>358</td>\n",
       "      <td>233</td>\n",
       "    </tr>\n",
       "    <tr>\n",
       "      <th>3</th>\n",
       "      <td>857</td>\n",
       "      <td>191</td>\n",
       "      <td>295</td>\n",
       "      <td>896</td>\n",
       "    </tr>\n",
       "    <tr>\n",
       "      <th>4</th>\n",
       "      <td>486</td>\n",
       "      <td>376</td>\n",
       "      <td>698</td>\n",
       "      <td>711</td>\n",
       "    </tr>\n",
       "  </tbody>\n",
       "</table>\n",
       "</div>"
      ],
      "text/plain": [
       "     A    B    C    D\n",
       "0  437  172  393  423\n",
       "1  462  388  667  426\n",
       "2  761  856  358  233\n",
       "3  857  191  295  896\n",
       "4  486  376  698  711"
      ]
     },
     "execution_count": 18,
     "metadata": {},
     "output_type": "execute_result"
    }
   ],
   "source": [
    "df.head()"
   ]
  },
  {
   "cell_type": "code",
   "execution_count": 19,
   "metadata": {},
   "outputs": [
    {
     "name": "stdout",
     "output_type": "stream",
     "text": [
      "1.4016098976135254 seconds\n"
     ]
    }
   ],
   "source": [
    "start_time = time.time()\n",
    "df = parallelize_dataframe(df, multiply_columns,num_cores,num_partitions)\n",
    "print(time.time() - start_time,'seconds')"
   ]
  },
  {
   "cell_type": "markdown",
   "metadata": {},
   "source": [
    "Let's compare scaling"
   ]
  },
  {
   "cell_type": "code",
   "execution_count": 20,
   "metadata": {},
   "outputs": [
    {
     "name": "stdout",
     "output_type": "stream",
     "text": [
      "elapsed time: 2.949911594390869 for 100\n",
      "elapsed time: 4.910930156707764 for 1000\n",
      "elapsed time: 6.865859746932983 for 10000\n",
      "elapsed time: 9.936662197113037 for 100000\n",
      "elapsed time: 12.992438077926636 for 100000\n",
      "elapsed time: 51.880513429641724 for 1000000\n"
     ]
    }
   ],
   "source": [
    "pool_reslts={}\n",
    "scaling_start=time.time()\n",
    "for row_count in list_of_row_size:\n",
    "    test_reslts=[]\n",
    "    for test_indx in range(number_of_tests):\n",
    "        df = pandas.DataFrame(numpy.random.randint(0,1000,size=(row_count, 4)), columns=list('ABCD'))\n",
    "        start_time = time.time()\n",
    "        df = parallelize_dataframe(df, multiply_columns,num_cores,num_partitions)\n",
    "        test_reslts.append(time.time() - start_time)\n",
    "    pool_reslts[row_count]=sum(test_reslts)/number_of_tests\n",
    "    print('elapsed time:',time.time() - scaling_start,'for',row_count)"
   ]
  },
  {
   "cell_type": "code",
   "execution_count": 21,
   "metadata": {},
   "outputs": [
    {
     "data": {
      "image/png": "[encoded data removed]",
      "text/plain": [
       "<Figure size 432x288 with 1 Axes>"
      ]
     },
     "metadata": {
      "needs_background": "light"
     },
     "output_type": "display_data"
    }
   ],
   "source": [
    "pool_x = list(pool_reslts.keys()) # list_of_row_size\n",
    "pool_y = list(pool_reslts.values())\n",
    "_=plt.scatter(pool_x,pool_y,color='red')\n",
    "#ax = plt.gca()\n",
    "#ax.set_xscale('log')\n",
    "_=plt.ylabel('average time in seconds',fontsize=14)\n",
    "_=plt.xlabel('number of rows in dataframe',fontsize=14)"
   ]
  },
  {
   "cell_type": "code",
   "execution_count": 22,
   "metadata": {},
   "outputs": [
    {
     "data": {
      "image/png": "[encoded data removed]",
      "text/plain": [
       "<Figure size 432x288 with 1 Axes>"
      ]
     },
     "metadata": {
      "needs_background": "light"
     },
     "output_type": "display_data"
    }
   ],
   "source": [
    "_=plt.scatter(serial_x,serial_y,color='blue')\n",
    "_=plt.scatter(pool_x,pool_y,color='red')\n",
    "_=plt.ylabel('average time in seconds',fontsize=14)\n",
    "_=plt.xlabel('number of rows in dataframe',fontsize=14)\n",
    "_=plt.plot(numpy.unique(serial_x), numpy.poly1d(numpy.polyfit(serial_x, serial_y, 1))(numpy.unique(serial_x))) # https://stackoverflow.com/questions/22239691/code-for-line-of-best-fit-of-a-scatter-plot-in-python\n",
    "_=plt.plot(numpy.unique(pool_x), numpy.poly1d(numpy.polyfit(pool_x, pool_y, 1))(numpy.unique(pool_x))) # https://stackoverflow.com/questions/22239691/code-for-line-of-best-fit-of-a-scatter-plot-in-python"
   ]
  },
  {
   "cell_type": "code",
   "execution_count": null,
   "metadata": {},
   "outputs": [],
   "source": []
  }
 ],
 "metadata": {
  "kernelspec": {
   "display_name": "Python 3",
   "language": "python",
   "name": "python3"
  },
  "language_info": {
   "codemirror_mode": {
    "name": "ipython",
    "version": 3
   },
   "file_extension": ".py",
   "mimetype": "text/x-python",
   "name": "python",
   "nbconvert_exporter": "python",
   "pygments_lexer": "ipython3",
   "version": "3.6.6"
  }
 },
 "nbformat": 4,
 "nbformat_minor": 2
}
