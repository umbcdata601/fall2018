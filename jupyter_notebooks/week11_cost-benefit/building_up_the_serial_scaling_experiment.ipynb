{
 "cells": [
  {
   "cell_type": "markdown",
   "metadata": {},
   "source": [
    "import python modules used in this notebook"
   ]
  },
  {
   "cell_type": "code",
   "execution_count": 1,
   "metadata": {},
   "outputs": [],
   "source": [
    "import pandas\n",
    "import numpy\n",
    "import pickle\n",
    "import matplotlib.pyplot as plt\n",
    "import time"
   ]
  },
  {
   "cell_type": "markdown",
   "metadata": {},
   "source": [
    "create a function that doubles the value of column 'A'"
   ]
  },
  {
   "cell_type": "code",
   "execution_count": 2,
   "metadata": {},
   "outputs": [],
   "source": [
    "def double_col_a(row):\n",
    "    row_as_dict=dict(row)\n",
    "    return row_as_dict['A']*2"
   ]
  },
  {
   "cell_type": "markdown",
   "metadata": {},
   "source": [
    "To measure how well this scales, run 5 tests for a dataframe with 100 rows, then run 5 tests for a dataframe with 1000 rows, and finally run 5 tests for a dataframe with 10,000 rows."
   ]
  },
  {
   "cell_type": "code",
   "execution_count": 3,
   "metadata": {},
   "outputs": [],
   "source": [
    "number_of_tests=5\n",
    "list_of_row_size=[100, 1000, 10000]"
   ]
  },
  {
   "cell_type": "markdown",
   "metadata": {},
   "source": [
    "These nested loops implement the scaling experiment"
   ]
  },
  {
   "cell_type": "code",
   "execution_count": 4,
   "metadata": {},
   "outputs": [
    {
     "name": "stdout",
     "output_type": "stream",
     "text": [
      "elapsed time: 0.15929126739501953 for 100\n",
      "elapsed time: 1.015963077545166 for 1000\n",
      "elapsed time: 9.934395551681519 for 10000\n"
     ]
    }
   ],
   "source": [
    "serial_reslts={}\n",
    "scaling_start=time.time()\n",
    "for row_count in list_of_row_size:\n",
    "    test_reslts=[]\n",
    "    for test_indx in range(number_of_tests):\n",
    "        df = pandas.DataFrame(\n",
    "                numpy.random.randint(0,1000,\n",
    "                                     size=(row_count, 4)), \n",
    "                                     columns=list('ABCD'))\n",
    "        start_time = time.time()\n",
    "        df['K'] = df.apply(double_col_a,axis=1)\n",
    "        test_reslts.append(time.time() - start_time)\n",
    "    serial_reslts[row_count]=sum(test_reslts)/number_of_tests\n",
    "    print('elapsed time:',time.time() - scaling_start,'for',row_count)"
   ]
  },
  {
   "cell_type": "markdown",
   "metadata": {},
   "source": [
    "The results from the experiment are stored in a dictionary. I've already averaged the measurements from the 10 runs."
   ]
  },
  {
   "cell_type": "code",
   "execution_count": 5,
   "metadata": {},
   "outputs": [
    {
     "data": {
      "text/plain": [
       "{100: 0.030289506912231444,\n",
       " 1000: 0.16997380256652833,\n",
       " 10000: 1.782315444946289}"
      ]
     },
     "execution_count": 5,
     "metadata": {},
     "output_type": "execute_result"
    }
   ],
   "source": [
    "serial_reslts"
   ]
  },
  {
   "cell_type": "markdown",
   "metadata": {},
   "source": [
    "Plot the data to see linear scaling. I've included a linear fit of the data points."
   ]
  },
  {
   "cell_type": "code",
   "execution_count": 6,
   "metadata": {},
   "outputs": [
    {
     "data": {
      "image/png": "[encoded data removed]",
      "text/plain": [
       "<Figure size 432x288 with 1 Axes>"
      ]
     },
     "metadata": {
      "needs_background": "light"
     },
     "output_type": "display_data"
    }
   ],
   "source": [
    "serial_x = list(serial_reslts.keys()) # list_of_row_size\n",
    "serial_y = list(serial_reslts.values())\n",
    "_=plt.scatter(serial_x,serial_y,color='blue')\n",
    "_=plt.ylabel('average time in seconds',fontsize=14)\n",
    "_=plt.xlabel('number of rows in dataframe',fontsize=14)\n",
    "\n",
    "_=plt.plot(numpy.unique(serial_x), numpy.poly1d(numpy.polyfit(serial_x, serial_y, 1))(numpy.unique(serial_x))) # https://stackoverflow.com/questions/22239691/code-for-line-of-best-fit-of-a-scatter-plot-in-python"
   ]
  },
  {
   "cell_type": "markdown",
   "metadata": {},
   "source": [
    "I'll walk through how I created that code."
   ]
  },
  {
   "cell_type": "code",
   "execution_count": 7,
   "metadata": {},
   "outputs": [],
   "source": [
    "row_count=10000\n",
    "df = pandas.DataFrame(numpy.random.randint(0,1000,\n",
    "                                           size=(row_count, 4)), \n",
    "                                           columns=list('ABCD'))"
   ]
  },
  {
   "cell_type": "code",
   "execution_count": 9,
   "metadata": {},
   "outputs": [
    {
     "data": {
      "text/plain": [
       "(10000, 4)"
      ]
     },
     "execution_count": 9,
     "metadata": {},
     "output_type": "execute_result"
    }
   ],
   "source": [
    "df.shape"
   ]
  },
  {
   "cell_type": "code",
   "execution_count": 10,
   "metadata": {},
   "outputs": [
    {
     "data": {
      "text/html": [
       "<div>\n",
       "<style scoped>\n",
       "    .dataframe tbody tr th:only-of-type {\n",
       "        vertical-align: middle;\n",
       "    }\n",
       "\n",
       "    .dataframe tbody tr th {\n",
       "        vertical-align: top;\n",
       "    }\n",
       "\n",
       "    .dataframe thead th {\n",
       "        text-align: right;\n",
       "    }\n",
       "</style>\n",
       "<table border=\"1\" class=\"dataframe\">\n",
       "  <thead>\n",
       "    <tr style=\"text-align: right;\">\n",
       "      <th></th>\n",
       "      <th>A</th>\n",
       "      <th>B</th>\n",
       "      <th>C</th>\n",
       "      <th>D</th>\n",
       "    </tr>\n",
       "  </thead>\n",
       "  <tbody>\n",
       "    <tr>\n",
       "      <th>0</th>\n",
       "      <td>353</td>\n",
       "      <td>685</td>\n",
       "      <td>779</td>\n",
       "      <td>816</td>\n",
       "    </tr>\n",
       "    <tr>\n",
       "      <th>1</th>\n",
       "      <td>298</td>\n",
       "      <td>205</td>\n",
       "      <td>379</td>\n",
       "      <td>766</td>\n",
       "    </tr>\n",
       "    <tr>\n",
       "      <th>2</th>\n",
       "      <td>16</td>\n",
       "      <td>241</td>\n",
       "      <td>56</td>\n",
       "      <td>985</td>\n",
       "    </tr>\n",
       "    <tr>\n",
       "      <th>3</th>\n",
       "      <td>975</td>\n",
       "      <td>327</td>\n",
       "      <td>135</td>\n",
       "      <td>837</td>\n",
       "    </tr>\n",
       "    <tr>\n",
       "      <th>4</th>\n",
       "      <td>495</td>\n",
       "      <td>305</td>\n",
       "      <td>202</td>\n",
       "      <td>414</td>\n",
       "    </tr>\n",
       "  </tbody>\n",
       "</table>\n",
       "</div>"
      ],
      "text/plain": [
       "     A    B    C    D\n",
       "0  353  685  779  816\n",
       "1  298  205  379  766\n",
       "2   16  241   56  985\n",
       "3  975  327  135  837\n",
       "4  495  305  202  414"
      ]
     },
     "execution_count": 10,
     "metadata": {},
     "output_type": "execute_result"
    }
   ],
   "source": [
    "df.head()"
   ]
  },
  {
   "cell_type": "markdown",
   "metadata": {},
   "source": [
    "Given a dataframe with numeric values, I create a simple function that can operate on the rows"
   ]
  },
  {
   "cell_type": "code",
   "execution_count": 11,
   "metadata": {},
   "outputs": [],
   "source": [
    "def double_col_a(row):\n",
    "    row_as_dict=dict(row)\n",
    "    return row_as_dict['A']*2"
   ]
  },
  {
   "cell_type": "markdown",
   "metadata": {},
   "source": [
    "To use the function, "
   ]
  },
  {
   "cell_type": "code",
   "execution_count": 12,
   "metadata": {},
   "outputs": [],
   "source": [
    "df['K'] = df.apply(double_col_a,axis=1)"
   ]
  },
  {
   "cell_type": "markdown",
   "metadata": {},
   "source": [
    "The shape of the dataframe should be different because a new colum was added"
   ]
  },
  {
   "cell_type": "code",
   "execution_count": 14,
   "metadata": {},
   "outputs": [
    {
     "data": {
      "text/plain": [
       "(10000, 5)"
      ]
     },
     "execution_count": 14,
     "metadata": {},
     "output_type": "execute_result"
    }
   ],
   "source": [
    "df.shape"
   ]
  },
  {
   "cell_type": "code",
   "execution_count": 16,
   "metadata": {},
   "outputs": [
    {
     "data": {
      "text/html": [
       "<div>\n",
       "<style scoped>\n",
       "    .dataframe tbody tr th:only-of-type {\n",
       "        vertical-align: middle;\n",
       "    }\n",
       "\n",
       "    .dataframe tbody tr th {\n",
       "        vertical-align: top;\n",
       "    }\n",
       "\n",
       "    .dataframe thead th {\n",
       "        text-align: right;\n",
       "    }\n",
       "</style>\n",
       "<table border=\"1\" class=\"dataframe\">\n",
       "  <thead>\n",
       "    <tr style=\"text-align: right;\">\n",
       "      <th></th>\n",
       "      <th>A</th>\n",
       "      <th>B</th>\n",
       "      <th>C</th>\n",
       "      <th>D</th>\n",
       "      <th>K</th>\n",
       "    </tr>\n",
       "  </thead>\n",
       "  <tbody>\n",
       "    <tr>\n",
       "      <th>0</th>\n",
       "      <td>353</td>\n",
       "      <td>685</td>\n",
       "      <td>779</td>\n",
       "      <td>816</td>\n",
       "      <td>706</td>\n",
       "    </tr>\n",
       "    <tr>\n",
       "      <th>1</th>\n",
       "      <td>298</td>\n",
       "      <td>205</td>\n",
       "      <td>379</td>\n",
       "      <td>766</td>\n",
       "      <td>596</td>\n",
       "    </tr>\n",
       "    <tr>\n",
       "      <th>2</th>\n",
       "      <td>16</td>\n",
       "      <td>241</td>\n",
       "      <td>56</td>\n",
       "      <td>985</td>\n",
       "      <td>32</td>\n",
       "    </tr>\n",
       "    <tr>\n",
       "      <th>3</th>\n",
       "      <td>975</td>\n",
       "      <td>327</td>\n",
       "      <td>135</td>\n",
       "      <td>837</td>\n",
       "      <td>1950</td>\n",
       "    </tr>\n",
       "    <tr>\n",
       "      <th>4</th>\n",
       "      <td>495</td>\n",
       "      <td>305</td>\n",
       "      <td>202</td>\n",
       "      <td>414</td>\n",
       "      <td>990</td>\n",
       "    </tr>\n",
       "  </tbody>\n",
       "</table>\n",
       "</div>"
      ],
      "text/plain": [
       "     A    B    C    D     K\n",
       "0  353  685  779  816   706\n",
       "1  298  205  379  766   596\n",
       "2   16  241   56  985    32\n",
       "3  975  327  135  837  1950\n",
       "4  495  305  202  414   990"
      ]
     },
     "execution_count": 16,
     "metadata": {},
     "output_type": "execute_result"
    }
   ],
   "source": [
    "df.head()"
   ]
  },
  {
   "cell_type": "markdown",
   "metadata": {},
   "source": [
    "In order to know how the function scales as the number of rows increases, I want to time that operation\n",
    "\n",
    "<BR>\n",
    "<BR>\n",
    "\n",
    "To show the timing, I'll first reset the dataframe"
   ]
  },
  {
   "cell_type": "code",
   "execution_count": 17,
   "metadata": {},
   "outputs": [],
   "source": [
    "df = pandas.DataFrame(numpy.random.randint(0,1000,\n",
    "                                           size=(row_count, 4)), \n",
    "                                           columns=list('ABCD'))"
   ]
  },
  {
   "cell_type": "markdown",
   "metadata": {},
   "source": [
    "The `time.time()` command show what time it is in seconds since 12:00 am on January 1, 1970. This specific time is called \"epoch.\" For more on that, see \n",
    "\n",
    "https://en.wikipedia.org/wiki/Epoch_(reference_date)#Computing\n",
    "\n",
    "https://en.wikipedia.org/wiki/Unix_time\n",
    "\n",
    "https://stackoverflow.com/questions/2533563/why-are-dates-calculated-from-january-1st-1970/2533567"
   ]
  },
  {
   "cell_type": "code",
   "execution_count": 18,
   "metadata": {},
   "outputs": [
    {
     "data": {
      "text/plain": [
       "1541995560.7251656"
      ]
     },
     "execution_count": 18,
     "metadata": {},
     "output_type": "execute_result"
    }
   ],
   "source": [
    "time.time()"
   ]
  },
  {
   "cell_type": "code",
   "execution_count": 19,
   "metadata": {},
   "outputs": [
    {
     "name": "stdout",
     "output_type": "stream",
     "text": [
      "1.764775037765503 seconds\n"
     ]
    }
   ],
   "source": [
    "start_time = time.time()\n",
    "df['K'] = df.apply(double_col_a,axis=1)\n",
    "print(time.time() - start_time,'seconds')"
   ]
  },
  {
   "cell_type": "markdown",
   "metadata": {},
   "source": [
    "Yay, a data point. Now we want to re-run that same test multiple times. "
   ]
  },
  {
   "cell_type": "code",
   "execution_count": 20,
   "metadata": {},
   "outputs": [
    {
     "name": "stdout",
     "output_type": "stream",
     "text": [
      "2.220086097717285 seconds\n",
      "2.153412103652954 seconds\n",
      "1.9025068283081055 seconds\n",
      "1.9645655155181885 seconds\n",
      "2.107374906539917 seconds\n"
     ]
    }
   ],
   "source": [
    "number_of_tests=5\n",
    "for test_indx in range(number_of_tests):\n",
    "    start_time = time.time()\n",
    "    df['K'] = df.apply(double_col_a,axis=1)\n",
    "    print(time.time() - start_time,'seconds')"
   ]
  },
  {
   "cell_type": "markdown",
   "metadata": {},
   "source": [
    "To ensure a fair test, reset the dataframe being used in every experiment"
   ]
  },
  {
   "cell_type": "code",
   "execution_count": 21,
   "metadata": {},
   "outputs": [
    {
     "name": "stdout",
     "output_type": "stream",
     "text": [
      "1.9699409008026123 seconds\n",
      "2.520562171936035 seconds\n",
      "1.6678578853607178 seconds\n",
      "1.5631825923919678 seconds\n",
      "1.9869599342346191 seconds\n"
     ]
    }
   ],
   "source": [
    "number_of_tests=5\n",
    "for test_indx in range(number_of_tests):\n",
    "    df = pandas.DataFrame(numpy.random.randint(0,1000,\n",
    "                                               size=(row_count, 4)), \n",
    "                                               columns=list('ABCD'))\n",
    "    start_time = time.time()\n",
    "    df['K'] = df.apply(double_col_a,axis=1)\n",
    "    print(time.time() - start_time,'seconds')"
   ]
  },
  {
   "cell_type": "markdown",
   "metadata": {},
   "source": [
    "Rather than print the results of each test to screen, save to a list"
   ]
  },
  {
   "cell_type": "code",
   "execution_count": 22,
   "metadata": {},
   "outputs": [],
   "source": [
    "number_of_tests=5\n",
    "test_reslts=[]\n",
    "for test_indx in range(number_of_tests):\n",
    "    df = pandas.DataFrame(numpy.random.randint(0,1000,\n",
    "                                               size=(row_count, 4)), \n",
    "                                               columns=list('ABCD'))\n",
    "    start_time = time.time()\n",
    "    df['K'] = df.apply(double_col_a,axis=1)\n",
    "    test_reslts.append(time.time() - start_time)"
   ]
  },
  {
   "cell_type": "code",
   "execution_count": 23,
   "metadata": {},
   "outputs": [
    {
     "name": "stdout",
     "output_type": "stream",
     "text": [
      "[1.7116897106170654, 1.5411171913146973, 1.9707248210906982, 1.5667297840118408, 1.6390290260314941]\n"
     ]
    }
   ],
   "source": [
    "print(test_reslts)"
   ]
  },
  {
   "cell_type": "code",
   "execution_count": 24,
   "metadata": {},
   "outputs": [],
   "source": [
    "serial_reslts=sum(test_reslts)/number_of_tests"
   ]
  },
  {
   "cell_type": "code",
   "execution_count": 25,
   "metadata": {},
   "outputs": [
    {
     "name": "stdout",
     "output_type": "stream",
     "text": [
      "1.6858581066131593 seconds\n"
     ]
    }
   ],
   "source": [
    "print(serial_reslts,'seconds')"
   ]
  },
  {
   "cell_type": "markdown",
   "metadata": {},
   "source": [
    "Put the calculation of the average at the end of the loop"
   ]
  },
  {
   "cell_type": "code",
   "execution_count": 26,
   "metadata": {},
   "outputs": [],
   "source": [
    "number_of_tests=5\n",
    "test_reslts=[]\n",
    "for test_indx in range(number_of_tests):\n",
    "    df = pandas.DataFrame(numpy.random.randint(0,1000,\n",
    "                                               size=(row_count, 4)), \n",
    "                                               columns=list('ABCD'))\n",
    "    start_time = time.time()\n",
    "    df['K'] = df.apply(double_col_a,axis=1)\n",
    "    test_reslts.append(time.time() - start_time)\n",
    "serial_reslts=sum(test_reslts)/number_of_tests"
   ]
  },
  {
   "cell_type": "code",
   "execution_count": 27,
   "metadata": {},
   "outputs": [
    {
     "name": "stdout",
     "output_type": "stream",
     "text": [
      "1.6592490673065186 seconds\n"
     ]
    }
   ],
   "source": [
    "print(serial_reslts,'seconds')"
   ]
  },
  {
   "cell_type": "markdown",
   "metadata": {},
   "source": [
    "That was 5 tests of the timing for a dataframe where row_count=10000\n",
    "\n",
    "In order to determine how the `double_col_a` function scales, we need to alter how many rows are in the dataframe"
   ]
  },
  {
   "cell_type": "code",
   "execution_count": 28,
   "metadata": {},
   "outputs": [],
   "source": [
    "number_of_tests=5\n",
    "list_of_row_size=[100, 1000, 10000]"
   ]
  },
  {
   "cell_type": "markdown",
   "metadata": {},
   "source": [
    "Create a loop that runs tests for each of these row counts\n",
    "\n",
    "Rather than store the test results to a scalar, store to a dictionary. The dictionary key is the number of rows in the dataframe."
   ]
  },
  {
   "cell_type": "code",
   "execution_count": 29,
   "metadata": {},
   "outputs": [],
   "source": [
    "serial_reslts={}\n",
    "for row_count in list_of_row_size:\n",
    "    test_reslts=[]\n",
    "    for test_indx in range(number_of_tests):\n",
    "        df = pandas.DataFrame(\n",
    "                numpy.random.randint(0,1000,\n",
    "                                     size=(row_count, 4)), \n",
    "                                     columns=list('ABCD'))\n",
    "        start_time = time.time()\n",
    "        df['K'] = df.apply(double_col_a,axis=1)\n",
    "        test_reslts.append(time.time() - start_time)\n",
    "    serial_reslts[row_count]=sum(test_reslts)/number_of_tests"
   ]
  },
  {
   "cell_type": "code",
   "execution_count": 30,
   "metadata": {},
   "outputs": [
    {
     "name": "stdout",
     "output_type": "stream",
     "text": [
      "{100: 0.0364654541015625, 1000: 0.1617799758911133, 10000: 1.730787467956543}\n"
     ]
    }
   ],
   "source": [
    "print(serial_reslts)"
   ]
  },
  {
   "cell_type": "markdown",
   "metadata": {},
   "source": [
    "Now we can plot"
   ]
  },
  {
   "cell_type": "code",
   "execution_count": 31,
   "metadata": {},
   "outputs": [
    {
     "data": {
      "image/png": "[encoded data removed]",
      "text/plain": [
       "<Figure size 432x288 with 1 Axes>"
      ]
     },
     "metadata": {
      "needs_background": "light"
     },
     "output_type": "display_data"
    }
   ],
   "source": [
    "serial_x = list(serial_reslts.keys()) # list_of_row_size\n",
    "serial_y = list(serial_reslts.values())\n",
    "_=plt.scatter(serial_x,serial_y,color='blue')\n",
    "_=plt.ylabel('average time in seconds',fontsize=14)\n",
    "_=plt.xlabel('number of rows in dataframe',fontsize=14)"
   ]
  },
  {
   "cell_type": "markdown",
   "metadata": {},
   "source": [
    "And to provide a guide for the reader's eye, add a linear fit"
   ]
  },
  {
   "cell_type": "code",
   "execution_count": 32,
   "metadata": {},
   "outputs": [
    {
     "data": {
      "image/png": "[encoded data removed]",
      "text/plain": [
       "<Figure size 432x288 with 1 Axes>"
      ]
     },
     "metadata": {
      "needs_background": "light"
     },
     "output_type": "display_data"
    }
   ],
   "source": [
    "serial_x = list(serial_reslts.keys()) # list_of_row_size\n",
    "serial_y = list(serial_reslts.values())\n",
    "_=plt.scatter(serial_x,serial_y,color='blue')\n",
    "_=plt.ylabel('average time in seconds',fontsize=14)\n",
    "_=plt.xlabel('number of rows in dataframe',fontsize=14)\n",
    "\n",
    "_=plt.plot(numpy.unique(serial_x), numpy.poly1d(numpy.polyfit(serial_x, serial_y, 1))(numpy.unique(serial_x))) # https://stackoverflow.com/questions/22239691/code-for-line-of-best-fit-of-a-scatter-plot-in-python"
   ]
  },
  {
   "cell_type": "code",
   "execution_count": null,
   "metadata": {},
   "outputs": [],
   "source": []
  }
 ],
 "metadata": {
  "kernelspec": {
   "display_name": "Python 3",
   "language": "python",
   "name": "python3"
  },
  "language_info": {
   "codemirror_mode": {
    "name": "ipython",
    "version": 3
   },
   "file_extension": ".py",
   "mimetype": "text/x-python",
   "name": "python",
   "nbconvert_exporter": "python",
   "pygments_lexer": "ipython3",
   "version": "3.6.6"
  }
 },
 "nbformat": 4,
 "nbformat_minor": 2
}
