{
 "cells": [
  {
   "cell_type": "markdown",
   "metadata": {},
   "source": [
    "# generate random CSV of arbitrary size"
   ]
  },
  {
   "cell_type": "code",
   "execution_count": 1,
   "metadata": {},
   "outputs": [
    {
     "name": "stdout",
     "output_type": "stream",
     "text": [
      "Collecting faker\n",
      "  Using cached https://files.pythonhosted.org/packages/d9/eb/6d13451769976f79c9043db562da22302a2c3d96e5d6427e8517fec9d2e5/Faker-0.9.2-py2.py3-none-any.whl\n",
      "Requirement already satisfied: six>=1.10 in /opt/conda/lib/python3.6/site-packages (from faker)\n",
      "Collecting text-unidecode==1.2 (from faker)\n",
      "  Using cached https://files.pythonhosted.org/packages/79/42/d717cc2b4520fb09e45b344b1b0b4e81aa672001dd128c180fabc655c341/text_unidecode-1.2-py2.py3-none-any.whl\n",
      "Requirement already satisfied: python-dateutil>=2.4 in /opt/conda/lib/python3.6/site-packages (from faker)\n",
      "Installing collected packages: text-unidecode, faker\n",
      "Successfully installed faker-0.9.2 text-unidecode-1.2\n",
      "\u001b[33mYou are using pip version 9.0.3, however version 18.1 is available.\n",
      "You should consider upgrading via the 'pip install --upgrade pip' command.\u001b[0m\n"
     ]
    }
   ],
   "source": [
    "!pip install faker"
   ]
  },
  {
   "cell_type": "markdown",
   "metadata": {},
   "source": [
    "https://stackoverflow.com/questions/31468727/how-to-create-1-gb-csv-file-with-random-data-using-python"
   ]
  },
  {
   "cell_type": "code",
   "execution_count": 2,
   "metadata": {},
   "outputs": [],
   "source": [
    "import csv\n",
    "import random\n",
    "from faker import Faker\n",
    "from datetime import datetime"
   ]
  },
  {
   "cell_type": "code",
   "execution_count": 3,
   "metadata": {},
   "outputs": [],
   "source": [
    "libfake=Faker('en_GB')"
   ]
  },
  {
   "cell_type": "markdown",
   "metadata": {},
   "source": [
    "remove any existing fake data previously generated"
   ]
  },
  {
   "cell_type": "code",
   "execution_count": 4,
   "metadata": {},
   "outputs": [],
   "source": [
    "!rm out.csv"
   ]
  },
  {
   "cell_type": "markdown",
   "metadata": {},
   "source": [
    "create a CSV filled with random text entries"
   ]
  },
  {
   "cell_type": "code",
   "execution_count": 5,
   "metadata": {},
   "outputs": [],
   "source": [
    "def create_csv(csv_name,numer_of_lines):\n",
    "    with open(csv_name,\"w\") as fcsv:\n",
    "        w=csv.writer(fcsv)\n",
    "        w.writerow(('id','name','email','phone','college','company'))\n",
    "        for indx in range(numer_of_lines-1):\n",
    "            w.writerow((indx+1,\n",
    "                        libfake.name(),\n",
    "                        libfake.ascii_safe_email(),\n",
    "                        libfake.phone_number(),\n",
    "                        random.choice(['psg','sona','miamf','foasmdg']),\n",
    "                        random.choice(['CTS','INFY','HTC'])))"
   ]
  },
  {
   "cell_type": "markdown",
   "metadata": {},
   "source": [
    "generate a CSV with 100 lines of fake data"
   ]
  },
  {
   "cell_type": "code",
   "execution_count": 6,
   "metadata": {},
   "outputs": [],
   "source": [
    "create_csv(\"out.csv\",100)"
   ]
  },
  {
   "cell_type": "markdown",
   "metadata": {},
   "source": [
    "look at how big the file is on disk in bytes using the linux command \"ls\""
   ]
  },
  {
   "cell_type": "code",
   "execution_count": 7,
   "metadata": {},
   "outputs": [
    {
     "name": "stdout",
     "output_type": "stream",
     "text": [
      "-rw-r--r-- 1 jovyan users 6760 Oct 31 01:09 out.csv\r\n"
     ]
    }
   ],
   "source": [
    "!ls -l out.csv"
   ]
  },
  {
   "cell_type": "markdown",
   "metadata": {},
   "source": [
    "alternatively, we can use Python to determine the file size on disk"
   ]
  },
  {
   "cell_type": "code",
   "execution_count": 8,
   "metadata": {},
   "outputs": [
    {
     "data": {
      "text/plain": [
       "6760"
      ]
     },
     "execution_count": 8,
     "metadata": {},
     "output_type": "execute_result"
    }
   ],
   "source": [
    "import os\n",
    "size_in_bytes=os.path.getsize('out.csv')\n",
    "size_in_bytes"
   ]
  },
  {
   "cell_type": "markdown",
   "metadata": {},
   "source": [
    "use \"cat\" to write the output from file, \"|\" to redirect that output, and \"wc\" to count the number of lines"
   ]
  },
  {
   "cell_type": "code",
   "execution_count": 9,
   "metadata": {},
   "outputs": [
    {
     "name": "stdout",
     "output_type": "stream",
     "text": [
      "100\r\n"
     ]
    }
   ],
   "source": [
    "!cat out.csv | wc -l"
   ]
  },
  {
   "cell_type": "markdown",
   "metadata": {},
   "source": [
    "inspect the top 5 lines of the CSV using the linux command \"head\""
   ]
  },
  {
   "cell_type": "code",
   "execution_count": 10,
   "metadata": {},
   "outputs": [
    {
     "name": "stdout",
     "output_type": "stream",
     "text": [
      "id,name,email,phone,college,company\r",
      "\r\n",
      "1,Adam Chambers-Davies,rosiewatts@example.net,0121 4960844,psg,INFY\r",
      "\r\n",
      "2,Tony Evans,eharrison@example.org,+44(0)1154960277,sona,INFY\r",
      "\r\n",
      "3,Jeffrey Khan,bruceshirley@example.com,(0808) 157 0072,miamf,CTS\r",
      "\r\n",
      "4,Rosemary Preston,fgiles@example.net,0118 496 0766,foasmdg,HTC\r",
      "\r\n"
     ]
    }
   ],
   "source": [
    "!head -n 5 out.csv"
   ]
  },
  {
   "cell_type": "markdown",
   "metadata": {},
   "source": [
    "Use pandas to load the CSV from disk"
   ]
  },
  {
   "cell_type": "code",
   "execution_count": 11,
   "metadata": {},
   "outputs": [
    {
     "data": {
      "text/plain": [
       "'0.23.4'"
      ]
     },
     "execution_count": 11,
     "metadata": {},
     "output_type": "execute_result"
    }
   ],
   "source": [
    "import pandas\n",
    "pandas.__version__"
   ]
  },
  {
   "cell_type": "markdown",
   "metadata": {},
   "source": [
    "In order to measure the performance scaling, I'll need to time the operations"
   ]
  },
  {
   "cell_type": "code",
   "execution_count": 12,
   "metadata": {},
   "outputs": [],
   "source": [
    "import time"
   ]
  },
  {
   "cell_type": "markdown",
   "metadata": {},
   "source": [
    "As an example of how to time the loading of data, "
   ]
  },
  {
   "cell_type": "code",
   "execution_count": 13,
   "metadata": {},
   "outputs": [
    {
     "name": "stdout",
     "output_type": "stream",
     "text": [
      "0.10126519203186035\n"
     ]
    }
   ],
   "source": [
    "start = time.time() # Return the time in seconds since the epoch as a floating point number\n",
    "df =pandas.read_csv('out.csv')\n",
    "end = time.time()\n",
    "execution_time=end - start\n",
    "print(execution_time)"
   ]
  },
  {
   "cell_type": "markdown",
   "metadata": {},
   "source": [
    "For comparison with file size on disk, I'll use the \"sys\" module to measure how big the data is in memory once loaded to Python"
   ]
  },
  {
   "cell_type": "code",
   "execution_count": 14,
   "metadata": {},
   "outputs": [],
   "source": [
    "import sys"
   ]
  },
  {
   "cell_type": "markdown",
   "metadata": {},
   "source": [
    "loop over different CSV line counts and measure various aspects of the process"
   ]
  },
  {
   "cell_type": "code",
   "execution_count": 16,
   "metadata": {},
   "outputs": [
    {
     "name": "stdout",
     "output_type": "stream",
     "text": [
      "csv line count, elapsed time [seconds]\n",
      "csv creation time:  0.9946866035461426\n",
      "pandas load time:  0.005336284637451172\n",
      "100 ; elapsed: 1.003284215927124\n",
      "csv creation time:  1.4456596374511719\n",
      "pandas load time:  0.007540225982666016\n",
      "1000 ; elapsed: 1.4585881233215332\n",
      "csv creation time:  5.477174758911133\n",
      "pandas load time:  0.035140037536621094\n",
      "10000 ; elapsed: 5.522902250289917\n",
      "csv creation time:  23.920584678649902\n",
      "pandas load time:  0.16901040077209473\n",
      "50000 ; elapsed: 24.132712841033936\n",
      "csv creation time:  46.689337968826294\n",
      "pandas load time:  0.3334693908691406\n",
      "100000 ; elapsed: 47.09806180000305\n",
      "csv creation time:  238.90860962867737\n",
      "pandas load time:  1.7705659866333008\n",
      "500000 ; elapsed: 241.0396785736084\n"
     ]
    }
   ],
   "source": [
    "# I'm going to record measurements in these dictionaries\n",
    "# these values are what get plotted\n",
    "scaling_test_start=time.time()\n",
    "line_count_vs_file_size={}\n",
    "file_size_vs_load_time={}\n",
    "file_size_vs_df_size={}\n",
    "line_count_vs_load_time={}\n",
    "print('csv line count, elapsed time [seconds]')\n",
    "for csv_line_count in [100,1000,10000,50000,100000,500000]:\n",
    "    loop_start_time=time.time()\n",
    "    csv_start=time.time()\n",
    "    # call the function that generates a random CSV\n",
    "    create_csv(\"out.csv\",csv_line_count)\n",
    "    # in order to make sure the memory buffers are flushed, I'll generate a different CSV\n",
    "    create_csv(\"another.csv\",2000)\n",
    "    # how long did it take to create the CSV?\n",
    "    print('csv creation time: ',time.time()-csv_start)\n",
    "    # record the number of lines in CSV vs the size on disk\n",
    "    line_count_vs_file_size[csv_line_count]=os.path.getsize('out.csv')\n",
    "    load_start = time.time() \n",
    "    df =pandas.read_csv('out.csv')\n",
    "    load_time=time.time() - load_start\n",
    "    file_size_vs_load_time[os.path.getsize('out.csv')]=load_time\n",
    "    file_size_vs_df_size[os.path.getsize('out.csv')]=sys.getsizeof(df)  # in bytes\n",
    "    line_count_vs_load_time[csv_line_count]=load_time\n",
    "    print('pandas load time: ',line_count_vs_load_time[csv_line_count])\n",
    "    #all_reslts.append(this_dict)\n",
    "    print(csv_line_count,'; elapsed:',time.time()-loop_start_time)\n",
    "\n",
    "print('total run time:',time.time()-scaling_test_start,'seconds')"
   ]
  },
  {
   "cell_type": "code",
   "execution_count": 17,
   "metadata": {},
   "outputs": [],
   "source": [
    "import matplotlib.pyplot as plt"
   ]
  },
  {
   "cell_type": "markdown",
   "metadata": {},
   "source": [
    "As expected, the file size versus number of lines are linear"
   ]
  },
  {
   "cell_type": "code",
   "execution_count": 18,
   "metadata": {},
   "outputs": [
    {
     "data": {
      "image/png": "[encoded data removed]",
      "text/plain": [
       "<Figure size 432x288 with 1 Axes>"
      ]
     },
     "metadata": {
      "needs_background": "light"
     },
     "output_type": "display_data"
    }
   ],
   "source": [
    "y = line_count_vs_file_size.keys()\n",
    "x = line_count_vs_file_size.values()\n",
    "_=plt.scatter(x,y)\n",
    "_=plt.ylabel('file size [bytes]',fontsize=14)\n",
    "_=plt.xlabel('line count',fontsize=14)"
   ]
  },
  {
   "cell_type": "code",
   "execution_count": 19,
   "metadata": {},
   "outputs": [
    {
     "data": {
      "image/png": "[encoded data removed]",
      "text/plain": [
       "<Figure size 432x288 with 1 Axes>"
      ]
     },
     "metadata": {
      "needs_background": "light"
     },
     "output_type": "display_data"
    }
   ],
   "source": [
    "x = line_count_vs_load_time.keys()\n",
    "y = line_count_vs_load_time.values()\n",
    "_=plt.scatter(x,y)\n",
    "_=plt.xlabel('line count',fontsize=14)\n",
    "_=plt.ylabel('load time [seconds]',fontsize=14)"
   ]
  },
  {
   "cell_type": "code",
   "execution_count": 22,
   "metadata": {},
   "outputs": [
    {
     "data": {
      "image/png": "[encoded data removed]",
      "text/plain": [
       "<Figure size 432x288 with 1 Axes>"
      ]
     },
     "metadata": {
      "needs_background": "light"
     },
     "output_type": "display_data"
    }
   ],
   "source": [
    "x = file_size_vs_load_time.keys()\n",
    "y = file_size_vs_load_time.values()\n",
    "_=plt.scatter(x,y)\n",
    "_=plt.xlabel('file size [bytes]',fontsize=14)#, rotation='vertical')\n",
    "_=plt.ylabel('load time [seconds]',fontsize=14)"
   ]
  },
  {
   "cell_type": "code",
   "execution_count": 21,
   "metadata": {
    "scrolled": true
   },
   "outputs": [
    {
     "data": {
      "image/png": "[encoded data removed]",
      "text/plain": [
       "<Figure size 432x288 with 1 Axes>"
      ]
     },
     "metadata": {
      "needs_background": "light"
     },
     "output_type": "display_data"
    }
   ],
   "source": [
    "x = file_size_vs_df_size.keys()\n",
    "y = file_size_vs_df_size.values()\n",
    "_=plt.scatter(x,y)\n",
    "_=plt.xlabel('file size [bytes]',fontsize=14)\n",
    "_=plt.ylabel('df size [bytes]',fontsize=14)"
   ]
  },
  {
   "cell_type": "code",
   "execution_count": 23,
   "metadata": {},
   "outputs": [
    {
     "name": "stdout",
     "output_type": "stream",
     "text": [
      "total 38M\r\n",
      "drwxr-xr-x 12 jovyan  1000 4.0K Oct 31 01:17  .\r\n",
      "drwxr-xr-x  1 root   root  4.0K Jul 20 19:33  ..\r\n",
      "-rw-r--r--  1 jovyan users  555 Oct 29 11:33  algorithm_scaling.ipynb\r\n",
      "-rw-r--r--  1 jovyan users 135K Oct 31 01:17  another.csv\r\n",
      "-rw-r--r--  1 jovyan users  24K Oct 31 00:48  Bonferronis_principle.ipynb\r\n",
      "-rw-r--r--  1 jovyan  1000 279K Oct 28 00:11 'burstiness of my Chrome history.ipynb'\r\n",
      "drwxr-xr-x  4 jovyan users 4.0K Oct 28 22:38  .cache\r\n",
      "drwxr-xr-x  4 jovyan users 4.0K Oct 29 11:28  .config\r\n",
      "-rw-r--r--  1 jovyan users 6.9K Oct 29 11:29  dask.ipynb\r\n",
      "drwxr-xr-x  2 jovyan users 4.0K Oct 29 11:39  dask-worker-space\r\n",
      "-rw-r--r--  1 jovyan  1000 3.0M Oct 27 22:00  History\r\n",
      "drwxr-xr-x  4 jovyan  1000 4.0K Oct 31 01:25  homework\r\n",
      "-rw-r--r--  1 jovyan users  565 Oct 29 03:13  how_to_overwhelm_jupyter_compute.ipynb\r\n",
      "-rw-r--r--  1 jovyan users  57K Oct 31 01:17  how_to_overwhelm_jupyter_data_loading.ipynb\r\n",
      "drwxr-xr-x  2 jovyan users 4.0K Oct 30 23:01  .ipynb_checkpoints\r\n",
      "drwxr-xr-x  5 jovyan users 4.0K Oct 26 21:37  .ipython\r\n",
      "drwxr-xr-x  2 jovyan users 4.0K Oct 27 17:51  .jupyter\r\n",
      "drwx------  3 jovyan users 4.0K Oct 26 21:28  .local\r\n",
      "drwxr-xr-x  3 jovyan  1000 4.0K Oct 30 22:04  midterm\r\n",
      "-rw-r--r--  1 jovyan users 9.3K Oct 30 02:48  multiprocessing.ipynb\r\n",
      "-rw-r--r--  1 jovyan users  35M Oct 31 01:17  out.csv\r\n",
      "drwxr-xr-x  3 jovyan  1000 4.0K Oct 30 01:27  send_email\r\n",
      "-rw-r--r--  1 jovyan users  698 Oct 29 11:33  sparse_matrices.ipynb\r\n"
     ]
    }
   ],
   "source": [
    "!ls -hal"
   ]
  },
  {
   "cell_type": "code",
   "execution_count": null,
   "metadata": {},
   "outputs": [],
   "source": []
  }
 ],
 "metadata": {
  "kernelspec": {
   "display_name": "Python 3",
   "language": "python",
   "name": "python3"
  },
  "language_info": {
   "codemirror_mode": {
    "name": "ipython",
    "version": 3
   },
   "file_extension": ".py",
   "mimetype": "text/x-python",
   "name": "python",
   "nbconvert_exporter": "python",
   "pygments_lexer": "ipython3",
   "version": "3.6.3"
  }
 },
 "nbformat": 4,
 "nbformat_minor": 2
}
