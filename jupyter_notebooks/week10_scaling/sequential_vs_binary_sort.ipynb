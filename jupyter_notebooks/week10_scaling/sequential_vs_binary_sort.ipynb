{
 "cells": [
  {
   "cell_type": "markdown",
   "metadata": {},
   "source": [
    "Comparison of sequential vs binary sort"
   ]
  },
  {
   "cell_type": "code",
   "execution_count": 29,
   "metadata": {},
   "outputs": [],
   "source": [
    "import random\n",
    "import matplotlib.pyplot as plt\n",
    "import time"
   ]
  },
  {
   "cell_type": "code",
   "execution_count": 2,
   "metadata": {},
   "outputs": [
    {
     "data": {
      "text/plain": [
       "[8, 19, 14, 30, 20, 35, 97]"
      ]
     },
     "execution_count": 2,
     "metadata": {},
     "output_type": "execute_result"
    }
   ],
   "source": [
    "rand_list = random.sample(range(1, 100), 7)\n",
    "rand_list"
   ]
  },
  {
   "cell_type": "code",
   "execution_count": 3,
   "metadata": {},
   "outputs": [
    {
     "name": "stdout",
     "output_type": "stream",
     "text": [
      "[8, 14, 19, 20, 30, 35, 97]\n"
     ]
    }
   ],
   "source": [
    "rand_list.sort()\n",
    "print(rand_list)"
   ]
  },
  {
   "cell_type": "code",
   "execution_count": 4,
   "metadata": {},
   "outputs": [],
   "source": [
    "# https://rosettacode.org/wiki/Binary_search#Python\n",
    "def binary_search_recursive(l, value, low = 0, high = -1):\n",
    "    if not l: return -1\n",
    "    if(high == -1): high = len(l)-1\n",
    "    if low >= high:\n",
    "        if l[low] == value: return low\n",
    "        else: return -1\n",
    "    mid = (low+high)//2\n",
    "    if l[mid] > value: return binary_search_recursive(l, value, low, mid-1)\n",
    "    elif l[mid] < value: return binary_search_recursive(l, value, mid+1, high)\n",
    "    else: return mid"
   ]
  },
  {
   "cell_type": "code",
   "execution_count": 10,
   "metadata": {},
   "outputs": [],
   "source": [
    "value_to_find = rand_list[3]\n",
    "value_to_find"
   ]
  },
  {
   "cell_type": "code",
   "execution_count": 11,
   "metadata": {},
   "outputs": [
    {
     "name": "stdout",
     "output_type": "stream",
     "text": [
      "position of sought value in sorted list is\n"
     ]
    },
    {
     "data": {
      "text/plain": [
       "3"
      ]
     },
     "execution_count": 11,
     "metadata": {},
     "output_type": "execute_result"
    }
   ],
   "source": [
    "print(\"position of sought value in sorted list is\")\n",
    "binary_search_recursive(rand_list, value_to_find)"
   ]
  },
  {
   "cell_type": "code",
   "execution_count": 19,
   "metadata": {},
   "outputs": [],
   "source": [
    "#https://rosettacode.org/wiki/Binary_search#Python\n",
    "def binary_search_iterative(l, value):\n",
    "    low = 0\n",
    "    high = len(l)-1\n",
    "    while low <= high: \n",
    "        mid = (low+high)//2\n",
    "#        print(mid)\n",
    "        if l[mid] > value: high = mid-1\n",
    "        elif l[mid] < value: low = mid+1\n",
    "        else: return mid\n",
    "    return -1"
   ]
  },
  {
   "cell_type": "code",
   "execution_count": 20,
   "metadata": {},
   "outputs": [
    {
     "name": "stdout",
     "output_type": "stream",
     "text": [
      "position of sought value in sorted list is\n"
     ]
    },
    {
     "data": {
      "text/plain": [
       "2"
      ]
     },
     "execution_count": 20,
     "metadata": {},
     "output_type": "execute_result"
    }
   ],
   "source": [
    "print(\"position of sought value in sorted list is\")\n",
    "binary_search_iterative(rand_list, value_to_find)"
   ]
  },
  {
   "cell_type": "code",
   "execution_count": 21,
   "metadata": {},
   "outputs": [
    {
     "data": {
      "text/plain": [
       "28"
      ]
     },
     "execution_count": 21,
     "metadata": {},
     "output_type": "execute_result"
    }
   ],
   "source": [
    "rand_list[3]"
   ]
  },
  {
   "cell_type": "code",
   "execution_count": 22,
   "metadata": {},
   "outputs": [],
   "source": [
    "def sequential_search(lst, value):\n",
    "    for loc,this_entry in enumerate(lst):\n",
    "        if (this_entry==value): return loc"
   ]
  },
  {
   "cell_type": "code",
   "execution_count": 23,
   "metadata": {},
   "outputs": [
    {
     "data": {
      "text/plain": [
       "2"
      ]
     },
     "execution_count": 23,
     "metadata": {},
     "output_type": "execute_result"
    }
   ],
   "source": [
    "sequential_search(rand_list, value_to_find)"
   ]
  },
  {
   "cell_type": "code",
   "execution_count": 83,
   "metadata": {},
   "outputs": [],
   "source": [
    "number_of_tests=10\n",
    "initial_val=10000\n",
    "list_of_list_lengths=[initial_val,\n",
    "                      initial_val*10,\n",
    "                      initial_val*100,\n",
    "                      initial_val*1000]#,\n",
    "#                      initial_val*10000]"
   ]
  },
  {
   "cell_type": "code",
   "execution_count": 84,
   "metadata": {},
   "outputs": [
    {
     "name": "stdout",
     "output_type": "stream",
     "text": [
      "elapsed time: 0.3209080696105957\n",
      "elapsed time: 3.346607208251953\n",
      "elapsed time: 37.31441807746887\n",
      "elapsed time: 509.7984821796417\n"
     ]
    }
   ],
   "source": [
    "times_dict={}\n",
    "for list_len in list_of_list_lengths:\n",
    "    start_time_iteration=time.time()\n",
    "    times_from_test = []\n",
    "    for test_indx in range(number_of_tests):\n",
    "        rand_list = random.sample(range(1, list_len*10), list_len)\n",
    "        rand_list.sort()\n",
    "        value_to_find = random.choice(rand_list)\n",
    "        start_time_for_search = time.time()\n",
    "        _=binary_search_iterative(rand_list, value_to_find)\n",
    "        times_from_test.append(time.time()-start_time_for_search)\n",
    "    times_dict[list_len] = times_from_test\n",
    "    print('elapsed time:',time.time()-start_time_iteration)"
   ]
  },
  {
   "cell_type": "code",
   "execution_count": 85,
   "metadata": {},
   "outputs": [],
   "source": [
    "ave_results={}\n",
    "for len_of_list,list_of_times in times_dict.items():\n",
    "    ave_results[len_of_list]=sum(list_of_times)/len(list_of_times)"
   ]
  },
  {
   "cell_type": "code",
   "execution_count": 86,
   "metadata": {},
   "outputs": [
    {
     "data": {
      "text/plain": [
       "{10000: 1.4758110046386718e-05,\n",
       " 100000: 2.067089080810547e-05,\n",
       " 1000000: 2.4890899658203126e-05,\n",
       " 10000000: 0.00018677711486816406}"
      ]
     },
     "execution_count": 86,
     "metadata": {},
     "output_type": "execute_result"
    }
   ],
   "source": [
    "ave_results"
   ]
  },
  {
   "cell_type": "code",
   "execution_count": 87,
   "metadata": {},
   "outputs": [
    {
     "data": {
      "image/png": "[encoded data removed]",
      "text/plain": [
       "<Figure size 432x288 with 1 Axes>"
      ]
     },
     "metadata": {
      "needs_background": "light"
     },
     "output_type": "display_data"
    }
   ],
   "source": [
    "x = ave_results.keys()\n",
    "y = ave_results.values()\n",
    "_=plt.scatter(x,y)\n",
    "ax = plt.gca()\n",
    "ax.set_xscale('log')"
   ]
  },
  {
   "cell_type": "code",
   "execution_count": 88,
   "metadata": {},
   "outputs": [
    {
     "name": "stdout",
     "output_type": "stream",
     "text": [
      "elapsed time: 2.8773677349090576\n",
      "elapsed time: 3.34854793548584\n",
      "elapsed time: 36.32530379295349\n",
      "elapsed time: 466.06178188323975\n"
     ]
    }
   ],
   "source": [
    "times_dict={}\n",
    "for list_len in list_of_list_lengths:\n",
    "    start_time_iteration=time.time()\n",
    "    times_from_test = []\n",
    "    for test_indx in range(number_of_tests):\n",
    "        rand_list = random.sample(range(1, list_len*10), list_len)\n",
    "        rand_list.sort()\n",
    "        value_to_find = random.choice(rand_list)\n",
    "        start_time_for_search = time.time()\n",
    "        _=sequential_search(rand_list, value_to_find)\n",
    "        times_from_test.append(time.time()-start_time_for_search)\n",
    "    times_dict[list_len] = times_from_test\n",
    "    print('elapsed time:',time.time()-start_time_iteration)"
   ]
  },
  {
   "cell_type": "code",
   "execution_count": 89,
   "metadata": {},
   "outputs": [],
   "source": [
    "ave_results={}\n",
    "for len_of_list,list_of_times in times_dict.items():\n",
    "    ave_results[len_of_list]=sum(list_of_times)/len(list_of_times)"
   ]
  },
  {
   "cell_type": "code",
   "execution_count": 90,
   "metadata": {},
   "outputs": [
    {
     "data": {
      "image/png": "[encoded data removed]",
      "text/plain": [
       "<Figure size 432x288 with 1 Axes>"
      ]
     },
     "metadata": {
      "needs_background": "light"
     },
     "output_type": "display_data"
    }
   ],
   "source": [
    "x = ave_results.keys()\n",
    "y = ave_results.values()\n",
    "_=plt.scatter(x,y)\n",
    "ax = plt.gca()\n",
    "ax.set_xscale('log')"
   ]
  },
  {
   "cell_type": "code",
   "execution_count": 91,
   "metadata": {},
   "outputs": [
    {
     "data": {
      "image/png": "[encoded data removed]",
      "text/plain": [
       "<Figure size 432x288 with 1 Axes>"
      ]
     },
     "metadata": {
      "needs_background": "light"
     },
     "output_type": "display_data"
    }
   ],
   "source": [
    "x = ave_results.keys()\n",
    "y = ave_results.values()\n",
    "_=plt.scatter(x,y)"
   ]
  },
  {
   "cell_type": "code",
   "execution_count": null,
   "metadata": {},
   "outputs": [],
   "source": []
  }
 ],
 "metadata": {
  "kernelspec": {
   "display_name": "Python 3",
   "language": "python",
   "name": "python3"
  },
  "language_info": {
   "codemirror_mode": {
    "name": "ipython",
    "version": 3
   },
   "file_extension": ".py",
   "mimetype": "text/x-python",
   "name": "python",
   "nbconvert_exporter": "python",
   "pygments_lexer": "ipython3",
   "version": "3.6.6"
  }
 },
 "nbformat": 4,
 "nbformat_minor": 2
}
