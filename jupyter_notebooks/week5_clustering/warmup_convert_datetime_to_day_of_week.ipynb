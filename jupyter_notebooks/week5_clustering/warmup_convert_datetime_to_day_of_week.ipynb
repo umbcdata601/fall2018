{
 "cells": [
  {
   "cell_type": "code",
   "execution_count": 1,
   "metadata": {},
   "outputs": [],
   "source": [
    "import datetime\n",
    "import calendar"
   ]
  },
  {
   "cell_type": "code",
   "execution_count": 2,
   "metadata": {},
   "outputs": [
    {
     "name": "stdout",
     "output_type": "stream",
     "text": [
      "Exception reporting mode: Plain\n",
      "Doctest mode is: ON\n"
     ]
    }
   ],
   "source": [
    "%doctest_mode"
   ]
  },
  {
   "cell_type": "markdown",
   "metadata": {},
   "source": [
    "https://stackoverflow.com/questions/16766643/convert-date-string-to-day-of-week/16766750\n",
    "\n",
    "https://stackoverflow.com/questions/466345/converting-string-into-datetime\n",
    "\n",
    "http://pythontesting.net/framework/doctest/doctest-introduction/"
   ]
  },
  {
   "cell_type": "code",
   "execution_count": 3,
   "metadata": {},
   "outputs": [],
   "source": [
    "def convert_datetime_to_dayofweek(datetime_string):\n",
    "    \"\"\"\n",
    "    >>> convert_datetime_to_dayofweek('Jun 1 2005  1:33PM')\n",
    "    'Wednesday'\n",
    "    \n",
    "    >>> convert_datetime_to_dayofweek('Oct 25 2012  2:17AM')\n",
    "    'Thursday'\n",
    "    \"\"\"\n",
    "    datetime_object = datetime.datetime.strptime(datetime_string, '%b %d %Y %I:%M%p')\n",
    "    dayofweek=datetime_object.strftime('%A')\n",
    "    return dayofweek"
   ]
  },
  {
   "cell_type": "code",
   "execution_count": 4,
   "metadata": {},
   "outputs": [
    {
     "data": {
      "text/plain": [
       "'Wednesday'"
      ]
     },
     "execution_count": 4,
     "metadata": {},
     "output_type": "execute_result"
    }
   ],
   "source": [
    "convert_datetime_to_dayofweek('Jun 1 2005  1:33PM')"
   ]
  },
  {
   "cell_type": "code",
   "execution_count": 5,
   "metadata": {},
   "outputs": [
    {
     "data": {
      "text/plain": [
       "'Thursday'"
      ]
     },
     "execution_count": 5,
     "metadata": {},
     "output_type": "execute_result"
    }
   ],
   "source": [
    "convert_datetime_to_dayofweek('Oct 25 2012  2:17AM')"
   ]
  },
  {
   "cell_type": "markdown",
   "metadata": {},
   "source": [
    "https://stackoverflow.com/questions/9847213/how-do-i-get-the-day-of-week-given-a-date-in-python"
   ]
  },
  {
   "cell_type": "code",
   "execution_count": 6,
   "metadata": {},
   "outputs": [],
   "source": [
    "def convert_datetime_to_dayofweek_using_cal(datetime_string):\n",
    "    \"\"\"\n",
    "    >>> convert_datetime_to_dayofweek_using_cal('Jun 1 2005  1:33PM')\n",
    "    'Wednesday'\n",
    "    \n",
    "    >>> convert_datetime_to_dayofweek_using_cal('Oct 25 2012  2:17AM')\n",
    "    'Thursday'\n",
    "    \"\"\"\n",
    "    my_date=datetime.datetime.strptime(datetime_string, '%b %d %Y %I:%M%p')\n",
    "    return calendar.day_name[my_date.weekday()]"
   ]
  },
  {
   "cell_type": "code",
   "execution_count": 7,
   "metadata": {},
   "outputs": [
    {
     "data": {
      "text/plain": [
       "'Wednesday'"
      ]
     },
     "execution_count": 7,
     "metadata": {},
     "output_type": "execute_result"
    }
   ],
   "source": [
    "convert_datetime_to_dayofweek_using_cal('Jun 1 2005  1:33PM')"
   ]
  },
  {
   "cell_type": "markdown",
   "metadata": {},
   "source": [
    "https://stackoverflow.com/questions/40137950/possible-to-run-python-doctest-on-a-jupyter-cell-function"
   ]
  },
  {
   "cell_type": "code",
   "execution_count": 8,
   "metadata": {},
   "outputs": [
    {
     "data": {
      "text/plain": [
       "TestResults(failed=0, attempted=4)"
      ]
     },
     "execution_count": 8,
     "metadata": {},
     "output_type": "execute_result"
    }
   ],
   "source": [
    "import doctest\n",
    "doctest.testmod()"
   ]
  },
  {
   "cell_type": "code",
   "execution_count": 9,
   "metadata": {},
   "outputs": [],
   "source": [
    "doctest.run_docstring_examples(convert_datetime_to_dayofweek, globals())"
   ]
  },
  {
   "cell_type": "code",
   "execution_count": 10,
   "metadata": {},
   "outputs": [
    {
     "name": "stdout",
     "output_type": "stream",
     "text": [
      "Trying:\n",
      "    convert_datetime_to_dayofweek('Jun 1 2005  1:33PM')\n",
      "Expecting:\n",
      "    'Wednesday'\n",
      "ok\n",
      "Trying:\n",
      "    convert_datetime_to_dayofweek('Oct 25 2012  2:17AM')\n",
      "Expecting:\n",
      "    'Thursday'\n",
      "ok\n",
      "Trying:\n",
      "    convert_datetime_to_dayofweek_using_cal('Jun 1 2005  1:33PM')\n",
      "Expecting:\n",
      "    'Wednesday'\n",
      "ok\n",
      "Trying:\n",
      "    convert_datetime_to_dayofweek_using_cal('Oct 25 2012  2:17AM')\n",
      "Expecting:\n",
      "    'Thursday'\n",
      "ok\n",
      "1 items had no tests:\n",
      "    __main__\n",
      "2 items passed all tests:\n",
      "   2 tests in __main__.convert_datetime_to_dayofweek\n",
      "   2 tests in __main__.convert_datetime_to_dayofweek_using_cal\n",
      "4 tests in 3 items.\n",
      "4 passed and 0 failed.\n",
      "Test passed.\n"
     ]
    },
    {
     "data": {
      "text/plain": [
       "TestResults(failed=0, attempted=4)"
      ]
     },
     "execution_count": 10,
     "metadata": {},
     "output_type": "execute_result"
    }
   ],
   "source": [
    "doctest.testmod(verbose=True)"
   ]
  },
  {
   "cell_type": "code",
   "execution_count": null,
   "metadata": {},
   "outputs": [],
   "source": []
  }
 ],
 "metadata": {
  "kernelspec": {
   "display_name": "Python 3",
   "language": "python",
   "name": "python3"
  },
  "language_info": {
   "codemirror_mode": {
    "name": "ipython",
    "version": 3
   },
   "file_extension": ".py",
   "mimetype": "text/x-python",
   "name": "python",
   "nbconvert_exporter": "python",
   "pygments_lexer": "ipython3",
   "version": "3.5.1"
  }
 },
 "nbformat": 4,
 "nbformat_minor": 2
}
