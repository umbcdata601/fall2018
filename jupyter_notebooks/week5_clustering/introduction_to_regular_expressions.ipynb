{
 "cells": [
  {
   "cell_type": "markdown",
   "metadata": {},
   "source": [
    "https://docs.python.org/3/library/re.html\n",
    "\n",
    "https://docs.python.org/3/howto/regex.html"
   ]
  },
  {
   "cell_type": "code",
   "execution_count": null,
   "metadata": {},
   "outputs": [],
   "source": [
    "import re"
   ]
  },
  {
   "cell_type": "markdown",
   "metadata": {},
   "source": [
    "https://www.bradezone.com/2008/09/13/boring/"
   ]
  },
  {
   "cell_type": "code",
   "execution_count": null,
   "metadata": {},
   "outputs": [],
   "source": [
    "# %load text.py\n",
    "this_text=\"I go to the store. A car is parked. \\\n",
    "Many cars are parked or moving. Some are blue. \\\n",
    "Some are tan. They have windows. In the store, \\\n",
    "there are items for sale. These include such \\\n",
    "things as soap, detergent, magazines, and lettuce. \\\n",
    "You can enhance your life with these products. \\\n",
    "Soap can be used for bathing, be it in a bathtub \\\n",
    "or in a shower. My email address is myname@sc.edu. \\\n",
    "Apply the soap to your body and rinse. My phone \\\n",
    "number is 452-953-2942. Detergent is used to \\\n",
    "wash clothes. Place your dirty clothes \\\n",
    "into a washing machine and add some detergent \\\n",
    "as directed on the box. Your email is \\\n",
    "aperson@farm.com and your cell is 595-942-2424. \\\n",
    "Select the appropriate settings on your \\\n",
    "washing machine and you should be ready to \\\n",
    "begin. Magazines are stapled reading material \\\n",
    "made with glossy paper, and they cover a wide \\\n",
    "variety of topics, ranging from news and \\\n",
    "politics to business and stock market information.\""
   ]
  },
  {
   "cell_type": "markdown",
   "metadata": {},
   "source": [
    "Look for a number that exists in the text"
   ]
  },
  {
   "cell_type": "code",
   "execution_count": null,
   "metadata": {},
   "outputs": [],
   "source": [
    "re.findall(r\"953\",this_text)"
   ]
  },
  {
   "cell_type": "markdown",
   "metadata": {},
   "source": [
    "Look for a set of digits in a specific pattern"
   ]
  },
  {
   "cell_type": "code",
   "execution_count": null,
   "metadata": {},
   "outputs": [],
   "source": [
    "re.findall(r\"\\d\\d\\d-\\d\\d\\d-\\d\\d\\d\\d\",this_text)"
   ]
  },
  {
   "cell_type": "markdown",
   "metadata": {},
   "source": [
    "<BR>\n",
    "<BR>\n",
    "<BR>\n",
    "<BR>\n",
    "<BR>\n",
    "<BR>\n",
    "<BR>\n",
    "<BR>\n",
    "<BR>\n",
    "<BR>\n",
    "<BR>\n",
    "<BR>\n",
    "<BR>\n",
    "<BR>\n",
    "\n",
    "Same goal, but more concisely\n",
    "\n",
    "https://medium.com/factory-mind/regex-tutorial-a-simple-cheatsheet-by-examples-649dc1c3f285"
   ]
  },
  {
   "cell_type": "code",
   "execution_count": null,
   "metadata": {},
   "outputs": [],
   "source": [
    "re.findall(r\"\\d{3}-\\d{3}-\\d{4}\",this_text)"
   ]
  },
  {
   "cell_type": "markdown",
   "metadata": {},
   "source": [
    "For more patterns, see http://regexlib.com/Search.aspx?k=phone\n",
    "\n",
    "<BR>\n",
    "<BR>\n",
    "\n",
    "Look for an email address"
   ]
  },
  {
   "cell_type": "code",
   "execution_count": null,
   "metadata": {},
   "outputs": [],
   "source": [
    "re.findall(r\"@[a-z]\",this_text)"
   ]
  },
  {
   "cell_type": "markdown",
   "metadata": {},
   "source": [
    "To get all the letters in the domain, use +"
   ]
  },
  {
   "cell_type": "code",
   "execution_count": null,
   "metadata": {},
   "outputs": [],
   "source": [
    "re.findall(r\"@[a-z]+\",this_text)"
   ]
  },
  {
   "cell_type": "markdown",
   "metadata": {},
   "source": [
    "To get the letters proceeding the @, "
   ]
  },
  {
   "cell_type": "code",
   "execution_count": null,
   "metadata": {},
   "outputs": [],
   "source": [
    "re.findall(r\"[a-z]+@[a-z]+\",this_text)"
   ]
  },
  {
   "cell_type": "markdown",
   "metadata": {},
   "source": [
    "Including the domain requires we escape the . since the period is a special character for regex"
   ]
  },
  {
   "cell_type": "code",
   "execution_count": null,
   "metadata": {},
   "outputs": [],
   "source": [
    "re.findall(r\"[a-z]+@[a-z]+\\.[a-z]+\",this_text)"
   ]
  },
  {
   "cell_type": "markdown",
   "metadata": {},
   "source": [
    "Once a Regular Expression gets complicated, use comments to convey your intention"
   ]
  },
  {
   "cell_type": "code",
   "execution_count": null,
   "metadata": {},
   "outputs": [],
   "source": [
    "re.findall(r\"\"\"[a-z]+  # user name\n",
    "               @\n",
    "               [a-z]+  # domain\n",
    "               \\.\n",
    "               [a-z]+  # TLD, https://en.wikipedia.org/wiki/Top-level_domain\n",
    "               \"\"\",this_text, re.VERBOSE)"
   ]
  },
  {
   "cell_type": "markdown",
   "metadata": {},
   "source": [
    "http://regexlib.com/Search.aspx?k=email"
   ]
  },
  {
   "cell_type": "code",
   "execution_count": null,
   "metadata": {},
   "outputs": [],
   "source": [
    "a = re.compile(r\"\"\"\\d +  # the integral part\n",
    "                   \\.    # the decimal point\n",
    "                   \\d *  # some fractional digits\"\"\", re.VERBOSE)"
   ]
  },
  {
   "cell_type": "code",
   "execution_count": null,
   "metadata": {},
   "outputs": [],
   "source": [
    "re.sub(r\"\\d{4}\", \"XXXX\", this_text)"
   ]
  },
  {
   "cell_type": "markdown",
   "metadata": {},
   "source": [
    "I previously mentioned splitting on \".\" is a bad idea because it doesn't handle cases like \"Dr. Steve\"\n",
    "\n",
    "In this specific string, it turns out we can get away with splitting on \". \"<BR>\n",
    "However, this is not robust."
   ]
  },
  {
   "cell_type": "code",
   "execution_count": null,
   "metadata": {},
   "outputs": [],
   "source": [
    "list_of_lines=this_text.split(\". \")"
   ]
  },
  {
   "cell_type": "markdown",
   "metadata": {},
   "source": [
    "we can compile a Regular Expression for repeated use"
   ]
  },
  {
   "cell_type": "code",
   "execution_count": null,
   "metadata": {},
   "outputs": [],
   "source": [
    "myregex = re.compile(r\"\\d{4}\")\n",
    "for line in list_of_lines:\n",
    "    print(myregex.sub(\"XXXX\", line))"
   ]
  },
  {
   "cell_type": "code",
   "execution_count": null,
   "metadata": {},
   "outputs": [],
   "source": []
  }
 ],
 "metadata": {
  "kernelspec": {
   "display_name": "Python 3",
   "language": "python",
   "name": "python3"
  },
  "language_info": {
   "codemirror_mode": {
    "name": "ipython",
    "version": 3
   },
   "file_extension": ".py",
   "mimetype": "text/x-python",
   "name": "python",
   "nbconvert_exporter": "python",
   "pygments_lexer": "ipython3",
   "version": "3.5.1"
  }
 },
 "nbformat": 4,
 "nbformat_minor": 2
}
