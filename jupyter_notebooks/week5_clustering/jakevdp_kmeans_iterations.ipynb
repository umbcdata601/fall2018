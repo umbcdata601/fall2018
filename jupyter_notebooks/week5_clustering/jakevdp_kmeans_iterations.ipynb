{
 "cells": [
  {
   "cell_type": "markdown",
   "metadata": {},
   "source": [
    "https://jakevdp.github.io/PythonDataScienceHandbook/06.00-figure-code.html#Expectation-Maximization"
   ]
  },
  {
   "cell_type": "code",
   "execution_count": null,
   "metadata": {},
   "outputs": [],
   "source": [
    "import matplotlib.pylab as plt\n",
    "import numpy as np\n",
    "from sklearn.datasets.samples_generator import make_blobs\n",
    "\n",
    "# http://scikit-learn.org/stable/modules/generated/sklearn.metrics.pairwise_distances_argmin.html\n",
    "# Compute minimum distances between one point and a set of points.\n",
    "from sklearn.metrics import pairwise_distances_argmin"
   ]
  },
  {
   "cell_type": "code",
   "execution_count": null,
   "metadata": {},
   "outputs": [],
   "source": [
    "number_of_clusters=4\n",
    "X, y_true = make_blobs(n_samples=300, centers=number_of_clusters,\n",
    "                       cluster_std=0.60, random_state=0)\n",
    "\n",
    "rng = np.random.RandomState(42)\n",
    "centers = [0, 4] + rng.randn(number_of_clusters, 2)"
   ]
  },
  {
   "cell_type": "code",
   "execution_count": null,
   "metadata": {},
   "outputs": [],
   "source": [
    "def draw_points(ax, c, factor=1):\n",
    "    ax.scatter(X[:, 0], X[:, 1], c=c, cmap='viridis',\n",
    "               s=50 * factor, alpha=0.3)\n",
    "    \n",
    "def draw_centers(ax, centers, factor=1, alpha=1.0):\n",
    "    ax.scatter(centers[:, 0], centers[:, 1],\n",
    "               c=np.arange(number_of_clusters), cmap='viridis', s=200 * factor,\n",
    "               alpha=alpha)\n",
    "    ax.scatter(centers[:, 0], centers[:, 1],\n",
    "               c='black', s=50 * factor, alpha=alpha)\n",
    "\n",
    "def make_ax(fig, gs):\n",
    "    ax = fig.add_subplot(gs)\n",
    "    ax.xaxis.set_major_formatter(plt.NullFormatter())\n",
    "    ax.yaxis.set_major_formatter(plt.NullFormatter())\n",
    "    return ax"
   ]
  },
  {
   "cell_type": "code",
   "execution_count": null,
   "metadata": {},
   "outputs": [],
   "source": [
    "fig = plt.figure()\n",
    "ax = plt.gca()\n",
    "draw_points(ax, 'gray', factor=2)\n",
    "draw_centers(ax, centers, factor=2)\n",
    "print(\"initial centers\")\n",
    "print(centers)\n",
    "plt.title('Random Initialization')\n",
    "\n",
    "for indx in range(3):    \n",
    "    # E-step\n",
    "    fig = plt.figure()\n",
    "    ax = plt.gca()\n",
    "    y_pred = pairwise_distances_argmin(X, centers)\n",
    "    draw_points(ax, y_pred)\n",
    "    draw_centers(ax, centers)\n",
    "    plt.title('Expectation step '+str(indx))\n",
    "    \n",
    "    # M-step\n",
    "    fig = plt.figure()\n",
    "    ax = plt.gca()\n",
    "    new_centers = np.array([X[y_pred == i].mean(0) for i in range(number_of_clusters)])\n",
    "    # where the centers are:\n",
    "    print(\"centers \"+str(indx))\n",
    "    print(new_centers)\n",
    "    draw_points(ax, y_pred)\n",
    "    draw_centers(ax, centers, alpha=0.3)\n",
    "    draw_centers(ax, new_centers)\n",
    "    for loop_index in range(number_of_clusters):\n",
    "        ax.annotate('', new_centers[loop_index], centers[loop_index],\n",
    "                     arrowprops=dict(arrowstyle='->', linewidth=1))\n",
    "    plt.title('Maximization step '+str(indx))\n",
    "    \n",
    "    # Finish iteration\n",
    "    centers = new_centers\n",
    "\n",
    "# Final E-step    \n",
    "fig = plt.figure()\n",
    "ax = plt.gca()\n",
    "y_pred = pairwise_distances_argmin(X, centers)\n",
    "draw_points(ax, y_pred, factor=2)\n",
    "draw_centers(ax, centers, factor=2)\n",
    "_=plt.title(\"Final Clustering\")"
   ]
  },
  {
   "cell_type": "code",
   "execution_count": null,
   "metadata": {},
   "outputs": [],
   "source": []
  }
 ],
 "metadata": {
  "kernelspec": {
   "display_name": "Python 3",
   "language": "python",
   "name": "python3"
  },
  "language_info": {
   "codemirror_mode": {
    "name": "ipython",
    "version": 3
   },
   "file_extension": ".py",
   "mimetype": "text/x-python",
   "name": "python",
   "nbconvert_exporter": "python",
   "pygments_lexer": "ipython3",
   "version": "3.5.1"
  }
 },
 "nbformat": 4,
 "nbformat_minor": 2
}
