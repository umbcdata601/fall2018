{
 "cells": [
  {
   "cell_type": "markdown",
   "metadata": {},
   "source": [
    "https://jakevdp.github.io/PythonDataScienceHandbook/06.00-figure-code.html#Expectation-Maximization"
   ]
  },
  {
   "cell_type": "code",
   "execution_count": 1,
   "metadata": {},
   "outputs": [],
   "source": [
    "import matplotlib.pylab as plt\n",
    "import numpy as np\n",
    "from sklearn.datasets.samples_generator import make_blobs\n",
    "\n",
    "# http://scikit-learn.org/stable/modules/generated/sklearn.metrics.pairwise_distances_argmin.html\n",
    "# Compute minimum distances between one point and a set of points.\n",
    "from sklearn.metrics import pairwise_distances_argmin"
   ]
  },
  {
   "cell_type": "code",
   "execution_count": 2,
   "metadata": {},
   "outputs": [],
   "source": [
    "def draw_points(X,ax, c, factor=1):\n",
    "    ax.scatter(X[:, 0], X[:, 1], c=c, cmap='viridis',\n",
    "               s=50 * factor, alpha=0.3)\n",
    "    \n",
    "def draw_centers(number_of_clusters,ax, centers, factor=1, alpha=1.0):\n",
    "    ax.scatter(centers[:, 0], centers[:, 1],\n",
    "               c=np.arange(number_of_clusters), cmap='viridis', s=200 * factor,\n",
    "               alpha=alpha)\n",
    "    ax.scatter(centers[:, 0], centers[:, 1],\n",
    "               c='black', s=50 * factor, alpha=alpha)\n",
    "\n",
    "def make_ax(fig, gs):\n",
    "    ax = fig.add_subplot(gs)\n",
    "    ax.xaxis.set_major_formatter(plt.NullFormatter())\n",
    "    ax.yaxis.set_major_formatter(plt.NullFormatter())\n",
    "    return ax\n"
   ]
  },
  {
   "cell_type": "code",
   "execution_count": 3,
   "metadata": {},
   "outputs": [],
   "source": [
    "def kmeans(number_of_clusters,num_iterations,plot_figs):\n",
    "    # generate blobs of data points\n",
    "    X, y_true = make_blobs(n_samples=300, centers=4,\n",
    "                           cluster_std=0.60, random_state=0)\n",
    "\n",
    "    # initialize random centroid locations\n",
    "    rng = np.random.RandomState(42)\n",
    "    centers = [0, number_of_clusters] + rng.randn(number_of_clusters, 2)\n",
    "\n",
    "    if plot_figs:\n",
    "        fig = plt.figure()\n",
    "        ax = plt.gca()\n",
    "        draw_points(X,ax, 'gray', factor=1)\n",
    "        draw_centers(number_of_clusters,ax, centers, factor=1)\n",
    "        print(\"initial centers\")\n",
    "        print(centers)\n",
    "        plt.title('Random Initialization')\n",
    "\n",
    "    for indx in range(num_iterations):    \n",
    "        # E-step\n",
    "        y_pred = pairwise_distances_argmin(X, centers) # given a set of point and a set of centroids, determine which group each point is most likely in\n",
    "        if plot_figs:\n",
    "            fig = plt.figure()\n",
    "            ax = plt.gca()\n",
    "            draw_points(X,ax, y_pred)\n",
    "            draw_centers(number_of_clusters,ax, centers)\n",
    "            plt.title('Expectation step '+str(indx))\n",
    "    \n",
    "        # M-step\n",
    "        new_centers = np.array([X[y_pred == i].mean(0) for i in range(number_of_clusters)])\n",
    "        if plot_figs:\n",
    "            fig = plt.figure()\n",
    "            ax = plt.gca()\n",
    "            # where the centers are:\n",
    "            print(\"centers \"+str(indx))\n",
    "            print(new_centers)\n",
    "            draw_points(X,ax, y_pred)\n",
    "            draw_centers(number_of_clusters,ax, centers, alpha=0.3)\n",
    "            draw_centers(number_of_clusters,ax, new_centers)\n",
    "            for loop_index in range(number_of_clusters):\n",
    "                ax.annotate('', new_centers[loop_index], centers[loop_index],\n",
    "                             arrowprops=dict(arrowstyle='->', linewidth=1))\n",
    "            plt.title('Maximization step '+str(indx))\n",
    "    \n",
    "        # Finish iteration\n",
    "        centers = new_centers\n",
    "\n",
    "    # Final E-step    \n",
    "    y_pred = pairwise_distances_argmin(X, centers)\n",
    "    if plot_figs:\n",
    "        fig = plt.figure()\n",
    "        ax = plt.gca()\n",
    "        draw_points(X, ax, y_pred, factor=1)\n",
    "        draw_centers(number_of_clusters,ax, centers, factor=1)\n",
    "        _=plt.title(\"Final Clustering\")\n",
    "    return X,y_pred,centers"
   ]
  },
  {
   "cell_type": "markdown",
   "metadata": {},
   "source": [
    "within cluster sum of square "
   ]
  },
  {
   "cell_type": "code",
   "execution_count": 4,
   "metadata": {},
   "outputs": [],
   "source": [
    "X,y_pred,centers = kmeans(number_of_clusters=3,num_iterations=4,plot_figs=False)"
   ]
  },
  {
   "cell_type": "code",
   "execution_count": null,
   "metadata": {},
   "outputs": [],
   "source": []
  },
  {
   "cell_type": "code",
   "execution_count": 16,
   "metadata": {},
   "outputs": [
    {
     "name": "stdout",
     "output_type": "stream",
     "text": [
      "1 2812.1375953032334\n",
      "2 1340.3267091030493\n",
      "3 682.1431089738466\n",
      "4 212.0059962108348\n",
      "5 188.77323556773695\n",
      "6 170.14349063243066\n"
     ]
    }
   ],
   "source": [
    "list_of_sumofsq=[]\n",
    "num_clstr_range=range(1,7)\n",
    "for number_of_clusters in num_clstr_range:\n",
    "    X,y_pred,centers = kmeans(number_of_clusters,num_iterations=4,plot_figs=False)\n",
    "    sumofsq=0\n",
    "    centroid_indx=-1\n",
    "    for this_centroid_coords in centers:\n",
    "        centroid_indx+=1\n",
    "        for this_dot in X[y_pred==centroid_indx]:\n",
    "            # https://stackoverflow.com/questions/1401712/how-can-the-euclidean-distance-be-calculated-with-numpy\n",
    "            sumofsq+=np.linalg.norm(this_dot - this_centroid_coords)**2\n",
    "    list_of_sumofsq.append(sumofsq)\n",
    "    print(number_of_clusters,sumofsq)"
   ]
  },
  {
   "cell_type": "code",
   "execution_count": 18,
   "metadata": {},
   "outputs": [
    {
     "data": {
      "image/png": "[encoded data removed]",
      "text/plain": [
       "<Figure size 432x288 with 1 Axes>"
      ]
     },
     "metadata": {},
     "output_type": "display_data"
    }
   ],
   "source": [
    "_=plt.scatter(num_clstr_range,y=list_of_sumofsq)\n",
    "_=plt.xlabel('k',fontsize=12)\n",
    "_=plt.ylabel('sum of squared errors',fontsize=12)"
   ]
  },
  {
   "cell_type": "markdown",
   "metadata": {},
   "source": [
    "<BR>\n",
    "<BR>\n",
    "<BR>\n",
    "<BR>\n",
    "<BR>\n",
    "<BR>\n",
    "<BR>\n",
    "<BR>\n",
    "<BR>\n",
    "\n",
    "For an sklearn-based example, see\n",
    "\n",
    "https://stackoverflow.com/questions/19197715/scikit-learn-k-means-elbow-criterion"
   ]
  },
  {
   "cell_type": "code",
   "execution_count": null,
   "metadata": {},
   "outputs": [],
   "source": []
  }
 ],
 "metadata": {
  "kernelspec": {
   "display_name": "Python 3",
   "language": "python",
   "name": "python3"
  },
  "language_info": {
   "codemirror_mode": {
    "name": "ipython",
    "version": 3
   },
   "file_extension": ".py",
   "mimetype": "text/x-python",
   "name": "python",
   "nbconvert_exporter": "python",
   "pygments_lexer": "ipython3",
   "version": "3.5.1"
  }
 },
 "nbformat": 4,
 "nbformat_minor": 2
}
