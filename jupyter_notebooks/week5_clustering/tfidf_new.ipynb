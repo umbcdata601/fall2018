{
 "cells": [
  {
   "cell_type": "markdown",
   "metadata": {},
   "source": [
    "https://en.wikipedia.org/wiki/Tf%E2%80%93idf\n",
    "\n",
    "https://stevenloria.com/tf-idf/"
   ]
  },
  {
   "cell_type": "code",
   "execution_count": 2,
   "metadata": {},
   "outputs": [],
   "source": [
    "import math\n",
    "from textblob import TextBlob as tb"
   ]
  },
  {
   "cell_type": "code",
   "execution_count": 3,
   "metadata": {},
   "outputs": [],
   "source": [
    "# computes \"term frequency\" which is the number of times a word appears in a document blob, \n",
    "# normalized by dividing by the total number of words in blob. \n",
    "# We use TextBlob for breaking up the text into words and getting the word counts.\n",
    "def tf(word, blob):\n",
    "    return blob.words.count(word) / len(blob.words)\n",
    "\n",
    "# returns the number of documents containing word. \n",
    "# A generator expression is passed to the sum() function.\n",
    "def n_containing(word, bloblist):\n",
    "    return sum(1 for blob in bloblist if word in blob.words)\n",
    "\n",
    "# computes \"inverse document frequency\" which measures \n",
    "# how common a word is among all documents in bloblist. \n",
    "# The more common a word is, the lower its idf. \n",
    "# We take the ratio of the total number of documents \n",
    "# to the number of documents containing word, \n",
    "# then take the log of that. Add 1 to the divisor to prevent division by zero.\n",
    "def idf(word, bloblist):\n",
    "    return math.log(len(bloblist) / (1 + n_containing(word, bloblist)))\n",
    "\n",
    "# computes the TF-IDF score. It's the product of tf and idf.\n",
    "def tfidf(word, blob, bloblist):\n",
    "    return tf(word, blob) * idf(word, bloblist)"
   ]
  },
  {
   "cell_type": "code",
   "execution_count": null,
   "metadata": {},
   "outputs": [],
   "source": [
    "# %load text.py\n",
    "this_text=\"I go to the store. A car is parked. \\\n",
    "Many cars are parked or moving. Some are blue. \\\n",
    "Some are tan. They have windows. In the store, \\\n",
    "there are items for sale. These include such \\\n",
    "things as soap, detergent, magazines, and lettuce. \\\n",
    "You can enhance your life with these products. \\\n",
    "Soap can be used for bathing, be it in a bathtub \\\n",
    "or in a shower. My email address is myname@sc.edu. \\\n",
    "Apply the soap to your body and rinse. My phone \\\n",
    "number is 452-953-2942. Detergent is used to \\\n",
    "wash clothes. Place your dirty clothes \\\n",
    "into a washing machine and add some detergent \\\n",
    "as directed on the box. Your email is \\\n",
    "aperson@farm.com and your cell is 595-942-2424. \\\n",
    "Select the appropriate settings on your \\\n",
    "washing machine and you should be ready to \\\n",
    "begin. Magazines are stapled reading material \\\n",
    "made with glossy paper, and they cover a wide \\\n",
    "variety of topics, ranging from news and \\\n",
    "politics to business and stock market information.\""
   ]
  },
  {
   "cell_type": "code",
   "execution_count": null,
   "metadata": {},
   "outputs": [],
   "source": []
  }
 ],
 "metadata": {
  "kernelspec": {
   "display_name": "Python 3",
   "language": "python",
   "name": "python3"
  },
  "language_info": {
   "codemirror_mode": {
    "name": "ipython",
    "version": 3
   },
   "file_extension": ".py",
   "mimetype": "text/x-python",
   "name": "python",
   "nbconvert_exporter": "python",
   "pygments_lexer": "ipython3",
   "version": "3.5.1"
  }
 },
 "nbformat": 4,
 "nbformat_minor": 2
}
