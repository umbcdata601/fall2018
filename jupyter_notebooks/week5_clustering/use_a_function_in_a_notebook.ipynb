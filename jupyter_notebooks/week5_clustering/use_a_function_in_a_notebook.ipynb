{
 "cells": [
  {
   "cell_type": "code",
   "execution_count": null,
   "metadata": {},
   "outputs": [],
   "source": [
    "import pandas\n",
    "pandas.__version__"
   ]
  },
  {
   "cell_type": "code",
   "execution_count": null,
   "metadata": {},
   "outputs": [],
   "source": [
    "df = pandas.read_csv(\"https://people.sc.fsu.edu/~jburkardt/data/csv/mlb_players.csv\", \n",
    "                     skiprows=[1035],\n",
    "                     skipinitialspace=True)\n",
    "df.head()"
   ]
  },
  {
   "cell_type": "markdown",
   "metadata": {},
   "source": [
    "Here's a function that we may use often to explore a dataframe:"
   ]
  },
  {
   "cell_type": "code",
   "execution_count": null,
   "metadata": {},
   "outputs": [],
   "source": [
    "for this_column in df.columns:\n",
    "    print(\"==== \",this_column,\"has\",df[this_column].nunique(),\"unique entries ====\")\n",
    "    print(df[this_column].value_counts().head(10))"
   ]
  },
  {
   "cell_type": "markdown",
   "metadata": {},
   "source": [
    "Rather than copy-pasting it from notebook to notebook, place the code inside a function in a .py file.\n",
    "\n",
    "To show you the contents of the .py file, I'll use \"cat\" command:"
   ]
  },
  {
   "cell_type": "code",
   "execution_count": 13,
   "metadata": {},
   "outputs": [
    {
     "name": "stdout",
     "output_type": "stream",
     "text": [
      "def unique_entries_in_frame(df,count):\r\n",
      "    for this_column in df.columns:\r\n",
      "        print(\"==== \",this_column,\"has\",df[this_column].nunique(),\"unique entries ====\")\r\n",
      "        print(df[this_column].value_counts().head(count))\r\n",
      "    return"
     ]
    }
   ],
   "source": [
    "!cat myfunctions.py"
   ]
  },
  {
   "cell_type": "code",
   "execution_count": 14,
   "metadata": {},
   "outputs": [],
   "source": [
    "%run myfunctions.py"
   ]
  },
  {
   "cell_type": "code",
   "execution_count": 15,
   "metadata": {},
   "outputs": [
    {
     "name": "stdout",
     "output_type": "stream",
     "text": [
      "====  Name has 1032 unique entries ====\n",
      "Chris Young        2\n",
      "Tony Pe?a          2\n",
      "Garret Anderson    1\n",
      "Brian Shouse       1\n",
      "A.J. Murray        1\n",
      "Name: Name, dtype: int64\n",
      "====  Team has 30 unique entries ====\n",
      "NYM    38\n",
      "OAK    37\n",
      "ATL    37\n",
      "DET    37\n",
      "CHC    36\n",
      "Name: Team, dtype: int64\n",
      "====  Position has 9 unique entries ====\n",
      "Relief Pitcher      315\n",
      "Starting Pitcher    221\n",
      "Outfielder          194\n",
      "Catcher              76\n",
      "Second Baseman       58\n",
      "Name: Position, dtype: int64\n",
      "====  Height(inches) has 17 unique entries ====\n",
      "74    175\n",
      "73    167\n",
      "75    160\n",
      "72    152\n",
      "76    103\n",
      "Name: Height(inches), dtype: int64\n",
      "====  Weight(lbs) has 89 unique entries ====\n",
      "200.0    108\n",
      "190.0     97\n",
      "180.0     81\n",
      "210.0     72\n",
      "220.0     72\n",
      "Name: Weight(lbs), dtype: int64\n",
      "====  Age has 725 unique entries ====\n",
      "24.94    7\n",
      "27.12    6\n",
      "31.28    5\n",
      "24.63    5\n",
      "29.95    4\n",
      "Name: Age, dtype: int64\n"
     ]
    }
   ],
   "source": [
    "unique_entries_in_frame(df,5)"
   ]
  },
  {
   "cell_type": "markdown",
   "metadata": {},
   "source": [
    "https://stackoverflow.com/questions/21034373/how-to-load-edit-run-save-text-files-py-into-an-ipython-notebook-cell"
   ]
  },
  {
   "cell_type": "code",
   "execution_count": null,
   "metadata": {},
   "outputs": [],
   "source": [
    "%load myfunctions.py"
   ]
  },
  {
   "cell_type": "code",
   "execution_count": null,
   "metadata": {},
   "outputs": [],
   "source": []
  }
 ],
 "metadata": {
  "kernelspec": {
   "display_name": "Python 3",
   "language": "python",
   "name": "python3"
  },
  "language_info": {
   "codemirror_mode": {
    "name": "ipython",
    "version": 3
   },
   "file_extension": ".py",
   "mimetype": "text/x-python",
   "name": "python",
   "nbconvert_exporter": "python",
   "pygments_lexer": "ipython3",
   "version": "3.5.1"
  }
 },
 "nbformat": 4,
 "nbformat_minor": 2
}
