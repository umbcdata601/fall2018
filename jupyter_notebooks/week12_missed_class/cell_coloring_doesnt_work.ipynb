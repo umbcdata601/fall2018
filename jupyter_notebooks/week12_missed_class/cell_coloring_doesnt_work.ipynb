{
 "cells": [
  {
   "cell_type": "code",
   "execution_count": 3,
   "metadata": {},
   "outputs": [
    {
     "name": "stdout",
     "output_type": "stream",
     "text": [
      "7.1.1\n"
     ]
    }
   ],
   "source": [
    "import IPython\n",
    "print(IPython.__version__)"
   ]
  },
  {
   "cell_type": "code",
   "execution_count": 5,
   "metadata": {},
   "outputs": [
    {
     "name": "stdout",
     "output_type": "stream",
     "text": [
      "4.4.0\r\n"
     ]
    }
   ],
   "source": [
    "!jupyter --version"
   ]
  },
  {
   "cell_type": "code",
   "execution_count": 6,
   "metadata": {},
   "outputs": [
    {
     "name": "stdout",
     "output_type": "stream",
     "text": [
      "7.1.1\r\n"
     ]
    }
   ],
   "source": [
    "!ipython --version"
   ]
  },
  {
   "cell_type": "code",
   "execution_count": 4,
   "metadata": {},
   "outputs": [
    {
     "name": "stdout",
     "output_type": "stream",
     "text": [
      "Collecting jupyterthemes\n",
      "\u001b[?25l  Downloading https://files.pythonhosted.org/packages/4f/01/44ae9402942d64f70acd10868a92e82eeda5dcaffc10e28af87191633401/jupyterthemes-0.19.6-py2.py3-none-any.whl (7.0MB)\n",
      "\u001b[K    100% |████████████████████████████████| 7.0MB 172kB/s ta 0:00:011 0% |▎                               | 61kB 856kB/s eta 0:00:09\n",
      "\u001b[?25hRequirement already satisfied, skipping upgrade: jupyter-core in /opt/conda/lib/python3.6/site-packages (from jupyterthemes) (4.4.0)\n",
      "Collecting lesscpy>=0.11.2 (from jupyterthemes)\n",
      "\u001b[?25l  Downloading https://files.pythonhosted.org/packages/10/d0/fdd9874972e07ae8727a3d26b433891d8605b96999ea99bbf506e756a7b1/lesscpy-0.13.0-py2.py3-none-any.whl (48kB)\n",
      "\u001b[K    100% |████████████████████████████████| 51kB 603kB/s ta 0:00:01\n",
      "\u001b[?25hRequirement already satisfied, skipping upgrade: ipython>=5.4.1 in /opt/conda/lib/python3.6/site-packages (from jupyterthemes) (7.1.1)\n",
      "Requirement already satisfied, skipping upgrade: notebook>=5.6.0 in /opt/conda/lib/python3.6/site-packages (from jupyterthemes) (5.7.0)\n",
      "Requirement already satisfied, skipping upgrade: matplotlib>=1.4.3 in /opt/conda/lib/python3.6/site-packages (from jupyterthemes) (2.2.3)\n",
      "Requirement already satisfied, skipping upgrade: traitlets in /opt/conda/lib/python3.6/site-packages (from jupyter-core->jupyterthemes) (4.3.2)\n",
      "Requirement already satisfied, skipping upgrade: six in /opt/conda/lib/python3.6/site-packages (from lesscpy>=0.11.2->jupyterthemes) (1.11.0)\n",
      "Collecting ply (from lesscpy>=0.11.2->jupyterthemes)\n",
      "\u001b[?25l  Downloading https://files.pythonhosted.org/packages/a3/58/35da89ee790598a0700ea49b2a66594140f44dec458c07e8e3d4979137fc/ply-3.11-py2.py3-none-any.whl (49kB)\n",
      "\u001b[K    100% |████████████████████████████████| 51kB 935kB/s ta 0:00:01\n",
      "\u001b[?25hRequirement already satisfied, skipping upgrade: setuptools>=18.5 in /opt/conda/lib/python3.6/site-packages (from ipython>=5.4.1->jupyterthemes) (40.6.2)\n",
      "Requirement already satisfied, skipping upgrade: jedi>=0.10 in /opt/conda/lib/python3.6/site-packages (from ipython>=5.4.1->jupyterthemes) (0.13.1)\n",
      "Requirement already satisfied, skipping upgrade: decorator in /opt/conda/lib/python3.6/site-packages (from ipython>=5.4.1->jupyterthemes) (4.3.0)\n",
      "Requirement already satisfied, skipping upgrade: pickleshare in /opt/conda/lib/python3.6/site-packages (from ipython>=5.4.1->jupyterthemes) (0.7.5)\n",
      "Requirement already satisfied, skipping upgrade: prompt_toolkit<2.1.0,>=2.0.0 in /opt/conda/lib/python3.6/site-packages (from ipython>=5.4.1->jupyterthemes) (2.0.7)\n",
      "Requirement already satisfied, skipping upgrade: pygments in /opt/conda/lib/python3.6/site-packages (from ipython>=5.4.1->jupyterthemes) (2.2.0)\n",
      "Requirement already satisfied, skipping upgrade: backcall in /opt/conda/lib/python3.6/site-packages (from ipython>=5.4.1->jupyterthemes) (0.1.0)\n",
      "Requirement already satisfied, skipping upgrade: pexpect in /opt/conda/lib/python3.6/site-packages (from ipython>=5.4.1->jupyterthemes) (4.6.0)\n",
      "Requirement already satisfied, skipping upgrade: jinja2 in /opt/conda/lib/python3.6/site-packages (from notebook>=5.6.0->jupyterthemes) (2.10)\n",
      "Requirement already satisfied, skipping upgrade: tornado>=4 in /opt/conda/lib/python3.6/site-packages (from notebook>=5.6.0->jupyterthemes) (5.1.1)\n",
      "Requirement already satisfied, skipping upgrade: pyzmq>=17 in /opt/conda/lib/python3.6/site-packages (from notebook>=5.6.0->jupyterthemes) (17.1.2)\n",
      "Requirement already satisfied, skipping upgrade: ipython_genutils in /opt/conda/lib/python3.6/site-packages (from notebook>=5.6.0->jupyterthemes) (0.2.0)\n",
      "Requirement already satisfied, skipping upgrade: jupyter_client>=5.2.0 in /opt/conda/lib/python3.6/site-packages (from notebook>=5.6.0->jupyterthemes) (5.2.3)\n",
      "Requirement already satisfied, skipping upgrade: nbformat in /opt/conda/lib/python3.6/site-packages (from notebook>=5.6.0->jupyterthemes) (4.4.0)\n",
      "Requirement already satisfied, skipping upgrade: nbconvert in /opt/conda/lib/python3.6/site-packages (from notebook>=5.6.0->jupyterthemes) (5.3.1)\n",
      "Requirement already satisfied, skipping upgrade: ipykernel in /opt/conda/lib/python3.6/site-packages (from notebook>=5.6.0->jupyterthemes) (5.1.0)\n",
      "Requirement already satisfied, skipping upgrade: Send2Trash in /opt/conda/lib/python3.6/site-packages (from notebook>=5.6.0->jupyterthemes) (1.5.0)\n",
      "Requirement already satisfied, skipping upgrade: terminado>=0.8.1 in /opt/conda/lib/python3.6/site-packages (from notebook>=5.6.0->jupyterthemes) (0.8.1)\n",
      "Requirement already satisfied, skipping upgrade: prometheus_client in /opt/conda/lib/python3.6/site-packages (from notebook>=5.6.0->jupyterthemes) (0.4.2)\n",
      "Requirement already satisfied, skipping upgrade: numpy>=1.7.1 in /opt/conda/lib/python3.6/site-packages (from matplotlib>=1.4.3->jupyterthemes) (1.15.4)\n",
      "Requirement already satisfied, skipping upgrade: cycler>=0.10 in /opt/conda/lib/python3.6/site-packages (from matplotlib>=1.4.3->jupyterthemes) (0.10.0)\n",
      "Requirement already satisfied, skipping upgrade: pyparsing!=2.0.4,!=2.1.2,!=2.1.6,>=2.0.1 in /opt/conda/lib/python3.6/site-packages (from matplotlib>=1.4.3->jupyterthemes) (2.3.0)\n",
      "Requirement already satisfied, skipping upgrade: python-dateutil>=2.1 in /opt/conda/lib/python3.6/site-packages (from matplotlib>=1.4.3->jupyterthemes) (2.7.5)\n",
      "Requirement already satisfied, skipping upgrade: pytz in /opt/conda/lib/python3.6/site-packages (from matplotlib>=1.4.3->jupyterthemes) (2018.7)\n",
      "Requirement already satisfied, skipping upgrade: kiwisolver>=1.0.1 in /opt/conda/lib/python3.6/site-packages (from matplotlib>=1.4.3->jupyterthemes) (1.0.1)\n",
      "Requirement already satisfied, skipping upgrade: parso>=0.3.0 in /opt/conda/lib/python3.6/site-packages (from jedi>=0.10->ipython>=5.4.1->jupyterthemes) (0.3.1)\n",
      "Requirement already satisfied, skipping upgrade: wcwidth in /opt/conda/lib/python3.6/site-packages (from prompt_toolkit<2.1.0,>=2.0.0->ipython>=5.4.1->jupyterthemes) (0.1.7)\n",
      "Requirement already satisfied, skipping upgrade: ptyprocess>=0.5 in /opt/conda/lib/python3.6/site-packages (from pexpect->ipython>=5.4.1->jupyterthemes) (0.6.0)\n",
      "Requirement already satisfied, skipping upgrade: MarkupSafe>=0.23 in /opt/conda/lib/python3.6/site-packages (from jinja2->notebook>=5.6.0->jupyterthemes) (1.1.0)\n",
      "Requirement already satisfied, skipping upgrade: jsonschema!=2.5.0,>=2.4 in /opt/conda/lib/python3.6/site-packages (from nbformat->notebook>=5.6.0->jupyterthemes) (3.0.0a3)\n",
      "Requirement already satisfied, skipping upgrade: mistune>=0.7.4 in /opt/conda/lib/python3.6/site-packages (from nbconvert->notebook>=5.6.0->jupyterthemes) (0.8.4)\n",
      "Requirement already satisfied, skipping upgrade: pandocfilters>=1.4.1 in /opt/conda/lib/python3.6/site-packages (from nbconvert->notebook>=5.6.0->jupyterthemes) (1.4.2)\n",
      "Requirement already satisfied, skipping upgrade: entrypoints>=0.2.2 in /opt/conda/lib/python3.6/site-packages (from nbconvert->notebook>=5.6.0->jupyterthemes) (0.2.3)\n",
      "Requirement already satisfied, skipping upgrade: testpath in /opt/conda/lib/python3.6/site-packages (from nbconvert->notebook>=5.6.0->jupyterthemes) (0.4.2)\n",
      "Requirement already satisfied, skipping upgrade: bleach in /opt/conda/lib/python3.6/site-packages (from nbconvert->notebook>=5.6.0->jupyterthemes) (3.0.2)\n",
      "Requirement already satisfied, skipping upgrade: attrs>=17.4.0 in /opt/conda/lib/python3.6/site-packages (from jsonschema!=2.5.0,>=2.4->nbformat->notebook>=5.6.0->jupyterthemes) (18.2.0)\n",
      "Requirement already satisfied, skipping upgrade: pyrsistent>=0.14.0 in /opt/conda/lib/python3.6/site-packages (from jsonschema!=2.5.0,>=2.4->nbformat->notebook>=5.6.0->jupyterthemes) (0.14.5)\n",
      "Requirement already satisfied, skipping upgrade: webencodings in /opt/conda/lib/python3.6/site-packages (from bleach->nbconvert->notebook>=5.6.0->jupyterthemes) (0.5.1)\n",
      "Installing collected packages: ply, lesscpy, jupyterthemes\n",
      "Successfully installed jupyterthemes-0.19.6 lesscpy-0.13.0 ply-3.11\n"
     ]
    }
   ],
   "source": [
    "!pip install --upgrade jupyterthemes"
   ]
  },
  {
   "cell_type": "code",
   "execution_count": 1,
   "metadata": {},
   "outputs": [],
   "source": [
    "from IPython.display import HTML, display\n",
    "\n",
    "def set_background(color):    \n",
    "    script = (\n",
    "        \"var cell = this.closest('.jp-CodeCell');\"\n",
    "        \"var editor = cell.querySelector('.jp-Editor');\"\n",
    "        \"editor.style.background='{}';\"\n",
    "        \"this.parentNode.removeChild(this)\"\n",
    "    ).format(color)\n",
    "\n",
    "    display(HTML('<img src onerror=\"{}\">'.format(script)))"
   ]
  },
  {
   "cell_type": "code",
   "execution_count": 2,
   "metadata": {},
   "outputs": [
    {
     "data": {
      "text/html": [
       "<img src onerror=\"var cell = this.closest('.jp-CodeCell');var editor = cell.querySelector('.jp-Editor');editor.style.background='honeydew';this.parentNode.removeChild(this)\">"
      ],
      "text/plain": [
       "<IPython.core.display.HTML object>"
      ]
     },
     "metadata": {},
     "output_type": "display_data"
    }
   ],
   "source": [
    "set_background('honeydew')"
   ]
  },
  {
   "cell_type": "code",
   "execution_count": null,
   "metadata": {},
   "outputs": [],
   "source": []
  }
 ],
 "metadata": {
  "kernelspec": {
   "display_name": "Python 3",
   "language": "python",
   "name": "python3"
  },
  "language_info": {
   "codemirror_mode": {
    "name": "ipython",
    "version": 3
   },
   "file_extension": ".py",
   "mimetype": "text/x-python",
   "name": "python",
   "nbconvert_exporter": "python",
   "pygments_lexer": "ipython3",
   "version": "3.6.6"
  }
 },
 "nbformat": 4,
 "nbformat_minor": 2
}
