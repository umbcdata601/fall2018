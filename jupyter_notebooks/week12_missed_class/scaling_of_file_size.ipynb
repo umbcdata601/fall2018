{
 "cells": [
  {
   "cell_type": "markdown",
   "metadata": {},
   "source": [
    "Write Python code that can create a CSV containing 10 columns of text data​.\n",
    "\n",
    "Each entry should be between 5 and 20 characters​.\n",
    "\n",
    "Generate  files of size {0.1, 1, 5, 10, 100, 500} MB of data​.\n",
    "\n",
    "Measure how much time it takes to write the files to disk. Do not include the time used in creating the random entries.​\n",
    "\n",
    "Repeat the above test three times​.\n",
    "\n",
    "Measure how much time it takes for your computer to load the data into a Pandas dataframe.​\n",
    "\n",
    "Plot both the write times and load times versus file size​.\n",
    "\n",
    "Submit your python notebook (.ipynb file) containing the code for the experiment and the results. Results are a table of values and plots. ​"
   ]
  },
  {
   "cell_type": "code",
   "execution_count": 1,
   "metadata": {},
   "outputs": [],
   "source": [
    "import pandas\n",
    "import time\n",
    "import faker\n",
    "import os\n",
    "import matplotlib.pyplot as plt"
   ]
  },
  {
   "cell_type": "markdown",
   "metadata": {},
   "source": [
    "# explore random values for the row entries"
   ]
  },
  {
   "cell_type": "code",
   "execution_count": 3,
   "metadata": {},
   "outputs": [
    {
     "data": {
      "text/plain": [
       "'Thomas Tyler'"
      ]
     },
     "execution_count": 3,
     "metadata": {},
     "output_type": "execute_result"
    }
   ],
   "source": [
    "from faker import Faker\n",
    "fake = Faker()\n",
    "\n",
    "fake.name()"
   ]
  },
  {
   "cell_type": "code",
   "execution_count": 4,
   "metadata": {},
   "outputs": [
    {
     "data": {
      "text/plain": [
       "'maureenreeves@gmail.com'"
      ]
     },
     "execution_count": 4,
     "metadata": {},
     "output_type": "execute_result"
    }
   ],
   "source": [
    "fake.ascii_email()"
   ]
  },
  {
   "cell_type": "code",
   "execution_count": 5,
   "metadata": {},
   "outputs": [
    {
     "data": {
      "text/plain": [
       "'Wilkersonhaven'"
      ]
     },
     "execution_count": 5,
     "metadata": {},
     "output_type": "execute_result"
    }
   ],
   "source": [
    "fake.city()"
   ]
  },
  {
   "cell_type": "code",
   "execution_count": 6,
   "metadata": {},
   "outputs": [
    {
     "data": {
      "text/plain": [
       "'Higgins, Williams and Walsh'"
      ]
     },
     "execution_count": 6,
     "metadata": {},
     "output_type": "execute_result"
    }
   ],
   "source": [
    "fake.company()"
   ]
  },
  {
   "cell_type": "code",
   "execution_count": 7,
   "metadata": {},
   "outputs": [
    {
     "data": {
      "text/plain": [
       "'Norfolk Island'"
      ]
     },
     "execution_count": 7,
     "metadata": {},
     "output_type": "execute_result"
    }
   ],
   "source": [
    "fake.country()"
   ]
  },
  {
   "cell_type": "code",
   "execution_count": 8,
   "metadata": {},
   "outputs": [
    {
     "data": {
      "text/plain": [
       "'1977-06-09'"
      ]
     },
     "execution_count": 8,
     "metadata": {},
     "output_type": "execute_result"
    }
   ],
   "source": [
    "fake.date()"
   ]
  },
  {
   "cell_type": "code",
   "execution_count": 9,
   "metadata": {},
   "outputs": [
    {
     "data": {
      "text/plain": [
       "'15'"
      ]
     },
     "execution_count": 9,
     "metadata": {},
     "output_type": "execute_result"
    }
   ],
   "source": [
    "fake.day_of_month()"
   ]
  },
  {
   "cell_type": "code",
   "execution_count": 10,
   "metadata": {},
   "outputs": [
    {
     "data": {
      "text/plain": [
       "'cunningham.com'"
      ]
     },
     "execution_count": 10,
     "metadata": {},
     "output_type": "execute_result"
    }
   ],
   "source": [
    "fake.domain_name()"
   ]
  },
  {
   "cell_type": "code",
   "execution_count": 11,
   "metadata": {},
   "outputs": [
    {
     "data": {
      "text/plain": [
       "{'name': 'Robin Martinez',\n",
       " 'date': '1992-01-25',\n",
       " 'domain name': 'anderson-collins.com',\n",
       " 'day of month': '04',\n",
       " 'day of week': 'Thursday',\n",
       " 'country': 'Uzbekistan',\n",
       " 'company': 'Bennett, Camacho and Hanson',\n",
       " 'city': 'Petersonside',\n",
       " 'email': 'kathleen74@howard.com',\n",
       " 'bank': 'GB'}"
      ]
     },
     "execution_count": 11,
     "metadata": {},
     "output_type": "execute_result"
    }
   ],
   "source": [
    "my_row={}\n",
    "my_row['name']=fake.name()\n",
    "my_row['date']=fake.date()\n",
    "my_row['domain name']=fake.domain_name()\n",
    "my_row['day of month']=fake.day_of_month()\n",
    "my_row['day of week']=fake.day_of_week()\n",
    "my_row['country']=fake.country()\n",
    "my_row['company']=fake.company()\n",
    "my_row['city']=fake.city()\n",
    "my_row['email']=fake.ascii_email()\n",
    "my_row['bank']=fake.bank_country()\n",
    "my_row"
   ]
  },
  {
   "cell_type": "markdown",
   "metadata": {},
   "source": [
    "# create dataframe containing random data"
   ]
  },
  {
   "cell_type": "code",
   "execution_count": 12,
   "metadata": {},
   "outputs": [
    {
     "data": {
      "text/html": [
       "<div>\n",
       "<style scoped>\n",
       "    .dataframe tbody tr th:only-of-type {\n",
       "        vertical-align: middle;\n",
       "    }\n",
       "\n",
       "    .dataframe tbody tr th {\n",
       "        vertical-align: top;\n",
       "    }\n",
       "\n",
       "    .dataframe thead th {\n",
       "        text-align: right;\n",
       "    }\n",
       "</style>\n",
       "<table border=\"1\" class=\"dataframe\">\n",
       "  <thead>\n",
       "    <tr style=\"text-align: right;\">\n",
       "      <th></th>\n",
       "      <th>bank</th>\n",
       "      <th>city</th>\n",
       "      <th>company</th>\n",
       "      <th>country</th>\n",
       "      <th>date</th>\n",
       "      <th>day of month</th>\n",
       "      <th>day of week</th>\n",
       "      <th>domain name</th>\n",
       "      <th>email</th>\n",
       "      <th>name</th>\n",
       "    </tr>\n",
       "  </thead>\n",
       "  <tbody>\n",
       "    <tr>\n",
       "      <th>0</th>\n",
       "      <td>GB</td>\n",
       "      <td>Petersonside</td>\n",
       "      <td>Bennett, Camacho and Hanson</td>\n",
       "      <td>Uzbekistan</td>\n",
       "      <td>1992-01-25</td>\n",
       "      <td>04</td>\n",
       "      <td>Thursday</td>\n",
       "      <td>anderson-collins.com</td>\n",
       "      <td>kathleen74@howard.com</td>\n",
       "      <td>Robin Martinez</td>\n",
       "    </tr>\n",
       "    <tr>\n",
       "      <th>1</th>\n",
       "      <td>GB</td>\n",
       "      <td>Petersonside</td>\n",
       "      <td>Bennett, Camacho and Hanson</td>\n",
       "      <td>Uzbekistan</td>\n",
       "      <td>1992-01-25</td>\n",
       "      <td>04</td>\n",
       "      <td>Thursday</td>\n",
       "      <td>anderson-collins.com</td>\n",
       "      <td>kathleen74@howard.com</td>\n",
       "      <td>Robin Martinez</td>\n",
       "    </tr>\n",
       "    <tr>\n",
       "      <th>2</th>\n",
       "      <td>GB</td>\n",
       "      <td>Petersonside</td>\n",
       "      <td>Bennett, Camacho and Hanson</td>\n",
       "      <td>Uzbekistan</td>\n",
       "      <td>1992-01-25</td>\n",
       "      <td>04</td>\n",
       "      <td>Thursday</td>\n",
       "      <td>anderson-collins.com</td>\n",
       "      <td>kathleen74@howard.com</td>\n",
       "      <td>Robin Martinez</td>\n",
       "    </tr>\n",
       "    <tr>\n",
       "      <th>3</th>\n",
       "      <td>GB</td>\n",
       "      <td>Petersonside</td>\n",
       "      <td>Bennett, Camacho and Hanson</td>\n",
       "      <td>Uzbekistan</td>\n",
       "      <td>1992-01-25</td>\n",
       "      <td>04</td>\n",
       "      <td>Thursday</td>\n",
       "      <td>anderson-collins.com</td>\n",
       "      <td>kathleen74@howard.com</td>\n",
       "      <td>Robin Martinez</td>\n",
       "    </tr>\n",
       "    <tr>\n",
       "      <th>4</th>\n",
       "      <td>GB</td>\n",
       "      <td>Petersonside</td>\n",
       "      <td>Bennett, Camacho and Hanson</td>\n",
       "      <td>Uzbekistan</td>\n",
       "      <td>1992-01-25</td>\n",
       "      <td>04</td>\n",
       "      <td>Thursday</td>\n",
       "      <td>anderson-collins.com</td>\n",
       "      <td>kathleen74@howard.com</td>\n",
       "      <td>Robin Martinez</td>\n",
       "    </tr>\n",
       "  </tbody>\n",
       "</table>\n",
       "</div>"
      ],
      "text/plain": [
       "  bank          city                      company     country        date  \\\n",
       "0   GB  Petersonside  Bennett, Camacho and Hanson  Uzbekistan  1992-01-25   \n",
       "1   GB  Petersonside  Bennett, Camacho and Hanson  Uzbekistan  1992-01-25   \n",
       "2   GB  Petersonside  Bennett, Camacho and Hanson  Uzbekistan  1992-01-25   \n",
       "3   GB  Petersonside  Bennett, Camacho and Hanson  Uzbekistan  1992-01-25   \n",
       "4   GB  Petersonside  Bennett, Camacho and Hanson  Uzbekistan  1992-01-25   \n",
       "\n",
       "  day of month day of week           domain name                  email  \\\n",
       "0           04    Thursday  anderson-collins.com  kathleen74@howard.com   \n",
       "1           04    Thursday  anderson-collins.com  kathleen74@howard.com   \n",
       "2           04    Thursday  anderson-collins.com  kathleen74@howard.com   \n",
       "3           04    Thursday  anderson-collins.com  kathleen74@howard.com   \n",
       "4           04    Thursday  anderson-collins.com  kathleen74@howard.com   \n",
       "\n",
       "             name  \n",
       "0  Robin Martinez  \n",
       "1  Robin Martinez  \n",
       "2  Robin Martinez  \n",
       "3  Robin Martinez  \n",
       "4  Robin Martinez  "
      ]
     },
     "execution_count": 12,
     "metadata": {},
     "output_type": "execute_result"
    }
   ],
   "source": [
    "df = pandas.DataFrame()\n",
    "for i in range(5):\n",
    "    df = df.append(my_row, ignore_index=True)\n",
    "df"
   ]
  },
  {
   "cell_type": "code",
   "execution_count": 13,
   "metadata": {},
   "outputs": [],
   "source": [
    "def create_row():\n",
    "    my_row={}\n",
    "    my_row['name']=fake.name()\n",
    "    my_row['date']=fake.date()\n",
    "    my_row['domain name']=fake.domain_name()\n",
    "    my_row['day of month']=fake.day_of_month()\n",
    "    my_row['day of week']=fake.day_of_week()\n",
    "    my_row['country']=fake.country()\n",
    "    my_row['company']=fake.company()\n",
    "    my_row['city']=fake.city()\n",
    "    my_row['email']=fake.ascii_email()\n",
    "    my_row['bank']=fake.bank_country()\n",
    "    return my_row"
   ]
  },
  {
   "cell_type": "code",
   "execution_count": 14,
   "metadata": {},
   "outputs": [
    {
     "data": {
      "text/plain": [
       "{'name': 'Megan Carpenter',\n",
       " 'date': '1976-03-07',\n",
       " 'domain name': 'rocha.org',\n",
       " 'day of month': '15',\n",
       " 'day of week': 'Wednesday',\n",
       " 'country': 'Mozambique',\n",
       " 'company': 'Chen-Davis',\n",
       " 'city': 'Gonzalesshire',\n",
       " 'email': 'heather32@hotmail.com',\n",
       " 'bank': 'GB'}"
      ]
     },
     "execution_count": 14,
     "metadata": {},
     "output_type": "execute_result"
    }
   ],
   "source": [
    "create_row()"
   ]
  },
  {
   "cell_type": "code",
   "execution_count": 40,
   "metadata": {},
   "outputs": [
    {
     "data": {
      "text/html": [
       "<div>\n",
       "<style scoped>\n",
       "    .dataframe tbody tr th:only-of-type {\n",
       "        vertical-align: middle;\n",
       "    }\n",
       "\n",
       "    .dataframe tbody tr th {\n",
       "        vertical-align: top;\n",
       "    }\n",
       "\n",
       "    .dataframe thead th {\n",
       "        text-align: right;\n",
       "    }\n",
       "</style>\n",
       "<table border=\"1\" class=\"dataframe\">\n",
       "  <thead>\n",
       "    <tr style=\"text-align: right;\">\n",
       "      <th></th>\n",
       "      <th>bank</th>\n",
       "      <th>city</th>\n",
       "      <th>company</th>\n",
       "      <th>country</th>\n",
       "      <th>date</th>\n",
       "      <th>day of month</th>\n",
       "      <th>day of week</th>\n",
       "      <th>domain name</th>\n",
       "      <th>email</th>\n",
       "      <th>name</th>\n",
       "    </tr>\n",
       "  </thead>\n",
       "  <tbody>\n",
       "    <tr>\n",
       "      <th>0</th>\n",
       "      <td>GB</td>\n",
       "      <td>Brittanychester</td>\n",
       "      <td>Avila, Luna and Russell</td>\n",
       "      <td>Argentina</td>\n",
       "      <td>2016-04-29</td>\n",
       "      <td>04</td>\n",
       "      <td>Friday</td>\n",
       "      <td>wilson.com</td>\n",
       "      <td>upatton@smith.com</td>\n",
       "      <td>Joshua Buchanan</td>\n",
       "    </tr>\n",
       "    <tr>\n",
       "      <th>1</th>\n",
       "      <td>GB</td>\n",
       "      <td>East Robertburgh</td>\n",
       "      <td>Edwards Ltd</td>\n",
       "      <td>Chad</td>\n",
       "      <td>2013-10-18</td>\n",
       "      <td>28</td>\n",
       "      <td>Monday</td>\n",
       "      <td>hernandez.com</td>\n",
       "      <td>gomezpatrick@gmail.com</td>\n",
       "      <td>Catherine Hayes</td>\n",
       "    </tr>\n",
       "    <tr>\n",
       "      <th>2</th>\n",
       "      <td>GB</td>\n",
       "      <td>Mcgeebury</td>\n",
       "      <td>Martin, Sanders and Edwards</td>\n",
       "      <td>Puerto Rico</td>\n",
       "      <td>2008-06-24</td>\n",
       "      <td>05</td>\n",
       "      <td>Thursday</td>\n",
       "      <td>porter-liu.info</td>\n",
       "      <td>vmack@gmail.com</td>\n",
       "      <td>Jessica Garrett</td>\n",
       "    </tr>\n",
       "    <tr>\n",
       "      <th>3</th>\n",
       "      <td>GB</td>\n",
       "      <td>Roberttown</td>\n",
       "      <td>Espinoza-Burnett</td>\n",
       "      <td>Saint Martin</td>\n",
       "      <td>2011-02-14</td>\n",
       "      <td>20</td>\n",
       "      <td>Monday</td>\n",
       "      <td>martinez-gray.com</td>\n",
       "      <td>kristin44@smith-rasmussen.com</td>\n",
       "      <td>Ashley King</td>\n",
       "    </tr>\n",
       "    <tr>\n",
       "      <th>4</th>\n",
       "      <td>GB</td>\n",
       "      <td>Schmidtton</td>\n",
       "      <td>Jones Ltd</td>\n",
       "      <td>Saint Kitts and Nevis</td>\n",
       "      <td>1990-11-05</td>\n",
       "      <td>19</td>\n",
       "      <td>Friday</td>\n",
       "      <td>hansen.com</td>\n",
       "      <td>ashleypatel@gmail.com</td>\n",
       "      <td>Lisa Jackson</td>\n",
       "    </tr>\n",
       "  </tbody>\n",
       "</table>\n",
       "</div>"
      ],
      "text/plain": [
       "  bank              city                      company                country  \\\n",
       "0   GB   Brittanychester      Avila, Luna and Russell              Argentina   \n",
       "1   GB  East Robertburgh                  Edwards Ltd                   Chad   \n",
       "2   GB         Mcgeebury  Martin, Sanders and Edwards            Puerto Rico   \n",
       "3   GB        Roberttown             Espinoza-Burnett           Saint Martin   \n",
       "4   GB        Schmidtton                    Jones Ltd  Saint Kitts and Nevis   \n",
       "\n",
       "         date day of month day of week        domain name  \\\n",
       "0  2016-04-29           04      Friday         wilson.com   \n",
       "1  2013-10-18           28      Monday      hernandez.com   \n",
       "2  2008-06-24           05    Thursday    porter-liu.info   \n",
       "3  2011-02-14           20      Monday  martinez-gray.com   \n",
       "4  1990-11-05           19      Friday         hansen.com   \n",
       "\n",
       "                           email             name  \n",
       "0              upatton@smith.com  Joshua Buchanan  \n",
       "1         gomezpatrick@gmail.com  Catherine Hayes  \n",
       "2                vmack@gmail.com  Jessica Garrett  \n",
       "3  kristin44@smith-rasmussen.com      Ashley King  \n",
       "4          ashleypatel@gmail.com     Lisa Jackson  "
      ]
     },
     "execution_count": 40,
     "metadata": {},
     "output_type": "execute_result"
    }
   ],
   "source": [
    "df = pandas.DataFrame()\n",
    "for i in range(5):\n",
    "    my_row = create_row()\n",
    "    df = df.append(my_row, ignore_index=True)\n",
    "df"
   ]
  },
  {
   "cell_type": "code",
   "execution_count": 43,
   "metadata": {},
   "outputs": [
    {
     "name": "stdout",
     "output_type": "stream",
     "text": [
      "0.025088787078857422 seconds\n",
      "0.000686 MB\n"
     ]
    }
   ],
   "source": [
    "start = time.time()\n",
    "df.to_csv('filename.csv')\n",
    "print(time.time() - start,'seconds')\n",
    "\n",
    "print(os.path.getsize(\"filename.csv\")/1000000.0,'MB')"
   ]
  },
  {
   "cell_type": "code",
   "execution_count": 50,
   "metadata": {},
   "outputs": [
    {
     "name": "stdout",
     "output_type": "stream",
     "text": [
      "6.900719881057739 seconds\n"
     ]
    }
   ],
   "source": [
    "start = time.time()\n",
    "df = pandas.DataFrame()\n",
    "for i in range(850):\n",
    "    my_row = create_row()\n",
    "    df = df.append(my_row, ignore_index=True)\n",
    "print(time.time() - start,'seconds')"
   ]
  },
  {
   "cell_type": "code",
   "execution_count": 51,
   "metadata": {},
   "outputs": [
    {
     "name": "stdout",
     "output_type": "stream",
     "text": [
      "0.05573892593383789 seconds\n",
      "0.104566 MB\n"
     ]
    }
   ],
   "source": [
    "start = time.time()\n",
    "df.to_csv('filename.csv')\n",
    "print(time.time() - start,'seconds')\n",
    "print(os.path.getsize(\"filename.csv\")/1000000.0,'MB')"
   ]
  },
  {
   "cell_type": "code",
   "execution_count": 52,
   "metadata": {},
   "outputs": [
    {
     "data": {
      "text/plain": [
       "(1700, 10)"
      ]
     },
     "execution_count": 52,
     "metadata": {},
     "output_type": "execute_result"
    }
   ],
   "source": [
    "df2 = df.copy()\n",
    "df = pandas.concat([df2,df])\n",
    "df.shape"
   ]
  },
  {
   "cell_type": "code",
   "execution_count": 53,
   "metadata": {},
   "outputs": [
    {
     "name": "stdout",
     "output_type": "stream",
     "text": [
      "0.08511114120483398 seconds\n",
      "0.209052 MB\n"
     ]
    }
   ],
   "source": [
    "start = time.time()\n",
    "df.to_csv('filename.csv')\n",
    "print(time.time() - start,'seconds')\n",
    "print(os.path.getsize(\"filename.csv\")/1000000.0,'MB')"
   ]
  },
  {
   "cell_type": "markdown",
   "metadata": {},
   "source": [
    "# create dataframe faster than brute force"
   ]
  },
  {
   "cell_type": "code",
   "execution_count": 54,
   "metadata": {},
   "outputs": [
    {
     "name": "stdout",
     "output_type": "stream",
     "text": [
      "(8500, 10)\n",
      "8.612895250320435 seconds to create data frame in memory\n"
     ]
    }
   ],
   "source": [
    "start = time.time()\n",
    "df = pandas.DataFrame()\n",
    "for i in range(850):\n",
    "    my_row = create_row()\n",
    "    df = df.append(my_row, ignore_index=True)\n",
    "\n",
    "list_of_df = []\n",
    "for indx in range(10): # 10 yields 1MB file\n",
    "#for indx in range(100): # 100 yields 10MB file\n",
    "#for indx in range(5000): # 5000 yields 500MB file\n",
    "    list_of_df.append(df.copy())\n",
    "df = pandas.concat(list_of_df)\n",
    "print(df.shape)\n",
    "print(time.time() - start,'seconds to create data frame in memory')"
   ]
  },
  {
   "cell_type": "code",
   "execution_count": 55,
   "metadata": {},
   "outputs": [
    {
     "name": "stdout",
     "output_type": "stream",
     "text": [
      "(8500, 10)\n",
      "0.23604512214660645 seconds\n",
      "1.04338 MB file on disk\n"
     ]
    }
   ],
   "source": [
    "start = time.time()\n",
    "df.to_csv('filename.csv')\n",
    "print(df.shape)\n",
    "print(time.time() - start,'seconds')\n",
    "print(os.path.getsize(\"filename.csv\")/1000000.0,'MB file on disk')"
   ]
  },
  {
   "cell_type": "markdown",
   "metadata": {},
   "source": [
    "# test scaling"
   ]
  },
  {
   "cell_type": "code",
   "execution_count": 26,
   "metadata": {},
   "outputs": [],
   "source": [
    "def create_dataframe_of_size(size_of_df_in_MB):\n",
    "    df = pandas.DataFrame()\n",
    "    for i in range(850):\n",
    "        my_row = create_row()\n",
    "        df = df.append(my_row, ignore_index=True)\n",
    "\n",
    "    list_of_df = []\n",
    "    for indx in range(int(size_of_df_in_MB*10)): \n",
    "        list_of_df.append(df.copy())\n",
    "    df = pandas.concat(list_of_df)\n",
    "    return df"
   ]
  },
  {
   "cell_type": "markdown",
   "metadata": {},
   "source": [
    "### parameters for scale tests"
   ]
  },
  {
   "cell_type": "code",
   "execution_count": 27,
   "metadata": {},
   "outputs": [],
   "source": [
    "list_of_file_sizes = [0.1, 1, 5, 10, 100, 500]\n",
    "number_of_trials=3"
   ]
  },
  {
   "cell_type": "markdown",
   "metadata": {},
   "source": [
    "### nested loops for write tests"
   ]
  },
  {
   "cell_type": "code",
   "execution_count": 28,
   "metadata": {},
   "outputs": [
    {
     "name": "stdout",
     "output_type": "stream",
     "text": [
      "0.030185937881469727 seconds for 0.1 MB\n",
      "0.17177987098693848 seconds for 1 MB\n",
      "0.8669099807739258 seconds for 5 MB\n",
      "2.489792585372925 seconds for 10 MB\n",
      "17.446888208389282 seconds for 100 MB\n",
      "81.4829478263855 seconds for 500 MB\n"
     ]
    }
   ],
   "source": [
    "results_time_dict={}\n",
    "results_disk_size_dict={}\n",
    "for desired_file_size in list_of_file_sizes:\n",
    "    trial_reslt_list_time=[]\n",
    "    trial_reslt_list_filesize=[]\n",
    "    for trial_indx in range(number_of_trials):\n",
    "        # create data frame \n",
    "        df = create_dataframe_of_size(desired_file_size)\n",
    "        # write test\n",
    "        start = time.time()\n",
    "        df.to_csv('filename.csv')\n",
    "        elapsed_time=time.time() - start\n",
    "        actual_file_size=os.path.getsize(\"filename.csv\")/1000000.0\n",
    "        trial_reslt_list_time.append(elapsed_time)\n",
    "        trial_reslt_list_filesize.append(actual_file_size)\n",
    "    average_write_time = sum(trial_reslt_list_time)/number_of_trials\n",
    "    average_filesize=sum(trial_reslt_list_filesize)/number_of_trials\n",
    "    results_time_dict[average_filesize]=average_write_time\n",
    "    print('average of ',average_write_time,'seconds for',desired_file_size,'MB')"
   ]
  },
  {
   "cell_type": "code",
   "execution_count": 32,
   "metadata": {},
   "outputs": [
    {
     "data": {
      "text/plain": [
       "{0.10388833333333332: 0.1339114507039388,\n",
       " 1.0426399999999998: 0.1988981564839681,\n",
       " 5.201863333333334: 0.8179066181182861,\n",
       " 10.417679999999999: 1.9293036460876465,\n",
       " 104.01207999999998: 18.083478053410847,\n",
       " 520.4184133333333: 77.22431707382202}"
      ]
     },
     "execution_count": 32,
     "metadata": {},
     "output_type": "execute_result"
    }
   ],
   "source": [
    "results_time_dict"
   ]
  },
  {
   "cell_type": "code",
   "execution_count": 33,
   "metadata": {},
   "outputs": [
    {
     "data": {
      "image/png": "[encoded data removed]",
      "text/plain": [
       "<Figure size 432x288 with 1 Axes>"
      ]
     },
     "metadata": {
      "needs_background": "light"
     },
     "output_type": "display_data"
    }
   ],
   "source": [
    "_=plt.scatter(results_time_dict.keys(),results_time_dict.values())\n",
    "_=plt.xlabel('file size [MB]',fontsize=14)\n",
    "_=plt.ylabel('write time [seconds]',fontsize=14)"
   ]
  },
  {
   "cell_type": "markdown",
   "metadata": {},
   "source": [
    "# read and write scaling"
   ]
  },
  {
   "cell_type": "code",
   "execution_count": 36,
   "metadata": {},
   "outputs": [
    {
     "name": "stdout",
     "output_type": "stream",
     "text": [
      "average of  0.05392559369405111 seconds for 0.1 MB\n",
      "average of  0.1713709036509196 seconds for 1 MB\n",
      "average of  0.843682607014974 seconds for 5 MB\n",
      "average of  2.276759147644043 seconds for 10 MB\n",
      "average of  12.700820922851562 seconds for 100 MB\n",
      "average of  72.54429411888123 seconds for 500 MB\n"
     ]
    }
   ],
   "source": [
    "results_write_dict={}\n",
    "results_read_dict={}\n",
    "for desired_file_size in list_of_file_sizes:\n",
    "    trial_reslt_list_write_time=[]\n",
    "    trial_reslt_list_write_filesize=[]\n",
    "    trial_reslt_list_read_time=[]\n",
    "    trial_reslt_list_read_filesize=[]\n",
    "    start_trial=time.time()\n",
    "    for trial_indx in range(number_of_trials):\n",
    "        df = create_dataframe_of_size(desired_file_size)\n",
    "        \n",
    "        # write test\n",
    "        start = time.time()\n",
    "        df.to_csv('filename.csv')\n",
    "        elapsed_time=time.time() - start\n",
    "        actual_file_size=os.path.getsize(\"filename.csv\")/1000000.0\n",
    "        trial_reslt_list_write_time.append(elapsed_time)\n",
    "        trial_reslt_list_write_filesize.append(actual_file_size)\n",
    "\n",
    "        # clear the disk cache\n",
    "        df2 = create_dataframe_of_size(1)\n",
    "        df2.to_csv('filename2.csv')\n",
    "\n",
    "        # read test\n",
    "        start = time.time()\n",
    "        df = pandas.read_csv('filename.csv')\n",
    "        elapsed_time=time.time() - start\n",
    "        actual_file_size=os.path.getsize(\"filename.csv\")/1000000.0\n",
    "        trial_reslt_list_read_time.append(elapsed_time)\n",
    "        trial_reslt_list_read_filesize.append(actual_file_size)\n",
    "        \n",
    "    print(time.time() - start_trial,'seconds for',desired_file_size,'MB')\n",
    "    average_write_time = sum(trial_reslt_list_write_time)/number_of_trials\n",
    "    average_write_filesize=sum(trial_reslt_list_write_filesize)/number_of_trials\n",
    "    results_write_dict[average_write_filesize]=average_write_time\n",
    "\n",
    "    average_read_time = sum(trial_reslt_list_read_time)/number_of_trials\n",
    "    average_read_filesize=sum(trial_reslt_list_read_filesize)/number_of_trials\n",
    "    results_read_dict[average_read_filesize]=average_read_time"
   ]
  },
  {
   "cell_type": "code",
   "execution_count": 57,
   "metadata": {},
   "outputs": [
    {
     "data": {
      "image/png": "[encoded data removed]",
      "text/plain": [
       "<Figure size 432x288 with 1 Axes>"
      ]
     },
     "metadata": {
      "needs_background": "light"
     },
     "output_type": "display_data"
    }
   ],
   "source": [
    "_=plt.scatter(results_write_dict.keys(),results_write_dict.values(),\n",
    "              color='blue',label='write to disk')\n",
    "_=plt.scatter(results_read_dict.keys(),results_read_dict.values(),\n",
    "              color='red',label='read from disk')\n",
    "ax = plt.gca()\n",
    "ax.legend()\n",
    "_=plt.xlabel('file size [MB]',fontsize=14)\n",
    "_=plt.ylabel('write or read time [seconds]',fontsize=14)"
   ]
  },
  {
   "cell_type": "code",
   "execution_count": null,
   "metadata": {},
   "outputs": [],
   "source": []
  }
 ],
 "metadata": {
  "kernelspec": {
   "display_name": "Python 3",
   "language": "python",
   "name": "python3"
  },
  "language_info": {
   "codemirror_mode": {
    "name": "ipython",
    "version": 3
   },
   "file_extension": ".py",
   "mimetype": "text/x-python",
   "name": "python",
   "nbconvert_exporter": "python",
   "pygments_lexer": "ipython3",
   "version": "3.6.6"
  }
 },
 "nbformat": 4,
 "nbformat_minor": 2
}
