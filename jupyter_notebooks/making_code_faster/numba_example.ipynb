{
 "cells": [
  {
   "cell_type": "markdown",
   "metadata": {},
   "source": [
    "https://stackoverflow.com/questions/51903350/python-vs-matlab-performance-on-algorithm"
   ]
  },
  {
   "cell_type": "markdown",
   "metadata": {},
   "source": [
    "First we measure the scaling of the serial implementation\n",
    "\n",
    "_Performance enhancement 1_: use Numba within a single array"
   ]
  },
  {
   "cell_type": "code",
   "execution_count": 1,
   "metadata": {},
   "outputs": [
    {
     "name": "stdout",
     "output_type": "stream",
     "text": [
      "d89b6d786b66\n"
     ]
    }
   ],
   "source": [
    "!hostname"
   ]
  },
  {
   "cell_type": "code",
   "execution_count": 2,
   "metadata": {},
   "outputs": [],
   "source": [
    "import numpy as np\n",
    "import time\n",
    "import matplotlib.pyplot as plt"
   ]
  },
  {
   "cell_type": "code",
   "execution_count": 39,
   "metadata": {},
   "outputs": [
    {
     "data": {
      "text/plain": [
       "{'divide': 'warn', 'over': 'warn', 'under': 'ignore', 'invalid': 'warn'}"
      ]
     },
     "execution_count": 39,
     "metadata": {},
     "output_type": "execute_result"
    }
   ],
   "source": [
    "np.seterr(divide='ignore', invalid='ignore')"
   ]
  },
  {
   "cell_type": "code",
   "execution_count": 3,
   "metadata": {},
   "outputs": [],
   "source": [
    "# https://github.com/nikdon/pyEntropy\n",
    "def sample_entropy(time_series, sample_length, tolerance=None):\n",
    "    \"\"\"Calculate and return Sample Entropy of the given time series.\n",
    "    Distance between two vectors defined as Euclidean distance and can\n",
    "    be changed in future releases\n",
    "    Args:\n",
    "        time_series: Vector or string of the sample data\n",
    "        sample_length: Number of sequential points of the time series\n",
    "        tolerance: Tolerance (default = 0.1...0.2 * std(time_series))\n",
    "    Returns:\n",
    "        Vector containing Sample Entropy (float)\n",
    "    References:\n",
    "        [1] http://en.wikipedia.org/wiki/Sample_Entropy\n",
    "        [2] http://physionet.incor.usp.br/physiotools/sampen/\n",
    "        [3] Madalena Costa, Ary Goldberger, CK Peng. Multiscale entropy analysis\n",
    "            of biological signals\n",
    "    \"\"\"\n",
    "    if tolerance is None:\n",
    "        tolerance = 0.1 * np.std(time_series)\n",
    "\n",
    "    n = len(time_series)\n",
    "    prev = np.zeros(n)\n",
    "    curr = np.zeros(n)\n",
    "    A = np.zeros((sample_length, 1))  # number of matches for m = [1,...,template_length - 1]\n",
    "    B = np.zeros((sample_length, 1))  # number of matches for m = [1,...,template_length]\n",
    "\n",
    "    for i in range(n - 1):\n",
    "        nj = n - i - 1\n",
    "        ts1 = time_series[i]\n",
    "        for jj in range(nj):\n",
    "            j = jj + i + 1\n",
    "            if abs(time_series[j] - ts1) < tolerance:  # distance between two vectors\n",
    "                curr[jj] = prev[jj] + 1\n",
    "                temp_ts_length = min(sample_length, curr[jj])\n",
    "                for m in range(int(temp_ts_length)):\n",
    "                    A[m] += 1\n",
    "                    if j < n - 1:\n",
    "                        B[m] += 1\n",
    "            else:\n",
    "                curr[jj] = 0\n",
    "        for j in range(nj):\n",
    "            prev[j] = curr[j]\n",
    "\n",
    "    N = n * (n - 1) / 2\n",
    "    B = np.vstack(([N], B[:sample_length - 1]))\n",
    "    similarity_ratio = A / B\n",
    "    se = - np.log(similarity_ratio)\n",
    "    se = np.reshape(se, -1)\n",
    "    return se"
   ]
  },
  {
   "cell_type": "markdown",
   "metadata": {},
   "source": [
    "## function profiling\n",
    "\n",
    "Conclusion: Most of the time is spent in \"sample_entropy\""
   ]
  },
  {
   "cell_type": "raw",
   "metadata": {},
   "source": [
    "%prun?"
   ]
  },
  {
   "cell_type": "code",
   "execution_count": 2,
   "metadata": {},
   "outputs": [
    {
     "ename": "NameError",
     "evalue": "name 'np' is not defined",
     "output_type": "error",
     "traceback": [
      "\u001b[0;31m---------------------------------------------------------------------------\u001b[0m",
      "\u001b[0;31mNameError\u001b[0m                                 Traceback (most recent call last)",
      "\u001b[0;32m<ipython-input-2-bee495544853>\u001b[0m in \u001b[0;36m<module>\u001b[0;34m\u001b[0m\n\u001b[0;32m----> 1\u001b[0;31m \u001b[0ma\u001b[0m \u001b[0;34m=\u001b[0m \u001b[0mnp\u001b[0m\u001b[0;34m.\u001b[0m\u001b[0mrandom\u001b[0m\u001b[0;34m.\u001b[0m\u001b[0mrand\u001b[0m\u001b[0;34m(\u001b[0m\u001b[0;36m1\u001b[0m\u001b[0;34m,\u001b[0m \u001b[0;36m100\u001b[0m\u001b[0;34m)\u001b[0m\u001b[0;34m[\u001b[0m\u001b[0;36m0\u001b[0m\u001b[0;34m]\u001b[0m\u001b[0;34m\u001b[0m\u001b[0m\n\u001b[0m\u001b[1;32m      2\u001b[0m \u001b[0;34m\u001b[0m\u001b[0m\n\u001b[1;32m      3\u001b[0m \u001b[0mget_ipython\u001b[0m\u001b[0;34m(\u001b[0m\u001b[0;34m)\u001b[0m\u001b[0;34m.\u001b[0m\u001b[0mrun_line_magic\u001b[0m\u001b[0;34m(\u001b[0m\u001b[0;34m'prun'\u001b[0m\u001b[0;34m,\u001b[0m \u001b[0;34m'-s cumtime sample_entropy(a, 4, 0.1 * np.std(a))'\u001b[0m\u001b[0;34m)\u001b[0m\u001b[0;34m\u001b[0m\u001b[0m\n",
      "\u001b[0;31mNameError\u001b[0m: name 'np' is not defined"
     ]
    }
   ],
   "source": [
    "a = np.random.rand(1, 100)[0]\n",
    "\n",
    "%prun -s cumtime sample_entropy(a, 4, 0.1 * np.std(a))"
   ]
  },
  {
   "cell_type": "markdown",
   "metadata": {},
   "source": [
    "## line profiling\n",
    "\n",
    "Once we know that the majority of time is spent in \"Sample entropy\", investigate which lines are consuming most of the CPU time\n",
    "\n",
    "https://ipython-books.github.io/43-profiling-your-code-line-by-line-with-line_profiler/"
   ]
  },
  {
   "cell_type": "code",
   "execution_count": 5,
   "metadata": {},
   "outputs": [
    {
     "name": "stdout",
     "output_type": "stream",
     "text": [
      "Requirement already satisfied: line_profiler in /opt/conda/lib/python3.6/site-packages (2.1.2)\n",
      "Requirement already satisfied: IPython>=0.13 in /opt/conda/lib/python3.6/site-packages (from line_profiler) (7.0.1)\n",
      "Requirement already satisfied: setuptools>=18.5 in /opt/conda/lib/python3.6/site-packages (from IPython>=0.13->line_profiler) (40.4.3)\n",
      "Requirement already satisfied: jedi>=0.10 in /opt/conda/lib/python3.6/site-packages (from IPython>=0.13->line_profiler) (0.13.1)\n",
      "Requirement already satisfied: decorator in /opt/conda/lib/python3.6/site-packages (from IPython>=0.13->line_profiler) (4.3.0)\n",
      "Requirement already satisfied: pickleshare in /opt/conda/lib/python3.6/site-packages (from IPython>=0.13->line_profiler) (0.7.5)\n",
      "Requirement already satisfied: simplegeneric>0.8 in /opt/conda/lib/python3.6/site-packages (from IPython>=0.13->line_profiler) (0.8.1)\n",
      "Requirement already satisfied: traitlets>=4.2 in /opt/conda/lib/python3.6/site-packages (from IPython>=0.13->line_profiler) (4.3.2)\n",
      "Requirement already satisfied: prompt_toolkit<2.1.0,>=2.0.0 in /opt/conda/lib/python3.6/site-packages (from IPython>=0.13->line_profiler) (2.0.6)\n",
      "Requirement already satisfied: pygments in /opt/conda/lib/python3.6/site-packages (from IPython>=0.13->line_profiler) (2.2.0)\n",
      "Requirement already satisfied: backcall in /opt/conda/lib/python3.6/site-packages (from IPython>=0.13->line_profiler) (0.1.0)\n",
      "Requirement already satisfied: pexpect in /opt/conda/lib/python3.6/site-packages (from IPython>=0.13->line_profiler) (4.6.0)\n",
      "Requirement already satisfied: parso>=0.3.0 in /opt/conda/lib/python3.6/site-packages (from jedi>=0.10->IPython>=0.13->line_profiler) (0.3.1)\n",
      "Requirement already satisfied: ipython_genutils in /opt/conda/lib/python3.6/site-packages (from traitlets>=4.2->IPython>=0.13->line_profiler) (0.2.0)\n",
      "Requirement already satisfied: six in /opt/conda/lib/python3.6/site-packages (from traitlets>=4.2->IPython>=0.13->line_profiler) (1.11.0)\n",
      "Requirement already satisfied: wcwidth in /opt/conda/lib/python3.6/site-packages (from prompt_toolkit<2.1.0,>=2.0.0->IPython>=0.13->line_profiler) (0.1.7)\n",
      "Requirement already satisfied: ptyprocess>=0.5 in /opt/conda/lib/python3.6/site-packages (from pexpect->IPython>=0.13->line_profiler) (0.6.0)\n"
     ]
    }
   ],
   "source": [
    "!pip install line_profiler"
   ]
  },
  {
   "cell_type": "code",
   "execution_count": 6,
   "metadata": {},
   "outputs": [],
   "source": [
    "%load_ext line_profiler"
   ]
  },
  {
   "cell_type": "code",
   "execution_count": 7,
   "metadata": {},
   "outputs": [
    {
     "name": "stderr",
     "output_type": "stream",
     "text": [
      "/opt/conda/lib/python3.6/site-packages/ipykernel_launcher.py:46: RuntimeWarning: invalid value encountered in true_divide\n",
      "/opt/conda/lib/python3.6/site-packages/ipykernel_launcher.py:47: RuntimeWarning: divide by zero encountered in log\n"
     ]
    },
    {
     "data": {
      "text/plain": [
       "Timer unit: 1e-06 s\n",
       "\n",
       "Total time: 0.642446 s\n",
       "File: <ipython-input-3-f82a0bee80af>\n",
       "Function: sample_entropy at line 2\n",
       "\n",
       "Line #      Hits         Time  Per Hit   % Time  Line Contents\n",
       "==============================================================\n",
       "     2                                           def sample_entropy(time_series, sample_length, tolerance=None):\n",
       "     3                                               \"\"\"Calculate and return Sample Entropy of the given time series.\n",
       "     4                                               Distance between two vectors defined as Euclidean distance and can\n",
       "     5                                               be changed in future releases\n",
       "     6                                               Args:\n",
       "     7                                                   time_series: Vector or string of the sample data\n",
       "     8                                                   sample_length: Number of sequential points of the time series\n",
       "     9                                                   tolerance: Tolerance (default = 0.1...0.2 * std(time_series))\n",
       "    10                                               Returns:\n",
       "    11                                                   Vector containing Sample Entropy (float)\n",
       "    12                                               References:\n",
       "    13                                                   [1] http://en.wikipedia.org/wiki/Sample_Entropy\n",
       "    14                                                   [2] http://physionet.incor.usp.br/physiotools/sampen/\n",
       "    15                                                   [3] Madalena Costa, Ary Goldberger, CK Peng. Multiscale entropy analysis\n",
       "    16                                                       of biological signals\n",
       "    17                                               \"\"\"\n",
       "    18         1         15.0     15.0      0.0      if tolerance is None:\n",
       "    19                                                   tolerance = 0.1 * np.std(time_series)\n",
       "    20                                           \n",
       "    21         1         15.0     15.0      0.0      n = len(time_series)\n",
       "    22         1         21.0     21.0      0.0      prev = np.zeros(n)\n",
       "    23         1         18.0     18.0      0.0      curr = np.zeros(n)\n",
       "    24         1         21.0     21.0      0.0      A = np.zeros((sample_length, 1))  # number of matches for m = [1,...,template_length - 1]\n",
       "    25         1         20.0     20.0      0.0      B = np.zeros((sample_length, 1))  # number of matches for m = [1,...,template_length]\n",
       "    26                                           \n",
       "    27       100       1601.0     16.0      0.2      for i in range(n - 1):\n",
       "    28        99       1715.0     17.3      0.3          nj = n - i - 1\n",
       "    29        99       1721.0     17.4      0.3          ts1 = time_series[i]\n",
       "    30      5049     100930.0     20.0     15.7          for jj in range(nj):\n",
       "    31      4950      87315.0     17.6     13.6              j = jj + i + 1\n",
       "    32      4950     110455.0     22.3     17.2              if abs(time_series[j] - ts1) < tolerance:  # distance between two vectors\n",
       "    33       325       7243.0     22.3      1.1                  curr[jj] = prev[jj] + 1\n",
       "    34       325       7572.0     23.3      1.2                  temp_ts_length = min(sample_length, curr[jj])\n",
       "    35       668      14171.0     21.2      2.2                  for m in range(int(temp_ts_length)):\n",
       "    36       343      15966.0     46.5      2.5                      A[m] += 1\n",
       "    37       343       6130.0     17.9      1.0                      if j < n - 1:\n",
       "    38       329      12205.0     37.1      1.9                          B[m] += 1\n",
       "    39                                                       else:\n",
       "    40      4625      93085.0     20.1     14.5                  curr[jj] = 0\n",
       "    41      5049      87102.0     17.3     13.6          for j in range(nj):\n",
       "    42      4950      93151.0     18.8     14.5              prev[j] = curr[j]\n",
       "    43                                           \n",
       "    44         1         15.0     15.0      0.0      N = n * (n - 1) / 2\n",
       "    45         1        131.0    131.0      0.0      B = np.vstack(([N], B[:sample_length - 1]))\n",
       "    46         1       1418.0   1418.0      0.2      similarity_ratio = A / B\n",
       "    47         1        343.0    343.0      0.1      se = - np.log(similarity_ratio)\n",
       "    48         1         53.0     53.0      0.0      se = np.reshape(se, -1)\n",
       "    49         1         14.0     14.0      0.0      return se"
      ]
     },
     "metadata": {},
     "output_type": "display_data"
    }
   ],
   "source": [
    "a = np.random.rand(1, 100)[0]\n",
    "\n",
    "%lprun -f sample_entropy sample_entropy(a, 4, 0.1 * np.std(a))"
   ]
  },
  {
   "cell_type": "markdown",
   "metadata": {},
   "source": [
    "## scaling of serial function"
   ]
  },
  {
   "cell_type": "code",
   "execution_count": 8,
   "metadata": {},
   "outputs": [
    {
     "name": "stderr",
     "output_type": "stream",
     "text": [
      "/opt/conda/lib/python3.6/site-packages/ipykernel_launcher.py:46: RuntimeWarning: invalid value encountered in true_divide\n",
      "/opt/conda/lib/python3.6/site-packages/ipykernel_launcher.py:47: RuntimeWarning: divide by zero encountered in log\n"
     ]
    },
    {
     "name": "stdout",
     "output_type": "stream",
     "text": [
      "100 : 0.030996322631835938 seconds\n",
      "100 : 0.009676218032836914 seconds\n",
      "100 : 0.012649059295654297 seconds\n",
      "1000 : 1.005979299545288 seconds\n",
      "1000 : 1.0840840339660645 seconds\n",
      "1000 : 1.466383695602417 seconds\n",
      "5000 : 27.92833161354065 seconds\n",
      "5000 : 24.59664559364319 seconds\n",
      "5000 : 24.65927290916443 seconds\n",
      "10000 : 102.77713131904602 seconds\n",
      "10000 : 126.23881030082703 seconds\n",
      "10000 : 113.91043543815613 seconds\n"
     ]
    }
   ],
   "source": [
    "num_tests=3\n",
    "serial_original_timing_dict={}\n",
    "serial_original_reslt_dict={}\n",
    "for arry_size in [100,1000,5000,10000]:\n",
    "    reslt_ary=[]\n",
    "    for test_indx in range(num_tests):\n",
    "        a = np.random.rand(1, arry_size)[0]\n",
    "        start_time = time.time()\n",
    "        outp=sample_entropy(a, 4, 0.1 * np.std(a))\n",
    "        elapsed_time = time.time() - start_time\n",
    "        serial_original_reslt_dict[(arry_size,test_indx)]=outp\n",
    "        print(arry_size,':',elapsed_time,'seconds')\n",
    "        reslt_ary.append(elapsed_time)\n",
    "    serial_original_timing_dict[arry_size]=sum(reslt_ary)/num_tests"
   ]
  },
  {
   "cell_type": "code",
   "execution_count": 9,
   "metadata": {},
   "outputs": [
    {
     "data": {
      "text/plain": [
       "{100: 0.017773866653442383,\n",
       " 1000: 1.185482343037923,\n",
       " 5000: 25.72808337211609,\n",
       " 10000: 114.30879235267639}"
      ]
     },
     "execution_count": 9,
     "metadata": {},
     "output_type": "execute_result"
    }
   ],
   "source": [
    "serial_original_timing_dict"
   ]
  },
  {
   "cell_type": "code",
   "execution_count": 10,
   "metadata": {},
   "outputs": [],
   "source": [
    "x,y=zip(*serial_original_timing_dict.items())"
   ]
  },
  {
   "cell_type": "code",
   "execution_count": 11,
   "metadata": {},
   "outputs": [
    {
     "name": "stdout",
     "output_type": "stream",
     "text": [
      "          2\n",
      "1.26e-06 x - 0.001227 x + 0.5644\n"
     ]
    }
   ],
   "source": [
    "z = np.polyfit(x, y, 2)\n",
    "f = np.poly1d(z)\n",
    "print(f)\n",
    "x_new = np.linspace(0, 10000, 50)\n",
    "y_new = f(x_new)"
   ]
  },
  {
   "cell_type": "code",
   "execution_count": 12,
   "metadata": {},
   "outputs": [
    {
     "data": {
      "image/png": "[encoded data removed]",
      "text/plain": [
       "<Figure size 432x288 with 1 Axes>"
      ]
     },
     "metadata": {
      "needs_background": "light"
     },
     "output_type": "display_data"
    }
   ],
   "source": [
    "_=plt.plot(x,y,'o', x_new, y_new)\n",
    "#plt.scatter(x,y)\n",
    "plt.ylabel('time [seconds]')\n",
    "plt.xlabel('array size')\n",
    "plt.title('serial; original')\n",
    "plt.show()"
   ]
  },
  {
   "cell_type": "markdown",
   "metadata": {},
   "source": [
    "# lambda to replace for loop\n",
    "\n",
    "as faras I understand, in order to use joblib, need to change the for loop to a generator:<BR>\n",
    "https://joblib.readthedocs.io/en/latest/parallel.html#parallel<BR>\n",
    "\"The core idea is to write the code to be executed as a generator expression, and convert it to parallel computing\"\n",
    "    \n",
    "According to line profiling, 30% of time is spent in a for loop that could be converted to a lambda function. Let's see what the performance enhancement is due to that change"
   ]
  },
  {
   "cell_type": "code",
   "execution_count": 13,
   "metadata": {},
   "outputs": [],
   "source": [
    "# https://github.com/nikdon/pyEntropy\n",
    "def sample_entropy(time_series, sample_length, tolerance=None):\n",
    "    \"\"\"Calculate and return Sample Entropy of the given time series.\n",
    "    Distance between two vectors defined as Euclidean distance and can\n",
    "    be changed in future releases\n",
    "    Args:\n",
    "        time_series: Vector or string of the sample data\n",
    "        sample_length: Number of sequential points of the time series\n",
    "        tolerance: Tolerance (default = 0.1...0.2 * std(time_series))\n",
    "    Returns:\n",
    "        Vector containing Sample Entropy (float)\n",
    "    References:\n",
    "        [1] http://en.wikipedia.org/wiki/Sample_Entropy\n",
    "        [2] http://physionet.incor.usp.br/physiotools/sampen/\n",
    "        [3] Madalena Costa, Ary Goldberger, CK Peng. Multiscale entropy analysis\n",
    "            of biological signals\n",
    "    \"\"\"\n",
    "    if tolerance is None:\n",
    "        tolerance = 0.1 * np.std(time_series)\n",
    "\n",
    "    n = len(time_series)\n",
    "    prev = np.zeros(n)\n",
    "    curr = np.zeros(n)\n",
    "    A = np.zeros((sample_length, 1))  # number of matches for m = [1,...,template_length - 1]\n",
    "    B = np.zeros((sample_length, 1))  # number of matches for m = [1,...,template_length]\n",
    "\n",
    "    for i in range(n - 1):\n",
    "        nj = n - i - 1\n",
    "        ts1 = time_series[i]\n",
    "        for jj in range(nj):\n",
    "            j = jj + i + 1\n",
    "            if abs(time_series[j] - ts1) < tolerance:  # distance between two vectors\n",
    "                curr[jj] = prev[jj] + 1\n",
    "                temp_ts_length = min(sample_length, curr[jj])\n",
    "                for m in range(int(temp_ts_length)):\n",
    "                    A[m] += 1\n",
    "                    if j < n - 1:\n",
    "                        B[m] += 1\n",
    "            else:\n",
    "                curr[jj] = 0\n",
    "#        for j in range(nj):\n",
    "#            prev[j] = curr[j]\n",
    "        prev = [curr[j] for j in range(nj)]\n",
    "\n",
    "    N = n * (n - 1) / 2\n",
    "    B = np.vstack(([N], B[:sample_length - 1]))\n",
    "    similarity_ratio = A / B\n",
    "    se = - np.log(similarity_ratio)\n",
    "    se = np.reshape(se, -1)\n",
    "    return se"
   ]
  },
  {
   "cell_type": "code",
   "execution_count": 14,
   "metadata": {},
   "outputs": [
    {
     "name": "stderr",
     "output_type": "stream",
     "text": [
      "/opt/conda/lib/python3.6/site-packages/ipykernel_launcher.py:47: RuntimeWarning: invalid value encountered in true_divide\n",
      "/opt/conda/lib/python3.6/site-packages/ipykernel_launcher.py:48: RuntimeWarning: divide by zero encountered in log\n"
     ]
    },
    {
     "data": {
      "text/plain": [
       "Timer unit: 1e-06 s\n",
       "\n",
       "Total time: 0.392972 s\n",
       "File: <ipython-input-13-adbe2aa07d5b>\n",
       "Function: sample_entropy at line 2\n",
       "\n",
       "Line #      Hits         Time  Per Hit   % Time  Line Contents\n",
       "==============================================================\n",
       "     2                                           def sample_entropy(time_series, sample_length, tolerance=None):\n",
       "     3                                               \"\"\"Calculate and return Sample Entropy of the given time series.\n",
       "     4                                               Distance between two vectors defined as Euclidean distance and can\n",
       "     5                                               be changed in future releases\n",
       "     6                                               Args:\n",
       "     7                                                   time_series: Vector or string of the sample data\n",
       "     8                                                   sample_length: Number of sequential points of the time series\n",
       "     9                                                   tolerance: Tolerance (default = 0.1...0.2 * std(time_series))\n",
       "    10                                               Returns:\n",
       "    11                                                   Vector containing Sample Entropy (float)\n",
       "    12                                               References:\n",
       "    13                                                   [1] http://en.wikipedia.org/wiki/Sample_Entropy\n",
       "    14                                                   [2] http://physionet.incor.usp.br/physiotools/sampen/\n",
       "    15                                                   [3] Madalena Costa, Ary Goldberger, CK Peng. Multiscale entropy analysis\n",
       "    16                                                       of biological signals\n",
       "    17                                               \"\"\"\n",
       "    18         1         21.0     21.0      0.0      if tolerance is None:\n",
       "    19                                                   tolerance = 0.1 * np.std(time_series)\n",
       "    20                                           \n",
       "    21         1         24.0     24.0      0.0      n = len(time_series)\n",
       "    22         1         43.0     43.0      0.0      prev = np.zeros(n)\n",
       "    23         1         35.0     35.0      0.0      curr = np.zeros(n)\n",
       "    24         1        528.0    528.0      0.1      A = np.zeros((sample_length, 1))  # number of matches for m = [1,...,template_length - 1]\n",
       "    25         1         38.0     38.0      0.0      B = np.zeros((sample_length, 1))  # number of matches for m = [1,...,template_length]\n",
       "    26                                           \n",
       "    27       100       1499.0     15.0      0.4      for i in range(n - 1):\n",
       "    28        99       1513.0     15.3      0.4          nj = n - i - 1\n",
       "    29        99       1623.0     16.4      0.4          ts1 = time_series[i]\n",
       "    30      5049      80857.0     16.0     20.6          for jj in range(nj):\n",
       "    31      4950      77201.0     15.6     19.6              j = jj + i + 1\n",
       "    32      4950      95801.0     19.4     24.4              if abs(time_series[j] - ts1) < tolerance:  # distance between two vectors\n",
       "    33       275       5477.0     19.9      1.4                  curr[jj] = prev[jj] + 1\n",
       "    34       275       5553.0     20.2      1.4                  temp_ts_length = min(sample_length, curr[jj])\n",
       "    35       560      12249.0     21.9      3.1                  for m in range(int(temp_ts_length)):\n",
       "    36       285      10274.0     36.0      2.6                      A[m] += 1\n",
       "    37       285       4524.0     15.9      1.2                      if j < n - 1:\n",
       "    38       282       8661.0     30.7      2.2                          B[m] += 1\n",
       "    39                                                       else:\n",
       "    40      4675      81313.0     17.4     20.7                  curr[jj] = 0\n",
       "    41                                           #        for j in range(nj):\n",
       "    42                                           #            prev[j] = curr[j]\n",
       "    43        99       4827.0     48.8      1.2          prev = [curr[j] for j in range(nj)]\n",
       "    44                                           \n",
       "    45         1         16.0     16.0      0.0      N = n * (n - 1) / 2\n",
       "    46         1        120.0    120.0      0.0      B = np.vstack(([N], B[:sample_length - 1]))\n",
       "    47         1        482.0    482.0      0.1      similarity_ratio = A / B\n",
       "    48         1        227.0    227.0      0.1      se = - np.log(similarity_ratio)\n",
       "    49         1         51.0     51.0      0.0      se = np.reshape(se, -1)\n",
       "    50         1         15.0     15.0      0.0      return se"
      ]
     },
     "metadata": {},
     "output_type": "display_data"
    }
   ],
   "source": [
    "a = np.random.rand(1, 100)[0]\n",
    "%lprun -f sample_entropy sample_entropy(a, 4, 0.1 * np.std(a))"
   ]
  },
  {
   "cell_type": "code",
   "execution_count": 15,
   "metadata": {},
   "outputs": [
    {
     "name": "stderr",
     "output_type": "stream",
     "text": [
      "/opt/conda/lib/python3.6/site-packages/ipykernel_launcher.py:48: RuntimeWarning: divide by zero encountered in log\n",
      "/opt/conda/lib/python3.6/site-packages/ipykernel_launcher.py:47: RuntimeWarning: invalid value encountered in true_divide\n"
     ]
    },
    {
     "name": "stdout",
     "output_type": "stream",
     "text": [
      "100 : 0.03336048126220703 seconds\n",
      "100 : 0.01607680320739746 seconds\n",
      "100 : 0.013380289077758789 seconds\n",
      "1000 : 0.9666922092437744 seconds\n",
      "1000 : 0.9244775772094727 seconds\n",
      "1000 : 1.1754088401794434 seconds\n",
      "5000 : 29.00029468536377 seconds\n",
      "5000 : 27.27799940109253 seconds\n",
      "5000 : 30.314775943756104 seconds\n",
      "10000 : 106.91291642189026 seconds\n",
      "10000 : 94.9902024269104 seconds\n",
      "10000 : 96.87069606781006 seconds\n"
     ]
    }
   ],
   "source": [
    "num_tests=3\n",
    "serial_lambda_timing_dict={}\n",
    "serial_lambda_reslt_dict={}\n",
    "for arry_size in [100,1000,5000,10000]:\n",
    "    reslt_ary=[]\n",
    "    for test_indx in range(num_tests):\n",
    "        a = np.random.rand(1, arry_size)[0]\n",
    "        start_time = time.time()\n",
    "        outp=sample_entropy(a, 4, 0.1 * np.std(a))\n",
    "        elapsed_time = time.time() - start_time\n",
    "        serial_lambda_reslt_dict[(arry_size,test_indx)]=outp\n",
    "        print(arry_size,':',elapsed_time,'seconds')\n",
    "        reslt_ary.append(elapsed_time)\n",
    "    serial_lambda_timing_dict[arry_size]=sum(reslt_ary)/num_tests"
   ]
  },
  {
   "cell_type": "code",
   "execution_count": 46,
   "metadata": {},
   "outputs": [
    {
     "data": {
      "text/plain": [
       "{100: 0.020939191182454426,\n",
       " 1000: 1.0221928755442302,\n",
       " 5000: 28.86435667673747,\n",
       " 10000: 99.59127163887024}"
      ]
     },
     "execution_count": 46,
     "metadata": {},
     "output_type": "execute_result"
    }
   ],
   "source": [
    "serial_lambda_timing_dict"
   ]
  },
  {
   "cell_type": "markdown",
   "metadata": {},
   "source": [
    "--> Slightly faster, but not significant"
   ]
  },
  {
   "cell_type": "code",
   "execution_count": 41,
   "metadata": {},
   "outputs": [],
   "source": [
    "x,y=zip(*serial_lambda_timing_dict.items())"
   ]
  },
  {
   "cell_type": "code",
   "execution_count": 42,
   "metadata": {},
   "outputs": [
    {
     "name": "stdout",
     "output_type": "stream",
     "text": [
      "          2\n",
      "8.34e-07 x + 0.001698 x - 0.7335\n"
     ]
    }
   ],
   "source": [
    "z = np.polyfit(x, y, 2)\n",
    "f = np.poly1d(z)\n",
    "print(f)\n",
    "x_new = np.linspace(0, 10000, 50)\n",
    "y_new = f(x_new)"
   ]
  },
  {
   "cell_type": "code",
   "execution_count": 43,
   "metadata": {},
   "outputs": [
    {
     "data": {
      "image/png": "[encoded data removed]",
      "text/plain": [
       "<Figure size 432x288 with 1 Axes>"
      ]
     },
     "metadata": {
      "needs_background": "light"
     },
     "output_type": "display_data"
    }
   ],
   "source": [
    "_=plt.plot(x,y,'o', x_new, y_new)\n",
    "#plt.scatter(x,y)\n",
    "plt.ylabel('time [seconds]')\n",
    "plt.xlabel('array size')\n",
    "plt.title('serial; lambda')\n",
    "plt.show()"
   ]
  },
  {
   "cell_type": "markdown",
   "metadata": {},
   "source": [
    "## compare output of original and lambda-based"
   ]
  },
  {
   "cell_type": "markdown",
   "metadata": {},
   "source": [
    "--> I don't know how to interpret the outputs, so I don't know whether the comparisons are acceptable"
   ]
  },
  {
   "cell_type": "code",
   "execution_count": 45,
   "metadata": {},
   "outputs": [
    {
     "data": {
      "text/plain": [
       "{(100, 0): array([ 2.93879835,  2.98801023,         inf,         nan]),\n",
       " (100, 1): array([ 2.81341072,  3.10493157,         inf,         nan]),\n",
       " (100, 2): array([ 2.69301232,  2.4941233 ,  2.60268969,         inf]),\n",
       " (1000, 0): array([ 2.895973  ,  2.8638716 ,  2.86828187,  3.09104245]),\n",
       " (1000, 1): array([ 2.86384387,  2.82004354,  2.8492899 ,  2.63905733]),\n",
       " (1000, 2): array([ 2.86048064,  2.80648423,  2.80394296,  3.54577861]),\n",
       " (5000, 0): array([ 2.86775559,  2.87866134,  2.89260555,  2.88811085]),\n",
       " (5000, 1): array([ 2.86738533,  2.87168713,  2.89438728,  2.87694874]),\n",
       " (5000, 2): array([ 2.86971897,  2.86578518,  2.84435906,  2.78330694]),\n",
       " (10000, 0): array([ 2.86271106,  2.86642089,  2.86533693,  2.91555649]),\n",
       " (10000, 1): array([ 2.86521402,  2.86600525,  2.86511134,  2.8918897 ]),\n",
       " (10000, 2): array([ 2.87205874,  2.87702985,  2.88413512,  2.86507081])}"
      ]
     },
     "execution_count": 45,
     "metadata": {},
     "output_type": "execute_result"
    }
   ],
   "source": [
    "serial_original_reslt_dict"
   ]
  },
  {
   "cell_type": "code",
   "execution_count": 44,
   "metadata": {},
   "outputs": [
    {
     "data": {
      "text/plain": [
       "{(100, 0): array([ 2.7080502 ,  2.62969689,  3.13549422,         inf]),\n",
       " (100, 1): array([ 2.92364655,  2.72361472,         inf,         nan]),\n",
       " (100, 2): array([ 2.87235325,  3.19309171,         inf,         nan]),\n",
       " (1000, 0): array([ 2.85848906,  2.87623688,  2.92839915,  3.35573501]),\n",
       " (1000, 1): array([ 2.89098456,  2.87339123,  2.87446305,  1.99243016]),\n",
       " (1000, 2): array([ 2.85786096,  2.84597925,  2.68658247,  2.78147767]),\n",
       " (5000, 0): array([ 2.86072028,  2.85088122,  2.86187409,  2.88403861]),\n",
       " (5000, 1): array([ 2.86526779,  2.86919733,  2.87546923,  2.90989323]),\n",
       " (5000, 2): array([ 2.86305662,  2.86938197,  2.86455222,  2.93924866]),\n",
       " (10000, 0): array([ 2.86367111,  2.86116112,  2.85210227,  2.81656736]),\n",
       " (10000, 1): array([ 2.86235601,  2.86056957,  2.86593423,  2.8374139 ]),\n",
       " (10000, 2): array([ 2.86374367,  2.86245601,  2.86552734,  2.87200302])}"
      ]
     },
     "execution_count": 44,
     "metadata": {},
     "output_type": "execute_result"
    }
   ],
   "source": [
    "serial_lambda_reslt_dict"
   ]
  },
  {
   "cell_type": "markdown",
   "metadata": {},
   "source": [
    "# fine-grain concurrency: Numba\n",
    "### Numba = JIT compiler that translates Python and NumPy code into machine code\n",
    "\n",
    "https://numba.pydata.org/numba-doc/dev/user/performance-tips.html\n",
    "\n",
    "https://numba.pydata.org/numba-doc/latest/user/parallel.html\n",
    "https://numba.pydata.org/numba-doc/latest/user/jit.html#parallel-jit-option"
   ]
  },
  {
   "cell_type": "code",
   "execution_count": 19,
   "metadata": {},
   "outputs": [],
   "source": [
    "import numba as nb"
   ]
  },
  {
   "cell_type": "code",
   "execution_count": 20,
   "metadata": {},
   "outputs": [
    {
     "name": "stdout",
     "output_type": "stream",
     "text": [
      "0.38.1\n"
     ]
    }
   ],
   "source": [
    "print(nb.__version__)"
   ]
  },
  {
   "cell_type": "code",
   "execution_count": 21,
   "metadata": {},
   "outputs": [],
   "source": [
    "# https://numba.pydata.org/numba-doc/dev/reference/envvars.html#numba-envvars\n",
    "import os\n",
    "os.environ[\"NUMBA_WARNINGS\"] = \"1\""
   ]
  },
  {
   "cell_type": "markdown",
   "metadata": {},
   "source": [
    "I recommend playing around with the various arguments to figure out which combination is best"
   ]
  },
  {
   "cell_type": "code",
   "execution_count": 22,
   "metadata": {},
   "outputs": [],
   "source": [
    "@nb.jit(fastmath=True,error_model='numpy',parallel=True,nopython=True)\n",
    "def sample_entropy(time_series, sample_length, tolerance=None):\n",
    "    \"\"\"Calculate and return Sample Entropy of the given time series.\n",
    "    Distance between two vectors defined as Euclidean distance and can\n",
    "    be changed in future releases\n",
    "    Args:\n",
    "        time_series: Vector or string of the sample data\n",
    "        sample_length: Number of sequential points of the time series\n",
    "        tolerance: Tolerance (default = 0.1...0.2 * std(time_series))\n",
    "    Returns:\n",
    "        Vector containing Sample Entropy (float)\n",
    "    References:\n",
    "        [1] http://en.wikipedia.org/wiki/Sample_Entropy\n",
    "        [2] http://physionet.incor.usp.br/physiotools/sampen/\n",
    "        [3] Madalena Costa, Ary Goldberger, CK Peng. Multiscale entropy analysis\n",
    "            of biological signals\n",
    "    \"\"\"\n",
    "    if tolerance is None:\n",
    "        tolerance = 0.1 * np.std(time_series)\n",
    "\n",
    "    n = len(time_series)\n",
    "    prev = np.zeros(n)\n",
    "    curr = np.zeros(n)\n",
    "    A = np.zeros((sample_length))  # number of matches for m = [1,...,template_length - 1]\n",
    "    B = np.zeros((sample_length))  # number of matches for m = [1,...,template_length]\n",
    "\n",
    "    for i in range(n - 1):\n",
    "        nj = n - i - 1\n",
    "        ts1 = time_series[i]\n",
    "        for jj in range(nj):\n",
    "            j = jj + i + 1\n",
    "            if abs(time_series[j] - ts1) < tolerance:  # distance between two vectors\n",
    "                curr[jj] = prev[jj] + 1\n",
    "                temp_ts_length = min(sample_length, curr[jj])\n",
    "                for m in range(int(temp_ts_length)):\n",
    "                    A[m] += 1\n",
    "                    if j < n - 1:\n",
    "                        B[m] += 1\n",
    "            else:\n",
    "                curr[jj] = 0\n",
    "        for j in range(nj):\n",
    "            prev[j] = curr[j]\n",
    "\n",
    "    N = n * (n - 1) // 2\n",
    "\n",
    "    B2=np.empty(sample_length)\n",
    "    B2[0]=N\n",
    "    B2[1:]=B[:sample_length - 1]\n",
    "    similarity_ratio = A / B2\n",
    "    se = - np.log(similarity_ratio)\n",
    "    return se"
   ]
  },
  {
   "cell_type": "raw",
   "metadata": {},
   "source": [
    "# https://numba.pydata.org/numba-doc/0.17.0/user/troubleshoot.html#troubleshooting\n",
    "sample_entropy.inspect_types()"
   ]
  },
  {
   "cell_type": "code",
   "execution_count": 23,
   "metadata": {},
   "outputs": [
    {
     "name": "stdout",
     "output_type": "stream",
     "text": [
      "100 : 2.9032387733459473 seconds\n",
      "100 : 0.0010673999786376953 seconds\n",
      "100 : 0.0009758472442626953 seconds\n",
      "1000 : 0.002295970916748047 seconds\n",
      "1000 : 0.0022230148315429688 seconds\n",
      "1000 : 0.002920389175415039 seconds\n",
      "5000 : 0.038706064224243164 seconds\n",
      "5000 : 0.04124927520751953 seconds\n",
      "5000 : 0.04027128219604492 seconds\n",
      "10000 : 0.15720367431640625 seconds\n",
      "10000 : 0.17158055305480957 seconds\n",
      "10000 : 0.17561864852905273 seconds\n",
      "50000 : 4.9738852977752686 seconds\n",
      "50000 : 4.850930452346802 seconds\n",
      "50000 : 5.118290424346924 seconds\n",
      "100000 : 17.736605882644653 seconds\n",
      "100000 : 17.36156702041626 seconds\n",
      "100000 : 17.567853927612305 seconds\n"
     ]
    }
   ],
   "source": [
    "num_tests=3\n",
    "numba_reslt_dict={}\n",
    "for arry_size in [100,1000,5000,10000,50000,100000]:\n",
    "    reslt_ary=[]\n",
    "    for test_indx in range(num_tests):\n",
    "        a = np.random.rand(1, arry_size)[0]\n",
    "        start_time = time.time()\n",
    "        sample_entropy(a, 4, 0.1 * np.std(a))\n",
    "        elapsed_time = time.time() - start_time\n",
    "        print(arry_size,':',elapsed_time,'seconds')\n",
    "        reslt_ary.append(elapsed_time)\n",
    "    numba_reslt_dict[arry_size]=sum(reslt_ary)/num_tests"
   ]
  },
  {
   "cell_type": "code",
   "execution_count": 24,
   "metadata": {},
   "outputs": [
    {
     "data": {
      "image/png": "[encoded data removed]",
      "text/plain": [
       "<Figure size 432x288 with 1 Axes>"
      ]
     },
     "metadata": {
      "needs_background": "light"
     },
     "output_type": "display_data"
    }
   ],
   "source": [
    "x,y=zip(*numba_reslt_dict.items())\n",
    "plt.scatter(x,y)\n",
    "plt.ylabel('time [seconds]')\n",
    "plt.xlabel('array size')\n",
    "plt.show()"
   ]
  },
  {
   "cell_type": "code",
   "execution_count": 27,
   "metadata": {},
   "outputs": [],
   "source": [
    "z = np.polyfit(x, y, 2)"
   ]
  },
  {
   "cell_type": "code",
   "execution_count": 28,
   "metadata": {},
   "outputs": [
    {
     "name": "stdout",
     "output_type": "stream",
     "text": [
      "           2\n",
      "1.647e-09 x + 8.852e-06 x + 0.2419\n"
     ]
    }
   ],
   "source": [
    "f = np.poly1d(z)\n",
    "print(f)"
   ]
  },
  {
   "cell_type": "code",
   "execution_count": 29,
   "metadata": {},
   "outputs": [],
   "source": [
    "x_new = np.linspace(0, 100000, 50)\n",
    "y_new = f(x_new)"
   ]
  },
  {
   "cell_type": "code",
   "execution_count": 30,
   "metadata": {},
   "outputs": [
    {
     "data": {
      "image/png": "[encoded data removed]",
      "text/plain": [
       "<Figure size 432x288 with 1 Axes>"
      ]
     },
     "metadata": {
      "needs_background": "light"
     },
     "output_type": "display_data"
    }
   ],
   "source": [
    "_=plt.plot(x,y,'o', x_new, y_new)\n",
    "_=plt.ylabel('time [seconds]')\n",
    "_=plt.xlabel('array size')"
   ]
  },
  {
   "cell_type": "code",
   "execution_count": 31,
   "metadata": {},
   "outputs": [
    {
     "data": {
      "text/plain": [
       "4.184e-09"
      ]
     },
     "execution_count": 31,
     "metadata": {},
     "output_type": "execute_result"
    }
   ],
   "source": [
    "2*(2.092e-09)"
   ]
  },
  {
   "cell_type": "code",
   "execution_count": 32,
   "metadata": {},
   "outputs": [
    {
     "name": "stdout",
     "output_type": "stream",
     "text": [
      "677710.7990299999 seconds\n"
     ]
    }
   ],
   "source": [
    "x=18000000 # array size\n",
    "print((2.092e-09*x*x) - (5.401e-06*x) + 0.01703,'seconds')"
   ]
  },
  {
   "cell_type": "markdown",
   "metadata": {},
   "source": [
    "677710.7990299999 seconds = 8 days"
   ]
  },
  {
   "cell_type": "code",
   "execution_count": 33,
   "metadata": {},
   "outputs": [
    {
     "name": "stdout",
     "output_type": "stream",
     "text": [
      "1.7377999999999998 seconds\n"
     ]
    }
   ],
   "source": [
    "x=30000 # array size\n",
    "print((2.092e-09*x*x) - (5.401e-06*x) + 0.01703,'seconds')"
   ]
  }
 ],
 "metadata": {
  "kernelspec": {
   "display_name": "Python 3",
   "language": "python",
   "name": "python3"
  },
  "language_info": {
   "codemirror_mode": {
    "name": "ipython",
    "version": 3
   },
   "file_extension": ".py",
   "mimetype": "text/x-python",
   "name": "python",
   "nbconvert_exporter": "python",
   "pygments_lexer": "ipython3",
   "version": "3.6.6"
  }
 },
 "nbformat": 4,
 "nbformat_minor": 2
}
