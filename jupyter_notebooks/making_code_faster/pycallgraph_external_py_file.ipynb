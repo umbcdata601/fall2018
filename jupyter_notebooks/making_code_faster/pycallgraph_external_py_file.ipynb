{
 "cells": [
  {
   "cell_type": "code",
   "execution_count": 2,
   "metadata": {},
   "outputs": [
    {
     "name": "stdout",
     "output_type": "stream",
     "text": [
      "Collecting pycallgraph\n",
      "  Downloading https://files.pythonhosted.org/packages/ca/2e/fafa56316bc2c5fbfbda898f964137c8b5ef33a876cb1f35a54ff6afbd60/pycallgraph-1.0.1.tar.gz\n",
      "Building wheels for collected packages: pycallgraph\n",
      "  Running setup.py bdist_wheel for pycallgraph ... \u001b[?25ldone\n",
      "\u001b[?25h  Stored in directory: /home/jovyan/.cache/pip/wheels/8c/4b/98/80b30394d77899669da7b8502cbc890d0f35e469022a66eeb3\n",
      "Successfully built pycallgraph\n",
      "Installing collected packages: pycallgraph\n",
      "Successfully installed pycallgraph-1.0.1\n"
     ]
    }
   ],
   "source": [
    "!pip install pycallgraph"
   ]
  },
  {
   "cell_type": "code",
   "execution_count": 16,
   "metadata": {},
   "outputs": [],
   "source": [
    "import pycallgraph"
   ]
  },
  {
   "cell_type": "code",
   "execution_count": 17,
   "metadata": {},
   "outputs": [
    {
     "name": "stdout",
     "output_type": "stream",
     "text": [
      "Runing train_SVM.py!\n",
      "Loading MIT BIH arr (DS1) ...\n",
      "Traceback (most recent call last):\n",
      "  File \"/opt/conda/bin/pycallgraph\", line 26, in <module>\n",
      "    exec(__file_content)\n",
      "  File \"<string>\", line 54, in <module>\n",
      "  File \"/home/jovyan/train_SVM.py\", line 165, in main\n",
      "    maxRR, use_RR, norm_RR, compute_morph, db_path, reduced_DS, leads_flag)\n",
      "  File \"/home/jovyan/load_MITBIH.py\", line 135, in load_mit_db\n",
      "    my_db = load_signal(DS1, winL, winR, do_preprocess)\n",
      "  File \"/home/jovyan/load_MITBIH.py\", line 472, in load_signal\n",
      "    lst = os.listdir(pathDB + DB_name + \"/csv\")\n",
      "FileNotFoundError: [Errno 2] No such file or directory: '/home/mondejar/dataset/ECG/mitdb/csv'\n"
     ]
    }
   ],
   "source": [
    "!pycallgraph graphviz -- ./run_train_SVM.py"
   ]
  },
  {
   "cell_type": "raw",
   "metadata": {},
   "source": [
    "https://stackoverflow.com/questions/10326936/sort-cprofile-output-by-percall-when-profiling-a-python-script"
   ]
  }
 ],
 "metadata": {
  "kernelspec": {
   "display_name": "Python 3",
   "language": "python",
   "name": "python3"
  },
  "language_info": {
   "codemirror_mode": {
    "name": "ipython",
    "version": 3
   },
   "file_extension": ".py",
   "mimetype": "text/x-python",
   "name": "python",
   "nbconvert_exporter": "python",
   "pygments_lexer": "ipython3",
   "version": "3.6.6"
  }
 },
 "nbformat": 4,
 "nbformat_minor": 2
}
