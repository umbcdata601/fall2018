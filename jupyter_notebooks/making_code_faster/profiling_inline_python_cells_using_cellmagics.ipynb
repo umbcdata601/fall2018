{
 "cells": [
  {
   "cell_type": "markdown",
   "metadata": {},
   "source": [
    "https://jakevdp.github.io/PythonDataScienceHandbook/01.07-timing-and-profiling.html\n",
    "\n",
    "http://codedelish.com/resources/Python/profiling.html\n",
    "\n",
    "http://pynash.org/2013/03/06/timing-and-profiling/"
   ]
  },
  {
   "cell_type": "code",
   "execution_count": 1,
   "metadata": {},
   "outputs": [
    {
     "name": "stdout",
     "output_type": "stream",
     "text": [
      "Collecting line-profiler\n",
      "Requirement already satisfied: IPython>=0.13 in /opt/conda/lib/python3.6/site-packages (from line-profiler) (7.0.1)\n",
      "Requirement already satisfied: setuptools>=18.5 in /opt/conda/lib/python3.6/site-packages (from IPython>=0.13->line-profiler) (40.4.3)\n",
      "Requirement already satisfied: jedi>=0.10 in /opt/conda/lib/python3.6/site-packages (from IPython>=0.13->line-profiler) (0.13.1)\n",
      "Requirement already satisfied: decorator in /opt/conda/lib/python3.6/site-packages (from IPython>=0.13->line-profiler) (4.3.0)\n",
      "Requirement already satisfied: pickleshare in /opt/conda/lib/python3.6/site-packages (from IPython>=0.13->line-profiler) (0.7.5)\n",
      "Requirement already satisfied: simplegeneric>0.8 in /opt/conda/lib/python3.6/site-packages (from IPython>=0.13->line-profiler) (0.8.1)\n",
      "Requirement already satisfied: traitlets>=4.2 in /opt/conda/lib/python3.6/site-packages (from IPython>=0.13->line-profiler) (4.3.2)\n",
      "Requirement already satisfied: prompt_toolkit<2.1.0,>=2.0.0 in /opt/conda/lib/python3.6/site-packages (from IPython>=0.13->line-profiler) (2.0.6)\n",
      "Requirement already satisfied: pygments in /opt/conda/lib/python3.6/site-packages (from IPython>=0.13->line-profiler) (2.2.0)\n",
      "Requirement already satisfied: backcall in /opt/conda/lib/python3.6/site-packages (from IPython>=0.13->line-profiler) (0.1.0)\n",
      "Requirement already satisfied: pexpect in /opt/conda/lib/python3.6/site-packages (from IPython>=0.13->line-profiler) (4.6.0)\n",
      "Requirement already satisfied: parso>=0.3.0 in /opt/conda/lib/python3.6/site-packages (from jedi>=0.10->IPython>=0.13->line-profiler) (0.3.1)\n",
      "Requirement already satisfied: ipython_genutils in /opt/conda/lib/python3.6/site-packages (from traitlets>=4.2->IPython>=0.13->line-profiler) (0.2.0)\n",
      "Requirement already satisfied: six in /opt/conda/lib/python3.6/site-packages (from traitlets>=4.2->IPython>=0.13->line-profiler) (1.11.0)\n",
      "Requirement already satisfied: wcwidth in /opt/conda/lib/python3.6/site-packages (from prompt_toolkit<2.1.0,>=2.0.0->IPython>=0.13->line-profiler) (0.1.7)\n",
      "Requirement already satisfied: ptyprocess>=0.5 in /opt/conda/lib/python3.6/site-packages (from pexpect->IPython>=0.13->line-profiler) (0.6.0)\n",
      "Installing collected packages: line-profiler\n",
      "Successfully installed line-profiler-2.1.2\n",
      "Requirement already satisfied: psutil in /opt/conda/lib/python3.6/site-packages (5.4.8)\n",
      "Collecting memory_profiler\n",
      "Requirement already satisfied: psutil in /opt/conda/lib/python3.6/site-packages (from memory_profiler) (5.4.8)\n",
      "Installing collected packages: memory-profiler\n",
      "Successfully installed memory-profiler-0.54.0\n"
     ]
    }
   ],
   "source": [
    "!pip install line-profiler\n",
    "!pip install psutil\n",
    "!pip install memory_profiler"
   ]
  },
  {
   "cell_type": "code",
   "execution_count": 2,
   "metadata": {},
   "outputs": [],
   "source": [
    "def mult_by(inpt):\n",
    "    avalu = inpt*2\n",
    "    avalu+=1\n",
    "\n",
    "def primes(n=1000): \n",
    "    A = [True] * (n+1)\n",
    "    A[0] = False\n",
    "    A[1] = False\n",
    "    for i in range(2, int(n**0.5)):\n",
    "        if A[i]:\n",
    "            mult_by(i)\n",
    "            for j in range(i**2, n+1, i):\n",
    "                A[j] = False\n",
    "\n",
    "    return [x for x in range(2, n) if A[x]]"
   ]
  },
  {
   "cell_type": "markdown",
   "metadata": {},
   "source": [
    "# time function "
   ]
  },
  {
   "cell_type": "code",
   "execution_count": 3,
   "metadata": {},
   "outputs": [
    {
     "name": "stdout",
     "output_type": "stream",
     "text": [
      "CPU times: user 0 ns, sys: 0 ns, total: 0 ns\n",
      "Wall time: 66 µs\n"
     ]
    },
    {
     "data": {
      "text/plain": [
       "[2, 3, 5, 7, 11, 13, 17, 19]"
      ]
     },
     "execution_count": 3,
     "metadata": {},
     "output_type": "execute_result"
    }
   ],
   "source": [
    "%time primes(20)"
   ]
  },
  {
   "cell_type": "markdown",
   "metadata": {},
   "source": [
    "Displaying output skews measurement results for cell execution, so store output to a variable"
   ]
  },
  {
   "cell_type": "code",
   "execution_count": 4,
   "metadata": {},
   "outputs": [
    {
     "name": "stdout",
     "output_type": "stream",
     "text": [
      "CPU times: user 0 ns, sys: 0 ns, total: 0 ns\n",
      "Wall time: 123 µs\n"
     ]
    }
   ],
   "source": [
    "%time reslt=primes(20)"
   ]
  },
  {
   "cell_type": "code",
   "execution_count": 5,
   "metadata": {},
   "outputs": [
    {
     "name": "stdout",
     "output_type": "stream",
     "text": [
      "CPU times: user 820 ms, sys: 200 ms, total: 1.02 s\n",
      "Wall time: 1.25 s\n"
     ]
    }
   ],
   "source": [
    "%time reslt=primes(1000000)"
   ]
  },
  {
   "cell_type": "markdown",
   "metadata": {},
   "source": [
    "# cProfile\n",
    "\n",
    "https://docs.python.org/3/library/profile.html"
   ]
  },
  {
   "cell_type": "code",
   "execution_count": 6,
   "metadata": {},
   "outputs": [],
   "source": [
    "import cProfile"
   ]
  },
  {
   "cell_type": "code",
   "execution_count": 7,
   "metadata": {},
   "outputs": [
    {
     "name": "stdout",
     "output_type": "stream",
     "text": [
      "         451 function calls in 7.122 seconds\n",
      "\n",
      "   Ordered by: standard name\n",
      "\n",
      "   ncalls  tottime  percall  cumtime  percall filename:lineno(function)\n",
      "      446    0.008    0.000    0.008    0.000 <ipython-input-2-03d799ffa7ac>:1(mult_by)\n",
      "        1    1.535    1.535    1.535    1.535 <ipython-input-2-03d799ffa7ac>:15(<listcomp>)\n",
      "        1    5.472    5.472    7.015    7.015 <ipython-input-2-03d799ffa7ac>:5(primes)\n",
      "        1    0.107    0.107    7.122    7.122 <string>:1(<module>)\n",
      "        1    0.000    0.000    7.122    7.122 {built-in method builtins.exec}\n",
      "        1    0.000    0.000    0.000    0.000 {method 'disable' of '_lsprof.Profiler' objects}\n",
      "\n",
      "\n"
     ]
    }
   ],
   "source": [
    "cProfile.run('primes(10000000)')"
   ]
  },
  {
   "cell_type": "raw",
   "metadata": {},
   "source": [
    "ncalls\n",
    "    How many times it was called\n",
    "tottime\n",
    "    for the total time spent in the given function (and excluding time made in calls to sub-functions)\n",
    "percall\n",
    "    is the quotient of tottime divided by ncalls\n",
    "cumtime\n",
    "    is the cumulative time spent in this and all subfunctions (from invocation till exit). This figure is accurate even for recursive functions.\n",
    "percall\n",
    "    is the quotient of cumtime divided by primitive calls\n",
    "filename:lineno(function)\n",
    "    provides the respective data of each function"
   ]
  },
  {
   "cell_type": "markdown",
   "metadata": {},
   "source": [
    "# line time"
   ]
  },
  {
   "cell_type": "markdown",
   "metadata": {},
   "source": [
    "https://nyu-cds.github.io/python-performance-tuning/03-line_profiler/\n",
    "    \n",
    "https://jakevdp.github.io/PythonDataScienceHandbook/01.07-timing-and-profiling.html"
   ]
  },
  {
   "cell_type": "code",
   "execution_count": 8,
   "metadata": {},
   "outputs": [],
   "source": [
    "%load_ext line_profiler"
   ]
  },
  {
   "cell_type": "code",
   "execution_count": 11,
   "metadata": {},
   "outputs": [],
   "source": [
    "%lprun?"
   ]
  },
  {
   "cell_type": "code",
   "execution_count": 12,
   "metadata": {},
   "outputs": [],
   "source": [
    "%lprun -f primes primes(10000)"
   ]
  },
  {
   "cell_type": "code",
   "execution_count": 13,
   "metadata": {},
   "outputs": [],
   "source": [
    "%lprun -f mult_by primes(10000)"
   ]
  },
  {
   "cell_type": "raw",
   "metadata": {},
   "source": [
    "Line # - The line number in the code\n",
    "Hits - The number of times that line was executed\n",
    "Time - The total amount of time spent executing the line in the timer’s units\n",
    "Per Hit - The average amount of time spent executing the line once in the timer’s unit\n",
    "% Time - The percentage of time spent on that line relative to the total amount of recorded time spent in the function\n",
    "Line Contents - The actual source code of the line"
   ]
  },
  {
   "cell_type": "markdown",
   "metadata": {},
   "source": [
    "line_profiler generates profiles based on the lines in a program.\n",
    "\n",
    "Line based profiling can provide more information about where a program is performing badly."
   ]
  }
 ],
 "metadata": {
  "kernelspec": {
   "display_name": "Python 3",
   "language": "python",
   "name": "python3"
  },
  "language_info": {
   "codemirror_mode": {
    "name": "ipython",
    "version": 3
   },
   "file_extension": ".py",
   "mimetype": "text/x-python",
   "name": "python",
   "nbconvert_exporter": "python",
   "pygments_lexer": "ipython3",
   "version": "3.6.6"
  }
 },
 "nbformat": 4,
 "nbformat_minor": 2
}
