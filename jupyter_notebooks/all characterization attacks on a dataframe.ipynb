{
 "cells": [
  {
   "cell_type": "markdown",
   "metadata": {},
   "source": [
    "author: Ben\n",
    "\n",
    "purpose: demonstrate common methods for characterizing data"
   ]
  },
  {
   "cell_type": "markdown",
   "metadata": {},
   "source": [
    "## characterize the environment hosting the notebook"
   ]
  },
  {
   "cell_type": "code",
   "execution_count": 1,
   "metadata": {},
   "outputs": [
    {
     "name": "stdout",
     "output_type": "stream",
     "text": [
      "6a4d062af58c\n"
     ]
    }
   ],
   "source": [
    "!hostname"
   ]
  },
  {
   "cell_type": "code",
   "execution_count": 2,
   "metadata": {},
   "outputs": [
    {
     "name": "stdout",
     "output_type": "stream",
     "text": [
      "Python version: 3.6.6 | packaged by conda-forge | (default, Oct 12 2018, 14:08:43) \n",
      "[GCC 4.8.2 20140120 (Red Hat 4.8.2-15)]\n"
     ]
    }
   ],
   "source": [
    "import sys\n",
    "print('Python version:',sys.version)\n",
    "#print('Python version info:',sys.version_info)"
   ]
  },
  {
   "cell_type": "code",
   "execution_count": 3,
   "metadata": {},
   "outputs": [
    {
     "name": "stdout",
     "output_type": "stream",
     "text": [
      "# packages in environment at /opt/conda:\n",
      "#\n",
      "# Name                    Version                   Build  Channel\n",
      "ipython                   7.0.1           py36h24bf2e0_1000    conda-forge\n",
      "ipython_genutils          0.2.0                      py_1    conda-forge\n"
     ]
    }
   ],
   "source": [
    "!conda list ipython"
   ]
  },
  {
   "cell_type": "code",
   "execution_count": 4,
   "metadata": {},
   "outputs": [
    {
     "name": "stdout",
     "output_type": "stream",
     "text": [
      "4.4.0\n"
     ]
    }
   ],
   "source": [
    "!jupyter --version"
   ]
  },
  {
   "cell_type": "markdown",
   "metadata": {},
   "source": [
    "## load modules"
   ]
  },
  {
   "cell_type": "code",
   "execution_count": 5,
   "metadata": {},
   "outputs": [
    {
     "data": {
      "text/plain": [
       "'0.23.4'"
      ]
     },
     "execution_count": 5,
     "metadata": {},
     "output_type": "execute_result"
    }
   ],
   "source": [
    "import pandas\n",
    "pandas.__version__"
   ]
  },
  {
   "cell_type": "code",
   "execution_count": 6,
   "metadata": {},
   "outputs": [],
   "source": [
    "import matplotlib.pyplot as plt"
   ]
  },
  {
   "cell_type": "code",
   "execution_count": 7,
   "metadata": {},
   "outputs": [
    {
     "data": {
      "text/plain": [
       "'0.9.0'"
      ]
     },
     "execution_count": 7,
     "metadata": {},
     "output_type": "execute_result"
    }
   ],
   "source": [
    "import seaborn\n",
    "seaborn.__version__"
   ]
  },
  {
   "cell_type": "markdown",
   "metadata": {},
   "source": [
    "## load data into pandas"
   ]
  },
  {
   "cell_type": "code",
   "execution_count": 8,
   "metadata": {},
   "outputs": [],
   "source": [
    "df = pandas.read_csv(\"https://people.sc.fsu.edu/~jburkardt/data/csv/mlb_players.csv\", \n",
    "                     skiprows=[1035],\n",
    "                     skipinitialspace=True)"
   ]
  },
  {
   "cell_type": "markdown",
   "metadata": {},
   "source": [
    "## what are the columns and their types?"
   ]
  },
  {
   "cell_type": "code",
   "execution_count": 9,
   "metadata": {},
   "outputs": [
    {
     "data": {
      "text/plain": [
       "Name               object\n",
       "Team               object\n",
       "Position           object\n",
       "Height(inches)      int64\n",
       "Weight(lbs)       float64\n",
       "Age               float64\n",
       "dtype: object"
      ]
     },
     "execution_count": 9,
     "metadata": {},
     "output_type": "execute_result"
    }
   ],
   "source": [
    "# df.columns.tolist()\n",
    "df.dtypes"
   ]
  },
  {
   "cell_type": "markdown",
   "metadata": {},
   "source": [
    "## what are the dimensions of the table?"
   ]
  },
  {
   "cell_type": "code",
   "execution_count": 10,
   "metadata": {},
   "outputs": [
    {
     "name": "stdout",
     "output_type": "stream",
     "text": [
      "Number of rows:  1034\n",
      "Number Of columns:  6\n"
     ]
    }
   ],
   "source": [
    "rows, cols = df.shape\n",
    "\n",
    "print (\"Number of rows: \", rows)\n",
    "print (\"Number Of columns: \", cols)"
   ]
  },
  {
   "cell_type": "markdown",
   "metadata": {},
   "source": [
    "## inspect the contents"
   ]
  },
  {
   "cell_type": "code",
   "execution_count": 11,
   "metadata": {},
   "outputs": [
    {
     "data": {
      "text/html": [
       "<div>\n",
       "<style scoped>\n",
       "    .dataframe tbody tr th:only-of-type {\n",
       "        vertical-align: middle;\n",
       "    }\n",
       "\n",
       "    .dataframe tbody tr th {\n",
       "        vertical-align: top;\n",
       "    }\n",
       "\n",
       "    .dataframe thead th {\n",
       "        text-align: right;\n",
       "    }\n",
       "</style>\n",
       "<table border=\"1\" class=\"dataframe\">\n",
       "  <thead>\n",
       "    <tr style=\"text-align: right;\">\n",
       "      <th></th>\n",
       "      <th>Name</th>\n",
       "      <th>Team</th>\n",
       "      <th>Position</th>\n",
       "      <th>Height(inches)</th>\n",
       "      <th>Weight(lbs)</th>\n",
       "      <th>Age</th>\n",
       "    </tr>\n",
       "  </thead>\n",
       "  <tbody>\n",
       "    <tr>\n",
       "      <th>0</th>\n",
       "      <td>Adam Donachie</td>\n",
       "      <td>BAL</td>\n",
       "      <td>Catcher</td>\n",
       "      <td>74</td>\n",
       "      <td>180.0</td>\n",
       "      <td>22.99</td>\n",
       "    </tr>\n",
       "    <tr>\n",
       "      <th>1</th>\n",
       "      <td>Paul Bako</td>\n",
       "      <td>BAL</td>\n",
       "      <td>Catcher</td>\n",
       "      <td>74</td>\n",
       "      <td>215.0</td>\n",
       "      <td>34.69</td>\n",
       "    </tr>\n",
       "    <tr>\n",
       "      <th>2</th>\n",
       "      <td>Ramon Hernandez</td>\n",
       "      <td>BAL</td>\n",
       "      <td>Catcher</td>\n",
       "      <td>72</td>\n",
       "      <td>210.0</td>\n",
       "      <td>30.78</td>\n",
       "    </tr>\n",
       "    <tr>\n",
       "      <th>3</th>\n",
       "      <td>Kevin Millar</td>\n",
       "      <td>BAL</td>\n",
       "      <td>First Baseman</td>\n",
       "      <td>72</td>\n",
       "      <td>210.0</td>\n",
       "      <td>35.43</td>\n",
       "    </tr>\n",
       "    <tr>\n",
       "      <th>4</th>\n",
       "      <td>Chris Gomez</td>\n",
       "      <td>BAL</td>\n",
       "      <td>First Baseman</td>\n",
       "      <td>73</td>\n",
       "      <td>188.0</td>\n",
       "      <td>35.71</td>\n",
       "    </tr>\n",
       "  </tbody>\n",
       "</table>\n",
       "</div>"
      ],
      "text/plain": [
       "              Name Team       Position  Height(inches)  Weight(lbs)    Age\n",
       "0    Adam Donachie  BAL        Catcher              74        180.0  22.99\n",
       "1        Paul Bako  BAL        Catcher              74        215.0  34.69\n",
       "2  Ramon Hernandez  BAL        Catcher              72        210.0  30.78\n",
       "3     Kevin Millar  BAL  First Baseman              72        210.0  35.43\n",
       "4      Chris Gomez  BAL  First Baseman              73        188.0  35.71"
      ]
     },
     "execution_count": 11,
     "metadata": {},
     "output_type": "execute_result"
    }
   ],
   "source": [
    "df.head()\n",
    "# if the number of columns is large, use the transpose\n",
    "# df.head().T"
   ]
  },
  {
   "cell_type": "code",
   "execution_count": 12,
   "metadata": {},
   "outputs": [
    {
     "data": {
      "text/html": [
       "<div>\n",
       "<style scoped>\n",
       "    .dataframe tbody tr th:only-of-type {\n",
       "        vertical-align: middle;\n",
       "    }\n",
       "\n",
       "    .dataframe tbody tr th {\n",
       "        vertical-align: top;\n",
       "    }\n",
       "\n",
       "    .dataframe thead th {\n",
       "        text-align: right;\n",
       "    }\n",
       "</style>\n",
       "<table border=\"1\" class=\"dataframe\">\n",
       "  <thead>\n",
       "    <tr style=\"text-align: right;\">\n",
       "      <th></th>\n",
       "      <th>Name</th>\n",
       "      <th>Team</th>\n",
       "      <th>Position</th>\n",
       "      <th>Height(inches)</th>\n",
       "      <th>Weight(lbs)</th>\n",
       "      <th>Age</th>\n",
       "    </tr>\n",
       "  </thead>\n",
       "  <tbody>\n",
       "    <tr>\n",
       "      <th>count</th>\n",
       "      <td>1034</td>\n",
       "      <td>1034</td>\n",
       "      <td>1034</td>\n",
       "      <td>1034.000000</td>\n",
       "      <td>1033.000000</td>\n",
       "      <td>1034.000000</td>\n",
       "    </tr>\n",
       "    <tr>\n",
       "      <th>unique</th>\n",
       "      <td>1032</td>\n",
       "      <td>30</td>\n",
       "      <td>9</td>\n",
       "      <td>NaN</td>\n",
       "      <td>NaN</td>\n",
       "      <td>NaN</td>\n",
       "    </tr>\n",
       "    <tr>\n",
       "      <th>top</th>\n",
       "      <td>Chris Young</td>\n",
       "      <td>NYM</td>\n",
       "      <td>Relief Pitcher</td>\n",
       "      <td>NaN</td>\n",
       "      <td>NaN</td>\n",
       "      <td>NaN</td>\n",
       "    </tr>\n",
       "    <tr>\n",
       "      <th>freq</th>\n",
       "      <td>2</td>\n",
       "      <td>38</td>\n",
       "      <td>315</td>\n",
       "      <td>NaN</td>\n",
       "      <td>NaN</td>\n",
       "      <td>NaN</td>\n",
       "    </tr>\n",
       "    <tr>\n",
       "      <th>mean</th>\n",
       "      <td>NaN</td>\n",
       "      <td>NaN</td>\n",
       "      <td>NaN</td>\n",
       "      <td>73.697292</td>\n",
       "      <td>201.689255</td>\n",
       "      <td>28.736712</td>\n",
       "    </tr>\n",
       "    <tr>\n",
       "      <th>std</th>\n",
       "      <td>NaN</td>\n",
       "      <td>NaN</td>\n",
       "      <td>NaN</td>\n",
       "      <td>2.305818</td>\n",
       "      <td>20.991491</td>\n",
       "      <td>4.320310</td>\n",
       "    </tr>\n",
       "    <tr>\n",
       "      <th>min</th>\n",
       "      <td>NaN</td>\n",
       "      <td>NaN</td>\n",
       "      <td>NaN</td>\n",
       "      <td>67.000000</td>\n",
       "      <td>150.000000</td>\n",
       "      <td>20.900000</td>\n",
       "    </tr>\n",
       "    <tr>\n",
       "      <th>25%</th>\n",
       "      <td>NaN</td>\n",
       "      <td>NaN</td>\n",
       "      <td>NaN</td>\n",
       "      <td>72.000000</td>\n",
       "      <td>187.000000</td>\n",
       "      <td>25.440000</td>\n",
       "    </tr>\n",
       "    <tr>\n",
       "      <th>50%</th>\n",
       "      <td>NaN</td>\n",
       "      <td>NaN</td>\n",
       "      <td>NaN</td>\n",
       "      <td>74.000000</td>\n",
       "      <td>200.000000</td>\n",
       "      <td>27.925000</td>\n",
       "    </tr>\n",
       "    <tr>\n",
       "      <th>75%</th>\n",
       "      <td>NaN</td>\n",
       "      <td>NaN</td>\n",
       "      <td>NaN</td>\n",
       "      <td>75.000000</td>\n",
       "      <td>215.000000</td>\n",
       "      <td>31.232500</td>\n",
       "    </tr>\n",
       "    <tr>\n",
       "      <th>max</th>\n",
       "      <td>NaN</td>\n",
       "      <td>NaN</td>\n",
       "      <td>NaN</td>\n",
       "      <td>83.000000</td>\n",
       "      <td>290.000000</td>\n",
       "      <td>48.520000</td>\n",
       "    </tr>\n",
       "  </tbody>\n",
       "</table>\n",
       "</div>"
      ],
      "text/plain": [
       "               Name  Team        Position  Height(inches)  Weight(lbs)  \\\n",
       "count          1034  1034            1034     1034.000000  1033.000000   \n",
       "unique         1032    30               9             NaN          NaN   \n",
       "top     Chris Young   NYM  Relief Pitcher             NaN          NaN   \n",
       "freq              2    38             315             NaN          NaN   \n",
       "mean            NaN   NaN             NaN       73.697292   201.689255   \n",
       "std             NaN   NaN             NaN        2.305818    20.991491   \n",
       "min             NaN   NaN             NaN       67.000000   150.000000   \n",
       "25%             NaN   NaN             NaN       72.000000   187.000000   \n",
       "50%             NaN   NaN             NaN       74.000000   200.000000   \n",
       "75%             NaN   NaN             NaN       75.000000   215.000000   \n",
       "max             NaN   NaN             NaN       83.000000   290.000000   \n",
       "\n",
       "                Age  \n",
       "count   1034.000000  \n",
       "unique          NaN  \n",
       "top             NaN  \n",
       "freq            NaN  \n",
       "mean      28.736712  \n",
       "std        4.320310  \n",
       "min       20.900000  \n",
       "25%       25.440000  \n",
       "50%       27.925000  \n",
       "75%       31.232500  \n",
       "max       48.520000  "
      ]
     },
     "execution_count": 12,
     "metadata": {},
     "output_type": "execute_result"
    }
   ],
   "source": [
    "df.describe(include = 'all')"
   ]
  },
  {
   "cell_type": "markdown",
   "metadata": {},
   "source": [
    "## unique entries per column"
   ]
  },
  {
   "cell_type": "code",
   "execution_count": 13,
   "metadata": {},
   "outputs": [
    {
     "name": "stdout",
     "output_type": "stream",
     "text": [
      "====  Name has 1032 unique entries ====\n",
      "Chris Young        2\n",
      "Tony Pe?a          2\n",
      "Aubrey Huff        1\n",
      "Ramon Santiago     1\n",
      "Jordan Tata        1\n",
      "Corey Koskie       1\n",
      "Scott Hairston     1\n",
      "Michael Cuddyer    1\n",
      "Brett Myers        1\n",
      "Matt Capps         1\n",
      "Name: Name, dtype: int64\n",
      "====  Team has 30 unique entries ====\n",
      "NYM    38\n",
      "DET    37\n",
      "OAK    37\n",
      "ATL    37\n",
      "CHC    36\n",
      "PHI    36\n",
      "CIN    36\n",
      "WAS    36\n",
      "BOS    36\n",
      "MLW    35\n",
      "Name: Team, dtype: int64\n",
      "====  Position has 9 unique entries ====\n",
      "Relief Pitcher       315\n",
      "Starting Pitcher     221\n",
      "Outfielder           194\n",
      "Catcher               76\n",
      "Second Baseman        58\n",
      "First Baseman         55\n",
      "Shortstop             52\n",
      "Third Baseman         45\n",
      "Designated Hitter     18\n",
      "Name: Position, dtype: int64\n",
      "====  Height(inches) has 17 unique entries ====\n",
      "74    175\n",
      "73    167\n",
      "75    160\n",
      "72    152\n",
      "76    103\n",
      "71     89\n",
      "77     57\n",
      "70     52\n",
      "78     27\n",
      "69     19\n",
      "Name: Height(inches), dtype: int64\n",
      "====  Weight(lbs) has 89 unique entries ====\n",
      "200.0    108\n",
      "190.0     97\n",
      "180.0     81\n",
      "210.0     72\n",
      "220.0     72\n",
      "205.0     55\n",
      "185.0     52\n",
      "195.0     48\n",
      "170.0     40\n",
      "215.0     39\n",
      "Name: Weight(lbs), dtype: int64\n",
      "====  Age has 725 unique entries ====\n",
      "24.94    7\n",
      "27.12    6\n",
      "31.28    5\n",
      "24.63    5\n",
      "29.95    4\n",
      "27.56    4\n",
      "24.02    4\n",
      "28.77    4\n",
      "26.77    4\n",
      "25.08    4\n",
      "Name: Age, dtype: int64\n"
     ]
    }
   ],
   "source": [
    "for this_column in df.columns:\n",
    "    print(\"==== \",this_column,\"has\",df[this_column].nunique(),\"unique entries ====\")\n",
    "    print(df[this_column].value_counts().head(10))"
   ]
  },
  {
   "cell_type": "markdown",
   "metadata": {},
   "source": [
    "## histogram of single numeric array"
   ]
  },
  {
   "cell_type": "code",
   "execution_count": 15,
   "metadata": {},
   "outputs": [
    {
     "data": {
      "image/png": "[encoded data removed]",
      "text/plain": [
       "<Figure size 432x288 with 1 Axes>"
      ]
     },
     "metadata": {
      "needs_background": "light"
     },
     "output_type": "display_data"
    }
   ],
   "source": [
    "_=df['Age'].hist(bins=20)\n",
    "_=plt.xlabel('age',fontsize=14)\n",
    "_=plt.ylabel('count',fontsize=14)\n",
    "_=plt.title('histogram of player age')"
   ]
  },
  {
   "cell_type": "markdown",
   "metadata": {},
   "source": [
    "## correlation\n",
    "[Pearson correlation](https://en.wikipedia.org/wiki/Pearson_correlation_coefficient) is \n",
    " - +1 in the case of a perfect direct (increasing) linear relationship (correlation)\n",
    " - −1 in the case of a perfect decreasing (inverse) linear relationship (anticorrelation)\n",
    " - zero for uncorrelated"
   ]
  },
  {
   "cell_type": "code",
   "execution_count": 16,
   "metadata": {},
   "outputs": [
    {
     "data": {
      "text/html": [
       "<div>\n",
       "<style scoped>\n",
       "    .dataframe tbody tr th:only-of-type {\n",
       "        vertical-align: middle;\n",
       "    }\n",
       "\n",
       "    .dataframe tbody tr th {\n",
       "        vertical-align: top;\n",
       "    }\n",
       "\n",
       "    .dataframe thead th {\n",
       "        text-align: right;\n",
       "    }\n",
       "</style>\n",
       "<table border=\"1\" class=\"dataframe\">\n",
       "  <thead>\n",
       "    <tr style=\"text-align: right;\">\n",
       "      <th></th>\n",
       "      <th>Height(inches)</th>\n",
       "      <th>Weight(lbs)</th>\n",
       "      <th>Age</th>\n",
       "    </tr>\n",
       "  </thead>\n",
       "  <tbody>\n",
       "    <tr>\n",
       "      <th>Height(inches)</th>\n",
       "      <td>1.000000</td>\n",
       "      <td>0.531886</td>\n",
       "      <td>-0.073670</td>\n",
       "    </tr>\n",
       "    <tr>\n",
       "      <th>Weight(lbs)</th>\n",
       "      <td>0.531886</td>\n",
       "      <td>1.000000</td>\n",
       "      <td>0.158282</td>\n",
       "    </tr>\n",
       "    <tr>\n",
       "      <th>Age</th>\n",
       "      <td>-0.073670</td>\n",
       "      <td>0.158282</td>\n",
       "      <td>1.000000</td>\n",
       "    </tr>\n",
       "  </tbody>\n",
       "</table>\n",
       "</div>"
      ],
      "text/plain": [
       "                Height(inches)  Weight(lbs)       Age\n",
       "Height(inches)        1.000000     0.531886 -0.073670\n",
       "Weight(lbs)           0.531886     1.000000  0.158282\n",
       "Age                  -0.073670     0.158282  1.000000"
      ]
     },
     "execution_count": 16,
     "metadata": {},
     "output_type": "execute_result"
    }
   ],
   "source": [
    "df.corr()"
   ]
  },
  {
   "cell_type": "markdown",
   "metadata": {},
   "source": [
    "visualization of correlation for 2 variables, along with respective histograms"
   ]
  },
  {
   "cell_type": "code",
   "execution_count": 17,
   "metadata": {},
   "outputs": [
    {
     "data": {
      "image/png": "[encoded data removed]",
      "text/plain": [
       "<Figure size 432x432 with 3 Axes>"
      ]
     },
     "metadata": {
      "needs_background": "light"
     },
     "output_type": "display_data"
    }
   ],
   "source": [
    "_=seaborn.jointplot(\"Age\",\"Weight(lbs)\",data=df,kind=\"reg\")"
   ]
  },
  {
   "cell_type": "markdown",
   "metadata": {},
   "source": [
    "visualization of correlation for pairs of variables, along with respective histograms"
   ]
  },
  {
   "cell_type": "code",
   "execution_count": 18,
   "metadata": {},
   "outputs": [
    {
     "data": {
      "image/png": "[encoded data removed]",
      "text/plain": [
       "<Figure size 540x540 with 12 Axes>"
      ]
     },
     "metadata": {
      "needs_background": "light"
     },
     "output_type": "display_data"
    }
   ],
   "source": [
    "_=seaborn.pairplot(df.dropna(), kind=\"reg\")\n",
    "plt.show()"
   ]
  },
  {
   "cell_type": "code",
   "execution_count": null,
   "metadata": {},
   "outputs": [],
   "source": []
  }
 ],
 "metadata": {
  "kernelspec": {
   "display_name": "Python 3",
   "language": "python",
   "name": "python3"
  },
  "language_info": {
   "codemirror_mode": {
    "name": "ipython",
    "version": 3
   },
   "file_extension": ".py",
   "mimetype": "text/x-python",
   "name": "python",
   "nbconvert_exporter": "python",
   "pygments_lexer": "ipython3",
   "version": "3.6.6"
  }
 },
 "nbformat": 4,
 "nbformat_minor": 2
}
