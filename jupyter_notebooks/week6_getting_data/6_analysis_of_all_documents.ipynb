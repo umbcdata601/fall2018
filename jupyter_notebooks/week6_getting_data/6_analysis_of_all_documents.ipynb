{
 "cells": [
  {
   "cell_type": "code",
   "execution_count": 1,
   "metadata": {},
   "outputs": [],
   "source": [
    "import pickle"
   ]
  },
  {
   "cell_type": "code",
   "execution_count": 2,
   "metadata": {},
   "outputs": [],
   "source": [
    "all_documents = pickle.load( open( \"all_documents.pkl\", \"rb\" ) )"
   ]
  },
  {
   "cell_type": "code",
   "execution_count": 3,
   "metadata": {},
   "outputs": [
    {
     "data": {
      "text/plain": [
       "dict_keys(['essays/week2_Summary on Chapter 2 of Data Wrangling in Python.docx', 'essays/week1_summary.docx', 'essays/week2_Data601-Reading Assignment_2.docx', 'essays/week1_Data Wrangling Chap 2.docx', 'essays/week1_summary-50 years of data science.docx', 'essays/week1_Assignment1.docx', 'essays/week1_A Very Short History Of Data Science.docx', 'essays/week1_380.txt', 'essays/week2_Week 2 Reading Summary.docx', 'essays/week1_ Summary.docx', 'essays/week1_Data 601- Summary of The History of Data Science .docx', 'essays/week1_50 years of data science v2.pdf', 'essays/week1_1.txt', 'essays/week1_a History of Data Science.docx', 'essays/week2_Summary Week 2.docx', 'essays/week2 summary .docx', 'essays/week2_Data Wrangling with Python page 17 to 40.docx', 'essays/week2_Lists and Dictionaries Summary.docx', 'essays/Week2_summary.docx', 'essays/week1_assignment 1 Summary.pdf', 'essays/week1_a Very Short History Of Data Science_1.docx', 'essays/week1_50 Years Data Science Summary.docx', 'essays/week2_summary-Data Wrangling with Python  ch2 p17 to 40.docx', 'essays/week1_reading Summary.docx', 'essays/week2_Week 2 - Summary of DATA WRANGLING WITH PYTHON Chapter 2.docx'])"
      ]
     },
     "execution_count": 3,
     "metadata": {},
     "output_type": "execute_result"
    }
   ],
   "source": [
    "all_documents.keys()"
   ]
  },
  {
   "cell_type": "markdown",
   "metadata": {},
   "source": [
    "Rather than consider the words per document, lets look at all of them"
   ]
  },
  {
   "cell_type": "code",
   "execution_count": 4,
   "metadata": {},
   "outputs": [],
   "source": [
    "all_the_words=\"\"\n",
    "for file_path,content in all_documents.items():\n",
    "    all_the_words+=content\n",
    "    all_the_words+=\" \""
   ]
  },
  {
   "cell_type": "code",
   "execution_count": 5,
   "metadata": {},
   "outputs": [
    {
     "data": {
      "text/plain": [
       "'Summary on Chapter 2 of Data Wrangling i'"
      ]
     },
     "execution_count": 5,
     "metadata": {},
     "output_type": "execute_result"
    }
   ],
   "source": [
    "all_the_words[0:40]"
   ]
  },
  {
   "cell_type": "code",
   "execution_count": 6,
   "metadata": {},
   "outputs": [],
   "source": [
    "all_the_words=all_the_words.lower()"
   ]
  },
  {
   "cell_type": "code",
   "execution_count": 7,
   "metadata": {},
   "outputs": [
    {
     "data": {
      "text/plain": [
       "'summary on chapter 2 of data wrangling i'"
      ]
     },
     "execution_count": 7,
     "metadata": {},
     "output_type": "execute_result"
    }
   ],
   "source": [
    "all_the_words[0:40]"
   ]
  },
  {
   "cell_type": "code",
   "execution_count": 8,
   "metadata": {},
   "outputs": [],
   "source": [
    "list_of_words=all_the_words.split(\" \")"
   ]
  },
  {
   "cell_type": "code",
   "execution_count": 9,
   "metadata": {},
   "outputs": [
    {
     "data": {
      "text/plain": [
       "7137"
      ]
     },
     "execution_count": 9,
     "metadata": {},
     "output_type": "execute_result"
    }
   ],
   "source": [
    "len(list_of_words)"
   ]
  },
  {
   "cell_type": "code",
   "execution_count": 10,
   "metadata": {},
   "outputs": [
    {
     "data": {
      "text/plain": [
       "1857"
      ]
     },
     "execution_count": 10,
     "metadata": {},
     "output_type": "execute_result"
    }
   ],
   "source": [
    "len(set(list_of_words))"
   ]
  },
  {
   "cell_type": "markdown",
   "metadata": {},
   "source": [
    "https://stackoverflow.com/questions/4371231/removing-punctuation-from-python-list-items"
   ]
  },
  {
   "cell_type": "code",
   "execution_count": 11,
   "metadata": {},
   "outputs": [],
   "source": [
    "import string\n",
    "list_of_words = [''.join(ch for ch in st if ch in string.ascii_lowercase) for st in list_of_words]"
   ]
  },
  {
   "cell_type": "markdown",
   "metadata": {},
   "source": [
    "an expanded version "
   ]
  },
  {
   "cell_type": "code",
   "execution_count": null,
   "metadata": {},
   "outputs": [],
   "source": [
    "list_of_words_without_punctuation=[]\n",
    "for this_string in list_of_words:\n",
    "    new_list_of_char=[]\n",
    "    for this_char in this_string:\n",
    "        if (this_char in string.ascii_lowercase):\n",
    "            new_list_of_char.append(this_char)\n",
    "    new_string=''.join(new_list_of_char)\n",
    "    list_of_words_without_punctuation.append(new_string)"
   ]
  },
  {
   "cell_type": "code",
   "execution_count": 12,
   "metadata": {},
   "outputs": [
    {
     "data": {
      "text/plain": [
       "1523"
      ]
     },
     "execution_count": 12,
     "metadata": {},
     "output_type": "execute_result"
    }
   ],
   "source": [
    "len(set(list_of_words))"
   ]
  },
  {
   "cell_type": "markdown",
   "metadata": {},
   "source": [
    "https://stackoverflow.com/questions/3845423/remove-empty-strings-from-a-list-of-strings"
   ]
  },
  {
   "cell_type": "code",
   "execution_count": 13,
   "metadata": {},
   "outputs": [],
   "source": [
    "list_of_words = list(filter(None, list_of_words))"
   ]
  },
  {
   "cell_type": "code",
   "execution_count": 14,
   "metadata": {},
   "outputs": [
    {
     "data": {
      "text/plain": [
       "6954"
      ]
     },
     "execution_count": 14,
     "metadata": {},
     "output_type": "execute_result"
    }
   ],
   "source": [
    "len(list_of_words)"
   ]
  },
  {
   "cell_type": "code",
   "execution_count": 15,
   "metadata": {},
   "outputs": [
    {
     "data": {
      "text/plain": [
       "1522"
      ]
     },
     "execution_count": 15,
     "metadata": {},
     "output_type": "execute_result"
    }
   ],
   "source": [
    "len(set(list_of_words))"
   ]
  },
  {
   "cell_type": "code",
   "execution_count": 16,
   "metadata": {},
   "outputs": [
    {
     "data": {
      "text/plain": [
       "'the'"
      ]
     },
     "execution_count": 16,
     "metadata": {},
     "output_type": "execute_result"
    }
   ],
   "source": [
    "max(set(list_of_words), key=list_of_words.count)"
   ]
  },
  {
   "cell_type": "markdown",
   "metadata": {},
   "source": [
    "https://stackoverflow.com/questions/10099602/how-to-get-the-10-most-frequent-strings-in-a-list-in-python"
   ]
  },
  {
   "cell_type": "code",
   "execution_count": 17,
   "metadata": {},
   "outputs": [],
   "source": [
    "from collections import Counter"
   ]
  },
  {
   "cell_type": "code",
   "execution_count": 18,
   "metadata": {},
   "outputs": [
    {
     "data": {
      "text/plain": [
       "[('the', 374),\n",
       " ('data', 287),\n",
       " ('of', 243),\n",
       " ('and', 237),\n",
       " ('to', 188),\n",
       " ('a', 163),\n",
       " ('science', 139),\n",
       " ('in', 139),\n",
       " ('are', 94),\n",
       " ('is', 91)]"
      ]
     },
     "execution_count": 18,
     "metadata": {},
     "output_type": "execute_result"
    }
   ],
   "source": [
    "Counter(list_of_words).most_common(10)"
   ]
  },
  {
   "cell_type": "markdown",
   "metadata": {},
   "source": [
    "https://stackoverflow.com/questions/613183/how-do-i-sort-a-dictionary-by-value"
   ]
  },
  {
   "cell_type": "code",
   "execution_count": 19,
   "metadata": {},
   "outputs": [],
   "source": [
    "dict_of_count=Counter(list_of_words)\n",
    "import operator\n",
    "sorted_tuples = sorted(dict_of_count.items(), key=operator.itemgetter(1),reverse=True)"
   ]
  },
  {
   "cell_type": "markdown",
   "metadata": {},
   "source": [
    "https://stackoverflow.com/questions/646644/how-to-get-last-items-of-a-list-in-python\n",
    "\n",
    "Alternatively, we could have told sort to reverse the list"
   ]
  },
  {
   "cell_type": "code",
   "execution_count": 20,
   "metadata": {},
   "outputs": [
    {
     "data": {
      "text/plain": [
       "[('is', 91),\n",
       " ('are', 94),\n",
       " ('science', 139),\n",
       " ('in', 139),\n",
       " ('a', 163),\n",
       " ('to', 188),\n",
       " ('and', 237),\n",
       " ('of', 243),\n",
       " ('data', 287),\n",
       " ('the', 374)]"
      ]
     },
     "execution_count": 20,
     "metadata": {},
     "output_type": "execute_result"
    }
   ],
   "source": [
    "sorted_tuples[-10:]"
   ]
  },
  {
   "cell_type": "markdown",
   "metadata": {},
   "source": [
    "Need to remove the stop words"
   ]
  },
  {
   "cell_type": "code",
   "execution_count": 21,
   "metadata": {},
   "outputs": [],
   "source": [
    "from nltk.corpus import stopwords\n",
    "en_stops = set(stopwords.words('english'))"
   ]
  },
  {
   "cell_type": "code",
   "execution_count": 22,
   "metadata": {},
   "outputs": [],
   "source": [
    "filtered_word_list = [] \n",
    "for w in list_of_words: \n",
    "    if w not in en_stops: \n",
    "        filtered_word_list.append(w) "
   ]
  },
  {
   "cell_type": "code",
   "execution_count": 23,
   "metadata": {},
   "outputs": [
    {
     "data": {
      "text/plain": [
       "4051"
      ]
     },
     "execution_count": 23,
     "metadata": {},
     "output_type": "execute_result"
    }
   ],
   "source": [
    "len(filtered_word_list)"
   ]
  },
  {
   "cell_type": "code",
   "execution_count": 24,
   "metadata": {},
   "outputs": [
    {
     "data": {
      "text/plain": [
       "1417"
      ]
     },
     "execution_count": 24,
     "metadata": {},
     "output_type": "execute_result"
    }
   ],
   "source": [
    "len(set(filtered_word_list))"
   ]
  },
  {
   "cell_type": "code",
   "execution_count": 25,
   "metadata": {},
   "outputs": [
    {
     "data": {
      "text/plain": [
       "[('data', 287),\n",
       " ('science', 139),\n",
       " ('python', 60),\n",
       " ('statistics', 46),\n",
       " ('lists', 41),\n",
       " ('methods', 32),\n",
       " ('dictionaries', 31),\n",
       " ('chapter', 30),\n",
       " ('also', 27),\n",
       " ('field', 26)]"
      ]
     },
     "execution_count": 25,
     "metadata": {},
     "output_type": "execute_result"
    }
   ],
   "source": [
    "Counter(filtered_word_list).most_common(10)"
   ]
  },
  {
   "cell_type": "markdown",
   "metadata": {},
   "source": [
    "When I see a list of numbers, I seek a visualization of the data.\n",
    "\n",
    "First we need to convert the dictionary to a list of values."
   ]
  },
  {
   "cell_type": "code",
   "execution_count": 28,
   "metadata": {},
   "outputs": [],
   "source": [
    "list_of_counts=[]\n",
    "for word,count in dict(Counter(filtered_word_list)).items():\n",
    "    list_of_counts.append(count)"
   ]
  },
  {
   "cell_type": "code",
   "execution_count": 26,
   "metadata": {},
   "outputs": [],
   "source": [
    "import matplotlib.pylab as plt"
   ]
  },
  {
   "cell_type": "markdown",
   "metadata": {},
   "source": [
    "Let's see what a histogram looks like"
   ]
  },
  {
   "cell_type": "code",
   "execution_count": 33,
   "metadata": {},
   "outputs": [
    {
     "data": {
      "image/png": "[encoded data removed]",
      "text/plain": [
       "<Figure size 432x288 with 1 Axes>"
      ]
     },
     "metadata": {},
     "output_type": "display_data"
    }
   ],
   "source": [
    "plt.hist(list_of_counts,bins=300)\n",
    "plt.xlabel('number of occurances of word',fontsize=12)\n",
    "plt.ylabel('number of words',fontsize=12)\n",
    "plt.show()"
   ]
  },
  {
   "cell_type": "markdown",
   "metadata": {},
   "source": [
    "There's a lot of rare words and a small number of words which appear often.\n",
    "\n",
    "To get a better view, use the log of the y-axis."
   ]
  },
  {
   "cell_type": "code",
   "execution_count": 34,
   "metadata": {},
   "outputs": [
    {
     "data": {
      "image/png": "[encoded data removed]",
      "text/plain": [
       "<Figure size 432x288 with 1 Axes>"
      ]
     },
     "metadata": {},
     "output_type": "display_data"
    }
   ],
   "source": [
    "plt.hist(list_of_counts,bins=300)\n",
    "plt.yscale('log', nonposy='clip')\n",
    "plt.xlabel('number of occurances of word',fontsize=12)\n",
    "plt.ylabel('number of words',fontsize=12)\n",
    "plt.show()"
   ]
  },
  {
   "cell_type": "markdown",
   "metadata": {},
   "source": [
    "The semilogy histogram shows slightly more, but the few words that are frequent still skew the view.\n",
    "\n",
    "Log for both y-axis and x-axis:"
   ]
  },
  {
   "cell_type": "code",
   "execution_count": 36,
   "metadata": {},
   "outputs": [
    {
     "data": {
      "image/png": "[encoded data removed]",
      "text/plain": [
       "<Figure size 432x288 with 1 Axes>"
      ]
     },
     "metadata": {},
     "output_type": "display_data"
    }
   ],
   "source": [
    "plt.hist(list_of_counts,bins=300)\n",
    "plt.yscale('log', nonposy='clip')\n",
    "plt.xscale('log', nonposx='clip')\n",
    "plt.xlabel('number of occurances of word',fontsize=12)\n",
    "plt.ylabel('number of words',fontsize=12)\n",
    "plt.show()"
   ]
  },
  {
   "cell_type": "markdown",
   "metadata": {},
   "source": [
    "A straight line on a [log-log](https://en.wikipedia.org/wiki/Log%E2%80%93log_plot) axis is $$y=ax^k$$\n",
    "\n",
    "https://en.wikipedia.org/wiki/Power_law\n",
    "\n",
    "Well known feature of https://en.wikipedia.org/wiki/Zipf%27s_law\n",
    "\n",
    "\"Zipfian nature of word frequency distributions causes data sparseness problems.\" [source](http://sslmit.unibo.it/~baroni/publications/hsk_39_dist_rev2.pdf)\n",
    "\n",
    "## So what?\n",
    "\n",
    "The relevance is that we've stumbled into a verification that the text data really is text. If there were 10,000 documents, we wouldn't be able to inspect each document. Verifying that Zipf's law is applicable builds evidence that the documents are what we assume them to be."
   ]
  },
  {
   "cell_type": "code",
   "execution_count": null,
   "metadata": {},
   "outputs": [],
   "source": []
  }
 ],
 "metadata": {
  "kernelspec": {
   "display_name": "Python 3",
   "language": "python",
   "name": "python3"
  },
  "language_info": {
   "codemirror_mode": {
    "name": "ipython",
    "version": 3
   },
   "file_extension": ".py",
   "mimetype": "text/x-python",
   "name": "python",
   "nbconvert_exporter": "python",
   "pygments_lexer": "ipython3",
   "version": "3.5.1"
  }
 },
 "nbformat": 4,
 "nbformat_minor": 2
}
