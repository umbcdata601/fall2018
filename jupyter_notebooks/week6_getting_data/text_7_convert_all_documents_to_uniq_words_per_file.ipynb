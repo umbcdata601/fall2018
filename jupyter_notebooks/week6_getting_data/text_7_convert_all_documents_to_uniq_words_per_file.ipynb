{
 "cells": [
  {
   "cell_type": "markdown",
   "metadata": {},
   "source": [
    "http://scikit-learn.org/stable/modules/feature_extraction.html#text-feature-extraction"
   ]
  },
  {
   "cell_type": "code",
   "execution_count": 37,
   "metadata": {},
   "outputs": [],
   "source": [
    "import pickle\n",
    "import string\n",
    "from nltk.corpus import stopwords"
   ]
  },
  {
   "cell_type": "markdown",
   "metadata": {},
   "source": [
    "We could use `sent_tokenize` here, but I'll use simple split on space approach"
   ]
  },
  {
   "cell_type": "code",
   "execution_count": 38,
   "metadata": {},
   "outputs": [],
   "source": [
    "en_stops = set(stopwords.words('english'))"
   ]
  },
  {
   "cell_type": "code",
   "execution_count": 39,
   "metadata": {},
   "outputs": [],
   "source": [
    "all_documents = pickle.load( open( \"all_documents.pkl\", \"rb\" ) )"
   ]
  },
  {
   "cell_type": "code",
   "execution_count": 40,
   "metadata": {},
   "outputs": [
    {
     "data": {
      "text/plain": [
       "dict_keys(['essays/week2_Lists and Dictionaries Summary.docx', 'essays/week2 summary .docx', 'essays/week2_Week 2 - Summary of DATA WRANGLING WITH PYTHON Chapter 2.docx', 'essays/week1_1.txt', 'essays/Week2_summary.docx', 'essays/week1_reading Summary.docx', 'essays/week1_Assignment1.docx', 'essays/week2_Data601-Reading Assignment_2.docx', 'essays/week1_380.txt', 'essays/week2_Summary on Chapter 2 of Data Wrangling in Python.docx', 'essays/week1_Data Wrangling Chap 2.docx', 'essays/week1_a History of Data Science.docx', 'essays/week2_Week 2 Reading Summary.docx', 'essays/week1_ Summary.docx', 'essays/week2_Summary Week 2.docx', 'essays/week1_assignment 1 Summary.pdf', 'essays/week1_50 Years Data Science Summary.docx', 'essays/week2_summary-Data Wrangling with Python  ch2 p17 to 40.docx', 'essays/week1_summary-50 years of data science.docx', 'essays/week2_Data Wrangling with Python page 17 to 40.docx', 'essays/week1_A Very Short History Of Data Science.docx', 'essays/week1_a Very Short History Of Data Science_1.docx', 'essays/week1_Data 601- Summary of The History of Data Science .docx', 'essays/week1_50 years of data science v2.pdf', 'essays/week1_summary.docx'])"
      ]
     },
     "execution_count": 40,
     "metadata": {},
     "output_type": "execute_result"
    }
   ],
   "source": [
    "all_documents.keys()"
   ]
  },
  {
   "cell_type": "markdown",
   "metadata": {},
   "source": [
    "apply the same clean-up steps taken in the previous notebook, but this time per document"
   ]
  },
  {
   "cell_type": "code",
   "execution_count": 41,
   "metadata": {},
   "outputs": [],
   "source": [
    "for file_path,content in all_documents.items():\n",
    "    # make entire string lowercase\n",
    "    single_string_all_lowercase = content.lower()\n",
    "    # split string into words based on space\n",
    "    list_of_words=single_string_all_lowercase.split(\" \")\n",
    "    # remove punctuation; alternatively we could have used regular expressions\n",
    "    # an expanded version of \n",
    "    # list_of_words = [''.join(c for c in s if c not in string.punctuation) for s in list_of_words]\n",
    "    list_of_words_without_punctuation=[]\n",
    "    for this_string in list_of_words:\n",
    "        new_list_of_char=[]\n",
    "        for this_char in this_string:\n",
    "            if (this_char in string.ascii_lowercase):\n",
    "                new_list_of_char.append(this_char)\n",
    "        new_string=''.join(new_list_of_char)\n",
    "        list_of_words_without_punctuation.append(new_string)\n",
    "    # remove empty strings\n",
    "    list_of_words_without_punctuation = list(filter(None, list_of_words_without_punctuation))\n",
    "    # remove stop words\n",
    "    filtered_word_list = [] \n",
    "    for w in list_of_words_without_punctuation: \n",
    "        if w not in en_stops: \n",
    "            filtered_word_list.append(w) \n",
    "    # remove duplicates\n",
    "    filtered_word_list_uniq = list(set(filtered_word_list))\n",
    "    all_documents[file_path]=filtered_word_list_uniq"
   ]
  },
  {
   "cell_type": "code",
   "execution_count": 42,
   "metadata": {
    "scrolled": false
   },
   "outputs": [],
   "source": [
    "#all_documents"
   ]
  },
  {
   "cell_type": "code",
   "execution_count": 43,
   "metadata": {},
   "outputs": [],
   "source": [
    "for file_path,content in all_documents.items():\n",
    "    with open(file_path+\".dat\",'w') as fdoc:\n",
    "        for this_word in content:\n",
    "            fdoc.write(this_word+\"\\n\")"
   ]
  },
  {
   "cell_type": "code",
   "execution_count": 44,
   "metadata": {},
   "outputs": [
    {
     "name": "stdout",
     "output_type": "stream",
     "text": [
      "Week2_summary.docx\r\n",
      "Week2_summary.docx.dat\r\n",
      "week1_ Summary.docx\r\n",
      "week1_ Summary.docx.dat\r\n",
      "week1_1.txt\r\n",
      "week1_1.txt.dat\r\n",
      "week1_380.txt\r\n",
      "week1_380.txt.dat\r\n",
      "week1_50 Years Data Science Summary.docx\r\n",
      "week1_50 Years Data Science Summary.docx.dat\r\n",
      "week1_50 years of data science v2.pdf\r\n",
      "week1_50 years of data science v2.pdf.dat\r\n",
      "week1_A Very Short History Of Data Science.docx\r\n",
      "week1_A Very Short History Of Data Science.docx.dat\r\n",
      "week1_Assignment1.docx\r\n",
      "week1_Assignment1.docx.dat\r\n",
      "week1_Data 601- Summary of The History of Data Science .docx\r\n",
      "week1_Data 601- Summary of The History of Data Science .docx.dat\r\n",
      "week1_Data Wrangling Chap 2.docx\r\n",
      "week1_Data Wrangling Chap 2.docx.dat\r\n",
      "week1_a History of Data Science.docx\r\n",
      "week1_a History of Data Science.docx.dat\r\n",
      "week1_a Very Short History Of Data Science_1.docx\r\n",
      "week1_a Very Short History Of Data Science_1.docx.dat\r\n",
      "week1_assignment 1 Summary.pdf\r\n",
      "week1_assignment 1 Summary.pdf.dat\r\n",
      "week1_reading Summary.docx\r\n",
      "week1_reading Summary.docx.dat\r\n",
      "week1_summary-50 years of data science.docx\r\n",
      "week1_summary-50 years of data science.docx.dat\r\n",
      "week1_summary.docx\r\n",
      "week1_summary.docx.dat\r\n",
      "week2 summary .docx\r\n",
      "week2 summary .docx.dat\r\n",
      "week2_Data Wrangling with Python page 17 to 40.docx\r\n",
      "week2_Data Wrangling with Python page 17 to 40.docx.dat\r\n",
      "week2_Data601-Reading Assignment_2.docx\r\n",
      "week2_Data601-Reading Assignment_2.docx.dat\r\n",
      "week2_Lists and Dictionaries Summary.docx\r\n",
      "week2_Lists and Dictionaries Summary.docx.dat\r\n",
      "week2_Summary Week 2.docx\r\n",
      "week2_Summary Week 2.docx.dat\r\n",
      "week2_Summary on Chapter 2 of Data Wrangling in Python.docx\r\n",
      "week2_Summary on Chapter 2 of Data Wrangling in Python.docx.dat\r\n",
      "week2_Week 2 - Summary of DATA WRANGLING WITH PYTHON Chapter 2.docx\r\n",
      "week2_Week 2 - Summary of DATA WRANGLING WITH PYTHON Chapter 2.docx.dat\r\n",
      "week2_Week 2 Reading Summary.docx\r\n",
      "week2_Week 2 Reading Summary.docx.dat\r\n",
      "week2_summary-Data Wrangling with Python  ch2 p17 to 40.docx\r\n",
      "week2_summary-Data Wrangling with Python  ch2 p17 to 40.docx.dat\r\n"
     ]
    }
   ],
   "source": [
    "!ls essays/"
   ]
  },
  {
   "cell_type": "code",
   "execution_count": null,
   "metadata": {},
   "outputs": [],
   "source": []
  }
 ],
 "metadata": {
  "kernelspec": {
   "display_name": "Python 3",
   "language": "python",
   "name": "python3"
  },
  "language_info": {
   "codemirror_mode": {
    "name": "ipython",
    "version": 3
   },
   "file_extension": ".py",
   "mimetype": "text/x-python",
   "name": "python",
   "nbconvert_exporter": "python",
   "pygments_lexer": "ipython3",
   "version": "3.5.1"
  }
 },
 "nbformat": 4,
 "nbformat_minor": 2
}
