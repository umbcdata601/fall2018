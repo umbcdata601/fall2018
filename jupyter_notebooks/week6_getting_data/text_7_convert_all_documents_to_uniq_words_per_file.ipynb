{
 "cells": [
  {
   "cell_type": "markdown",
   "metadata": {},
   "source": [
    "http://scikit-learn.org/stable/modules/feature_extraction.html#text-feature-extraction"
   ]
  },
  {
   "cell_type": "code",
   "execution_count": null,
   "metadata": {},
   "outputs": [],
   "source": [
    "import pickle\n",
    "import string\n",
    "from nltk.corpus import stopwords"
   ]
  },
  {
   "cell_type": "markdown",
   "metadata": {},
   "source": [
    "We could use `sent_tokenize` here, but I'll use simple split on space approach"
   ]
  },
  {
   "cell_type": "code",
   "execution_count": null,
   "metadata": {},
   "outputs": [],
   "source": [
    "en_stops = set(stopwords.words('english'))"
   ]
  },
  {
   "cell_type": "code",
   "execution_count": null,
   "metadata": {},
   "outputs": [],
   "source": [
    "all_documents = pickle.load( open( \"all_documents.pkl\", \"rb\" ) )"
   ]
  },
  {
   "cell_type": "code",
   "execution_count": null,
   "metadata": {},
   "outputs": [],
   "source": [
    "all_documents.keys()"
   ]
  },
  {
   "cell_type": "markdown",
   "metadata": {},
   "source": [
    "apply the same clean-up steps taken in the previous notebook, but this time per document"
   ]
  },
  {
   "cell_type": "code",
   "execution_count": null,
   "metadata": {},
   "outputs": [],
   "source": [
    "for file_path,content in all_documents.items():\n",
    "    # make entire string lowercase\n",
    "    single_string_all_lowercase = content.lower()\n",
    "    # split string into words based on space\n",
    "    list_of_words=single_string_all_lowercase.split(\" \")\n",
    "    # remove punctuation; alternatively we could have used regular expressions\n",
    "    # an expanded version of \n",
    "    # list_of_words = [''.join(c for c in s if c not in string.punctuation) for s in list_of_words]\n",
    "    list_of_words_without_punctuation=[]\n",
    "    for this_string in list_of_words:\n",
    "        new_list_of_char=[]\n",
    "        for this_char in this_string:\n",
    "            if (this_char in string.ascii_lowercase):\n",
    "                new_list_of_char.append(this_char)\n",
    "        new_string=''.join(new_list_of_char)\n",
    "        list_of_words_without_punctuation.append(new_string)\n",
    "    # remove empty strings\n",
    "    list_of_words_without_punctuation = list(filter(None, list_of_words_without_punctuation))\n",
    "    # remove stop words\n",
    "    filtered_word_list = [] \n",
    "    for w in list_of_words_without_punctuation: \n",
    "        if w not in en_stops: \n",
    "            filtered_word_list.append(w) \n",
    "    # remove duplicates\n",
    "    filtered_word_list_uniq = list(set(filtered_word_list))\n",
    "    all_documents[file_path]=filtered_word_list_uniq"
   ]
  },
  {
   "cell_type": "code",
   "execution_count": null,
   "metadata": {
    "scrolled": false
   },
   "outputs": [],
   "source": [
    "#all_documents"
   ]
  },
  {
   "cell_type": "code",
   "execution_count": null,
   "metadata": {},
   "outputs": [],
   "source": [
    "for file_path,content in all_documents.items():\n",
    "    with open(file_path+\".dat\",'w') as fdoc:\n",
    "        for this_word in content:\n",
    "            fdoc.write(this_word+\"\\n\")"
   ]
  },
  {
   "cell_type": "code",
   "execution_count": null,
   "metadata": {},
   "outputs": [],
   "source": [
    "!ls essays/"
   ]
  },
  {
   "cell_type": "code",
   "execution_count": null,
   "metadata": {},
   "outputs": [],
   "source": []
  }
 ],
 "metadata": {
  "kernelspec": {
   "display_name": "Python 3",
   "language": "python",
   "name": "python3"
  },
  "language_info": {
   "codemirror_mode": {
    "name": "ipython",
    "version": 3
   },
   "file_extension": ".py",
   "mimetype": "text/x-python",
   "name": "python",
   "nbconvert_exporter": "python",
   "pygments_lexer": "ipython3",
   "version": "3.5.1"
  }
 },
 "nbformat": 4,
 "nbformat_minor": 2
}
