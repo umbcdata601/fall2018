{
 "cells": [
  {
   "cell_type": "code",
   "execution_count": null,
   "metadata": {},
   "outputs": [],
   "source": [
    "import requests\n",
    "import json\n",
    "import random"
   ]
  },
  {
   "cell_type": "code",
   "execution_count": null,
   "metadata": {},
   "outputs": [],
   "source": [
    "base_url=\"https://sis.jhu.edu/api/\"\n",
    "mykey='G7dlcruabV0SBNdFp2bYXDKQpWgohQXX'"
   ]
  },
  {
   "cell_type": "markdown",
   "metadata": {},
   "source": [
    "https://sis.jhu.edu/api/classes/codes/schools?key=G7dlcruabV0SBNdFp2bYXDKQpWgohQXX"
   ]
  },
  {
   "cell_type": "code",
   "execution_count": null,
   "metadata": {},
   "outputs": [],
   "source": [
    "def get_schools(mykey):\n",
    "    try:\n",
    "        response = requests.get(base_url+\"classes/codes/schools\", params={'key':mykey})\n",
    "        return response.json()\n",
    "    except:\n",
    "        print('Error in getting schools',response)\n",
    "        return None"
   ]
  },
  {
   "cell_type": "code",
   "execution_count": null,
   "metadata": {},
   "outputs": [],
   "source": [
    "list_of_schools=get_schools(mykey)\n",
    "list_of_schools"
   ]
  },
  {
   "cell_type": "code",
   "execution_count": null,
   "metadata": {},
   "outputs": [],
   "source": [
    "def get_classes(mykey,school):\n",
    "    try:\n",
    "        response = requests.get(base_url+'/classes/'+school, params={'key':mykey})\n",
    "        return response.json()\n",
    "    except:\n",
    "        print('Error in getting classes',response)\n",
    "        return None"
   ]
  },
  {
   "cell_type": "code",
   "execution_count": null,
   "metadata": {},
   "outputs": [],
   "source": [
    "list_of_classes=get_classes(mykey,random.choice(list_of_schools)['Name'])\n",
    "print(len(list_of_classes))"
   ]
  },
  {
   "cell_type": "code",
   "execution_count": null,
   "metadata": {},
   "outputs": [],
   "source": [
    "list_of_classes[0]"
   ]
  },
  {
   "cell_type": "code",
   "execution_count": null,
   "metadata": {},
   "outputs": [],
   "source": []
  }
 ],
 "metadata": {
  "kernelspec": {
   "display_name": "Python 3",
   "language": "python",
   "name": "python3"
  },
  "language_info": {
   "codemirror_mode": {
    "name": "ipython",
    "version": 3
   },
   "file_extension": ".py",
   "mimetype": "text/x-python",
   "name": "python",
   "nbconvert_exporter": "python",
   "pygments_lexer": "ipython3",
   "version": "3.5.1"
  }
 },
 "nbformat": 4,
 "nbformat_minor": 2
}
