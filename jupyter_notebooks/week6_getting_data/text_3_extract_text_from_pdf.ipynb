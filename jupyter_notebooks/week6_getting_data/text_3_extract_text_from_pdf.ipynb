{
 "cells": [
  {
   "cell_type": "code",
   "execution_count": 1,
   "metadata": {},
   "outputs": [],
   "source": [
    "import PyPDF2"
   ]
  },
  {
   "cell_type": "code",
   "execution_count": 9,
   "metadata": {},
   "outputs": [
    {
     "name": "stdout",
     "output_type": "stream",
     "text": [
      "b'DATA 601\\n!Sept 6, 2018Assignment 1!Article Summary\"\\nIn A Very Short History of Data Science\\n, Gil Press presents to us a \\ncomprehensive timeline of the evolution of the interdisciplinary \\xc3\\x9eeld of data science \\xc3\\x91 \\nthe product of the coupling of the age-old discipline of statistics with a relatively new \\none \\xc3\\x91 computer science. Press dates the conception of data science to 1962 when \\nJohn W. Tukey   wrote in \\nThe Future of Data Analysis\\n that \\xc3\\x92data analysis is intrinsically an empirical science.\\xc3\\x93 Readers are then introduced to various seminal works that \\nhelped to engender the birth of data science since then. Through reviewing an array of \\nscholarly endeavors in this new \\xc3\\x9eeld, Press shows us that data science emerges \\namidst the ambivalence and questioning by traditional statistics, even though the statistician, Dr. C.F. Je\\n# Wu once advocated renaming statistics as data science and \\nstatisticians as data scientists in 1997. Perhaps, the clear demarkation of the entrance of Data Science into the limelight of professional discourse was in 2001 when William \\nS. Cleveland published Data Science: An Action Plan for Expanding the Technical Areas \\nof the Field of Statistics. The ensuing decade saw the rapid development of data science as its boundaries and frontiers expanded, gaining public attention and interest, \\nand ultimately leading to the publication of Data Scientist: The Sexist Job of the 21st Century in the Harvard Business Review\\n in 2012.!References: Press, Gil, \\nA Short History of Data Science, Forbes Magazine,  28 May 2013.!https://www.forbes.com/sites/gilpress/2013/05/28/a-very-short-history-of-data-science/#32c00bac55cf\\n  \\xc3\\x91 Accessed Sept 6, 2018'\n"
     ]
    }
   ],
   "source": [
    "pdf_file = open('essays/week1_assignment 1 Summary.pdf', 'rb')\n",
    "read_pdf = PyPDF2.PdfFileReader(pdf_file)\n",
    "number_of_pages = read_pdf.getNumPages()\n",
    "page = read_pdf.getPage(0)\n",
    "page_content = page.extractText()\n",
    "print(page_content.encode('utf-8'))"
   ]
  },
  {
   "cell_type": "markdown",
   "metadata": {},
   "source": [
    "https://stackoverflow.com/questions/34837707/extracting-text-from-a-pdf-file-using-python"
   ]
  },
  {
   "cell_type": "code",
   "execution_count": 7,
   "metadata": {},
   "outputs": [],
   "source": [
    "# has an external dependency on http://search.maven.org\n",
    "from tika import parser"
   ]
  },
  {
   "cell_type": "code",
   "execution_count": 8,
   "metadata": {},
   "outputs": [
    {
     "name": "stdout",
     "output_type": "stream",
     "text": [
      "\n",
      "\n",
      "\n",
      "\n",
      "\n",
      "\n",
      "\n",
      "\n",
      "\n",
      "\n",
      "\n",
      "\n",
      "\n",
      "\n",
      "\n",
      "\n",
      "\n",
      "\n",
      "\n",
      "\n",
      "\n",
      "\n",
      "\n",
      "\n",
      "\n",
      "\n",
      "\n",
      "\n",
      "\n",
      "\n",
      "\n",
      "\n",
      "\n",
      "\n",
      "\n",
      "DATA 601 Assignment 1 Summary\n",
      "\n",
      "\n",
      "DATA 601\n",
      "\n",
      "Sept 6, 2018\n",
      "\n",
      "Assignment 1\n",
      "\n",
      "Article Summary\n",
      "\n",
      "\t In A Very Short History of Data Science, Gil Press presents to us a \n",
      "comprehensive timeline of the evolution of the interdisciplinary field of data science — \n",
      "the product of the coupling of the age-old discipline of statistics with a relatively new \n",
      "one — computer science. Press dates the conception of data science to 1962 when \n",
      "John W. Tukey   wrote in The Future of Data Analysis that “data analysis is intrinsically \n",
      "an empirical science.” Readers are then introduced to various seminal works that \n",
      "helped to engender the birth of data science since then. Through reviewing an array of \n",
      "scholarly endeavors in this new field, Press shows us that data science emerges \n",
      "amidst the ambivalence and questioning by traditional statistics, even though the \n",
      "statistician, Dr. C.F. Jeff Wu once advocated renaming statistics as data science and \n",
      "statisticians as data scientists in 1997. Perhaps, the clear demarkation of the entrance \n",
      "of Data Science into the limelight of professional discourse was in 2001 when William \n",
      "S. Cleveland published Data Science: An Action Plan for Expanding the Technical Areas \n",
      "of the Field of Statistics. The ensuing decade saw the rapid development of data \n",
      "science as its boundaries and frontiers expanded, gaining public attention and interest, \n",
      "and ultimately leading to the publication of Data Scientist: The Sexist Job of the 21st \n",
      "Century in the Harvard Business Review in 2012.\n",
      "\n",
      "\n",
      "References: Press, Gil, A Short History of Data Science, Forbes Magazine,  28 May 2013.\n",
      "\n",
      "https://www.forbes.com/sites/gilpress/2013/05/28/a-very-short-history-of-data-science/#32c00bac55cf  \n",
      "— Accessed Sept 6, 2018\n",
      "\n",
      "https://www.forbes.com/sites/gilpress/2013/05/28/a-very-short-history-of-data-science/#32c00bac55cf\n",
      "\n",
      "\n"
     ]
    }
   ],
   "source": [
    "raw = parser.from_file('essays/week1_assignment 1 Summary.pdf')\n",
    "print(raw['content'])"
   ]
  },
  {
   "cell_type": "code",
   "execution_count": null,
   "metadata": {},
   "outputs": [],
   "source": []
  }
 ],
 "metadata": {
  "kernelspec": {
   "display_name": "Python 3",
   "language": "python",
   "name": "python3"
  },
  "language_info": {
   "codemirror_mode": {
    "name": "ipython",
    "version": 3
   },
   "file_extension": ".py",
   "mimetype": "text/x-python",
   "name": "python",
   "nbconvert_exporter": "python",
   "pygments_lexer": "ipython3",
   "version": "3.5.1"
  }
 },
 "nbformat": 4,
 "nbformat_minor": 2
}
