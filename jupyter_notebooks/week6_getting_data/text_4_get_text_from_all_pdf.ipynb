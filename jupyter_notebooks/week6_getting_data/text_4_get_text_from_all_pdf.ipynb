{
 "cells": [
  {
   "cell_type": "code",
   "execution_count": 1,
   "metadata": {},
   "outputs": [],
   "source": [
    "# has an external dependency on http://search.maven.org\n",
    "from tika import parser\n",
    "import os"
   ]
  },
  {
   "cell_type": "code",
   "execution_count": 2,
   "metadata": {},
   "outputs": [
    {
     "name": "stdout",
     "output_type": "stream",
     "text": [
      "essays/week1_50 years of data science v2.pdf\n",
      "essays/week1_assignment 1 Summary.pdf\n"
     ]
    }
   ],
   "source": [
    "directory=\"essays\"\n",
    "for filename in os.listdir(directory):\n",
    "    if filename.endswith(\".pdf\"): \n",
    "        print(os.path.join(directory, filename))"
   ]
  },
  {
   "cell_type": "code",
   "execution_count": 3,
   "metadata": {},
   "outputs": [
    {
     "name": "stdout",
     "output_type": "stream",
     "text": [
      "\n",
      "\n",
      "\n",
      "\n",
      "\n",
      "\n",
      "\n",
      "\n",
      "\n",
      "\n",
      "\n",
      "\n",
      "\n",
      "\n",
      "\n",
      "\n",
      "\n",
      "\n",
      "\n",
      "\n",
      "\n",
      "\n",
      "\n",
      "\n",
      "\n",
      "\n",
      "\n",
      "\n",
      "\n",
      "\n",
      "\n",
      "Summary of   50 years of Data Science  \n",
      "\n",
      "In recent years many Data Science programs have sprung up at universities across the country.  \n",
      "\n",
      "Data Science is described as a field of study that includes collecting, analyzing and interpreting large \n",
      "\n",
      "volumes of data with applications in many fields.  Many feel that Data Science is just a relabeling of \n",
      "\n",
      "Statistics, while others feel that Statistics is not very important to Data Science.  Many argue that Data \n",
      "\n",
      "Science is necessary for handling larger quantities of data than Statistics is capable of, but Statistics has\n",
      "\n",
      "always worked with large data sets.  Computer Scientists claim that Data Scientists have special skills \n",
      "\n",
      "necessary to handle data sets too large to fit on a single processor, but these skills are merely for \n",
      "\n",
      "handling problems caused by multiple processors and networking, rather than skills to solve interesting \n",
      "\n",
      "scientific problems.  Commercially, prominent successes by large IT companies have highlighted the \n",
      "\n",
      "value of “big data” and driven demand for people with training in advanced computing and database \n",
      "\n",
      "knowledge in addition to statistics.  Finally, the author advocates for a new version of Data Science that\n",
      "\n",
      "would be an extension of statistics driven by intellectual, rather than commercial, needs.\n",
      "\n",
      "References\n",
      "\n",
      "[1] Donoho, David, “50 years of Data Science,” Tukey Centennial workshop, Princeton, NJ, Sept. 2015\n",
      "\n",
      "\n",
      "\n",
      "\n",
      "\n",
      "\n",
      "\n",
      "\n",
      "\n",
      "\n",
      "\n",
      "\n",
      "\n",
      "\n",
      "\n",
      "\n",
      "\n",
      "\n",
      "\n",
      "\n",
      "\n",
      "\n",
      "\n",
      "\n",
      "\n",
      "\n",
      "\n",
      "\n",
      "\n",
      "\n",
      "\n",
      "\n",
      "\n",
      "\n",
      "\n",
      "\n",
      "\n",
      "\n",
      "DATA 601 Assignment 1 Summary\n",
      "\n",
      "\n",
      "DATA 601\n",
      "\n",
      "Sept 6, 2018\n",
      "\n",
      "Assignment 1\n",
      "\n",
      "Article Summary\n",
      "\n",
      "\t In A Very Short History of Data Science, Gil Press presents to us a \n",
      "comprehensive timeline of the evolution of the interdisciplinary field of data science — \n",
      "the product of the coupling of the age-old discipline of statistics with a relatively new \n",
      "one — computer science. Press dates the conception of data science to 1962 when \n",
      "John W. Tukey   wrote in The Future of Data Analysis that “data analysis is intrinsically \n",
      "an empirical science.” Readers are then introduced to various seminal works that \n",
      "helped to engender the birth of data science since then. Through reviewing an array of \n",
      "scholarly endeavors in this new field, Press shows us that data science emerges \n",
      "amidst the ambivalence and questioning by traditional statistics, even though the \n",
      "statistician, Dr. C.F. Jeff Wu once advocated renaming statistics as data science and \n",
      "statisticians as data scientists in 1997. Perhaps, the clear demarkation of the entrance \n",
      "of Data Science into the limelight of professional discourse was in 2001 when William \n",
      "S. Cleveland published Data Science: An Action Plan for Expanding the Technical Areas \n",
      "of the Field of Statistics. The ensuing decade saw the rapid development of data \n",
      "science as its boundaries and frontiers expanded, gaining public attention and interest, \n",
      "and ultimately leading to the publication of Data Scientist: The Sexist Job of the 21st \n",
      "Century in the Harvard Business Review in 2012.\n",
      "\n",
      "\n",
      "References: Press, Gil, A Short History of Data Science, Forbes Magazine,  28 May 2013.\n",
      "\n",
      "https://www.forbes.com/sites/gilpress/2013/05/28/a-very-short-history-of-data-science/#32c00bac55cf  \n",
      "— Accessed Sept 6, 2018\n",
      "\n",
      "https://www.forbes.com/sites/gilpress/2013/05/28/a-very-short-history-of-data-science/#32c00bac55cf\n",
      "\n",
      "\n"
     ]
    }
   ],
   "source": [
    "directory=\"essays\"\n",
    "for filename in os.listdir(directory):\n",
    "    if filename.endswith(\".pdf\"): \n",
    "        this_path=os.path.join(directory, filename)\n",
    "        raw = parser.from_file(this_path)\n",
    "        print(raw['content'])"
   ]
  },
  {
   "cell_type": "markdown",
   "metadata": {},
   "source": [
    "https://www.tutorialspoint.com/How-to-remove-empty-strings-from-a-list-of-strings-in-Python"
   ]
  },
  {
   "cell_type": "code",
   "execution_count": 4,
   "metadata": {},
   "outputs": [
    {
     "data": {
      "text/plain": [
       "['DATA 601 Assignment 1 Summary',\n",
       " 'DATA 601',\n",
       " 'Sept 6, 2018',\n",
       " 'Assignment 1',\n",
       " 'Article Summary',\n",
       " '\\t In A Very Short History of Data Science, Gil Press presents to us a ',\n",
       " 'comprehensive timeline of the evolution of the interdisciplinary field of data science — ',\n",
       " 'the product of the coupling of the age-old discipline of statistics with a relatively new ',\n",
       " 'one — computer science. Press dates the conception of data science to 1962 when ',\n",
       " 'John W. Tukey   wrote in The Future of Data Analysis that “data analysis is intrinsically ',\n",
       " 'an empirical science.” Readers are then introduced to various seminal works that ',\n",
       " 'helped to engender the birth of data science since then. Through reviewing an array of ',\n",
       " 'scholarly endeavors in this new field, Press shows us that data science emerges ',\n",
       " 'amidst the ambivalence and questioning by traditional statistics, even though the ',\n",
       " 'statistician, Dr. C.F. Jeff Wu once advocated renaming statistics as data science and ',\n",
       " 'statisticians as data scientists in 1997. Perhaps, the clear demarkation of the entrance ',\n",
       " 'of Data Science into the limelight of professional discourse was in 2001 when William ',\n",
       " 'S. Cleveland published Data Science: An Action Plan for Expanding the Technical Areas ',\n",
       " 'of the Field of Statistics. The ensuing decade saw the rapid development of data ',\n",
       " 'science as its boundaries and frontiers expanded, gaining public attention and interest, ',\n",
       " 'and ultimately leading to the publication of Data Scientist: The Sexist Job of the 21st ',\n",
       " 'Century in the Harvard Business Review in 2012.',\n",
       " 'References: Press, Gil, A Short History of Data Science, Forbes Magazine,  28 May 2013.',\n",
       " 'https://www.forbes.com/sites/gilpress/2013/05/28/a-very-short-history-of-data-science/#32c00bac55cf  ',\n",
       " '— Accessed Sept 6, 2018',\n",
       " 'https://www.forbes.com/sites/gilpress/2013/05/28/a-very-short-history-of-data-science/#32c00bac55cf']"
      ]
     },
     "execution_count": 4,
     "metadata": {},
     "output_type": "execute_result"
    }
   ],
   "source": [
    "list(filter(None,raw['content'].split('\\n')))"
   ]
  },
  {
   "cell_type": "code",
   "execution_count": 5,
   "metadata": {},
   "outputs": [],
   "source": [
    "pdf_content={}\n",
    "directory=\"essays\"\n",
    "for filename in os.listdir(directory):\n",
    "    if filename.endswith(\".pdf\"): \n",
    "        this_path=os.path.join(directory, filename)\n",
    "        raw = parser.from_file(this_path)\n",
    "        pdf_content[this_path]=list(filter(None,raw['content'].split('\\n')))"
   ]
  },
  {
   "cell_type": "code",
   "execution_count": 6,
   "metadata": {},
   "outputs": [
    {
     "data": {
      "text/plain": [
       "dict_keys(['essays/week1_assignment 1 Summary.pdf', 'essays/week1_50 years of data science v2.pdf'])"
      ]
     },
     "execution_count": 6,
     "metadata": {},
     "output_type": "execute_result"
    }
   ],
   "source": [
    "pdf_content.keys()"
   ]
  },
  {
   "cell_type": "code",
   "execution_count": 7,
   "metadata": {},
   "outputs": [
    {
     "data": {
      "text/plain": [
       "['DATA 601 Assignment 1 Summary',\n",
       " 'DATA 601',\n",
       " 'Sept 6, 2018',\n",
       " 'Assignment 1',\n",
       " 'Article Summary',\n",
       " '\\t In A Very Short History of Data Science, Gil Press presents to us a ',\n",
       " 'comprehensive timeline of the evolution of the interdisciplinary field of data science — ',\n",
       " 'the product of the coupling of the age-old discipline of statistics with a relatively new ',\n",
       " 'one — computer science. Press dates the conception of data science to 1962 when ',\n",
       " 'John W. Tukey   wrote in The Future of Data Analysis that “data analysis is intrinsically ',\n",
       " 'an empirical science.” Readers are then introduced to various seminal works that ',\n",
       " 'helped to engender the birth of data science since then. Through reviewing an array of ',\n",
       " 'scholarly endeavors in this new field, Press shows us that data science emerges ',\n",
       " 'amidst the ambivalence and questioning by traditional statistics, even though the ',\n",
       " 'statistician, Dr. C.F. Jeff Wu once advocated renaming statistics as data science and ',\n",
       " 'statisticians as data scientists in 1997. Perhaps, the clear demarkation of the entrance ',\n",
       " 'of Data Science into the limelight of professional discourse was in 2001 when William ',\n",
       " 'S. Cleveland published Data Science: An Action Plan for Expanding the Technical Areas ',\n",
       " 'of the Field of Statistics. The ensuing decade saw the rapid development of data ',\n",
       " 'science as its boundaries and frontiers expanded, gaining public attention and interest, ',\n",
       " 'and ultimately leading to the publication of Data Scientist: The Sexist Job of the 21st ',\n",
       " 'Century in the Harvard Business Review in 2012.',\n",
       " 'References: Press, Gil, A Short History of Data Science, Forbes Magazine,  28 May 2013.',\n",
       " 'https://www.forbes.com/sites/gilpress/2013/05/28/a-very-short-history-of-data-science/#32c00bac55cf  ',\n",
       " '— Accessed Sept 6, 2018',\n",
       " 'https://www.forbes.com/sites/gilpress/2013/05/28/a-very-short-history-of-data-science/#32c00bac55cf']"
      ]
     },
     "execution_count": 7,
     "metadata": {},
     "output_type": "execute_result"
    }
   ],
   "source": [
    "pdf_content['essays/week1_assignment 1 Summary.pdf']"
   ]
  },
  {
   "cell_type": "code",
   "execution_count": null,
   "metadata": {},
   "outputs": [],
   "source": []
  }
 ],
 "metadata": {
  "kernelspec": {
   "display_name": "Python 3",
   "language": "python",
   "name": "python3"
  },
  "language_info": {
   "codemirror_mode": {
    "name": "ipython",
    "version": 3
   },
   "file_extension": ".py",
   "mimetype": "text/x-python",
   "name": "python",
   "nbconvert_exporter": "python",
   "pygments_lexer": "ipython3",
   "version": "3.5.1"
  }
 },
 "nbformat": 4,
 "nbformat_minor": 2
}
