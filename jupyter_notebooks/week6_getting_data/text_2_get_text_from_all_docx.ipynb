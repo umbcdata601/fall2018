{
 "cells": [
  {
   "cell_type": "code",
   "execution_count": null,
   "metadata": {},
   "outputs": [],
   "source": [
    "from docx import Document\n",
    "import os"
   ]
  },
  {
   "cell_type": "markdown",
   "metadata": {},
   "source": [
    "Create a function that gets text in document into a dictionary\n",
    "\n",
    "https://stackoverflow.com/questions/25228106/how-to-extract-text-from-an-existing-docx-file-using-python-docx"
   ]
  },
  {
   "cell_type": "code",
   "execution_count": null,
   "metadata": {},
   "outputs": [],
   "source": [
    "def get_text_from_docx(document):\n",
    "    indx=0\n",
    "    text_in_dict={}\n",
    "    for para in document.paragraphs:\n",
    "        if (len(para.text)>0):\n",
    "            indx+=1\n",
    "            text_in_dict[indx]=para.text\n",
    "    return text_in_dict"
   ]
  },
  {
   "cell_type": "markdown",
   "metadata": {},
   "source": [
    "Loop over .docx files in directory"
   ]
  },
  {
   "cell_type": "code",
   "execution_count": null,
   "metadata": {},
   "outputs": [],
   "source": [
    "directory=\"essays\"\n",
    "for filename in os.listdir(directory):\n",
    "    if filename.endswith(\".docx\") or filename.endswith(\".doc\"): \n",
    "        print(os.path.join(directory, filename))"
   ]
  },
  {
   "cell_type": "code",
   "execution_count": null,
   "metadata": {},
   "outputs": [],
   "source": [
    "directory=\"essays\"\n",
    "docx_content={}\n",
    "for filename in os.listdir(directory):\n",
    "    if filename.endswith(\".docx\") or filename.endswith(\".doc\"): \n",
    "        this_path=os.path.join(directory, filename)\n",
    "        document = Document(this_path)\n",
    "        docx_content[this_path]=get_text_from_docx(document)"
   ]
  },
  {
   "cell_type": "code",
   "execution_count": null,
   "metadata": {},
   "outputs": [],
   "source": [
    "docx_content.keys()"
   ]
  },
  {
   "cell_type": "code",
   "execution_count": null,
   "metadata": {},
   "outputs": [],
   "source": [
    "docx_content['essays/week2_Lists and Dictionaries Summary.docx']"
   ]
  },
  {
   "cell_type": "code",
   "execution_count": null,
   "metadata": {},
   "outputs": [],
   "source": []
  }
 ],
 "metadata": {
  "kernelspec": {
   "display_name": "Python 3",
   "language": "python",
   "name": "python3"
  },
  "language_info": {
   "codemirror_mode": {
    "name": "ipython",
    "version": 3
   },
   "file_extension": ".py",
   "mimetype": "text/x-python",
   "name": "python",
   "nbconvert_exporter": "python",
   "pygments_lexer": "ipython3",
   "version": "3.5.1"
  }
 },
 "nbformat": 4,
 "nbformat_minor": 2
}
