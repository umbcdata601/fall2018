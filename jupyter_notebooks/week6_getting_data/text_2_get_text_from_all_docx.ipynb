{
 "cells": [
  {
   "cell_type": "code",
   "execution_count": 1,
   "metadata": {},
   "outputs": [],
   "source": [
    "from docx import Document\n",
    "import os"
   ]
  },
  {
   "cell_type": "markdown",
   "metadata": {},
   "source": [
    "Create a function that gets text in document into a dictionary\n",
    "\n",
    "https://stackoverflow.com/questions/25228106/how-to-extract-text-from-an-existing-docx-file-using-python-docx"
   ]
  },
  {
   "cell_type": "code",
   "execution_count": 2,
   "metadata": {},
   "outputs": [],
   "source": [
    "def get_text_from_docx(document):\n",
    "    indx=0\n",
    "    text_in_dict={}\n",
    "    for para in document.paragraphs:\n",
    "        if (len(para.text)>0):\n",
    "            indx+=1\n",
    "            text_in_dict[indx]=para.text\n",
    "    return text_in_dict"
   ]
  },
  {
   "cell_type": "markdown",
   "metadata": {},
   "source": [
    "Loop over .docx files in directory"
   ]
  },
  {
   "cell_type": "code",
   "execution_count": 3,
   "metadata": {},
   "outputs": [
    {
     "name": "stdout",
     "output_type": "stream",
     "text": [
      "essays/week1_ Summary.docx\n",
      "essays/week1_50 Years Data Science Summary.docx\n",
      "essays/week1_a History of Data Science.docx\n",
      "essays/week1_A Very Short History Of Data Science.docx\n",
      "essays/week1_a Very Short History Of Data Science_1.docx\n",
      "essays/week1_Assignment1.docx\n",
      "essays/week1_Data 601- Summary of The History of Data Science .docx\n",
      "essays/week1_Data Wrangling Chap 2.docx\n",
      "essays/week1_reading Summary.docx\n",
      "essays/week1_summary-50 years of data science.docx\n",
      "essays/week1_summary.docx\n",
      "essays/week2 summary .docx\n",
      "essays/week2_Data Wrangling with Python page 17 to 40.docx\n",
      "essays/week2_Data601-Reading Assignment_2.docx\n",
      "essays/week2_Lists and Dictionaries Summary.docx\n",
      "essays/week2_Summary on Chapter 2 of Data Wrangling in Python.docx\n",
      "essays/week2_Summary Week 2.docx\n",
      "essays/week2_summary-Data Wrangling with Python  ch2 p17 to 40.docx\n",
      "essays/Week2_summary.docx\n",
      "essays/week2_Week 2 - Summary of DATA WRANGLING WITH PYTHON Chapter 2.docx\n",
      "essays/week2_Week 2 Reading Summary.docx\n"
     ]
    }
   ],
   "source": [
    "directory=\"essays\"\n",
    "for filename in os.listdir(directory):\n",
    "    if filename.endswith(\".docx\") or filename.endswith(\".doc\"): \n",
    "        print(os.path.join(directory, filename))"
   ]
  },
  {
   "cell_type": "code",
   "execution_count": 4,
   "metadata": {},
   "outputs": [],
   "source": [
    "directory=\"essays\"\n",
    "docx_content={}\n",
    "for filename in os.listdir(directory):\n",
    "    if filename.endswith(\".docx\") or filename.endswith(\".doc\"): \n",
    "        this_path=os.path.join(directory, filename)\n",
    "        document = Document(this_path)\n",
    "        docx_content[this_path]=get_text_from_docx(document)"
   ]
  },
  {
   "cell_type": "code",
   "execution_count": 5,
   "metadata": {},
   "outputs": [
    {
     "data": {
      "text/plain": [
       "dict_keys(['essays/week2_Lists and Dictionaries Summary.docx', 'essays/week1_50 Years Data Science Summary.docx', 'essays/week1_a Very Short History Of Data Science_1.docx', 'essays/week2_Summary on Chapter 2 of Data Wrangling in Python.docx', 'essays/week2_Week 2 - Summary of DATA WRANGLING WITH PYTHON Chapter 2.docx', 'essays/week2_Summary Week 2.docx', 'essays/week1_Data 601- Summary of The History of Data Science .docx', 'essays/week2 summary .docx', 'essays/week2_summary-Data Wrangling with Python  ch2 p17 to 40.docx', 'essays/week1_a History of Data Science.docx', 'essays/Week2_summary.docx', 'essays/week2_Week 2 Reading Summary.docx', 'essays/week1_Assignment1.docx', 'essays/week1_reading Summary.docx', 'essays/week1_summary.docx', 'essays/week1_Data Wrangling Chap 2.docx', 'essays/week1_summary-50 years of data science.docx', 'essays/week2_Data Wrangling with Python page 17 to 40.docx', 'essays/week1_A Very Short History Of Data Science.docx', 'essays/week1_ Summary.docx', 'essays/week2_Data601-Reading Assignment_2.docx'])"
      ]
     },
     "execution_count": 5,
     "metadata": {},
     "output_type": "execute_result"
    }
   ],
   "source": [
    "docx_content.keys()"
   ]
  },
  {
   "cell_type": "code",
   "execution_count": 7,
   "metadata": {},
   "outputs": [
    {
     "data": {
      "text/plain": [
       "{1: 'DATA 601',\n",
       " 2: '12 September 2018',\n",
       " 3: 'Learning Python Chapter 8: Lists and Dictionaries',\n",
       " 4: 'This chapter introduces two important Python data types – Lists and Dictionaries – and gives an overview of their use and syntax, their methods and attributes, and some of the ways they have changed in Python 3 from Python 2. ',\n",
       " 5: 'Lists are mutable, ordered, indexed, and heterogeneous. Technically, lists contain references to objects but, unless explicitly asked for, will always access the object itself but not the reference. Lists remind me of arrays of pointers that always access the object. Unlike strings, lists are mutable meaning they can be changed in place rather than creating a new object with every change. Because lists are ordered, they can be accessed by offset. Like strings, lists can be indexed and sliced. Lists are described as highly flexible and useful data types. ',\n",
       " 6: 'Dictionaries are described as similarly flexible and useful but with different characteristics. Dictionaries are sets of key-value pairs. Unlike lists, dictionaries are unordered collections of arbitrary objects. Like lists, dictionaries are variable length, heterogeneous, arbitrarily nest-able, and mutable. Unlike lists, dictionaries are accessed by key and are unordered which means that sequence operations cannot be performed on dictionaries. Each key in a dictionary can have only one value but this is not a one-to-one relationship; the same value may be assigned to multiple keys. Keys can be any immutable type but are often strings. ',\n",
       " 7: 'The chapter also discusses some important changes in how both lists and dictionaries are handled between Python 2 and 3. For example, lists of mixed type can no longer be sorted nor can magnitude comparisons in dictionaries be directly performed in Python 3. Several dictionary methods now return iterable view objects rather and lists but these objects can be forced to be lists if needed. The chapter does mention some reasons why one might choose a list over a dictionary (if order is important) or vice versa (a sparsely populated data structure or for named data where a key makes more sense than an offset). Both lists and dictionaries are powerful data types and have their various strengths.'}"
      ]
     },
     "execution_count": 7,
     "metadata": {},
     "output_type": "execute_result"
    }
   ],
   "source": [
    "docx_content['essays/week2_Lists and Dictionaries Summary.docx']"
   ]
  },
  {
   "cell_type": "code",
   "execution_count": null,
   "metadata": {},
   "outputs": [],
   "source": []
  }
 ],
 "metadata": {
  "kernelspec": {
   "display_name": "Python 3",
   "language": "python",
   "name": "python3"
  },
  "language_info": {
   "codemirror_mode": {
    "name": "ipython",
    "version": 3
   },
   "file_extension": ".py",
   "mimetype": "text/x-python",
   "name": "python",
   "nbconvert_exporter": "python",
   "pygments_lexer": "ipython3",
   "version": "3.5.1"
  }
 },
 "nbformat": 4,
 "nbformat_minor": 2
}
