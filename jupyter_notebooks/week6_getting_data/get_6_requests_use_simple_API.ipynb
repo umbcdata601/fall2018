{
 "cells": [
  {
   "cell_type": "code",
   "execution_count": null,
   "metadata": {},
   "outputs": [],
   "source": [
    "import requests"
   ]
  },
  {
   "cell_type": "markdown",
   "metadata": {},
   "source": [
    "http://swoogle.umbc.edu/SimService/api.html\n",
    "\n",
    "http://swoogle.umbc.edu/SimService/GetSimilarity?operation=api&phrase1=car&phrase2=bike"
   ]
  },
  {
   "cell_type": "code",
   "execution_count": null,
   "metadata": {},
   "outputs": [],
   "source": [
    "similarity_url = \"http://swoogle.umbc.edu/SimService/GetSimilarity\"\n",
    "\n",
    "def sim(s1, s2, stype='relation', corpus='webbase'):\n",
    "    try:\n",
    "        response = requests.get(similarity_url, params={'operation':'api',\n",
    "                                        'phrase1':s1,\n",
    "                                        'phrase2':s2,\n",
    "                                        'type':stype,\n",
    "                                        'corpus':corpus})\n",
    "        return float(response.text.strip())\n",
    "    except:\n",
    "        print('Error in getting similarity for %s: %s' % ((s1,s2), response))\n",
    "        return 0.0"
   ]
  },
  {
   "cell_type": "code",
   "execution_count": null,
   "metadata": {},
   "outputs": [],
   "source": [
    "sim('bike','car')"
   ]
  },
  {
   "cell_type": "code",
   "execution_count": null,
   "metadata": {},
   "outputs": [],
   "source": [
    "sim('bike','car',corpus=\"gigawords\")"
   ]
  },
  {
   "cell_type": "code",
   "execution_count": null,
   "metadata": {},
   "outputs": [],
   "source": []
  }
 ],
 "metadata": {
  "kernelspec": {
   "display_name": "Python 3",
   "language": "python",
   "name": "python3"
  },
  "language_info": {
   "codemirror_mode": {
    "name": "ipython",
    "version": 3
   },
   "file_extension": ".py",
   "mimetype": "text/x-python",
   "name": "python",
   "nbconvert_exporter": "python",
   "pygments_lexer": "ipython3",
   "version": "3.5.1"
  }
 },
 "nbformat": 4,
 "nbformat_minor": 2
}
