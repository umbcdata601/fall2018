{
 "cells": [
  {
   "cell_type": "code",
   "execution_count": 1,
   "metadata": {},
   "outputs": [],
   "source": [
    "import requests\n",
    "from bs4 import BeautifulSoup"
   ]
  },
  {
   "cell_type": "markdown",
   "metadata": {},
   "source": [
    "https://www.maps.thehunthouse.com/Streets/Old_to_New_London_Street_Name_Changes.htm"
   ]
  },
  {
   "cell_type": "code",
   "execution_count": 7,
   "metadata": {},
   "outputs": [
    {
     "data": {
      "text/plain": [
       "True"
      ]
     },
     "execution_count": 7,
     "metadata": {},
     "output_type": "execute_result"
    }
   ],
   "source": [
    "response = requests.get(\"https://www.maps.thehunthouse.com/Streets/Old_to_New_London_Street_Name_Changes.htm\")\n",
    "response.ok\n",
    "#response.text"
   ]
  },
  {
   "cell_type": "code",
   "execution_count": 6,
   "metadata": {},
   "outputs": [
    {
     "name": "stdout",
     "output_type": "stream",
     "text": [
      "<!DOCTYPE html>\n",
      "<html style=\"height:100%\">\n",
      " <head>\n",
      "  <title>\n",
      "   403 Forbidden\n",
      "  </title>\n",
      " </head>\n",
      " <body style=\"color: #444; margin:0;font: normal 14px/20px Arial, Helvetica, sans-serif; height:100%; background-color: #fff;\">\n",
      "  <div style=\"height:auto; min-height:100%; \">\n",
      "   <div style=\"text-align: center; width:800px; margin-left: -400px; position:absolute; top: 30%; left:50%;\">\n",
      "    <h1 style=\"margin:0; font-size:150px; line-height:150px; font-weight:bold;\">\n",
      "     403\n",
      "    </h1>\n",
      "    <h2 style=\"margin-top:20px;font-size: 30px;\">\n",
      "     Forbidden\n",
      "    </h2>\n",
      "    <p>\n",
      "     Access to this resource on the server is denied!\n",
      "    </p>\n",
      "   </div>\n",
      "  </div>\n",
      "  <div style=\"color:#f0f0f0; font-size:12px;margin:auto;padding:0px 30px 0px 30px;position:relative;clear:both;height:100px;margin-top:-101px;background-color:#474747;border-top: 1px solid rgba(0,0,0,0.15);box-shadow: 0 1px 0 rgba(255, 255, 255, 0.3) inset;\">\n",
      "   <br/>\n",
      "   Proudly powered by\n",
      "   <a href=\"http://www.litespeedtech.com/error-page\" style=\"color:#fff;\">\n",
      "    LiteSpeed Web Server\n",
      "   </a>\n",
      "   <p>\n",
      "    Please be advised that LiteSpeed Technologies Inc. is not a web hosting company and, as such, has no control over content found on this site.\n",
      "   </p>\n",
      "  </div>\n",
      " </body>\n",
      "</html>\n",
      "\n"
     ]
    }
   ],
   "source": [
    "soup = BeautifulSoup(response.text, 'html.parser')\n",
    "print(soup.prettify())"
   ]
  },
  {
   "cell_type": "code",
   "execution_count": null,
   "metadata": {},
   "outputs": [],
   "source": []
  }
 ],
 "metadata": {
  "kernelspec": {
   "display_name": "Python 3",
   "language": "python",
   "name": "python3"
  },
  "language_info": {
   "codemirror_mode": {
    "name": "ipython",
    "version": 3
   },
   "file_extension": ".py",
   "mimetype": "text/x-python",
   "name": "python",
   "nbconvert_exporter": "python",
   "pygments_lexer": "ipython3",
   "version": "3.5.1"
  }
 },
 "nbformat": 4,
 "nbformat_minor": 2
}
