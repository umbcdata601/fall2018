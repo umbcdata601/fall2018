{
 "cells": [
  {
   "cell_type": "code",
   "execution_count": 1,
   "metadata": {},
   "outputs": [],
   "source": [
    "import glob\n",
    "import matplotlib.pyplot as plt\n",
    "import time\n",
    "from IPython.display import clear_output"
   ]
  },
  {
   "cell_type": "code",
   "execution_count": 2,
   "metadata": {},
   "outputs": [],
   "source": [
    "list_of_files = glob.glob('access_log_*.log')"
   ]
  },
  {
   "cell_type": "code",
   "execution_count": 3,
   "metadata": {},
   "outputs": [
    {
     "data": {
      "text/plain": [
       "['access_log_20181125-00:15:17.log',\n",
       " 'access_log_20181125-00:15:13.log',\n",
       " 'access_log_20181125-00:15:21.log',\n",
       " 'access_log_20181125-00:15:08.log',\n",
       " 'access_log_20181125-00:15:26.log']"
      ]
     },
     "execution_count": 3,
     "metadata": {},
     "output_type": "execute_result"
    }
   ],
   "source": [
    "list_of_files"
   ]
  },
  {
   "cell_type": "code",
   "execution_count": 4,
   "metadata": {},
   "outputs": [],
   "source": [
    "for this_file in list_of_files:\n",
    "    with open(this_file,'r') as f:\n",
    "        content = f.readlines()"
   ]
  },
  {
   "cell_type": "code",
   "execution_count": 5,
   "metadata": {},
   "outputs": [
    {
     "data": {
      "text/plain": [
       "['192.17.58.72 - - [25/Nov/2018:00:15:27 +0000] \"GET /wp-content HTTP/1.0\" 200 5033 \"http://miller.com/list/blog/post.jsp\" \"Mozilla/5.0 (Macintosh; PPC Mac OS X 10_12_5; rv:1.9.2.20) Gecko/2016-08-13 01:57:59 Firefox/3.6.8\"\\n',\n",
       " '192.88.98.145 - - [25/Nov/2018:00:15:28 +0000] \"GET /wp-content HTTP/1.0\" 500 4987 \"http://www.weber-rivera.com/\" \"Mozilla/5.0 (Windows NT 5.01; pt-BR; rv:1.9.0.20) Gecko/2013-01-12 15:21:58 Firefox/3.8\"\\n',\n",
       " '3.243.29.25 - - [25/Nov/2018:00:15:29 +0000] \"GET /list HTTP/1.0\" 200 5011 \"https://taylor-humphrey.net/list/privacy.html\" \"Mozilla/5.0 (Windows 98; Win 9x 4.90; mag-IN; rv:1.9.2.20) Gecko/2013-01-30 21:02:13 Firefox/10.0\"\\n',\n",
       " '192.175.198.249 - - [25/Nov/2018:00:15:30 +0000] \"GET /posts/posts/explore HTTP/1.0\" 200 4979 \"http://williams.com/homepage/\" \"Mozilla/5.0 (X11; Linux i686; rv:1.9.6.20) Gecko/2011-10-20 03:33:55 Firefox/3.6.1\"\\n']"
      ]
     },
     "execution_count": 5,
     "metadata": {},
     "output_type": "execute_result"
    }
   ],
   "source": [
    "content"
   ]
  },
  {
   "cell_type": "code",
   "execution_count": 6,
   "metadata": {},
   "outputs": [],
   "source": [
    "all_content = []\n",
    "for this_file in list_of_files:\n",
    "    with open(this_file,'r') as f:\n",
    "        content = f.readlines()\n",
    "    for this_line in content:\n",
    "        all_content.append(this_line.split(' ')[5].replace('\"',''))"
   ]
  },
  {
   "cell_type": "code",
   "execution_count": 7,
   "metadata": {},
   "outputs": [
    {
     "data": {
      "text/plain": [
       "['POST',\n",
       " 'GET',\n",
       " 'POST',\n",
       " 'PUT',\n",
       " 'DELETE',\n",
       " 'GET',\n",
       " 'DELETE',\n",
       " 'PUT',\n",
       " 'GET',\n",
       " 'GET',\n",
       " 'GET',\n",
       " 'GET',\n",
       " 'GET',\n",
       " 'GET',\n",
       " 'DELETE',\n",
       " 'GET',\n",
       " 'GET',\n",
       " 'GET',\n",
       " 'GET',\n",
       " 'GET']"
      ]
     },
     "execution_count": 7,
     "metadata": {},
     "output_type": "execute_result"
    }
   ],
   "source": [
    "all_content"
   ]
  },
  {
   "cell_type": "code",
   "execution_count": 8,
   "metadata": {},
   "outputs": [
    {
     "data": {
      "image/png": "[encoded data removed]",
      "text/plain": [
       "<Figure size 432x288 with 1 Axes>"
      ]
     },
     "metadata": {
      "needs_background": "light"
     },
     "output_type": "display_data"
    }
   ],
   "source": [
    "_=plt.hist(all_content)"
   ]
  },
  {
   "cell_type": "code",
   "execution_count": 9,
   "metadata": {},
   "outputs": [
    {
     "name": "stdout",
     "output_type": "stream",
     "text": [
      "['access_log_20181125-00:25:59.log', 'access_log_20181125-00:25:41.log', 'access_log_20181125-00:25:54.log', 'access_log_20181125-00:26:03.log', 'access_log_20181125-00:25:46.log', 'access_log_20181125-00:25:50.log']\n"
     ]
    },
    {
     "ename": "FileNotFoundError",
     "evalue": "[Errno 2] No such file or directory: 'access_log_20181125-00:25:41.log'",
     "output_type": "error",
     "traceback": [
      "\u001b[0;31m---------------------------------------------------------------------------\u001b[0m",
      "\u001b[0;31mFileNotFoundError\u001b[0m                         Traceback (most recent call last)",
      "\u001b[0;32m<ipython-input-9-c2ed27703b8f>\u001b[0m in \u001b[0;36m<module>\u001b[0;34m\u001b[0m\n\u001b[1;32m      7\u001b[0m     \u001b[0mall_content\u001b[0m \u001b[0;34m=\u001b[0m \u001b[0;34m[\u001b[0m\u001b[0;34m]\u001b[0m\u001b[0;34m\u001b[0m\u001b[0m\n\u001b[1;32m      8\u001b[0m     \u001b[0;32mfor\u001b[0m \u001b[0mthis_file\u001b[0m \u001b[0;32min\u001b[0m \u001b[0mlist_of_files\u001b[0m\u001b[0;34m:\u001b[0m\u001b[0;34m\u001b[0m\u001b[0m\n\u001b[0;32m----> 9\u001b[0;31m         \u001b[0;32mwith\u001b[0m \u001b[0mopen\u001b[0m\u001b[0;34m(\u001b[0m\u001b[0mthis_file\u001b[0m\u001b[0;34m,\u001b[0m\u001b[0;34m'r'\u001b[0m\u001b[0;34m)\u001b[0m \u001b[0;32mas\u001b[0m \u001b[0mf\u001b[0m\u001b[0;34m:\u001b[0m\u001b[0;34m\u001b[0m\u001b[0m\n\u001b[0m\u001b[1;32m     10\u001b[0m             \u001b[0mcontent\u001b[0m \u001b[0;34m=\u001b[0m \u001b[0mf\u001b[0m\u001b[0;34m.\u001b[0m\u001b[0mreadlines\u001b[0m\u001b[0;34m(\u001b[0m\u001b[0;34m)\u001b[0m\u001b[0;34m\u001b[0m\u001b[0m\n\u001b[1;32m     11\u001b[0m         \u001b[0;32mfor\u001b[0m \u001b[0mthis_line\u001b[0m \u001b[0;32min\u001b[0m \u001b[0mcontent\u001b[0m\u001b[0;34m:\u001b[0m\u001b[0;34m\u001b[0m\u001b[0m\n",
      "\u001b[0;31mFileNotFoundError\u001b[0m: [Errno 2] No such file or directory: 'access_log_20181125-00:25:41.log'"
     ]
    }
   ],
   "source": [
    "all_content = []\n",
    "all_content_prev = []\n",
    "\n",
    "while (True):\n",
    "    list_of_files = glob.glob('access_log_*.log')\n",
    "    print(list_of_files)\n",
    "    all_content = []\n",
    "    for this_file in list_of_files:\n",
    "        with open(this_file,'r') as f:\n",
    "            content = f.readlines()\n",
    "        for this_line in content:\n",
    "            all_content.append(this_line.split(' ')[5].replace('\"',''))\n",
    "    _=plt.hist(all_content,alpha=0.5, label='now') # https://stackoverflow.com/questions/6871201/plot-two-histograms-at-the-same-time-with-matplotlib\n",
    "    _=plt.hist(all_content_prev,alpha=0.5, label='previous')\n",
    "    _=plt.legend(loc='upper right')\n",
    "    plt.show()\n",
    "    all_content_prev = all_content\n",
    "    time.sleep(5)\n",
    "    clear_output()"
   ]
  },
  {
   "cell_type": "code",
   "execution_count": null,
   "metadata": {},
   "outputs": [],
   "source": [
    "['a', 'b'].sort() == ['b', 'a'].sort()"
   ]
  },
  {
   "cell_type": "code",
   "execution_count": null,
   "metadata": {},
   "outputs": [],
   "source": []
  }
 ],
 "metadata": {
  "kernelspec": {
   "display_name": "Python 3",
   "language": "python",
   "name": "python3"
  },
  "language_info": {
   "codemirror_mode": {
    "name": "ipython",
    "version": 3
   },
   "file_extension": ".py",
   "mimetype": "text/x-python",
   "name": "python",
   "nbconvert_exporter": "python",
   "pygments_lexer": "ipython3",
   "version": "3.6.6"
  }
 },
 "nbformat": 4,
 "nbformat_minor": 2
}
