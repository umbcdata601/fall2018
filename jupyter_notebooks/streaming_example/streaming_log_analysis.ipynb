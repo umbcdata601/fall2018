{
 "cells": [
  {
   "cell_type": "code",
   "execution_count": 11,
   "metadata": {},
   "outputs": [],
   "source": [
    "import glob\n",
    "import matplotlib.pyplot as plt\n",
    "import time\n",
    "from IPython.display import clear_output"
   ]
  },
  {
   "cell_type": "code",
   "execution_count": 2,
   "metadata": {},
   "outputs": [],
   "source": [
    "list_of_files = glob.glob('access_log_*.log')"
   ]
  },
  {
   "cell_type": "code",
   "execution_count": 3,
   "metadata": {},
   "outputs": [
    {
     "data": {
      "text/plain": [
       "['access_log_20181122-17:54:55.log',\n",
       " 'access_log_20181122-17:55:03.log',\n",
       " 'access_log_20181122-17:54:50.log',\n",
       " 'access_log_20181122-17:55:08.log',\n",
       " 'access_log_20181122-17:54:59.log']"
      ]
     },
     "execution_count": 3,
     "metadata": {},
     "output_type": "execute_result"
    }
   ],
   "source": [
    "list_of_files"
   ]
  },
  {
   "cell_type": "code",
   "execution_count": 4,
   "metadata": {},
   "outputs": [],
   "source": [
    "for this_file in list_of_files:\n",
    "    with open(this_file,'r') as f:\n",
    "        content = f.readlines()"
   ]
  },
  {
   "cell_type": "code",
   "execution_count": 5,
   "metadata": {},
   "outputs": [
    {
     "data": {
      "text/plain": [
       "['15.110.251.6 - - [22/Nov/2018:17:55:00 +0000] \"GET /wp-content HTTP/1.0\" 200 4984 \"https://www.wood.com/main/wp-content/tag/login.htm\" \"Mozilla/5.0 (Windows; U; Windows 95) AppleWebKit/531.8.3 (KHTML, like Gecko) Version/4.1 Safari/531.8.3\"\\n',\n",
       " '169.200.203.139 - - [22/Nov/2018:17:55:01 +0000] \"GET /app/main/posts HTTP/1.0\" 200 4974 \"http://www.smith.com/post/\" \"Mozilla/5.0 (Macintosh; PPC Mac OS X 10_7_1; rv:1.9.6.20) Gecko/2012-04-05 20:51:48 Firefox/3.8\"\\n',\n",
       " '71.115.219.7 - - [22/Nov/2018:17:55:02 +0000] \"POST /explore HTTP/1.0\" 200 4968 \"http://estrada.com/\" \"Mozilla/5.0 (X11; Linux x86_64; rv:1.9.7.20) Gecko/2014-01-14 12:58:31 Firefox/3.6.16\"\\n',\n",
       " '169.2.35.163 - - [22/Nov/2018:17:55:03 +0000] \"GET /apps/cart.jsp?appID=2180 HTTP/1.0\" 200 5053 \"http://richards-sherman.net/\" \"Mozilla/5.0 (Macintosh; Intel Mac OS X 10_9_4; rv:1.9.6.20) Gecko/2016-08-26 04:43:27 Firefox/5.0\"\\n']"
      ]
     },
     "execution_count": 5,
     "metadata": {},
     "output_type": "execute_result"
    }
   ],
   "source": [
    "content"
   ]
  },
  {
   "cell_type": "code",
   "execution_count": 6,
   "metadata": {},
   "outputs": [],
   "source": [
    "all_content = []\n",
    "for this_file in list_of_files:\n",
    "    with open(this_file,'r') as f:\n",
    "        content = f.readlines()\n",
    "    for this_line in content:\n",
    "        all_content.append(this_line.split(' ')[5].replace('\"',''))"
   ]
  },
  {
   "cell_type": "code",
   "execution_count": 7,
   "metadata": {},
   "outputs": [
    {
     "data": {
      "text/plain": [
       "['POST',\n",
       " 'DELETE',\n",
       " 'POST',\n",
       " 'GET',\n",
       " 'POST',\n",
       " 'GET',\n",
       " 'GET',\n",
       " 'GET',\n",
       " 'GET',\n",
       " 'PUT',\n",
       " 'GET',\n",
       " 'PUT',\n",
       " 'GET',\n",
       " 'GET',\n",
       " 'PUT',\n",
       " 'GET',\n",
       " 'GET',\n",
       " 'GET',\n",
       " 'POST',\n",
       " 'GET']"
      ]
     },
     "execution_count": 7,
     "metadata": {},
     "output_type": "execute_result"
    }
   ],
   "source": [
    "all_content"
   ]
  },
  {
   "cell_type": "code",
   "execution_count": 8,
   "metadata": {},
   "outputs": [
    {
     "data": {
      "image/png": "[encoded data removed]",
      "text/plain": [
       "<Figure size 432x288 with 1 Axes>"
      ]
     },
     "metadata": {
      "needs_background": "light"
     },
     "output_type": "display_data"
    }
   ],
   "source": [
    "_=plt.hist(all_content)"
   ]
  },
  {
   "cell_type": "code",
   "execution_count": 21,
   "metadata": {},
   "outputs": [
    {
     "name": "stdout",
     "output_type": "stream",
     "text": [
      "['access_log_20181122-18:05:49.log', 'access_log_20181122-18:05:36.log', 'access_log_20181122-18:05:44.log', 'access_log_20181122-18:05:53.log', 'access_log_20181122-18:05:40.log']\n"
     ]
    },
    {
     "data": {
      "image/png": "[encoded data removed]",
      "text/plain": [
       "<Figure size 432x288 with 1 Axes>"
      ]
     },
     "metadata": {
      "needs_background": "light"
     },
     "output_type": "display_data"
    },
    {
     "ename": "KeyboardInterrupt",
     "evalue": "",
     "output_type": "error",
     "traceback": [
      "\u001b[0;31m---------------------------------------------------------------------------\u001b[0m",
      "\u001b[0;31mKeyboardInterrupt\u001b[0m                         Traceback (most recent call last)",
      "\u001b[0;32m<ipython-input-21-9dc3c8855634>\u001b[0m in \u001b[0;36m<module>\u001b[0;34m\u001b[0m\n\u001b[1;32m     16\u001b[0m     \u001b[0mplt\u001b[0m\u001b[0;34m.\u001b[0m\u001b[0mshow\u001b[0m\u001b[0;34m(\u001b[0m\u001b[0;34m)\u001b[0m\u001b[0;34m\u001b[0m\u001b[0m\n\u001b[1;32m     17\u001b[0m     \u001b[0mall_content_prev\u001b[0m \u001b[0;34m=\u001b[0m \u001b[0mall_content\u001b[0m\u001b[0;34m\u001b[0m\u001b[0m\n\u001b[0;32m---> 18\u001b[0;31m     \u001b[0mtime\u001b[0m\u001b[0;34m.\u001b[0m\u001b[0msleep\u001b[0m\u001b[0;34m(\u001b[0m\u001b[0;36m5\u001b[0m\u001b[0;34m)\u001b[0m\u001b[0;34m\u001b[0m\u001b[0m\n\u001b[0m\u001b[1;32m     19\u001b[0m     \u001b[0mclear_output\u001b[0m\u001b[0;34m(\u001b[0m\u001b[0;34m)\u001b[0m\u001b[0;34m\u001b[0m\u001b[0m\n",
      "\u001b[0;31mKeyboardInterrupt\u001b[0m: "
     ]
    }
   ],
   "source": [
    "all_content = []\n",
    "all_content_prev = []\n",
    "\n",
    "while (True):\n",
    "    list_of_files = glob.glob('access_log_*.log')\n",
    "    print(list_of_files)\n",
    "    all_content = []\n",
    "    for this_file in list_of_files:\n",
    "        with open(this_file,'r') as f:\n",
    "            content = f.readlines()\n",
    "        for this_line in content:\n",
    "            all_content.append(this_line.split(' ')[5].replace('\"',''))\n",
    "    _=plt.hist(all_content,alpha=0.5, label='now') # https://stackoverflow.com/questions/6871201/plot-two-histograms-at-the-same-time-with-matplotlib\n",
    "    _=plt.hist(all_content_prev,alpha=0.5, label='previous')\n",
    "    _=plt.legend(loc='upper right')\n",
    "    plt.show()\n",
    "    all_content_prev = all_content\n",
    "    time.sleep(5)\n",
    "    clear_output()"
   ]
  },
  {
   "cell_type": "code",
   "execution_count": 17,
   "metadata": {},
   "outputs": [
    {
     "data": {
      "text/plain": [
       "True"
      ]
     },
     "execution_count": 17,
     "metadata": {},
     "output_type": "execute_result"
    }
   ],
   "source": [
    "['a', 'b'].sort() == ['b', 'a'].sort()"
   ]
  },
  {
   "cell_type": "code",
   "execution_count": null,
   "metadata": {},
   "outputs": [],
   "source": []
  }
 ],
 "metadata": {
  "kernelspec": {
   "display_name": "Python 3",
   "language": "python",
   "name": "python3"
  },
  "language_info": {
   "codemirror_mode": {
    "name": "ipython",
    "version": 3
   },
   "file_extension": ".py",
   "mimetype": "text/x-python",
   "name": "python",
   "nbconvert_exporter": "python",
   "pygments_lexer": "ipython3",
   "version": "3.6.6"
  }
 },
 "nbformat": 4,
 "nbformat_minor": 2
}
