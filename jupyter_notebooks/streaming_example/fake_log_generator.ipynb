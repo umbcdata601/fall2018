{
 "cells": [
  {
   "cell_type": "markdown",
   "metadata": {},
   "source": [
    "https://github.com/kiritbasu/Fake-Apache-Log-Generator/blob/master/apache-fake-log-gen.py"
   ]
  },
  {
   "cell_type": "code",
   "execution_count": 1,
   "metadata": {},
   "outputs": [
    {
     "name": "stdout",
     "output_type": "stream",
     "text": [
      "Requirement already satisfied: tzlocal in /opt/conda/lib/python3.6/site-packages (1.5.1)\n",
      "Requirement already satisfied: pytz in /opt/conda/lib/python3.6/site-packages (from tzlocal) (2018.6)\n"
     ]
    }
   ],
   "source": [
    "!pip install tzlocal"
   ]
  },
  {
   "cell_type": "code",
   "execution_count": 2,
   "metadata": {},
   "outputs": [],
   "source": [
    "from faker import Faker\n",
    "import time\n",
    "import numpy\n",
    "import glob\n",
    "import random\n",
    "import os\n",
    "import datetime\n",
    "from tzlocal import get_localzone\n",
    "local = get_localzone()"
   ]
  },
  {
   "cell_type": "code",
   "execution_count": 3,
   "metadata": {},
   "outputs": [],
   "source": [
    "faker = Faker()"
   ]
  },
  {
   "cell_type": "code",
   "execution_count": 4,
   "metadata": {},
   "outputs": [],
   "source": [
    "timestr = time.strftime(\"%Y%m%d-%H%M%S\")\n",
    "outFileName = 'access_log_'+timestr+'.log'"
   ]
  },
  {
   "cell_type": "code",
   "execution_count": 5,
   "metadata": {},
   "outputs": [],
   "source": [
    "response=[\"200\",\"404\",\"500\",\"301\"]\n",
    "\n",
    "verb=[\"GET\",\"POST\",\"DELETE\",\"PUT\"]\n",
    "\n",
    "resources=[\"/list\",\"/wp-content\",\"/wp-admin\",\"/explore\",\"/search/tag/list\",\"/app/main/posts\",\"/posts/posts/explore\",\"/apps/cart.jsp?appID=\"]\n",
    "\n",
    "ualist = [faker.firefox, faker.chrome, faker.safari, faker.internet_explorer, faker.opera]"
   ]
  },
  {
   "cell_type": "code",
   "execution_count": 6,
   "metadata": {},
   "outputs": [],
   "source": [
    "def create_log_line():\n",
    "    ip = faker.ipv4()\n",
    "    otime = datetime.datetime.now()\n",
    "    dt = otime.strftime('%d/%b/%Y:%H:%M:%S')\n",
    "    tz = datetime.datetime.now(local).strftime('%z')\n",
    "    vrb = numpy.random.choice(verb,p=[0.6,0.1,0.1,0.2])\n",
    "\n",
    "    uri = random.choice(resources)\n",
    "    if uri.find(\"apps\")>0:\n",
    "        uri += str(random.randint(1000,10000))\n",
    "\n",
    "    resp = numpy.random.choice(response,p=[0.9,0.04,0.02,0.04])\n",
    "    byt = int(random.gauss(5000,50))\n",
    "    referer = faker.uri()\n",
    "    useragent = numpy.random.choice(ualist,p=[0.5,0.3,0.1,0.05,0.05] )()\n",
    "    return('%s - - [%s %s] \"%s %s HTTP/1.0\" %s %s \"%s\" \"%s\"' % (ip,dt,tz,vrb,uri,resp,byt,referer,useragent))"
   ]
  },
  {
   "cell_type": "code",
   "execution_count": 7,
   "metadata": {},
   "outputs": [
    {
     "name": "stdout",
     "output_type": "stream",
     "text": [
      "192.250.108.167 - - [25/Nov/2018:00:11:36 +0000] \"PUT /search/tag/list HTTP/1.0\" 200 4961 \"http://www.anderson-norman.com/\" \"Mozilla/5.0 (Windows NT 5.1; ia-FR; rv:1.9.2.20) Gecko/2015-02-22 08:31:48 Firefox/3.6.15\"\n"
     ]
    }
   ],
   "source": [
    "reslt=create_log_line()\n",
    "print(reslt)"
   ]
  },
  {
   "cell_type": "markdown",
   "metadata": {},
   "source": [
    "<BR>\n",
    "<BR>\n",
    "<BR>\n",
    "<BR>\n",
    "log rotation:<BR>\n",
    "  1. Write a set of lines to a file with timestamp in name<BR>\n",
    "  2. Increment the "
   ]
  },
  {
   "cell_type": "code",
   "execution_count": 8,
   "metadata": {},
   "outputs": [
    {
     "ename": "KeyboardInterrupt",
     "evalue": "",
     "output_type": "error",
     "traceback": [
      "\u001b[0;31m---------------------------------------------------------------------------\u001b[0m",
      "\u001b[0;31mValueError\u001b[0m                                Traceback (most recent call last)",
      "\u001b[0;32m/opt/conda/lib/python3.6/site-packages/faker/providers/internet/__init__.py\u001b[0m in \u001b[0;36m_exclude_ipv4_network\u001b[0;34m(network)\u001b[0m\n\u001b[1;32m    302\u001b[0m                 \u001b[0;32mtry\u001b[0m\u001b[0;34m:\u001b[0m\u001b[0;34m\u001b[0m\u001b[0m\n\u001b[0;32m--> 303\u001b[0;31m                     \u001b[0;32mreturn\u001b[0m \u001b[0mlist\u001b[0m\u001b[0;34m(\u001b[0m\u001b[0mnetwork\u001b[0m\u001b[0;34m.\u001b[0m\u001b[0maddress_exclude\u001b[0m\u001b[0;34m(\u001b[0m\u001b[0mnetwork_to_exclude\u001b[0m\u001b[0;34m)\u001b[0m\u001b[0;34m)\u001b[0m\u001b[0;34m\u001b[0m\u001b[0m\n\u001b[0m\u001b[1;32m    304\u001b[0m                 \u001b[0;32mexcept\u001b[0m \u001b[0mValueError\u001b[0m\u001b[0;34m:\u001b[0m\u001b[0;34m\u001b[0m\u001b[0m\n",
      "\u001b[0;32m/opt/conda/lib/python3.6/ipaddress.py\u001b[0m in \u001b[0;36maddress_exclude\u001b[0;34m(self, other)\u001b[0m\n\u001b[1;32m    780\u001b[0m                 other.broadcast_address <= self.broadcast_address):\n\u001b[0;32m--> 781\u001b[0;31m             \u001b[0;32mraise\u001b[0m \u001b[0mValueError\u001b[0m\u001b[0;34m(\u001b[0m\u001b[0;34m'%s not contained in %s'\u001b[0m \u001b[0;34m%\u001b[0m \u001b[0;34m(\u001b[0m\u001b[0mother\u001b[0m\u001b[0;34m,\u001b[0m \u001b[0mself\u001b[0m\u001b[0;34m)\u001b[0m\u001b[0;34m)\u001b[0m\u001b[0;34m\u001b[0m\u001b[0m\n\u001b[0m\u001b[1;32m    782\u001b[0m         \u001b[0;32mif\u001b[0m \u001b[0mother\u001b[0m \u001b[0;34m==\u001b[0m \u001b[0mself\u001b[0m\u001b[0;34m:\u001b[0m\u001b[0;34m\u001b[0m\u001b[0m\n",
      "\u001b[0;31mValueError\u001b[0m: 192.31.196.0/24 not contained in 169.252.0.0/15",
      "\nDuring handling of the above exception, another exception occurred:\n",
      "\u001b[0;31mKeyboardInterrupt\u001b[0m                         Traceback (most recent call last)",
      "\u001b[0;32m<ipython-input-8-66b45a9fb540>\u001b[0m in \u001b[0;36m<module>\u001b[0;34m\u001b[0m\n\u001b[1;32m      7\u001b[0m     \u001b[0;32mfor\u001b[0m \u001b[0mline_indx\u001b[0m \u001b[0;32min\u001b[0m \u001b[0mrange\u001b[0m\u001b[0;34m(\u001b[0m\u001b[0;36m4\u001b[0m\u001b[0;34m)\u001b[0m\u001b[0;34m:\u001b[0m\u001b[0;34m\u001b[0m\u001b[0m\n\u001b[1;32m      8\u001b[0m         \u001b[0mtime\u001b[0m\u001b[0;34m.\u001b[0m\u001b[0msleep\u001b[0m\u001b[0;34m(\u001b[0m\u001b[0;36m1\u001b[0m\u001b[0;34m)\u001b[0m\u001b[0;34m\u001b[0m\u001b[0m\n\u001b[0;32m----> 9\u001b[0;31m         \u001b[0mlist_of_lines\u001b[0m\u001b[0;34m.\u001b[0m\u001b[0mappend\u001b[0m\u001b[0;34m(\u001b[0m\u001b[0mcreate_log_line\u001b[0m\u001b[0;34m(\u001b[0m\u001b[0;34m)\u001b[0m\u001b[0;34m)\u001b[0m\u001b[0;34m\u001b[0m\u001b[0m\n\u001b[0m\u001b[1;32m     10\u001b[0m     \u001b[0;31m# given a completed buffer, dump to file\u001b[0m\u001b[0;34m\u001b[0m\u001b[0;34m\u001b[0m\u001b[0m\n\u001b[1;32m     11\u001b[0m     \u001b[0;32mwith\u001b[0m \u001b[0mopen\u001b[0m\u001b[0;34m(\u001b[0m\u001b[0moutFileName\u001b[0m\u001b[0;34m,\u001b[0m\u001b[0;34m'w'\u001b[0m\u001b[0;34m)\u001b[0m \u001b[0;32mas\u001b[0m \u001b[0mf\u001b[0m\u001b[0;34m:\u001b[0m\u001b[0;34m\u001b[0m\u001b[0m\n",
      "\u001b[0;32m<ipython-input-6-a4e405fcb152>\u001b[0m in \u001b[0;36mcreate_log_line\u001b[0;34m()\u001b[0m\n\u001b[1;32m      1\u001b[0m \u001b[0;32mdef\u001b[0m \u001b[0mcreate_log_line\u001b[0m\u001b[0;34m(\u001b[0m\u001b[0;34m)\u001b[0m\u001b[0;34m:\u001b[0m\u001b[0;34m\u001b[0m\u001b[0m\n\u001b[0;32m----> 2\u001b[0;31m     \u001b[0mip\u001b[0m \u001b[0;34m=\u001b[0m \u001b[0mfaker\u001b[0m\u001b[0;34m.\u001b[0m\u001b[0mipv4\u001b[0m\u001b[0;34m(\u001b[0m\u001b[0;34m)\u001b[0m\u001b[0;34m\u001b[0m\u001b[0m\n\u001b[0m\u001b[1;32m      3\u001b[0m     \u001b[0motime\u001b[0m \u001b[0;34m=\u001b[0m \u001b[0mdatetime\u001b[0m\u001b[0;34m.\u001b[0m\u001b[0mdatetime\u001b[0m\u001b[0;34m.\u001b[0m\u001b[0mnow\u001b[0m\u001b[0;34m(\u001b[0m\u001b[0;34m)\u001b[0m\u001b[0;34m\u001b[0m\u001b[0m\n\u001b[1;32m      4\u001b[0m     \u001b[0mdt\u001b[0m \u001b[0;34m=\u001b[0m \u001b[0motime\u001b[0m\u001b[0;34m.\u001b[0m\u001b[0mstrftime\u001b[0m\u001b[0;34m(\u001b[0m\u001b[0;34m'%d/%b/%Y:%H:%M:%S'\u001b[0m\u001b[0;34m)\u001b[0m\u001b[0;34m\u001b[0m\u001b[0m\n\u001b[1;32m      5\u001b[0m     \u001b[0mtz\u001b[0m \u001b[0;34m=\u001b[0m \u001b[0mdatetime\u001b[0m\u001b[0;34m.\u001b[0m\u001b[0mdatetime\u001b[0m\u001b[0;34m.\u001b[0m\u001b[0mnow\u001b[0m\u001b[0;34m(\u001b[0m\u001b[0mlocal\u001b[0m\u001b[0;34m)\u001b[0m\u001b[0;34m.\u001b[0m\u001b[0mstrftime\u001b[0m\u001b[0;34m(\u001b[0m\u001b[0;34m'%z'\u001b[0m\u001b[0;34m)\u001b[0m\u001b[0;34m\u001b[0m\u001b[0m\n",
      "\u001b[0;32m/opt/conda/lib/python3.6/site-packages/faker/providers/internet/__init__.py\u001b[0m in \u001b[0;36mipv4\u001b[0;34m(self, network, address_class, private)\u001b[0m\n\u001b[1;32m    355\u001b[0m         all_networks = self._exclude_ipv4_networks(\n\u001b[1;32m    356\u001b[0m             \u001b[0mall_networks\u001b[0m\u001b[0;34m,\u001b[0m\u001b[0;34m\u001b[0m\u001b[0m\n\u001b[0;32m--> 357\u001b[0;31m             \u001b[0m_IPv4Constants\u001b[0m\u001b[0;34m.\u001b[0m\u001b[0m_excluded_networks\u001b[0m\u001b[0;34m,\u001b[0m\u001b[0;34m\u001b[0m\u001b[0m\n\u001b[0m\u001b[1;32m    358\u001b[0m         )\n\u001b[1;32m    359\u001b[0m \u001b[0;34m\u001b[0m\u001b[0m\n",
      "\u001b[0;32m/opt/conda/lib/python3.6/site-packages/faker/providers/internet/__init__.py\u001b[0m in \u001b[0;36m_exclude_ipv4_networks\u001b[0;34m(self, networks, networks_to_exclude)\u001b[0m\n\u001b[1;32m    311\u001b[0m                         \u001b[0;32mreturn\u001b[0m \u001b[0;34m[\u001b[0m\u001b[0mnetwork\u001b[0m\u001b[0;34m]\u001b[0m\u001b[0;34m\u001b[0m\u001b[0m\n\u001b[1;32m    312\u001b[0m \u001b[0;34m\u001b[0m\u001b[0m\n\u001b[0;32m--> 313\u001b[0;31m             \u001b[0mnetworks\u001b[0m \u001b[0;34m=\u001b[0m \u001b[0mlist\u001b[0m\u001b[0;34m(\u001b[0m\u001b[0mmap\u001b[0m\u001b[0;34m(\u001b[0m\u001b[0m_exclude_ipv4_network\u001b[0m\u001b[0;34m,\u001b[0m \u001b[0mnetworks\u001b[0m\u001b[0;34m)\u001b[0m\u001b[0;34m)\u001b[0m\u001b[0;34m\u001b[0m\u001b[0m\n\u001b[0m\u001b[1;32m    314\u001b[0m \u001b[0;34m\u001b[0m\u001b[0m\n\u001b[1;32m    315\u001b[0m             \u001b[0;31m# flatten list of lists\u001b[0m\u001b[0;34m\u001b[0m\u001b[0;34m\u001b[0m\u001b[0m\n",
      "\u001b[0;32m/opt/conda/lib/python3.6/site-packages/faker/providers/internet/__init__.py\u001b[0m in \u001b[0;36m_exclude_ipv4_network\u001b[0;34m(network)\u001b[0m\n\u001b[1;32m    306\u001b[0m                     \u001b[0;31m# will fail, but the network still must not be used\u001b[0m\u001b[0;34m\u001b[0m\u001b[0;34m\u001b[0m\u001b[0m\n\u001b[1;32m    307\u001b[0m                     \u001b[0;31m# in generation.\u001b[0m\u001b[0;34m\u001b[0m\u001b[0;34m\u001b[0m\u001b[0m\n\u001b[0;32m--> 308\u001b[0;31m                     \u001b[0;32mif\u001b[0m \u001b[0mnetwork\u001b[0m\u001b[0;34m.\u001b[0m\u001b[0moverlaps\u001b[0m\u001b[0;34m(\u001b[0m\u001b[0mnetwork_to_exclude\u001b[0m\u001b[0;34m)\u001b[0m\u001b[0;34m:\u001b[0m\u001b[0;34m\u001b[0m\u001b[0m\n\u001b[0m\u001b[1;32m    309\u001b[0m                         \u001b[0;32mreturn\u001b[0m \u001b[0;34m[\u001b[0m\u001b[0;34m]\u001b[0m\u001b[0;34m\u001b[0m\u001b[0m\n\u001b[1;32m    310\u001b[0m                     \u001b[0;32melse\u001b[0m\u001b[0;34m:\u001b[0m\u001b[0;34m\u001b[0m\u001b[0m\n",
      "\u001b[0;32m/opt/conda/lib/python3.6/ipaddress.py\u001b[0m in \u001b[0;36moverlaps\u001b[0;34m(self, other)\u001b[0m\n\u001b[1;32m    685\u001b[0m         return self.network_address in other or (\n\u001b[1;32m    686\u001b[0m             self.broadcast_address in other or (\n\u001b[0;32m--> 687\u001b[0;31m                 other.network_address in self or (\n\u001b[0m\u001b[1;32m    688\u001b[0m                     other.broadcast_address in self)))\n\u001b[1;32m    689\u001b[0m \u001b[0;34m\u001b[0m\u001b[0m\n",
      "\u001b[0;32m/opt/conda/lib/python3.6/ipaddress.py\u001b[0m in \u001b[0;36m__contains__\u001b[0;34m(self, other)\u001b[0m\n\u001b[1;32m    679\u001b[0m             \u001b[0;31m# address\u001b[0m\u001b[0;34m\u001b[0m\u001b[0;34m\u001b[0m\u001b[0m\n\u001b[1;32m    680\u001b[0m             return (int(self.network_address) <= int(other._ip) <=\n\u001b[0;32m--> 681\u001b[0;31m                     int(self.broadcast_address))\n\u001b[0m\u001b[1;32m    682\u001b[0m \u001b[0;34m\u001b[0m\u001b[0m\n\u001b[1;32m    683\u001b[0m     \u001b[0;32mdef\u001b[0m \u001b[0moverlaps\u001b[0m\u001b[0;34m(\u001b[0m\u001b[0mself\u001b[0m\u001b[0;34m,\u001b[0m \u001b[0mother\u001b[0m\u001b[0;34m)\u001b[0m\u001b[0;34m:\u001b[0m\u001b[0;34m\u001b[0m\u001b[0m\n",
      "\u001b[0;32m/opt/conda/lib/python3.6/ipaddress.py\u001b[0m in \u001b[0;36mbroadcast_address\u001b[0;34m(self)\u001b[0m\n\u001b[1;32m    688\u001b[0m                     other.broadcast_address in self)))\n\u001b[1;32m    689\u001b[0m \u001b[0;34m\u001b[0m\u001b[0m\n\u001b[0;32m--> 690\u001b[0;31m     \u001b[0;34m@\u001b[0m\u001b[0mproperty\u001b[0m\u001b[0;34m\u001b[0m\u001b[0m\n\u001b[0m\u001b[1;32m    691\u001b[0m     \u001b[0;32mdef\u001b[0m \u001b[0mbroadcast_address\u001b[0m\u001b[0;34m(\u001b[0m\u001b[0mself\u001b[0m\u001b[0;34m)\u001b[0m\u001b[0;34m:\u001b[0m\u001b[0;34m\u001b[0m\u001b[0m\n\u001b[1;32m    692\u001b[0m         \u001b[0mx\u001b[0m \u001b[0;34m=\u001b[0m \u001b[0mself\u001b[0m\u001b[0;34m.\u001b[0m\u001b[0m_cache\u001b[0m\u001b[0;34m.\u001b[0m\u001b[0mget\u001b[0m\u001b[0;34m(\u001b[0m\u001b[0;34m'broadcast_address'\u001b[0m\u001b[0;34m)\u001b[0m\u001b[0;34m\u001b[0m\u001b[0m\n",
      "\u001b[0;31mKeyboardInterrupt\u001b[0m: "
     ]
    }
   ],
   "source": [
    "max_file_count=5\n",
    "while (True):\n",
    "    timestr = time.strftime(\"%Y%m%d-%H:%M:%S\")\n",
    "    outFileName = 'access_log_'+timestr+'.log'\n",
    "    list_of_lines=[]\n",
    "    # create the log file\n",
    "    for line_indx in range(4):\n",
    "        time.sleep(1)\n",
    "        list_of_lines.append(create_log_line())\n",
    "    # given a completed buffer, dump to file\n",
    "    with open(outFileName,'w') as f:\n",
    "        for line in list_of_lines:\n",
    "            f.write(line+'\\n')\n",
    "    # remove old logs\n",
    "    list_of_files=glob.glob('access_log_*.log')\n",
    "    list_of_files.sort(key=str.lower) # in-place sort\n",
    "    \n",
    "    if (len(list_of_files)>max_file_count):\n",
    "        files_to_delete = list_of_files[0:len(list_of_files)-max_file_count]\n",
    "        for file_to_del in files_to_delete:\n",
    "            os.remove(file_to_del)"
   ]
  },
  {
   "cell_type": "code",
   "execution_count": null,
   "metadata": {},
   "outputs": [],
   "source": []
  }
 ],
 "metadata": {
  "kernelspec": {
   "display_name": "Python 3",
   "language": "python",
   "name": "python3"
  },
  "language_info": {
   "codemirror_mode": {
    "name": "ipython",
    "version": 3
   },
   "file_extension": ".py",
   "mimetype": "text/x-python",
   "name": "python",
   "nbconvert_exporter": "python",
   "pygments_lexer": "ipython3",
   "version": "3.6.6"
  }
 },
 "nbformat": 4,
 "nbformat_minor": 2
}
