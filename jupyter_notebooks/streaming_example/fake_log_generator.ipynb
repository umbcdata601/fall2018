{
 "cells": [
  {
   "cell_type": "markdown",
   "metadata": {},
   "source": [
    "https://github.com/kiritbasu/Fake-Apache-Log-Generator/blob/master/apache-fake-log-gen.py"
   ]
  },
  {
   "cell_type": "code",
   "execution_count": 16,
   "metadata": {},
   "outputs": [
    {
     "name": "stdout",
     "output_type": "stream",
     "text": [
      "Requirement already satisfied: tzlocal in /opt/conda/lib/python3.6/site-packages (1.5.1)\n",
      "Requirement already satisfied: pytz in /opt/conda/lib/python3.6/site-packages (from tzlocal) (2018.6)\n"
     ]
    }
   ],
   "source": [
    "!pip install tzlocal"
   ]
  },
  {
   "cell_type": "code",
   "execution_count": 56,
   "metadata": {},
   "outputs": [],
   "source": [
    "from faker import Faker\n",
    "import time\n",
    "import numpy\n",
    "import glob\n",
    "import random\n",
    "import os\n",
    "import datetime\n",
    "from tzlocal import get_localzone\n",
    "local = get_localzone()"
   ]
  },
  {
   "cell_type": "code",
   "execution_count": 28,
   "metadata": {},
   "outputs": [],
   "source": [
    "faker = Faker()"
   ]
  },
  {
   "cell_type": "code",
   "execution_count": 34,
   "metadata": {},
   "outputs": [],
   "source": [
    "timestr = time.strftime(\"%Y%m%d-%H%M%S\")\n",
    "outFileName = 'access_log_'+timestr+'.log'"
   ]
  },
  {
   "cell_type": "code",
   "execution_count": 30,
   "metadata": {},
   "outputs": [],
   "source": [
    "response=[\"200\",\"404\",\"500\",\"301\"]\n",
    "\n",
    "verb=[\"GET\",\"POST\",\"DELETE\",\"PUT\"]\n",
    "\n",
    "resources=[\"/list\",\"/wp-content\",\"/wp-admin\",\"/explore\",\"/search/tag/list\",\"/app/main/posts\",\"/posts/posts/explore\",\"/apps/cart.jsp?appID=\"]\n",
    "\n",
    "ualist = [faker.firefox, faker.chrome, faker.safari, faker.internet_explorer, faker.opera]"
   ]
  },
  {
   "cell_type": "code",
   "execution_count": 41,
   "metadata": {},
   "outputs": [],
   "source": [
    "def create_log_line():\n",
    "    ip = faker.ipv4()\n",
    "    otime = datetime.datetime.now()\n",
    "    dt = otime.strftime('%d/%b/%Y:%H:%M:%S')\n",
    "    tz = datetime.datetime.now(local).strftime('%z')\n",
    "    vrb = numpy.random.choice(verb,p=[0.6,0.1,0.1,0.2])\n",
    "\n",
    "    uri = random.choice(resources)\n",
    "    if uri.find(\"apps\")>0:\n",
    "        uri += str(random.randint(1000,10000))\n",
    "\n",
    "    resp = numpy.random.choice(response,p=[0.9,0.04,0.02,0.04])\n",
    "    byt = int(random.gauss(5000,50))\n",
    "    referer = faker.uri()\n",
    "    useragent = numpy.random.choice(ualist,p=[0.5,0.3,0.1,0.05,0.05] )()\n",
    "    return('%s - - [%s %s] \"%s %s HTTP/1.0\" %s %s \"%s\" \"%s\"' % (ip,dt,tz,vrb,uri,resp,byt,referer,useragent))"
   ]
  },
  {
   "cell_type": "code",
   "execution_count": 42,
   "metadata": {},
   "outputs": [
    {
     "name": "stdout",
     "output_type": "stream",
     "text": [
      "192.88.100.65 - - [22/Nov/2018:17:26:27 +0000] \"GET /apps/cart.jsp?appID=9832 HTTP/1.0\" 200 5019 \"http://ramos.com/register.asp\" \"Mozilla/5.0 (X11; Linux x86_64) AppleWebKit/5311 (KHTML, like Gecko) Chrome/53.0.858.0 Safari/5311\"\n"
     ]
    }
   ],
   "source": [
    "reslt=create_log_line()\n",
    "print(reslt)"
   ]
  },
  {
   "cell_type": "markdown",
   "metadata": {},
   "source": [
    "log rotation:\n",
    "1. Write a set of lines to a file with timestamp in name\n",
    "1. Increment the "
   ]
  },
  {
   "cell_type": "code",
   "execution_count": 49,
   "metadata": {},
   "outputs": [
    {
     "ename": "KeyboardInterrupt",
     "evalue": "",
     "output_type": "error",
     "traceback": [
      "\u001b[0;31m---------------------------------------------------------------------------\u001b[0m",
      "\u001b[0;31mKeyboardInterrupt\u001b[0m                         Traceback (most recent call last)",
      "\u001b[0;32m<ipython-input-49-12ae0211b9c7>\u001b[0m in \u001b[0;36m<module>\u001b[0;34m\u001b[0m\n\u001b[1;32m      5\u001b[0m     \u001b[0;31m# create the log file\u001b[0m\u001b[0;34m\u001b[0m\u001b[0;34m\u001b[0m\u001b[0m\n\u001b[1;32m      6\u001b[0m     \u001b[0;32mfor\u001b[0m \u001b[0mline_indx\u001b[0m \u001b[0;32min\u001b[0m \u001b[0mrange\u001b[0m\u001b[0;34m(\u001b[0m\u001b[0;36m4\u001b[0m\u001b[0;34m)\u001b[0m\u001b[0;34m:\u001b[0m\u001b[0;34m\u001b[0m\u001b[0m\n\u001b[0;32m----> 7\u001b[0;31m         \u001b[0mtime\u001b[0m\u001b[0;34m.\u001b[0m\u001b[0msleep\u001b[0m\u001b[0;34m(\u001b[0m\u001b[0;36m1\u001b[0m\u001b[0;34m)\u001b[0m\u001b[0;34m\u001b[0m\u001b[0m\n\u001b[0m\u001b[1;32m      8\u001b[0m         \u001b[0mlist_of_lines\u001b[0m\u001b[0;34m.\u001b[0m\u001b[0mappend\u001b[0m\u001b[0;34m(\u001b[0m\u001b[0mcreate_log_line\u001b[0m\u001b[0;34m(\u001b[0m\u001b[0;34m)\u001b[0m\u001b[0;34m)\u001b[0m\u001b[0;34m\u001b[0m\u001b[0m\n\u001b[1;32m      9\u001b[0m     \u001b[0;31m# given a completed buffer, dump to file\u001b[0m\u001b[0;34m\u001b[0m\u001b[0;34m\u001b[0m\u001b[0m\n",
      "\u001b[0;31mKeyboardInterrupt\u001b[0m: "
     ]
    }
   ],
   "source": [
    "max_file_count=5\n",
    "while (True):\n",
    "    timestr = time.strftime(\"%Y%m%d-%H:%M:%S\")\n",
    "    outFileName = 'access_log_'+timestr+'.log'\n",
    "    list_of_lines=[]\n",
    "    # create the log file\n",
    "    for line_indx in range(4):\n",
    "        time.sleep(1)\n",
    "        list_of_lines.append(create_log_line())\n",
    "    # given a completed buffer, dump to file\n",
    "    with open(outFileName,'w') as f:\n",
    "        for line in list_of_lines:\n",
    "            f.write(line+'\\n')\n",
    "    # remove old logs\n",
    "    list_of_files=glob.glob('access_log_*.log')\n",
    "    list_of_files.sort(key=str.lower) # in-place sort\n",
    "    \n",
    "    if (len(list_of_files)>max_file_count):\n",
    "        files_to_delete = list_of_files[0:len(list_of_files)-max_file_count]\n",
    "        for file_to_del in files_to_delete:\n",
    "            os.remove(file_to_del)"
   ]
  },
  {
   "cell_type": "code",
   "execution_count": null,
   "metadata": {},
   "outputs": [],
   "source": []
  }
 ],
 "metadata": {
  "kernelspec": {
   "display_name": "Python 3",
   "language": "python",
   "name": "python3"
  },
  "language_info": {
   "codemirror_mode": {
    "name": "ipython",
    "version": 3
   },
   "file_extension": ".py",
   "mimetype": "text/x-python",
   "name": "python",
   "nbconvert_exporter": "python",
   "pygments_lexer": "ipython3",
   "version": "3.6.6"
  }
 },
 "nbformat": 4,
 "nbformat_minor": 2
}
