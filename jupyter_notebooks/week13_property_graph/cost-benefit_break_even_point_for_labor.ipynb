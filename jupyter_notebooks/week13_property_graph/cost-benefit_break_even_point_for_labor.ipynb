{
 "cells": [
  {
   "cell_type": "code",
   "execution_count": null,
   "metadata": {},
   "outputs": [],
   "source": [
    "import matplotlib.pyplot as plt"
   ]
  },
  {
   "cell_type": "markdown",
   "metadata": {},
   "source": [
    "I want to compare whether it's better to pay an existing employee overtime or add an additional worker.\n",
    "\n",
    "First I brainstorm a set of parameters I think will be relevant for this exercise.\n",
    "\n",
    "The specific values may be incorrect for the specific situation, but the values can be adjusted later (separate from the process of developing the model)."
   ]
  },
  {
   "cell_type": "code",
   "execution_count": null,
   "metadata": {},
   "outputs": [],
   "source": [
    "hourly_wage=20\n",
    "hours_in_normal_workday=8\n",
    "number_of_widgets_per_trained_worker_per_hour=3\n",
    "number_of_widgets_per_worker_per_hour_during_training=1\n",
    "training_duration_in_days=5\n",
    "duration_of_comparison_in_days=30"
   ]
  },
  {
   "cell_type": "markdown",
   "metadata": {},
   "source": [
    "I'm going to do the trade-off analysis as a function of time. Therefore I need to choose a timescale that's relevant. \n",
    "\n",
    "For example, increments of \"seconds\" is probably too fine grain, while increments of \"centuries\" is too coarse grained. "
   ]
  },
  {
   "cell_type": "code",
   "execution_count": null,
   "metadata": {},
   "outputs": [],
   "source": [
    "list_of_days=range(1,duration_of_comparison_in_days+1)"
   ]
  },
  {
   "cell_type": "markdown",
   "metadata": {},
   "source": [
    "I need to store the results of the model to an array.\n",
    "\n",
    "Elements of the array correspond to how each parameter is evolving over time."
   ]
  },
  {
   "cell_type": "code",
   "execution_count": null,
   "metadata": {},
   "outputs": [],
   "source": [
    "cumulative_number_widgets_produced_by_trained_worker=0\n",
    "number_widgets_produced_by_trained_worker=[]\n",
    "\n",
    "cumulative_money_spent_on_trained_worker=0\n",
    "money_spent_on_trained_worker=[]\n",
    "\n",
    "cumulative_number_widgets_produced_by_new_worker=0\n",
    "number_widgets_produced_by_new_worker=[]\n",
    "\n",
    "cumulative_money_spent_on_new_worker=0\n",
    "money_spent_on_new_worker=[]"
   ]
  },
  {
   "cell_type": "markdown",
   "metadata": {},
   "source": [
    "In terms of both cost and productivity, my first step is to compare an existing trained worker to new worker over the span of multiple days. \n",
    "\n",
    "This isn't the analysis I want to end up with; it's an intermediate exploration of the model."
   ]
  },
  {
   "cell_type": "code",
   "execution_count": null,
   "metadata": {},
   "outputs": [],
   "source": [
    "for this_day in list_of_days:\n",
    "    # trained worker\n",
    "    cumulative_money_spent_on_trained_worker+=hourly_wage*hours_in_normal_workday\n",
    "    money_spent_on_trained_worker.append(cumulative_money_spent_on_trained_worker)\n",
    "\n",
    "    cumulative_number_widgets_produced_by_trained_worker+=number_of_widgets_per_trained_worker_per_hour*hours_in_normal_workday\n",
    "    number_widgets_produced_by_trained_worker.append(cumulative_number_widgets_produced_by_trained_worker)\n",
    "\n",
    "    # new worker\n",
    "    cumulative_money_spent_on_new_worker+=hourly_wage*hours_in_normal_workday\n",
    "    money_spent_on_new_worker.append(cumulative_money_spent_on_new_worker)\n",
    "    if (this_day<training_duration_in_days): # during training, productivity is lower\n",
    "        cumulative_number_widgets_produced_by_new_worker+=number_of_widgets_per_worker_per_hour_during_training*hours_in_normal_workday\n",
    "    else:\n",
    "        cumulative_number_widgets_produced_by_new_worker+=number_of_widgets_per_trained_worker_per_hour*hours_in_normal_workday\n",
    "    number_widgets_produced_by_new_worker.append(cumulative_number_widgets_produced_by_new_worker)"
   ]
  },
  {
   "cell_type": "markdown",
   "metadata": {},
   "source": [
    "Visualize the results"
   ]
  },
  {
   "cell_type": "code",
   "execution_count": null,
   "metadata": {},
   "outputs": [],
   "source": [
    "_=plt.scatter(list_of_days,money_spent_on_trained_worker,color='blue', label='existing worker')\n",
    "_=plt.scatter(list_of_days,money_spent_on_new_worker,color='red', label='new worker')\n",
    "_=plt.xlabel('days',fontsize=14)\n",
    "_=plt.ylabel('cumulative money spent [$]',fontsize=14)\n",
    "ax = plt.gca() # get current axis\n",
    "_=ax.legend()"
   ]
  },
  {
   "cell_type": "markdown",
   "metadata": {},
   "source": [
    "--> Cost of trained worker and new worker is same\n",
    "\n",
    "Let's compare productivity"
   ]
  },
  {
   "cell_type": "code",
   "execution_count": null,
   "metadata": {},
   "outputs": [],
   "source": [
    "_=plt.scatter(list_of_days,number_widgets_produced_by_trained_worker,color='blue', label='existing worker')\n",
    "_=plt.scatter(list_of_days,number_widgets_produced_by_new_worker,color='red', label='new worker')\n",
    "_=plt.xlabel('days',fontsize=14)\n",
    "_=plt.ylabel('cumulative number of widgets produced',fontsize=14)\n",
    "ax = plt.gca()\n",
    "_=ax.legend()"
   ]
  },
  {
   "cell_type": "markdown",
   "metadata": {},
   "source": [
    "_Conclusion_: never hire anyone new -- the production rate is lower while the cost is same.\n",
    "\n",
    "<BR>\n",
    "<BR>\n",
    "<BR>\n",
    "<BR>\n",
    "<BR>\n",
    "We can make an even more powerful observation: meaure the time for new worker to reach parity with existing worker"
   ]
  },
  {
   "cell_type": "code",
   "execution_count": null,
   "metadata": {},
   "outputs": [],
   "source": [
    "cost_per_widget_from_trained_worker = [x/y for x, y in zip(money_spent_on_trained_worker, \n",
    "                                                           number_widgets_produced_by_trained_worker)]\n",
    "cost_per_widget_from_new_worker = [x/y for x, y in zip(money_spent_on_new_worker, \n",
    "                                                           number_widgets_produced_by_new_worker)]\n",
    "\n",
    "_=plt.scatter(list_of_days,cost_per_widget_from_trained_worker,color='blue', label='existing worker')\n",
    "_=plt.scatter(list_of_days,cost_per_widget_from_new_worker,color='red', label='new worker')\n",
    "_=plt.xlabel('days',fontsize=14)\n",
    "_=plt.ylabel('cost per widget produced [$]',fontsize=14)\n",
    "ax = plt.gca()\n",
    "_=ax.legend()"
   ]
  },
  {
   "cell_type": "markdown",
   "metadata": {},
   "source": [
    "_Conclusion_: Hiring new staff is inefficient.\n",
    "\n",
    "<BR>\n",
    "<BR>\n",
    "<BR>\n",
    "<BR>\n",
    "<BR>\n",
    "What if we want to produce additional widgets in a fixed time window? \n",
    "\n",
    "Is it better to hire additional staff or pay existing workers overtime?"
   ]
  },
  {
   "cell_type": "code",
   "execution_count": null,
   "metadata": {},
   "outputs": [],
   "source": [
    "duration_of_comparison_in_days=30\n",
    "max_overtime_in_hours_per_day=3\n",
    "overtime_factor=1.25"
   ]
  },
  {
   "cell_type": "code",
   "execution_count": null,
   "metadata": {},
   "outputs": [],
   "source": [
    "cumulative_number_widgets_produced_by_trained_worker=0\n",
    "number_widgets_produced_by_trained_worker=[]\n",
    "\n",
    "cumulative_money_spent_on_trained_worker=0\n",
    "money_spent_on_trained_worker=[]\n",
    "\n",
    "cumulative_number_widgets_produced_by_new_worker=0\n",
    "number_widgets_produced_by_new_worker=[]\n",
    "\n",
    "cumulative_money_spent_on_new_worker=0\n",
    "money_spent_on_new_worker=[]"
   ]
  },
  {
   "cell_type": "code",
   "execution_count": null,
   "metadata": {},
   "outputs": [],
   "source": [
    "for this_day in list_of_days:\n",
    "    # pay existing worker overtime\n",
    "    #   - costs more money due to overtime\n",
    "    cumulative_money_spent_on_trained_worker+=(hourly_wage*hours_in_normal_workday +\n",
    "                                               hourly_wage*overtime_factor*max_overtime_in_hours_per_day)\n",
    "    money_spent_on_trained_worker.append(cumulative_money_spent_on_trained_worker)\n",
    "\n",
    "    #   - number of widgets produced is higher too\n",
    "    cumulative_number_widgets_produced_by_trained_worker+=number_of_widgets_per_trained_worker_per_hour*(hours_in_normal_workday+max_overtime_in_hours_per_day)\n",
    "    number_widgets_produced_by_trained_worker.append(cumulative_number_widgets_produced_by_trained_worker)\n",
    "\n",
    "    \n",
    "    # pay existing worker normally AND hire a new worker\n",
    "    cumulative_money_spent_on_new_worker+=hourly_wage*hours_in_normal_workday*2\n",
    "    money_spent_on_new_worker.append(cumulative_money_spent_on_new_worker)\n",
    "    if (this_day<training_duration_in_days):\n",
    "        cumulative_number_widgets_produced_by_new_worker+=(number_of_widgets_per_worker_per_hour_during_training*hours_in_normal_workday+\n",
    "                                                           number_of_widgets_per_trained_worker_per_hour*hours_in_normal_workday)\n",
    "    else:\n",
    "        cumulative_number_widgets_produced_by_new_worker+=number_of_widgets_per_trained_worker_per_hour*hours_in_normal_workday*2\n",
    "    number_widgets_produced_by_new_worker.append(cumulative_number_widgets_produced_by_new_worker)"
   ]
  },
  {
   "cell_type": "code",
   "execution_count": null,
   "metadata": {},
   "outputs": [],
   "source": [
    "cost_per_widget_from_trained_worker = [x/y for x, y in zip(money_spent_on_trained_worker, \n",
    "                                                           number_widgets_produced_by_trained_worker)]\n",
    "cost_per_widget_from_new_worker = [x/y for x, y in zip(money_spent_on_new_worker, \n",
    "                                                           number_widgets_produced_by_new_worker)]\n",
    "\n",
    "_=plt.scatter(list_of_days,cost_per_widget_from_trained_worker,color='green', label='existing worker with overtime')\n",
    "_=plt.scatter(list_of_days,cost_per_widget_from_new_worker,color='black', label='existing worker + new worker')\n",
    "_=plt.xlabel('days',fontsize=14)\n",
    "_=plt.ylabel('cost per widget produced [$]',fontsize=14)\n",
    "ax = plt.gca() # get current axis\n",
    "_=ax.legend()"
   ]
  },
  {
   "cell_type": "code",
   "execution_count": null,
   "metadata": {},
   "outputs": [],
   "source": [
    "_=plt.scatter(list_of_days,number_widgets_produced_by_trained_worker,color='green', label='existing worker with overtime')\n",
    "_=plt.scatter(list_of_days,number_widgets_produced_by_new_worker,color='black', label='existing worker + new worker')\n",
    "_=plt.xlabel('days',fontsize=14)\n",
    "_=plt.ylabel('cumulative number of widgets produced',fontsize=14)\n",
    "ax = plt.gca() # get current axis\n",
    "_=ax.legend()"
   ]
  },
  {
   "cell_type": "markdown",
   "metadata": {},
   "source": [
    "One person cannot keep up with two over a long span of time\n",
    "\n",
    "Zoom in on the first week:"
   ]
  },
  {
   "cell_type": "code",
   "execution_count": null,
   "metadata": {},
   "outputs": [],
   "source": [
    "_=plt.scatter(list_of_days,number_widgets_produced_by_trained_worker,color='green', label='existing worker with overtime')\n",
    "_=plt.scatter(list_of_days,number_widgets_produced_by_new_worker,color='black', label='existing worker + new worker')\n",
    "_=plt.xlabel('days',fontsize=14)\n",
    "_=plt.ylabel('cumulative number of widgets produced',fontsize=14)\n",
    "ax = plt.gca() # get current axis\n",
    "_=ax.legend()\n",
    "_=plt.xlim(0, 5.5)\n",
    "_=plt.ylim(0, 200)"
   ]
  },
  {
   "cell_type": "code",
   "execution_count": null,
   "metadata": {},
   "outputs": [],
   "source": []
  }
 ],
 "metadata": {
  "kernelspec": {
   "display_name": "Python 3",
   "language": "python",
   "name": "python3"
  },
  "language_info": {
   "codemirror_mode": {
    "name": "ipython",
    "version": 3
   },
   "file_extension": ".py",
   "mimetype": "text/x-python",
   "name": "python",
   "nbconvert_exporter": "python",
   "pygments_lexer": "ipython3",
   "version": "3.6.6"
  }
 },
 "nbformat": 4,
 "nbformat_minor": 2
}
