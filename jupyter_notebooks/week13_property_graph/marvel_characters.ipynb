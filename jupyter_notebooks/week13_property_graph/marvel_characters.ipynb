{
 "cells": [
  {
   "cell_type": "markdown",
   "metadata": {},
   "source": [
    "https://syntagmatic.github.io/exposedata/marvel/\n",
    "\n",
    "https://www.kaggle.com/csanhueza/the-marvel-universe-social-network/home\n",
    "\n",
    "https://aws.amazon.com/datasets/marvel-universe-social-graph/\n",
    "\n",
    "https://github.com/arangodb/example-datasets/tree/master/Graphs/Marvel%20Universe\n",
    "\n",
    "https://tbgraph.wordpress.com/2017/06/10/neo4j-marvel-social-graph/"
   ]
  },
  {
   "cell_type": "code",
   "execution_count": null,
   "metadata": {},
   "outputs": [],
   "source": []
  }
 ],
 "metadata": {
  "kernelspec": {
   "display_name": "Python 3",
   "language": "python",
   "name": "python3"
  },
  "language_info": {
   "codemirror_mode": {
    "name": "ipython",
    "version": 3
   },
   "file_extension": ".py",
   "mimetype": "text/x-python",
   "name": "python",
   "nbconvert_exporter": "python",
   "pygments_lexer": "ipython3",
   "version": "3.6.6"
  }
 },
 "nbformat": 4,
 "nbformat_minor": 2
}
