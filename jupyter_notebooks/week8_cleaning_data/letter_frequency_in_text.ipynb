{
 "cells": [
  {
   "cell_type": "code",
   "execution_count": 1,
   "metadata": {},
   "outputs": [],
   "source": [
    "import pickle\n",
    "import string\n",
    "import matplotlib.pyplot as plt"
   ]
  },
  {
   "cell_type": "code",
   "execution_count": 2,
   "metadata": {},
   "outputs": [],
   "source": [
    "all_documents = pickle.load( open( \"../week6_getting_data/all_documents.pkl\", \"rb\" ) )"
   ]
  },
  {
   "cell_type": "code",
   "execution_count": 3,
   "metadata": {},
   "outputs": [
    {
     "data": {
      "text/plain": [
       "dict_keys(['essays/week1_380.txt', 'essays/week1_Assignment1.docx', 'essays/week2_summary-Data Wrangling with Python  ch2 p17 to 40.docx', 'essays/week1_A Very Short History Of Data Science.docx', 'essays/week2_Week 2 Reading Summary.docx', 'essays/week2_Data601-Reading Assignment_2.docx', 'essays/week1_1.txt', 'essays/week1_assignment 1 Summary.pdf', 'essays/week2 summary .docx', 'essays/week2_Lists and Dictionaries Summary.docx', 'essays/week2_Week 2 - Summary of DATA WRANGLING WITH PYTHON Chapter 2.docx', 'essays/week1_50 Years Data Science Summary.docx', 'essays/week1_a Very Short History Of Data Science_1.docx', 'essays/week1_50 years of data science v2.pdf', 'essays/week2_Summary on Chapter 2 of Data Wrangling in Python.docx', 'essays/week1_summary.docx', 'essays/week1_a History of Data Science.docx', 'essays/week1_summary-50 years of data science.docx', 'essays/Week2_summary.docx', 'essays/week1_Data Wrangling Chap 2.docx', 'essays/week1_reading Summary.docx', 'essays/week2_Data Wrangling with Python page 17 to 40.docx', 'essays/week2_Summary Week 2.docx', 'essays/week1_ Summary.docx', 'essays/week1_Data 601- Summary of The History of Data Science .docx'])"
      ]
     },
     "execution_count": 3,
     "metadata": {},
     "output_type": "execute_result"
    }
   ],
   "source": [
    "all_documents.keys()"
   ]
  },
  {
   "cell_type": "code",
   "execution_count": 4,
   "metadata": {},
   "outputs": [],
   "source": [
    "all_chars=[]\n",
    "for file_path,content in all_documents.items():\n",
    "    single_string_all_lowercase = content.lower()\n",
    "    list_of_chars = [''.join(ch for ch in st if ch in string.ascii_lowercase) for st in single_string_all_lowercase]\n",
    "    list_of_chars = filter(None, list_of_chars) # https://stackoverflow.com/questions/3845423/remove-empty-strings-from-a-list-of-strings\n",
    "    for this_char in list_of_chars:\n",
    "        all_chars.append(this_char)"
   ]
  },
  {
   "cell_type": "code",
   "execution_count": 5,
   "metadata": {},
   "outputs": [
    {
     "data": {
      "text/plain": [
       "34127"
      ]
     },
     "execution_count": 5,
     "metadata": {},
     "output_type": "execute_result"
    }
   ],
   "source": [
    "len(all_chars)"
   ]
  },
  {
   "cell_type": "code",
   "execution_count": 6,
   "metadata": {},
   "outputs": [
    {
     "name": "stdout",
     "output_type": "stream",
     "text": [
      "26\n",
      "['d', 'o', 'l', 'n', 'c', 'i', 'q', 'u', 't', 'w', 'k', 'r', 'z', 'h', 'f', 'g', 'y', 'v', 'a', 'm', 'p', 'b', 's', 'e', 'x', 'j']\n"
     ]
    }
   ],
   "source": [
    "print(len(list(set(all_chars))))\n",
    "print(list(set(all_chars)))"
   ]
  },
  {
   "cell_type": "code",
   "execution_count": 7,
   "metadata": {},
   "outputs": [
    {
     "data": {
      "image/png": "[encoded data removed]",
      "text/plain": [
       "<Figure size 432x288 with 1 Axes>"
      ]
     },
     "metadata": {},
     "output_type": "display_data"
    }
   ],
   "source": [
    "_=plt.hist(all_chars, density=True, bins=len(list(set(all_chars)))) "
   ]
  },
  {
   "cell_type": "markdown",
   "metadata": {},
   "source": [
    "https://stackoverflow.com/questions/22204648/sort-data-to-present-barchart-highest-to-lowest-in-python?lq=1"
   ]
  },
  {
   "cell_type": "code",
   "execution_count": 8,
   "metadata": {},
   "outputs": [],
   "source": [
    "from collections import Counter\n",
    "from operator import itemgetter\n",
    "import numpy as np"
   ]
  },
  {
   "cell_type": "code",
   "execution_count": 9,
   "metadata": {},
   "outputs": [],
   "source": [
    "c = list(Counter(all_chars).items())\n",
    "c.sort(key=itemgetter(1),reverse=True)\n",
    "labels, values = zip(*c)"
   ]
  },
  {
   "cell_type": "code",
   "execution_count": 10,
   "metadata": {},
   "outputs": [],
   "source": [
    "indexes = np.arange(len(labels))\n",
    "width = 1"
   ]
  },
  {
   "cell_type": "code",
   "execution_count": 12,
   "metadata": {},
   "outputs": [
    {
     "data": {
      "image/png": "[encoded data removed]",
      "text/plain": [
       "<Figure size 432x288 with 1 Axes>"
      ]
     },
     "metadata": {},
     "output_type": "display_data"
    }
   ],
   "source": [
    "plt.bar(indexes, values, width)\n",
    "plt.xticks(indexes + width * 0.5, labels)\n",
    "plt.xlabel('letter')\n",
    "plt.ylabel('count')\n",
    "plt.show()"
   ]
  },
  {
   "cell_type": "code",
   "execution_count": null,
   "metadata": {},
   "outputs": [],
   "source": []
  }
 ],
 "metadata": {
  "kernelspec": {
   "display_name": "Python 3",
   "language": "python",
   "name": "python3"
  },
  "language_info": {
   "codemirror_mode": {
    "name": "ipython",
    "version": 3
   },
   "file_extension": ".py",
   "mimetype": "text/x-python",
   "name": "python",
   "nbconvert_exporter": "python",
   "pygments_lexer": "ipython3",
   "version": "3.5.1"
  }
 },
 "nbformat": 4,
 "nbformat_minor": 2
}
