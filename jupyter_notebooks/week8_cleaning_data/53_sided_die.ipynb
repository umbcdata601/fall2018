{
 "cells": [
  {
   "cell_type": "code",
   "execution_count": 1,
   "metadata": {},
   "outputs": [],
   "source": [
    "import random"
   ]
  },
  {
   "cell_type": "code",
   "execution_count": 2,
   "metadata": {},
   "outputs": [],
   "source": [
    "number_of_experiments=100000\n",
    "match_ct=4 # number of students choosing the same homework assignment\n",
    "die_sides=53 # number of potential data sources\n",
    "num_students=15\n",
    "#\n",
    "number_of_instances_with_matches=0\n",
    "for indx in range(number_of_experiments):\n",
    "    random_roll_result=[]\n",
    "    for die_indx in range(num_students):\n",
    "        random_roll_result.append(random.randint(1,die_sides))\n",
    "    if (any(random_roll_result.count(i)==match_ct for i in set(random_roll_result))):\n",
    "        number_of_instances_with_matches+=1\n",
    "        #print(random_roll_result)"
   ]
  },
  {
   "cell_type": "code",
   "execution_count": 3,
   "metadata": {},
   "outputs": [
    {
     "data": {
      "text/plain": [
       "754"
      ]
     },
     "execution_count": 3,
     "metadata": {},
     "output_type": "execute_result"
    }
   ],
   "source": [
    "number_of_instances_with_matches"
   ]
  }
 ],
 "metadata": {
  "kernelspec": {
   "display_name": "Python 3",
   "language": "python",
   "name": "python3"
  },
  "language_info": {
   "codemirror_mode": {
    "name": "ipython",
    "version": 3
   },
   "file_extension": ".py",
   "mimetype": "text/x-python",
   "name": "python",
   "nbconvert_exporter": "python",
   "pygments_lexer": "ipython3",
   "version": "3.5.1"
  }
 },
 "nbformat": 4,
 "nbformat_minor": 2
}
